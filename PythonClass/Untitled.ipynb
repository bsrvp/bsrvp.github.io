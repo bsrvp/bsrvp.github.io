{
 "cells": [
  {
   "cell_type": "code",
   "execution_count": 1,
   "id": "d31cf829",
   "metadata": {},
   "outputs": [],
   "source": [
    "import pandas as pd\n",
    "import numpy as np"
   ]
  },
  {
   "cell_type": "code",
   "execution_count": 2,
   "id": "af616295",
   "metadata": {},
   "outputs": [],
   "source": [
    "WQData = pd.read_excel(r'https://bsrvp.github.io/PythonClass/WQ.xlsx')"
   ]
  },
  {
   "cell_type": "code",
   "execution_count": 3,
   "id": "292c6b95",
   "metadata": {},
   "outputs": [
    {
     "data": {
      "text/html": [
       "<div>\n",
       "<style scoped>\n",
       "    .dataframe tbody tr th:only-of-type {\n",
       "        vertical-align: middle;\n",
       "    }\n",
       "\n",
       "    .dataframe tbody tr th {\n",
       "        vertical-align: top;\n",
       "    }\n",
       "\n",
       "    .dataframe thead th {\n",
       "        text-align: right;\n",
       "    }\n",
       "</style>\n",
       "<table border=\"1\" class=\"dataframe\">\n",
       "  <thead>\n",
       "    <tr style=\"text-align: right;\">\n",
       "      <th></th>\n",
       "      <th>St. No</th>\n",
       "      <th>Depth</th>\n",
       "      <th>S.D</th>\n",
       "      <th>W.T</th>\n",
       "      <th>Turbidity</th>\n",
       "      <th>DO</th>\n",
       "      <th>pH</th>\n",
       "      <th>TSM</th>\n",
       "    </tr>\n",
       "  </thead>\n",
       "  <tbody>\n",
       "    <tr>\n",
       "      <th>count</th>\n",
       "      <td>36.000000</td>\n",
       "      <td>35.000000</td>\n",
       "      <td>34.000000</td>\n",
       "      <td>35.00000</td>\n",
       "      <td>35.000000</td>\n",
       "      <td>35.000000</td>\n",
       "      <td>35.000000</td>\n",
       "      <td>35.000000</td>\n",
       "    </tr>\n",
       "    <tr>\n",
       "      <th>mean</th>\n",
       "      <td>18.500000</td>\n",
       "      <td>1.554286</td>\n",
       "      <td>0.533676</td>\n",
       "      <td>30.76000</td>\n",
       "      <td>16.842286</td>\n",
       "      <td>7.236571</td>\n",
       "      <td>8.390571</td>\n",
       "      <td>33.102829</td>\n",
       "    </tr>\n",
       "    <tr>\n",
       "      <th>std</th>\n",
       "      <td>10.535654</td>\n",
       "      <td>0.786501</td>\n",
       "      <td>0.389326</td>\n",
       "      <td>1.49119</td>\n",
       "      <td>12.950463</td>\n",
       "      <td>1.341053</td>\n",
       "      <td>0.375264</td>\n",
       "      <td>32.129909</td>\n",
       "    </tr>\n",
       "    <tr>\n",
       "      <th>min</th>\n",
       "      <td>1.000000</td>\n",
       "      <td>0.250000</td>\n",
       "      <td>0.010000</td>\n",
       "      <td>28.50000</td>\n",
       "      <td>1.800000</td>\n",
       "      <td>4.870000</td>\n",
       "      <td>7.530000</td>\n",
       "      <td>1.279000</td>\n",
       "    </tr>\n",
       "    <tr>\n",
       "      <th>25%</th>\n",
       "      <td>9.750000</td>\n",
       "      <td>0.800000</td>\n",
       "      <td>0.250000</td>\n",
       "      <td>29.70000</td>\n",
       "      <td>7.070000</td>\n",
       "      <td>6.500000</td>\n",
       "      <td>8.240000</td>\n",
       "      <td>18.000000</td>\n",
       "    </tr>\n",
       "    <tr>\n",
       "      <th>50%</th>\n",
       "      <td>18.500000</td>\n",
       "      <td>1.250000</td>\n",
       "      <td>0.500000</td>\n",
       "      <td>30.30000</td>\n",
       "      <td>13.800000</td>\n",
       "      <td>6.980000</td>\n",
       "      <td>8.310000</td>\n",
       "      <td>23.200000</td>\n",
       "    </tr>\n",
       "    <tr>\n",
       "      <th>75%</th>\n",
       "      <td>27.250000</td>\n",
       "      <td>2.250000</td>\n",
       "      <td>0.750000</td>\n",
       "      <td>31.85000</td>\n",
       "      <td>25.820000</td>\n",
       "      <td>7.835000</td>\n",
       "      <td>8.500000</td>\n",
       "      <td>34.240000</td>\n",
       "    </tr>\n",
       "    <tr>\n",
       "      <th>max</th>\n",
       "      <td>36.000000</td>\n",
       "      <td>3.250000</td>\n",
       "      <td>1.500000</td>\n",
       "      <td>34.20000</td>\n",
       "      <td>55.600000</td>\n",
       "      <td>10.600000</td>\n",
       "      <td>9.610000</td>\n",
       "      <td>170.200000</td>\n",
       "    </tr>\n",
       "  </tbody>\n",
       "</table>\n",
       "</div>"
      ],
      "text/plain": [
       "          St. No      Depth        S.D       W.T  Turbidity         DO  \\\n",
       "count  36.000000  35.000000  34.000000  35.00000  35.000000  35.000000   \n",
       "mean   18.500000   1.554286   0.533676  30.76000  16.842286   7.236571   \n",
       "std    10.535654   0.786501   0.389326   1.49119  12.950463   1.341053   \n",
       "min     1.000000   0.250000   0.010000  28.50000   1.800000   4.870000   \n",
       "25%     9.750000   0.800000   0.250000  29.70000   7.070000   6.500000   \n",
       "50%    18.500000   1.250000   0.500000  30.30000  13.800000   6.980000   \n",
       "75%    27.250000   2.250000   0.750000  31.85000  25.820000   7.835000   \n",
       "max    36.000000   3.250000   1.500000  34.20000  55.600000  10.600000   \n",
       "\n",
       "              pH         TSM  \n",
       "count  35.000000   35.000000  \n",
       "mean    8.390571   33.102829  \n",
       "std     0.375264   32.129909  \n",
       "min     7.530000    1.279000  \n",
       "25%     8.240000   18.000000  \n",
       "50%     8.310000   23.200000  \n",
       "75%     8.500000   34.240000  \n",
       "max     9.610000  170.200000  "
      ]
     },
     "execution_count": 3,
     "metadata": {},
     "output_type": "execute_result"
    }
   ],
   "source": [
    "WQData.describe()"
   ]
  },
  {
   "cell_type": "code",
   "execution_count": 5,
   "id": "8431d98b",
   "metadata": {},
   "outputs": [
    {
     "data": {
      "text/html": [
       "<div>\n",
       "<style scoped>\n",
       "    .dataframe tbody tr th:only-of-type {\n",
       "        vertical-align: middle;\n",
       "    }\n",
       "\n",
       "    .dataframe tbody tr th {\n",
       "        vertical-align: top;\n",
       "    }\n",
       "\n",
       "    .dataframe thead th {\n",
       "        text-align: right;\n",
       "    }\n",
       "</style>\n",
       "<table border=\"1\" class=\"dataframe\">\n",
       "  <thead>\n",
       "    <tr style=\"text-align: right;\">\n",
       "      <th></th>\n",
       "      <th>St. No</th>\n",
       "      <th>Depth</th>\n",
       "      <th>S.D</th>\n",
       "      <th>W.T</th>\n",
       "      <th>Turbidity</th>\n",
       "      <th>DO</th>\n",
       "      <th>pH</th>\n",
       "      <th>TSM</th>\n",
       "    </tr>\n",
       "  </thead>\n",
       "  <tbody>\n",
       "    <tr>\n",
       "      <th>0</th>\n",
       "      <td>1</td>\n",
       "      <td>1.00</td>\n",
       "      <td>1.0</td>\n",
       "      <td>29.5</td>\n",
       "      <td>5.21</td>\n",
       "      <td>8.37</td>\n",
       "      <td>9.05</td>\n",
       "      <td>18.0</td>\n",
       "    </tr>\n",
       "    <tr>\n",
       "      <th>1</th>\n",
       "      <td>2</td>\n",
       "      <td>2.25</td>\n",
       "      <td>0.5</td>\n",
       "      <td>30.0</td>\n",
       "      <td>16.00</td>\n",
       "      <td>6.90</td>\n",
       "      <td>8.27</td>\n",
       "      <td>23.2</td>\n",
       "    </tr>\n",
       "    <tr>\n",
       "      <th>2</th>\n",
       "      <td>3</td>\n",
       "      <td>2.50</td>\n",
       "      <td>0.5</td>\n",
       "      <td>29.6</td>\n",
       "      <td>13.70</td>\n",
       "      <td>6.79</td>\n",
       "      <td>8.27</td>\n",
       "      <td>26.8</td>\n",
       "    </tr>\n",
       "    <tr>\n",
       "      <th>3</th>\n",
       "      <td>4</td>\n",
       "      <td>1.85</td>\n",
       "      <td>NaN</td>\n",
       "      <td>29.6</td>\n",
       "      <td>3.72</td>\n",
       "      <td>5.17</td>\n",
       "      <td>8.64</td>\n",
       "      <td>22.6</td>\n",
       "    </tr>\n",
       "    <tr>\n",
       "      <th>4</th>\n",
       "      <td>5</td>\n",
       "      <td>1.50</td>\n",
       "      <td>1.5</td>\n",
       "      <td>29.3</td>\n",
       "      <td>4.22</td>\n",
       "      <td>6.46</td>\n",
       "      <td>8.70</td>\n",
       "      <td>18.0</td>\n",
       "    </tr>\n",
       "  </tbody>\n",
       "</table>\n",
       "</div>"
      ],
      "text/plain": [
       "   St. No  Depth  S.D   W.T  Turbidity    DO    pH   TSM\n",
       "0       1   1.00  1.0  29.5       5.21  8.37  9.05  18.0\n",
       "1       2   2.25  0.5  30.0      16.00  6.90  8.27  23.2\n",
       "2       3   2.50  0.5  29.6      13.70  6.79  8.27  26.8\n",
       "3       4   1.85  NaN  29.6       3.72  5.17  8.64  22.6\n",
       "4       5   1.50  1.5  29.3       4.22  6.46  8.70  18.0"
      ]
     },
     "execution_count": 5,
     "metadata": {},
     "output_type": "execute_result"
    }
   ],
   "source": [
    "WQData.head()"
   ]
  },
  {
   "cell_type": "code",
   "execution_count": 11,
   "id": "4f4be41d",
   "metadata": {},
   "outputs": [
    {
     "data": {
      "text/plain": [
       "<AxesSubplot:>"
      ]
     },
     "execution_count": 11,
     "metadata": {},
     "output_type": "execute_result"
    },
    {
     "data": {
      "image/png": "[encoded data removed]",
      "text/plain": [
       "<Figure size 432x288 with 1 Axes>"
      ]
     },
     "metadata": {
      "needs_background": "light"
     },
     "output_type": "display_data"
    }
   ],
   "source": [
    "WQData.loc[1].plot.bar()"
   ]
  },
  {
   "cell_type": "code",
   "execution_count": 43,
   "id": "8272fb64",
   "metadata": {},
   "outputs": [
    {
     "data": {
      "text/plain": [
       "array([<AxesSubplot:>], dtype=object)"
      ]
     },
     "execution_count": 43,
     "metadata": {},
     "output_type": "execute_result"
    },
    {
     "data": {
      "image/png": "[encoded data removed]",
      "text/plain": [
       "<Figure size 432x288 with 1 Axes>"
      ]
     },
     "metadata": {
      "needs_background": "light"
     },
     "output_type": "display_data"
    }
   ],
   "source": [
    "WQData.loc[2].plot.area(subplots=True)"
   ]
  },
  {
   "cell_type": "code",
   "execution_count": 29,
   "id": "0dca6005",
   "metadata": {},
   "outputs": [
    {
     "name": "stdout",
     "output_type": "stream",
     "text": [
      "   St. No  Depth  S.D   W.T  Turbidity    DO    pH   TSM\n",
      "1       2   2.25  0.5  30.0       16.0  6.90  8.27  23.2\n",
      "2       3   2.50  0.5  29.6       13.7  6.79  8.27  26.8\n"
     ]
    }
   ],
   "source": [
    "print(WQData.iloc[1:3])"
   ]
  },
  {
   "cell_type": "code",
   "execution_count": 42,
   "id": "3719dd65",
   "metadata": {},
   "outputs": [
    {
     "data": {
      "text/plain": [
       "St. No        3.00\n",
       "Depth         2.50\n",
       "S.D           0.50\n",
       "W.T          29.60\n",
       "Turbidity    13.70\n",
       "DO            6.79\n",
       "pH            8.27\n",
       "TSM          26.80\n",
       "Name: 2, dtype: float64"
      ]
     },
     "execution_count": 42,
     "metadata": {},
     "output_type": "execute_result"
    }
   ],
   "source": [
    "WQData.iloc[2]"
   ]
  },
  {
   "cell_type": "code",
   "execution_count": null,
   "id": "13012f47",
   "metadata": {},
   "outputs": [],
   "source": []
  }
 ],
 "metadata": {
  "kernelspec": {
   "display_name": "Python 3 (ipykernel)",
   "language": "python",
   "name": "python3"
  },
  "language_info": {
   "codemirror_mode": {
    "name": "ipython",
    "version": 3
   },
   "file_extension": ".py",
   "mimetype": "text/x-python",
   "name": "python",
   "nbconvert_exporter": "python",
   "pygments_lexer": "ipython3",
   "version": "3.9.7"
  }
 },
 "nbformat": 4,
 "nbformat_minor": 5
}
