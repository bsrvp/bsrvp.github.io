{
 "cells": [
  {
   "cell_type": "markdown",
   "id": "03ac387e",
   "metadata": {},
   "source": [
    "### Pandas Function Applications - `pipe(), apply(), map(), applymap()`"
   ]
  },
  {
   "cell_type": "code",
   "execution_count": 1,
   "id": "bbeadb2e",
   "metadata": {},
   "outputs": [],
   "source": [
    "import pandas as pd\n",
    "import numpy as np"
   ]
  },
  {
   "cell_type": "code",
   "execution_count": 2,
   "id": "d1f62142",
   "metadata": {},
   "outputs": [
    {
     "name": "stdout",
     "output_type": "stream",
     "text": [
      "       col1      col2      col3\n",
      "0  0.140167 -0.168923 -0.157747\n",
      "1 -1.542168 -1.692722 -0.126352\n",
      "2  0.520204  0.849698  1.923826\n",
      "3 -2.037577  0.145233  0.862633\n",
      "4  2.816327  0.154308  0.446446\n",
      "       col1      col2      col3\n",
      "0  2.140167  1.831077  1.842253\n",
      "1  0.457832  0.307278  1.873648\n",
      "2  2.520204  2.849698  3.923826\n",
      "3 -0.037577  2.145233  2.862633\n",
      "4  4.816327  2.154308  2.446446\n"
     ]
    }
   ],
   "source": [
    "def adder(ele1,ele2):\n",
    "    return ele1+ele2\n",
    "\n",
    "df = pd.DataFrame(np.random.randn(5,3),columns=['col1','col2','col3'])\n",
    "print(df)\n",
    "print(df.pipe(adder,2))"
   ]
  },
  {
   "cell_type": "code",
   "execution_count": 3,
   "id": "3f1ebbe6",
   "metadata": {},
   "outputs": [],
   "source": [
    "df = pd.DataFrame(np.random.randn(5,3),columns=['col1','col2','col3'])"
   ]
  },
  {
   "cell_type": "code",
   "execution_count": 4,
   "id": "07c725b8",
   "metadata": {},
   "outputs": [
    {
     "name": "stdout",
     "output_type": "stream",
     "text": [
      "       col1      col2      col3\n",
      "0 -1.434929 -1.255962  0.643258\n",
      "1 -0.298551  0.206143  1.408999\n",
      "2 -0.523307  0.227859 -0.438078\n",
      "3  0.147371  1.356881 -1.159660\n",
      "4 -0.102642 -0.304327  1.211789\n"
     ]
    }
   ],
   "source": [
    "print(df)"
   ]
  },
  {
   "cell_type": "code",
   "execution_count": 5,
   "id": "3a27a6f6",
   "metadata": {},
   "outputs": [
    {
     "name": "stdout",
     "output_type": "stream",
     "text": [
      "0    -34.893121\n",
      "1    -45.427195\n",
      "2     -7.498417\n",
      "3    122.804055\n",
      "4     11.860078\n",
      "Name: col1, dtype: float64\n"
     ]
    }
   ],
   "source": [
    "df = pd.DataFrame(np.random.randn(5,3),columns=['col1','col2','col3'])\n",
    "df['col1']\n",
    "# My custom function\n",
    "df1 = df['col1'].map(lambda x:x*100)\n",
    "print(df1)"
   ]
  },
  {
   "cell_type": "code",
   "execution_count": 6,
   "id": "7996b57a",
   "metadata": {},
   "outputs": [],
   "source": [
    "df['col4'] = df['col1'].map(lambda x: x*100)"
   ]
  },
  {
   "cell_type": "code",
   "execution_count": 7,
   "id": "982bbf42",
   "metadata": {},
   "outputs": [
    {
     "data": {
      "text/html": [
       "<div>\n",
       "<style scoped>\n",
       "    .dataframe tbody tr th:only-of-type {\n",
       "        vertical-align: middle;\n",
       "    }\n",
       "\n",
       "    .dataframe tbody tr th {\n",
       "        vertical-align: top;\n",
       "    }\n",
       "\n",
       "    .dataframe thead th {\n",
       "        text-align: right;\n",
       "    }\n",
       "</style>\n",
       "<table border=\"1\" class=\"dataframe\">\n",
       "  <thead>\n",
       "    <tr style=\"text-align: right;\">\n",
       "      <th></th>\n",
       "      <th>col1</th>\n",
       "      <th>col2</th>\n",
       "      <th>col3</th>\n",
       "      <th>col4</th>\n",
       "    </tr>\n",
       "  </thead>\n",
       "  <tbody>\n",
       "    <tr>\n",
       "      <th>0</th>\n",
       "      <td>-0.348931</td>\n",
       "      <td>0.020714</td>\n",
       "      <td>0.108301</td>\n",
       "      <td>-34.893121</td>\n",
       "    </tr>\n",
       "    <tr>\n",
       "      <th>1</th>\n",
       "      <td>-0.454272</td>\n",
       "      <td>-1.614470</td>\n",
       "      <td>-0.225268</td>\n",
       "      <td>-45.427195</td>\n",
       "    </tr>\n",
       "    <tr>\n",
       "      <th>2</th>\n",
       "      <td>-0.074984</td>\n",
       "      <td>-1.068262</td>\n",
       "      <td>0.513826</td>\n",
       "      <td>-7.498417</td>\n",
       "    </tr>\n",
       "    <tr>\n",
       "      <th>3</th>\n",
       "      <td>1.228041</td>\n",
       "      <td>-0.233468</td>\n",
       "      <td>-0.513058</td>\n",
       "      <td>122.804055</td>\n",
       "    </tr>\n",
       "    <tr>\n",
       "      <th>4</th>\n",
       "      <td>0.118601</td>\n",
       "      <td>-1.692430</td>\n",
       "      <td>0.692784</td>\n",
       "      <td>11.860078</td>\n",
       "    </tr>\n",
       "  </tbody>\n",
       "</table>\n",
       "</div>"
      ],
      "text/plain": [
       "       col1      col2      col3        col4\n",
       "0 -0.348931  0.020714  0.108301  -34.893121\n",
       "1 -0.454272 -1.614470 -0.225268  -45.427195\n",
       "2 -0.074984 -1.068262  0.513826   -7.498417\n",
       "3  1.228041 -0.233468 -0.513058  122.804055\n",
       "4  0.118601 -1.692430  0.692784   11.860078"
      ]
     },
     "execution_count": 7,
     "metadata": {},
     "output_type": "execute_result"
    }
   ],
   "source": [
    "df"
   ]
  },
  {
   "cell_type": "code",
   "execution_count": 8,
   "id": "ad944545",
   "metadata": {},
   "outputs": [
    {
     "name": "stdout",
     "output_type": "stream",
     "text": [
      "0    1.238521\n",
      "1    1.248121\n",
      "2    1.097562\n",
      "3    1.031142\n",
      "4    1.696895\n",
      "dtype: float64\n"
     ]
    }
   ],
   "source": [
    "df = pd.DataFrame(np.random.randn(5,3),columns=['col1','col2','col3'])\n",
    "df1 = df.apply(lambda x: x.max() - x.min(), axis=1)\n",
    "print(df1)"
   ]
  },
  {
   "cell_type": "code",
   "execution_count": 9,
   "id": "ba05e31d",
   "metadata": {},
   "outputs": [
    {
     "name": "stdout",
     "output_type": "stream",
     "text": [
      "        col1        col2        col3\n",
      "0   0.940057 -148.323224  -86.847499\n",
      "1  69.724947   20.847856  131.302389\n",
      "2  89.390374  -48.063263  225.486652\n",
      "3  -2.343274 -131.578749   32.143996\n",
      "4  17.575315 -114.252663  160.273065\n"
     ]
    }
   ],
   "source": [
    "df = pd.DataFrame(np.random.randn(5,3),columns=['col1','col2','col3'])\n",
    "df1 = df.applymap(lambda x:x*100)\n",
    "print(df1)"
   ]
  },
  {
   "cell_type": "code",
   "execution_count": 10,
   "id": "4e5417d3",
   "metadata": {},
   "outputs": [],
   "source": [
    "df1=df.apply(lambda x: x*100)"
   ]
  },
  {
   "cell_type": "code",
   "execution_count": 11,
   "id": "4f9f04bb",
   "metadata": {},
   "outputs": [
    {
     "name": "stdout",
     "output_type": "stream",
     "text": [
      "        col1        col2        col3\n",
      "0   0.940057 -148.323224  -86.847499\n",
      "1  69.724947   20.847856  131.302389\n",
      "2  89.390374  -48.063263  225.486652\n",
      "3  -2.343274 -131.578749   32.143996\n",
      "4  17.575315 -114.252663  160.273065\n"
     ]
    }
   ],
   "source": [
    "print(df1)"
   ]
  },
  {
   "cell_type": "code",
   "execution_count": 12,
   "id": "c92dd177",
   "metadata": {},
   "outputs": [
    {
     "name": "stdout",
     "output_type": "stream",
     "text": [
      "       col1  col2      col3\n",
      "0  1.271423   NaN  0.943315\n",
      "1  0.675307   NaN  0.456417\n",
      "2  0.891724   NaN       NaN\n",
      "3  1.322641   NaN       NaN\n",
      "4       NaN   NaN       NaN\n"
     ]
    }
   ],
   "source": [
    "df = pd.DataFrame(np.random.randn(5,3),columns=['col1','col2','col3'])\n",
    "df1 = df.pipe(np.sqrt)\n",
    "print(df1)"
   ]
  },
  {
   "cell_type": "code",
   "execution_count": 13,
   "id": "e62939aa",
   "metadata": {},
   "outputs": [
    {
     "data": {
      "text/html": [
       "<div>\n",
       "<style scoped>\n",
       "    .dataframe tbody tr th:only-of-type {\n",
       "        vertical-align: middle;\n",
       "    }\n",
       "\n",
       "    .dataframe tbody tr th {\n",
       "        vertical-align: top;\n",
       "    }\n",
       "\n",
       "    .dataframe thead th {\n",
       "        text-align: right;\n",
       "    }\n",
       "</style>\n",
       "<table border=\"1\" class=\"dataframe\">\n",
       "  <thead>\n",
       "    <tr style=\"text-align: right;\">\n",
       "      <th></th>\n",
       "      <th>col1</th>\n",
       "      <th>col2</th>\n",
       "      <th>col3</th>\n",
       "    </tr>\n",
       "  </thead>\n",
       "  <tbody>\n",
       "    <tr>\n",
       "      <th>0</th>\n",
       "      <td>1.271423</td>\n",
       "      <td>NaN</td>\n",
       "      <td>0.943315</td>\n",
       "    </tr>\n",
       "    <tr>\n",
       "      <th>1</th>\n",
       "      <td>0.675307</td>\n",
       "      <td>NaN</td>\n",
       "      <td>0.456417</td>\n",
       "    </tr>\n",
       "    <tr>\n",
       "      <th>2</th>\n",
       "      <td>0.891724</td>\n",
       "      <td>NaN</td>\n",
       "      <td>NaN</td>\n",
       "    </tr>\n",
       "    <tr>\n",
       "      <th>3</th>\n",
       "      <td>1.322641</td>\n",
       "      <td>NaN</td>\n",
       "      <td>NaN</td>\n",
       "    </tr>\n",
       "    <tr>\n",
       "      <th>4</th>\n",
       "      <td>NaN</td>\n",
       "      <td>NaN</td>\n",
       "      <td>NaN</td>\n",
       "    </tr>\n",
       "  </tbody>\n",
       "</table>\n",
       "</div>"
      ],
      "text/plain": [
       "       col1  col2      col3\n",
       "0  1.271423   NaN  0.943315\n",
       "1  0.675307   NaN  0.456417\n",
       "2  0.891724   NaN       NaN\n",
       "3  1.322641   NaN       NaN\n",
       "4       NaN   NaN       NaN"
      ]
     },
     "execution_count": 13,
     "metadata": {},
     "output_type": "execute_result"
    }
   ],
   "source": [
    "df.apply(np.sqrt)"
   ]
  },
  {
   "cell_type": "code",
   "execution_count": 14,
   "id": "7a80d7d8",
   "metadata": {},
   "outputs": [
    {
     "name": "stderr",
     "output_type": "stream",
     "text": [
      "C:\\Users\\BSRVPrasad\\anaconda3\\lib\\site-packages\\pandas\\core\\frame.py:8823: RuntimeWarning: invalid value encountered in sqrt\n",
      "  return lib.map_infer(x.astype(object)._values, func, ignore_na=ignore_na)\n"
     ]
    },
    {
     "data": {
      "text/html": [
       "<div>\n",
       "<style scoped>\n",
       "    .dataframe tbody tr th:only-of-type {\n",
       "        vertical-align: middle;\n",
       "    }\n",
       "\n",
       "    .dataframe tbody tr th {\n",
       "        vertical-align: top;\n",
       "    }\n",
       "\n",
       "    .dataframe thead th {\n",
       "        text-align: right;\n",
       "    }\n",
       "</style>\n",
       "<table border=\"1\" class=\"dataframe\">\n",
       "  <thead>\n",
       "    <tr style=\"text-align: right;\">\n",
       "      <th></th>\n",
       "      <th>col1</th>\n",
       "      <th>col2</th>\n",
       "      <th>col3</th>\n",
       "    </tr>\n",
       "  </thead>\n",
       "  <tbody>\n",
       "    <tr>\n",
       "      <th>0</th>\n",
       "      <td>1.271423</td>\n",
       "      <td>NaN</td>\n",
       "      <td>0.943315</td>\n",
       "    </tr>\n",
       "    <tr>\n",
       "      <th>1</th>\n",
       "      <td>0.675307</td>\n",
       "      <td>NaN</td>\n",
       "      <td>0.456417</td>\n",
       "    </tr>\n",
       "    <tr>\n",
       "      <th>2</th>\n",
       "      <td>0.891724</td>\n",
       "      <td>NaN</td>\n",
       "      <td>NaN</td>\n",
       "    </tr>\n",
       "    <tr>\n",
       "      <th>3</th>\n",
       "      <td>1.322641</td>\n",
       "      <td>NaN</td>\n",
       "      <td>NaN</td>\n",
       "    </tr>\n",
       "    <tr>\n",
       "      <th>4</th>\n",
       "      <td>NaN</td>\n",
       "      <td>NaN</td>\n",
       "      <td>NaN</td>\n",
       "    </tr>\n",
       "  </tbody>\n",
       "</table>\n",
       "</div>"
      ],
      "text/plain": [
       "       col1  col2      col3\n",
       "0  1.271423   NaN  0.943315\n",
       "1  0.675307   NaN  0.456417\n",
       "2  0.891724   NaN       NaN\n",
       "3  1.322641   NaN       NaN\n",
       "4       NaN   NaN       NaN"
      ]
     },
     "execution_count": 14,
     "metadata": {},
     "output_type": "execute_result"
    }
   ],
   "source": [
    "df.applymap(np.sqrt)"
   ]
  },
  {
   "cell_type": "code",
   "execution_count": 15,
   "id": "cac5748c",
   "metadata": {},
   "outputs": [
    {
     "name": "stdout",
     "output_type": "stream",
     "text": [
      "       col1      col2      col3\n",
      "0  1.616518 -0.153377  0.889844\n",
      "1  0.456039 -0.114378  0.208316\n",
      "2  0.795172 -0.070005 -0.907891\n",
      "3  1.749378 -0.827901 -1.370153\n",
      "4 -1.199839 -0.654766 -0.994009\n"
     ]
    },
    {
     "data": {
      "text/plain": [
       "col1    3.417268\n",
       "col2   -1.820427\n",
       "col3   -2.173894\n",
       "dtype: float64"
      ]
     },
     "execution_count": 15,
     "metadata": {},
     "output_type": "execute_result"
    }
   ],
   "source": [
    "print(df)\n",
    "df.apply(lambda x: x.sum(),axis = 0)"
   ]
  },
  {
   "cell_type": "code",
   "execution_count": 16,
   "id": "f171a3f4",
   "metadata": {},
   "outputs": [
    {
     "name": "stdout",
     "output_type": "stream",
     "text": [
      "       col1      col2      col3\n",
      "0  1.616518 -0.153377  0.889844\n",
      "1  0.456039 -0.114378  0.208316\n",
      "2  0.795172 -0.070005 -0.907891\n",
      "3  1.749378 -0.827901 -1.370153\n",
      "4 -1.199839 -0.654766 -0.994009\n"
     ]
    },
    {
     "data": {
      "text/html": [
       "<div>\n",
       "<style scoped>\n",
       "    .dataframe tbody tr th:only-of-type {\n",
       "        vertical-align: middle;\n",
       "    }\n",
       "\n",
       "    .dataframe tbody tr th {\n",
       "        vertical-align: top;\n",
       "    }\n",
       "\n",
       "    .dataframe thead th {\n",
       "        text-align: right;\n",
       "    }\n",
       "</style>\n",
       "<table border=\"1\" class=\"dataframe\">\n",
       "  <thead>\n",
       "    <tr style=\"text-align: right;\">\n",
       "      <th></th>\n",
       "      <th>col1</th>\n",
       "      <th>col2</th>\n",
       "      <th>col3</th>\n",
       "    </tr>\n",
       "  </thead>\n",
       "  <tbody>\n",
       "    <tr>\n",
       "      <th>0</th>\n",
       "      <td>11.616518</td>\n",
       "      <td>9.846623</td>\n",
       "      <td>10.889844</td>\n",
       "    </tr>\n",
       "    <tr>\n",
       "      <th>1</th>\n",
       "      <td>10.456039</td>\n",
       "      <td>9.885622</td>\n",
       "      <td>10.208316</td>\n",
       "    </tr>\n",
       "    <tr>\n",
       "      <th>2</th>\n",
       "      <td>10.795172</td>\n",
       "      <td>9.929995</td>\n",
       "      <td>9.092109</td>\n",
       "    </tr>\n",
       "    <tr>\n",
       "      <th>3</th>\n",
       "      <td>11.749378</td>\n",
       "      <td>9.172099</td>\n",
       "      <td>8.629847</td>\n",
       "    </tr>\n",
       "    <tr>\n",
       "      <th>4</th>\n",
       "      <td>8.800161</td>\n",
       "      <td>9.345234</td>\n",
       "      <td>9.005991</td>\n",
       "    </tr>\n",
       "  </tbody>\n",
       "</table>\n",
       "</div>"
      ],
      "text/plain": [
       "        col1      col2       col3\n",
       "0  11.616518  9.846623  10.889844\n",
       "1  10.456039  9.885622  10.208316\n",
       "2  10.795172  9.929995   9.092109\n",
       "3  11.749378  9.172099   8.629847\n",
       "4   8.800161  9.345234   9.005991"
      ]
     },
     "execution_count": 16,
     "metadata": {},
     "output_type": "execute_result"
    }
   ],
   "source": [
    "print(df)\n",
    "df.applymap(lambda x: x+10)"
   ]
  },
  {
   "cell_type": "code",
   "execution_count": 17,
   "id": "95504f3c",
   "metadata": {},
   "outputs": [
    {
     "data": {
      "text/html": [
       "<div>\n",
       "<style scoped>\n",
       "    .dataframe tbody tr th:only-of-type {\n",
       "        vertical-align: middle;\n",
       "    }\n",
       "\n",
       "    .dataframe tbody tr th {\n",
       "        vertical-align: top;\n",
       "    }\n",
       "\n",
       "    .dataframe thead th {\n",
       "        text-align: right;\n",
       "    }\n",
       "</style>\n",
       "<table border=\"1\" class=\"dataframe\">\n",
       "  <thead>\n",
       "    <tr style=\"text-align: right;\">\n",
       "      <th></th>\n",
       "      <th>col1</th>\n",
       "      <th>col2</th>\n",
       "      <th>col3</th>\n",
       "    </tr>\n",
       "  </thead>\n",
       "  <tbody>\n",
       "    <tr>\n",
       "      <th>0</th>\n",
       "      <td>11.271423</td>\n",
       "      <td>10.391633</td>\n",
       "      <td>10.943315</td>\n",
       "    </tr>\n",
       "    <tr>\n",
       "      <th>1</th>\n",
       "      <td>10.675307</td>\n",
       "      <td>10.338199</td>\n",
       "      <td>10.456417</td>\n",
       "    </tr>\n",
       "    <tr>\n",
       "      <th>2</th>\n",
       "      <td>10.891724</td>\n",
       "      <td>10.264585</td>\n",
       "      <td>10.952833</td>\n",
       "    </tr>\n",
       "    <tr>\n",
       "      <th>3</th>\n",
       "      <td>11.322641</td>\n",
       "      <td>10.909891</td>\n",
       "      <td>11.170536</td>\n",
       "    </tr>\n",
       "    <tr>\n",
       "      <th>4</th>\n",
       "      <td>11.095372</td>\n",
       "      <td>10.809176</td>\n",
       "      <td>10.997000</td>\n",
       "    </tr>\n",
       "  </tbody>\n",
       "</table>\n",
       "</div>"
      ],
      "text/plain": [
       "        col1       col2       col3\n",
       "0  11.271423  10.391633  10.943315\n",
       "1  10.675307  10.338199  10.456417\n",
       "2  10.891724  10.264585  10.952833\n",
       "3  11.322641  10.909891  11.170536\n",
       "4  11.095372  10.809176  10.997000"
      ]
     },
     "execution_count": 17,
     "metadata": {},
     "output_type": "execute_result"
    }
   ],
   "source": [
    "df.applymap(np.abs).applymap(np.sqrt).applymap(lambda x: x+ 10)"
   ]
  }
 ],
 "metadata": {
  "kernelspec": {
   "display_name": "Python 3 (ipykernel)",
   "language": "python",
   "name": "python3"
  },
  "language_info": {
   "codemirror_mode": {
    "name": "ipython",
    "version": 3
   },
   "file_extension": ".py",
   "mimetype": "text/x-python",
   "name": "python",
   "nbconvert_exporter": "python",
   "pygments_lexer": "ipython3",
   "version": "3.9.7"
  }
 },
 "nbformat": 4,
 "nbformat_minor": 5
}
