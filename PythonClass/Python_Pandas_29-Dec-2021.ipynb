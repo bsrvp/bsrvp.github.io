{
 "cells": [
  {
   "cell_type": "markdown",
   "id": "e395985d",
   "metadata": {},
   "source": [
    "### Pandas Function Applications - `pipe(), apply(), map(), applymap()`"
   ]
  },
  {
   "cell_type": "code",
   "execution_count": 123,
   "id": "3da25715",
   "metadata": {},
   "outputs": [],
   "source": [
    "import pandas as pd\n",
    "import numpy as np"
   ]
  },
  {
   "cell_type": "code",
   "execution_count": 124,
   "id": "6d95dfeb",
   "metadata": {},
   "outputs": [
    {
     "name": "stdout",
     "output_type": "stream",
     "text": [
      "0    -26.723051\n",
      "1    111.047101\n",
      "2     31.617943\n",
      "3     22.238587\n",
      "4     27.617197\n",
      "Name: col1, dtype: float64\n"
     ]
    }
   ],
   "source": [
    "df = pd.DataFrame(np.random.randn(5,3),columns=['col1','col2','col3'])\n",
    "\n",
    "# My custom function\n",
    "df1 = df['col1'].map(lambda x:x*100)\n",
    "print(df1)"
   ]
  },
  {
   "cell_type": "code",
   "execution_count": 125,
   "id": "f687cb3c",
   "metadata": {},
   "outputs": [
    {
     "data": {
      "text/plain": [
       "0   -0.267231\n",
       "1    1.110471\n",
       "2    0.316179\n",
       "3    0.222386\n",
       "4    0.276172\n",
       "Name: col1, dtype: float64"
      ]
     },
     "execution_count": 125,
     "metadata": {},
     "output_type": "execute_result"
    }
   ],
   "source": [
    "df['col1']"
   ]
  },
  {
   "cell_type": "code",
   "execution_count": 126,
   "id": "02746bdb",
   "metadata": {},
   "outputs": [
    {
     "name": "stdout",
     "output_type": "stream",
     "text": [
      "0    1.281592\n",
      "1    0.322395\n",
      "2    1.998703\n",
      "3    1.100574\n",
      "4    1.538584\n",
      "dtype: float64\n"
     ]
    }
   ],
   "source": [
    "df = pd.DataFrame(np.random.randn(5,3),columns=['col1','col2','col3'])\n",
    "df1 = df.apply(lambda x: x.max() - x.min(), axis=1)\n",
    "print(df1)"
   ]
  },
  {
   "cell_type": "code",
   "execution_count": 127,
   "id": "4737eb22",
   "metadata": {},
   "outputs": [
    {
     "name": "stdout",
     "output_type": "stream",
     "text": [
      "         col1        col2        col3\n",
      "0  -30.104098  -17.256112  -41.082796\n",
      "1 -160.549400  131.272373  -13.959412\n",
      "2   17.772615   31.328074  108.835660\n",
      "3  -20.054545  -52.065918  -28.871600\n",
      "4 -113.638681   88.905740   22.944508\n"
     ]
    }
   ],
   "source": [
    "df = pd.DataFrame(np.random.randn(5,3),columns=['col1','col2','col3'])\n",
    "df1 = df.applymap(lambda x:x*100)\n",
    "print(df1)"
   ]
  },
  {
   "cell_type": "code",
   "execution_count": 128,
   "id": "29a24527",
   "metadata": {},
   "outputs": [
    {
     "data": {
      "text/html": [
       "<div>\n",
       "<style scoped>\n",
       "    .dataframe tbody tr th:only-of-type {\n",
       "        vertical-align: middle;\n",
       "    }\n",
       "\n",
       "    .dataframe tbody tr th {\n",
       "        vertical-align: top;\n",
       "    }\n",
       "\n",
       "    .dataframe thead th {\n",
       "        text-align: right;\n",
       "    }\n",
       "</style>\n",
       "<table border=\"1\" class=\"dataframe\">\n",
       "  <thead>\n",
       "    <tr style=\"text-align: right;\">\n",
       "      <th></th>\n",
       "      <th>col1</th>\n",
       "      <th>col2</th>\n",
       "      <th>col3</th>\n",
       "    </tr>\n",
       "  </thead>\n",
       "  <tbody>\n",
       "    <tr>\n",
       "      <th>0</th>\n",
       "      <td>-0.301041</td>\n",
       "      <td>-0.172561</td>\n",
       "      <td>-0.410828</td>\n",
       "    </tr>\n",
       "    <tr>\n",
       "      <th>1</th>\n",
       "      <td>-1.605494</td>\n",
       "      <td>1.312724</td>\n",
       "      <td>-0.139594</td>\n",
       "    </tr>\n",
       "    <tr>\n",
       "      <th>2</th>\n",
       "      <td>0.177726</td>\n",
       "      <td>0.313281</td>\n",
       "      <td>1.088357</td>\n",
       "    </tr>\n",
       "    <tr>\n",
       "      <th>3</th>\n",
       "      <td>-0.200545</td>\n",
       "      <td>-0.520659</td>\n",
       "      <td>-0.288716</td>\n",
       "    </tr>\n",
       "    <tr>\n",
       "      <th>4</th>\n",
       "      <td>-1.136387</td>\n",
       "      <td>0.889057</td>\n",
       "      <td>0.229445</td>\n",
       "    </tr>\n",
       "  </tbody>\n",
       "</table>\n",
       "</div>"
      ],
      "text/plain": [
       "       col1      col2      col3\n",
       "0 -0.301041 -0.172561 -0.410828\n",
       "1 -1.605494  1.312724 -0.139594\n",
       "2  0.177726  0.313281  1.088357\n",
       "3 -0.200545 -0.520659 -0.288716\n",
       "4 -1.136387  0.889057  0.229445"
      ]
     },
     "execution_count": 128,
     "metadata": {},
     "output_type": "execute_result"
    }
   ],
   "source": [
    "df"
   ]
  },
  {
   "cell_type": "code",
   "execution_count": 129,
   "id": "2693aa65",
   "metadata": {},
   "outputs": [
    {
     "name": "stdout",
     "output_type": "stream",
     "text": [
      "       col1      col2      col3\n",
      "0       NaN  0.270302  0.970168\n",
      "1       NaN       NaN  0.293798\n",
      "2       NaN  1.437230  0.583335\n",
      "3  1.273111       NaN  0.718322\n",
      "4       NaN       NaN  0.865009\n"
     ]
    }
   ],
   "source": [
    "df = pd.DataFrame(np.random.randn(5,3),columns=['col1','col2','col3'])\n",
    "df1 = df.pipe(np.sqrt)\n",
    "print(df1)"
   ]
  },
  {
   "cell_type": "code",
   "execution_count": 130,
   "id": "873d6592",
   "metadata": {},
   "outputs": [
    {
     "name": "stderr",
     "output_type": "stream",
     "text": [
      "C:\\Users\\BSRVPrasad\\anaconda3\\lib\\site-packages\\pandas\\core\\frame.py:8823: RuntimeWarning: invalid value encountered in sqrt\n",
      "  return lib.map_infer(x.astype(object)._values, func, ignore_na=ignore_na)\n"
     ]
    },
    {
     "data": {
      "text/html": [
       "<div>\n",
       "<style scoped>\n",
       "    .dataframe tbody tr th:only-of-type {\n",
       "        vertical-align: middle;\n",
       "    }\n",
       "\n",
       "    .dataframe tbody tr th {\n",
       "        vertical-align: top;\n",
       "    }\n",
       "\n",
       "    .dataframe thead th {\n",
       "        text-align: right;\n",
       "    }\n",
       "</style>\n",
       "<table border=\"1\" class=\"dataframe\">\n",
       "  <thead>\n",
       "    <tr style=\"text-align: right;\">\n",
       "      <th></th>\n",
       "      <th>col1</th>\n",
       "      <th>col2</th>\n",
       "      <th>col3</th>\n",
       "    </tr>\n",
       "  </thead>\n",
       "  <tbody>\n",
       "    <tr>\n",
       "      <th>0</th>\n",
       "      <td>NaN</td>\n",
       "      <td>0.270302</td>\n",
       "      <td>0.970168</td>\n",
       "    </tr>\n",
       "    <tr>\n",
       "      <th>1</th>\n",
       "      <td>NaN</td>\n",
       "      <td>NaN</td>\n",
       "      <td>0.293798</td>\n",
       "    </tr>\n",
       "    <tr>\n",
       "      <th>2</th>\n",
       "      <td>NaN</td>\n",
       "      <td>1.437230</td>\n",
       "      <td>0.583335</td>\n",
       "    </tr>\n",
       "    <tr>\n",
       "      <th>3</th>\n",
       "      <td>1.273111</td>\n",
       "      <td>NaN</td>\n",
       "      <td>0.718322</td>\n",
       "    </tr>\n",
       "    <tr>\n",
       "      <th>4</th>\n",
       "      <td>NaN</td>\n",
       "      <td>NaN</td>\n",
       "      <td>0.865009</td>\n",
       "    </tr>\n",
       "  </tbody>\n",
       "</table>\n",
       "</div>"
      ],
      "text/plain": [
       "       col1      col2      col3\n",
       "0       NaN  0.270302  0.970168\n",
       "1       NaN       NaN  0.293798\n",
       "2       NaN  1.437230  0.583335\n",
       "3  1.273111       NaN  0.718322\n",
       "4       NaN       NaN  0.865009"
      ]
     },
     "execution_count": 130,
     "metadata": {},
     "output_type": "execute_result"
    }
   ],
   "source": [
    "df.applymap(np.sqrt)"
   ]
  },
  {
   "cell_type": "code",
   "execution_count": 131,
   "id": "4f7f0dfb",
   "metadata": {},
   "outputs": [
    {
     "name": "stdout",
     "output_type": "stream",
     "text": [
      "       col1      col2      col3\n",
      "0 -0.388433  0.073063  0.941226\n",
      "1 -2.303833 -0.548972  0.086317\n",
      "2 -1.000283  2.065629  0.340280\n",
      "3  1.620811 -0.323679  0.515986\n",
      "4 -0.336764 -1.568424  0.748240\n"
     ]
    },
    {
     "data": {
      "text/plain": [
       "col1   -2.408503\n",
       "col2   -0.302383\n",
       "col3    2.632050\n",
       "dtype: float64"
      ]
     },
     "execution_count": 131,
     "metadata": {},
     "output_type": "execute_result"
    }
   ],
   "source": [
    "print(df)\n",
    "df.apply(lambda x: x.sum(),axis = 0)"
   ]
  },
  {
   "cell_type": "code",
   "execution_count": 132,
   "id": "a1f73e5f",
   "metadata": {},
   "outputs": [
    {
     "name": "stdout",
     "output_type": "stream",
     "text": [
      "       col1      col2      col3\n",
      "0 -0.388433  0.073063  0.941226\n",
      "1 -2.303833 -0.548972  0.086317\n",
      "2 -1.000283  2.065629  0.340280\n",
      "3  1.620811 -0.323679  0.515986\n",
      "4 -0.336764 -1.568424  0.748240\n"
     ]
    },
    {
     "data": {
      "text/html": [
       "<div>\n",
       "<style scoped>\n",
       "    .dataframe tbody tr th:only-of-type {\n",
       "        vertical-align: middle;\n",
       "    }\n",
       "\n",
       "    .dataframe tbody tr th {\n",
       "        vertical-align: top;\n",
       "    }\n",
       "\n",
       "    .dataframe thead th {\n",
       "        text-align: right;\n",
       "    }\n",
       "</style>\n",
       "<table border=\"1\" class=\"dataframe\">\n",
       "  <thead>\n",
       "    <tr style=\"text-align: right;\">\n",
       "      <th></th>\n",
       "      <th>col1</th>\n",
       "      <th>col2</th>\n",
       "      <th>col3</th>\n",
       "    </tr>\n",
       "  </thead>\n",
       "  <tbody>\n",
       "    <tr>\n",
       "      <th>0</th>\n",
       "      <td>9.611567</td>\n",
       "      <td>10.073063</td>\n",
       "      <td>10.941226</td>\n",
       "    </tr>\n",
       "    <tr>\n",
       "      <th>1</th>\n",
       "      <td>7.696167</td>\n",
       "      <td>9.451028</td>\n",
       "      <td>10.086317</td>\n",
       "    </tr>\n",
       "    <tr>\n",
       "      <th>2</th>\n",
       "      <td>8.999717</td>\n",
       "      <td>12.065629</td>\n",
       "      <td>10.340280</td>\n",
       "    </tr>\n",
       "    <tr>\n",
       "      <th>3</th>\n",
       "      <td>11.620811</td>\n",
       "      <td>9.676321</td>\n",
       "      <td>10.515986</td>\n",
       "    </tr>\n",
       "    <tr>\n",
       "      <th>4</th>\n",
       "      <td>9.663236</td>\n",
       "      <td>8.431576</td>\n",
       "      <td>10.748240</td>\n",
       "    </tr>\n",
       "  </tbody>\n",
       "</table>\n",
       "</div>"
      ],
      "text/plain": [
       "        col1       col2       col3\n",
       "0   9.611567  10.073063  10.941226\n",
       "1   7.696167   9.451028  10.086317\n",
       "2   8.999717  12.065629  10.340280\n",
       "3  11.620811   9.676321  10.515986\n",
       "4   9.663236   8.431576  10.748240"
      ]
     },
     "execution_count": 132,
     "metadata": {},
     "output_type": "execute_result"
    }
   ],
   "source": [
    "print(df)\n",
    "df.applymap(lambda x: x+10)"
   ]
  },
  {
   "cell_type": "code",
   "execution_count": null,
   "id": "6daab78e",
   "metadata": {},
   "outputs": [],
   "source": []
  }
 ],
 "metadata": {
  "kernelspec": {
   "display_name": "Python 3 (ipykernel)",
   "language": "python",
   "name": "python3"
  },
  "language_info": {
   "codemirror_mode": {
    "name": "ipython",
    "version": 3
   },
   "file_extension": ".py",
   "mimetype": "text/x-python",
   "name": "python",
   "nbconvert_exporter": "python",
   "pygments_lexer": "ipython3",
   "version": "3.9.7"
  }
 },
 "nbformat": 4,
 "nbformat_minor": 5
}
