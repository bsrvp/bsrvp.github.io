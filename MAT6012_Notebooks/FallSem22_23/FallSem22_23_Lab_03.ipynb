{
 "cells": [
  {
   "cell_type": "markdown",
   "id": "0807a98b",
   "metadata": {},
   "source": [
    "### Python code to display memory location of varibales and to display the \"Hellooo\" message"
   ]
  },
  {
   "cell_type": "code",
   "execution_count": 1,
   "id": "9ea44d27",
   "metadata": {},
   "outputs": [
    {
     "name": "stdout",
     "output_type": "stream",
     "text": [
      "Hellooo\n"
     ]
    }
   ],
   "source": [
    "x = 10\n",
    "y = 5\n",
    "id(x)\n",
    "id(y)\n",
    "print('Hellooo')"
   ]
  },
  {
   "cell_type": "markdown",
   "id": "88691c74",
   "metadata": {},
   "source": [
    "### Jupyter magic commands"
   ]
  },
  {
   "cell_type": "code",
   "execution_count": 2,
   "id": "dbdd6672",
   "metadata": {},
   "outputs": [],
   "source": [
    "from IPython.core.interactiveshell import InteractiveShell\n",
    "InteractiveShell.ast_node_interactivity = \"all\""
   ]
  },
  {
   "cell_type": "code",
   "execution_count": 3,
   "id": "0a70f4f8",
   "metadata": {},
   "outputs": [
    {
     "data": {
      "text/plain": [
       "'C:\\\\Users\\\\BSRVPrasad\\\\OneDrive\\\\PythonClass'"
      ]
     },
     "execution_count": 3,
     "metadata": {},
     "output_type": "execute_result"
    }
   ],
   "source": [
    "%pwd"
   ]
  },
  {
   "cell_type": "code",
   "execution_count": 4,
   "id": "5eaea7c1",
   "metadata": {},
   "outputs": [
    {
     "name": "stdout",
     "output_type": "stream",
     "text": [
      " Volume in drive C is OS\n",
      " Volume Serial Number is 4622-41F6\n",
      "\n",
      " Directory of C:\\Users\\BSRVPrasad\\OneDrive\\PythonClass\n",
      "\n",
      "16-10-2022  03:33 PM    <DIR>          .\n",
      "15-10-2022  04:15 PM    <DIR>          ..\n",
      "10-12-2021  12:30 PM    <DIR>          .idea\n",
      "16-10-2022  01:42 PM    <DIR>          .ipynb_checkpoints\n",
      "21-01-2022  12:57 PM    <DIR>          .virtual_documents\n",
      "04-08-2022  05:04 PM           136,632 01_bifurcation.ipynb\n",
      "21-09-2022  05:56 AM            32,081 Basic Intro to Python.ipynb\n",
      "21-09-2022  06:24 AM            21,000 BifurcationDiagrams.ipynb\n",
      "21-09-2022  06:22 AM           624,219 BifurcationDiagrams.slides.html\n",
      "09-01-2022  10:55 AM           704,449 bistable_systems.ipynb\n",
      "04-08-2022  05:04 PM           705,426 bistable_systems_downloaded_on_04Aug22.ipynb\n",
      "04-08-2022  05:04 PM            17,889 bistable_systems_sujet.ipynb\n",
      "22-09-2022  05:14 PM            29,350 CAT-II_AnswerKey.ipynb\n",
      "22-12-2021  03:43 PM            35,705 CAT-II_AnswersKey.ipynb\n",
      "09-01-2022  10:55 AM           190,212 Codwebs_BifurcationPlots.ipynb\n",
      "06-12-2021  01:58 PM                28 data1.txt\n",
      "06-12-2021  01:59 PM                24 data2.txt\n",
      "18-11-2021  04:49 AM          (37,565) DataTypesInPython.ipynb\n",
      "18-01-2022  12:24 PM             1,626 DigitFreq.ipynb\n",
      "06-01-2022  06:48 AM            60,563 DO_OSS_Parameters-Orignal.xlsx\n",
      "10-01-2022  05:22 PM            13,389 ExceptionHandling.ipynb\n",
      "20-09-2022  08:46 AM    <DIR>          Fall_22-23\n",
      "16-10-2022  02:57 PM             5,112 FallSem22_23_Lab#01.ipynb\n",
      "16-10-2022  03:17 PM            22,807 FallSem22_23_Lab#02.ipynb\n",
      "16-10-2022  03:33 PM            55,890 FallSem22_23_Lab#03.ipynb\n",
      "29-09-2022  07:09 PM            14,702 FallSem22_23_Lab#04.ipynb\n",
      "03-10-2022  10:55 AM            11,006 FallSem22_23_Lab#05.ipynb\n",
      "05-10-2022  09:16 AM           181,792 FallSem22_23_Lab#06.ipynb\n",
      "06-10-2022  09:51 AM           176,124 FallSem22_23_Lab#07.ipynb\n",
      "06-10-2022  02:48 PM            30,193 FallSem22_23_Lab#08.ipynb\n",
      "06-10-2022  07:10 PM            41,252 FallSem22_23_Lab#09.ipynb\n",
      "16-10-2022  01:31 PM             4,808 FallSem22_23_Lab#10_1.ipynb\n",
      "16-10-2022  01:34 PM             8,835 FallSem22_23_Lab#10_2.ipynb\n",
      "11-10-2022  12:16 PM            19,337 FallSem22_23_Lab#11 (Dictionaries).ipynb\n",
      "14-10-2022  09:37 AM             9,724 FallSem22_23_Lab#12 (ListComprehension).ipynb\n",
      "16-10-2022  02:14 PM             7,350 FallSem22_23_Lab#13_1 (DictionaryExamples).ipynb\n",
      "13-10-2022  07:12 PM             5,619 FallSem22_23_Lab#13_2 (DictionaryExamples).ipynb\n",
      "03-02-2022  03:59 PM            10,687 FATQ#5-Answers.ipynb\n",
      "02-12-2021  11:00 AM             1,257 First.png\n",
      "24-09-2021  03:39 PM           (1,023) First_Notebook.ipynb\n",
      "23-09-2021  11:36 AM               576 FirstNotebook.ipynb\n",
      "05-01-2022  07:02 PM          (17,366) FirstPlot.png\n",
      "27-09-2021  12:49 PM              (93) FirstPythonFile.py\n",
      "24-02-2022  02:57 PM            13,852 Function_Examples.ipynb\n",
      "18-10-2021  10:34 AM             3,200 Function_Examples_2.ipynb\n",
      "18-10-2021  11:06 AM             1,875 Function_Examples_3.ipynb\n",
      "10-01-2022  04:59 PM             7,144 Function_Examples_4.ipynb\n",
      "20-10-2021  03:44 PM            14,683 Generator_Functions.ipynb\n",
      "09-04-2022  03:40 PM           138,796 Interpolation.ipynb\n",
      "10-12-2021  10:05 PM                72 JuliaNotebook.ipynb\n",
      "14-12-2021  02:32 PM             5,619 kite_tutorial.ipynb\n",
      "14-12-2021  02:30 PM             5,606 kite_tutorial-checkpoint.ipynb\n",
      "28-10-2021  09:50 PM          (10,816) LabClass_04Oct2021.ipynb\n",
      "18-10-2021  01:19 PM           (9,280) LabClass_18Oct21.ipynb\n"
     ]
    }
   ],
   "source": [
    "%ls"
   ]
  },
  {
   "cell_type": "code",
   "execution_count": 5,
   "id": "93c1dad9",
   "metadata": {},
   "outputs": [
    {
     "name": "stdout",
     "output_type": "stream",
     "text": [
      "18-10-2021  11:49 AM          (48,687) LabClass_18Oct21.pdf\n",
      "27-09-2021  11:26 AM          (28,536) LabLecture#02.ipynb\n",
      "07-10-2021  02:29 PM            25,643 Lists.ipynb\n",
      "08-01-2022  10:17 AM           354,947 LorentzSystem.ipynb\n",
      "08-01-2022  10:16 AM           140,264 lorenz.png\n",
      "13-10-2022  10:30 AM            10,711 MDT_GradeHistory_2020.xlsx\n",
      "22-01-2022  03:58 PM             1,254 MitoSheetExample.ipynb\n",
      "21-01-2022  12:58 PM             1,979 mito-starter-notebook.ipynb\n",
      "23-11-2021  09:24 AM            20,308 NumPy_0.ipynb\n",
      "22-11-2021  01:40 PM             9,773 NumPy_1.ipynb\n",
      "25-11-2021  10:58 AM            11,900 NumPy_2.ipynb\n",
      "24-11-2021  04:47 PM            18,481 NumPy_3.ipynb\n",
      "29-11-2021  01:25 PM            14,048 NumPy_4.ipynb\n",
      "06-12-2021  02:50 PM            22,396 NumPy_5.ipynb\n",
      "07-12-2021  06:31 PM            19,452 NumPy_6.ipynb\n",
      "23-12-2021  03:31 PM            11,430 NumPy_7.ipynb\n",
      "03-01-2022  02:46 PM            25,916 Pandas_1.ipynb\n",
      "04-01-2022  10:18 PM            10,212 Pandas_2.ipynb\n",
      "15-04-2022  04:01 PM            51,666 Pandas_Tutorial.ipynb\n",
      "08-09-2022  03:02 PM            28,719 PandasPlottingEx.ipynb\n",
      "x = 10\n",
      "y = 5\n",
      "id(x)\n",
      "id(y)\n",
      "print('Hellooo')\n",
      "from IPython.core.interactiveshell import InteractiveShell\n",
      "InteractiveShell.ast_node_interactivity = \"all\"\n",
      "%pwd\n",
      "%ls\n",
      "%history\n",
      "09-01-2022  09:12 AM           395,314 Plotting.ipynb\n",
      "05-01-2022  08:12 PM           125,804 Plotting_Examples.ipynb\n",
      "20-12-2021  08:53 AM           135,407 Plotting_Filling_of_Regions.ipynb\n",
      "09-01-2022  12:22 PM           575,947 PlottingExamples.ipynb\n",
      "05-08-2022  12:34 PM            11,389 PyDSToolExample.ipynb\n",
      "27-09-2021  02:50 PM            21,967 Python Basics.ipynb\n",
      "30-09-2021  10:58 AM          (33,088) PythonDataTypes.ipynb\n",
      "10-12-2021  12:30 PM    <DIR>          reveal.js\n",
      "08-01-2022  10:58 AM            15,728 RKMethod_in_Python_WorkinProgress.ipynb\n",
      "04-08-2022  10:16 AM           358,956 RM_Model_BifurcationPlot.ipynb\n",
      "04-08-2022  05:03 PM           359,322 RM_Model_BifurcationPlot-Copy1.ipynb\n",
      "16-04-2022  11:00 AM            89,124 Sample_Julia.ipynb\n",
      "05-04-2022  02:43 PM         1,718,217 SciPy_Tutorial.ipynb\n",
      "30-09-2021  01:12 PM            36,670 Sets_n_Dictionaries.ipynb\n",
      "01-12-2021  03:04 PM           (7,177) StatsticalTestsUsingPython.ipynb\n",
      "13-10-2021  01:03 PM            12,192 Strings.ipynb\n",
      "08-01-2022  10:18 AM            21,623 svg_tooltip.svg\n",
      "09-01-2022  07:52 AM           281,660 SymPy_1.ipynb\n",
      "09-01-2022  12:20 PM           127,840 SymPyTutorial.ipynb\n",
      "10-12-2021  12:31 PM    <DIR>          Test\n",
      "02-12-2021  03:38 PM          (54,273) TheoryClass_01Dec21.ipynb\n",
      "06-10-2021  02:56 PM          (17,936) TheoryClass_04Oct2021.ipynb\n",
      "08-10-2021  03:18 PM          (46,324) TheoryClass_04Oct2021.pdf\n",
      "11-11-2021  12:02 PM           (6,019) TheoryClass_10Nov2021.ipynb\n",
      "11-10-2021  02:43 PM          (13,639) TheoryClass_11Oct21.ipynb\n",
      "28-10-2021  10:33 PM          (18,384) TheoryClass_13Oct21.ipynb\n",
      "18-10-2021  03:04 PM           (6,923) TheoryClass_18Oct21.ipynb\n",
      "18-10-2021  03:06 PM          (32,468) TheoryClass_18Oct21.pdf\n",
      "06-10-2021  03:53 PM          (21,431) ThoeryClass_06Oct21.ipynb\n",
      "24-02-2022  02:59 PM             2,572 Untitled.ipynb\n",
      "20-09-2022  02:41 PM            71,138 Untitled.pdf\n",
      "05-04-2022  10:03 AM               321 Untitled1.ipynb\n",
      "20-09-2022  02:41 PM            36,463 Untitled1.pdf\n",
      "15-07-2022  02:18 PM             3,121 Untitled10.ipynb\n",
      "16-07-2022  02:42 PM            18,791 Untitled11.ipynb\n",
      "21-07-2022  03:10 PM             6,510 Untitled12.ipynb\n",
      "25-07-2022  02:11 PM            32,230 Untitled13.ipynb\n",
      "20-09-2022  10:46 AM           (1,712) Untitled15.ipynb\n",
      "20-09-2022  02:01 PM               831 Untitled16.ipynb\n",
      "20-09-2022  02:27 PM                72 Untitled17.ipynb\n",
      "20-09-2022  02:39 PM             1,433 Untitled18.ipynb\n",
      "05-04-2022  10:38 AM               601 Untitled2.ipynb\n",
      "09-04-2022  03:39 PM               589 Untitled3.ipynb\n",
      "13-10-2022  12:05 PM           138,498 Untitled35.ipynb\n",
      "11-04-2022  09:13 AM             1,594 Untitled4.ipynb\n",
      "11-04-2022  10:34 PM           (5,970) Untitled5.ipynb\n",
      "15-04-2022  03:59 PM               589 Untitled6.ipynb\n",
      "28-04-2022  11:04 AM             1,499 Untitled7.ipynb\n",
      "29-04-2022  03:13 PM             2,144 Untitled8.ipynb\n",
      "14-07-2022  03:11 PM            20,944 Untitled9.ipynb\n",
      "13-10-2021  01:52 PM            37,727 vertopal.com_ProgrammingForDataAnlysis_Module_4.ipynb\n",
      "08-01-2022  03:30 PM             3,297 VIT_AP_Presentation.ipynb\n",
      "20-02-2020  02:22 PM           148,694 WQ.xlsx\n",
      "             119 File(s)      9,385,138 bytes\n",
      "               8 Dir(s)  22,361,026,560 bytes free\n"
     ]
    }
   ],
   "source": [
    "%history"
   ]
  },
  {
   "cell_type": "code",
   "execution_count": 6,
   "id": "525a60a7",
   "metadata": {},
   "outputs": [
    {
     "data": {
      "text/plain": [
       "2058343115344"
      ]
     },
     "execution_count": 6,
     "metadata": {},
     "output_type": "execute_result"
    },
    {
     "data": {
      "text/plain": [
       "2058343115184"
      ]
     },
     "execution_count": 6,
     "metadata": {},
     "output_type": "execute_result"
    },
    {
     "data": {
      "text/plain": [
       "2058343115184"
      ]
     },
     "execution_count": 6,
     "metadata": {},
     "output_type": "execute_result"
    },
    {
     "data": {
      "text/plain": [
       "2058343115216"
      ]
     },
     "execution_count": 6,
     "metadata": {},
     "output_type": "execute_result"
    }
   ],
   "source": [
    "x = 10\n",
    "y = 5\n",
    "id(x)\n",
    "id(y)\n",
    "x = y\n",
    "id(x)\n",
    "x = x+1\n",
    "id(x)"
   ]
  },
  {
   "cell_type": "markdown",
   "id": "a17978cb",
   "metadata": {},
   "source": [
    "### Basic operations, printing variables and complex numbers"
   ]
  },
  {
   "cell_type": "code",
   "execution_count": 7,
   "id": "710324cd",
   "metadata": {},
   "outputs": [],
   "source": [
    "a = 10 - 2.0"
   ]
  },
  {
   "cell_type": "code",
   "execution_count": 8,
   "id": "1e2244c8",
   "metadata": {},
   "outputs": [
    {
     "name": "stdout",
     "output_type": "stream",
     "text": [
      "8.0\n"
     ]
    }
   ],
   "source": [
    "print(a)"
   ]
  },
  {
   "cell_type": "code",
   "execution_count": 9,
   "id": "683c943f",
   "metadata": {},
   "outputs": [
    {
     "name": "stdout",
     "output_type": "stream",
     "text": [
      "20 10\n"
     ]
    }
   ],
   "source": [
    "x = 10\n",
    "y = 20\n",
    "x,y = y,x\n",
    "print(x,y)"
   ]
  },
  {
   "cell_type": "code",
   "execution_count": 10,
   "id": "d2c4d97a",
   "metadata": {},
   "outputs": [],
   "source": [
    "a = 2\n",
    "b = 3.14\n",
    "c = 2.234e24\n",
    "d = 2+3j"
   ]
  },
  {
   "cell_type": "code",
   "execution_count": 11,
   "id": "dae55196",
   "metadata": {},
   "outputs": [
    {
     "data": {
      "text/plain": [
       "int"
      ]
     },
     "execution_count": 11,
     "metadata": {},
     "output_type": "execute_result"
    },
    {
     "data": {
      "text/plain": [
       "float"
      ]
     },
     "execution_count": 11,
     "metadata": {},
     "output_type": "execute_result"
    },
    {
     "data": {
      "text/plain": [
       "float"
      ]
     },
     "execution_count": 11,
     "metadata": {},
     "output_type": "execute_result"
    },
    {
     "data": {
      "text/plain": [
       "complex"
      ]
     },
     "execution_count": 11,
     "metadata": {},
     "output_type": "execute_result"
    }
   ],
   "source": [
    "type(a)\n",
    "type(b)\n",
    "type(c)\n",
    "type(d)"
   ]
  },
  {
   "cell_type": "code",
   "execution_count": 12,
   "id": "34d2c7ce",
   "metadata": {},
   "outputs": [],
   "source": [
    "e = a + b"
   ]
  },
  {
   "cell_type": "code",
   "execution_count": 13,
   "id": "f5331651",
   "metadata": {},
   "outputs": [
    {
     "data": {
      "text/plain": [
       "5.140000000000001"
      ]
     },
     "execution_count": 13,
     "metadata": {},
     "output_type": "execute_result"
    }
   ],
   "source": [
    "e"
   ]
  },
  {
   "cell_type": "code",
   "execution_count": 14,
   "id": "08da7fe7",
   "metadata": {},
   "outputs": [],
   "source": [
    "f = c + d"
   ]
  },
  {
   "cell_type": "code",
   "execution_count": 15,
   "id": "938d435c",
   "metadata": {},
   "outputs": [
    {
     "name": "stdout",
     "output_type": "stream",
     "text": [
      "(2.234e+24+3j)\n"
     ]
    }
   ],
   "source": [
    "print(f)"
   ]
  },
  {
   "cell_type": "markdown",
   "id": "e0385bdb",
   "metadata": {},
   "source": [
    "10/4"
   ]
  },
  {
   "cell_type": "code",
   "execution_count": 16,
   "id": "c142f8a6",
   "metadata": {},
   "outputs": [
    {
     "data": {
      "text/plain": [
       "2.5"
      ]
     },
     "execution_count": 16,
     "metadata": {},
     "output_type": "execute_result"
    }
   ],
   "source": [
    "10/4"
   ]
  },
  {
   "cell_type": "code",
   "execution_count": 17,
   "id": "acf8ba8e",
   "metadata": {},
   "outputs": [
    {
     "data": {
      "text/plain": [
       "2.5"
      ]
     },
     "execution_count": 17,
     "metadata": {},
     "output_type": "execute_result"
    }
   ],
   "source": [
    "10/4.0"
   ]
  },
  {
   "cell_type": "code",
   "execution_count": 18,
   "id": "69dd5927",
   "metadata": {},
   "outputs": [
    {
     "data": {
      "text/plain": [
       "4"
      ]
     },
     "execution_count": 18,
     "metadata": {},
     "output_type": "execute_result"
    }
   ],
   "source": [
    "int(4.934534)"
   ]
  },
  {
   "cell_type": "code",
   "execution_count": 19,
   "id": "2df8df47",
   "metadata": {},
   "outputs": [
    {
     "data": {
      "text/plain": [
       "'4.924'"
      ]
     },
     "execution_count": 19,
     "metadata": {},
     "output_type": "execute_result"
    }
   ],
   "source": [
    "str(4.924)"
   ]
  },
  {
   "cell_type": "code",
   "execution_count": 20,
   "id": "fdfb1d6f",
   "metadata": {},
   "outputs": [
    {
     "data": {
      "text/plain": [
       "134.0"
      ]
     },
     "execution_count": 20,
     "metadata": {},
     "output_type": "execute_result"
    }
   ],
   "source": [
    "float('134')"
   ]
  },
  {
   "cell_type": "code",
   "execution_count": 21,
   "id": "8c3f9489",
   "metadata": {},
   "outputs": [
    {
     "data": {
      "text/plain": [
       "5"
      ]
     },
     "execution_count": 21,
     "metadata": {},
     "output_type": "execute_result"
    }
   ],
   "source": [
    "round(4.95)"
   ]
  },
  {
   "cell_type": "code",
   "execution_count": 22,
   "id": "bae4098c",
   "metadata": {},
   "outputs": [],
   "source": [
    "c = complex(2,3)"
   ]
  },
  {
   "cell_type": "code",
   "execution_count": 23,
   "id": "9d1d3e75",
   "metadata": {},
   "outputs": [
    {
     "name": "stdout",
     "output_type": "stream",
     "text": [
      "(2+3j)\n"
     ]
    }
   ],
   "source": [
    "print(c)"
   ]
  },
  {
   "cell_type": "code",
   "execution_count": 24,
   "id": "53577287",
   "metadata": {},
   "outputs": [],
   "source": [
    "a = int(10)"
   ]
  },
  {
   "cell_type": "code",
   "execution_count": 25,
   "id": "c2b8f1a5",
   "metadata": {},
   "outputs": [
    {
     "data": {
      "text/plain": [
       "10"
      ]
     },
     "execution_count": 25,
     "metadata": {},
     "output_type": "execute_result"
    }
   ],
   "source": [
    "a"
   ]
  },
  {
   "cell_type": "code",
   "execution_count": 26,
   "id": "27fedcb3",
   "metadata": {},
   "outputs": [],
   "source": [
    "c = 3+2j"
   ]
  },
  {
   "cell_type": "code",
   "execution_count": 27,
   "id": "26cadc31",
   "metadata": {},
   "outputs": [
    {
     "data": {
      "text/plain": [
       "(3+2j)"
      ]
     },
     "execution_count": 27,
     "metadata": {},
     "output_type": "execute_result"
    }
   ],
   "source": [
    "c"
   ]
  },
  {
   "cell_type": "code",
   "execution_count": 28,
   "id": "5619d907",
   "metadata": {},
   "outputs": [
    {
     "data": {
      "text/plain": [
       "3.0"
      ]
     },
     "execution_count": 28,
     "metadata": {},
     "output_type": "execute_result"
    }
   ],
   "source": [
    "c.real"
   ]
  },
  {
   "cell_type": "code",
   "execution_count": 29,
   "id": "a4b36bdc",
   "metadata": {},
   "outputs": [
    {
     "data": {
      "text/plain": [
       "2.0"
      ]
     },
     "execution_count": 29,
     "metadata": {},
     "output_type": "execute_result"
    }
   ],
   "source": [
    "c.imag"
   ]
  },
  {
   "cell_type": "code",
   "execution_count": 30,
   "id": "07783401",
   "metadata": {},
   "outputs": [
    {
     "data": {
      "text/plain": [
       "(3-2j)"
      ]
     },
     "execution_count": 30,
     "metadata": {},
     "output_type": "execute_result"
    }
   ],
   "source": [
    "c.conjugate()"
   ]
  },
  {
   "cell_type": "markdown",
   "id": "975f4060",
   "metadata": {},
   "source": [
    "### Strings in Python"
   ]
  },
  {
   "cell_type": "code",
   "execution_count": 31,
   "id": "794a93e0",
   "metadata": {},
   "outputs": [],
   "source": [
    "S = 'Hello'"
   ]
  },
  {
   "cell_type": "code",
   "execution_count": 32,
   "id": "c362fb45",
   "metadata": {},
   "outputs": [
    {
     "data": {
      "text/plain": [
       "'Hello'"
      ]
     },
     "execution_count": 32,
     "metadata": {},
     "output_type": "execute_result"
    }
   ],
   "source": [
    "S"
   ]
  },
  {
   "cell_type": "code",
   "execution_count": 33,
   "id": "f6737ce7",
   "metadata": {},
   "outputs": [
    {
     "data": {
      "text/plain": [
       "'H'"
      ]
     },
     "execution_count": 33,
     "metadata": {},
     "output_type": "execute_result"
    }
   ],
   "source": [
    "S[0]"
   ]
  },
  {
   "cell_type": "code",
   "execution_count": 34,
   "id": "afb0cfd3",
   "metadata": {},
   "outputs": [
    {
     "ename": "IndexError",
     "evalue": "string index out of range",
     "output_type": "error",
     "traceback": [
      "\u001b[1;31m---------------------------------------------------------------------------\u001b[0m",
      "\u001b[1;31mIndexError\u001b[0m                                Traceback (most recent call last)",
      "\u001b[1;32mC:\\Users\\BSRVPR~1\\AppData\\Local\\Temp/ipykernel_22924/785750709.py\u001b[0m in \u001b[0;36m<module>\u001b[1;34m\u001b[0m\n\u001b[1;32m----> 1\u001b[1;33m \u001b[0mS\u001b[0m\u001b[1;33m[\u001b[0m\u001b[1;36m5\u001b[0m\u001b[1;33m]\u001b[0m\u001b[1;33m\u001b[0m\u001b[1;33m\u001b[0m\u001b[0m\n\u001b[0m",
      "\u001b[1;31mIndexError\u001b[0m: string index out of range"
     ]
    }
   ],
   "source": [
    "S[5]"
   ]
  },
  {
   "cell_type": "code",
   "execution_count": 35,
   "id": "65d818fa",
   "metadata": {},
   "outputs": [
    {
     "data": {
      "text/plain": [
       "'Hello'"
      ]
     },
     "execution_count": 35,
     "metadata": {},
     "output_type": "execute_result"
    }
   ],
   "source": [
    "S[0:5]"
   ]
  },
  {
   "cell_type": "code",
   "execution_count": 36,
   "id": "2c1f7075",
   "metadata": {},
   "outputs": [
    {
     "data": {
      "text/plain": [
       "'o'"
      ]
     },
     "execution_count": 36,
     "metadata": {},
     "output_type": "execute_result"
    }
   ],
   "source": [
    "S[-1]"
   ]
  },
  {
   "cell_type": "code",
   "execution_count": 37,
   "id": "09e7951b",
   "metadata": {},
   "outputs": [
    {
     "data": {
      "text/plain": [
       "5"
      ]
     },
     "execution_count": 37,
     "metadata": {},
     "output_type": "execute_result"
    }
   ],
   "source": [
    "len(S)"
   ]
  },
  {
   "cell_type": "code",
   "execution_count": 38,
   "id": "40ef4a74",
   "metadata": {},
   "outputs": [],
   "source": [
    "S = 'This is a sample string'"
   ]
  },
  {
   "cell_type": "code",
   "execution_count": 39,
   "id": "6198fe26",
   "metadata": {},
   "outputs": [
    {
     "data": {
      "text/plain": [
       "'sample'"
      ]
     },
     "execution_count": 39,
     "metadata": {},
     "output_type": "execute_result"
    }
   ],
   "source": [
    "S[10:16]"
   ]
  },
  {
   "cell_type": "code",
   "execution_count": 40,
   "id": "1769baab",
   "metadata": {},
   "outputs": [
    {
     "data": {
      "text/plain": [
       "'sample'"
      ]
     },
     "execution_count": 40,
     "metadata": {},
     "output_type": "execute_result"
    }
   ],
   "source": [
    "S[-13:-7]"
   ]
  },
  {
   "cell_type": "code",
   "execution_count": 41,
   "id": "48386fcb",
   "metadata": {},
   "outputs": [
    {
     "name": "stdout",
     "output_type": "stream",
     "text": [
      "Help on class str in module builtins:\n",
      "\n",
      "class str(object)\n",
      " |  str(object='') -> str\n",
      " |  str(bytes_or_buffer[, encoding[, errors]]) -> str\n",
      " |  \n",
      " |  Create a new string object from the given object. If encoding or\n",
      " |  errors is specified, then the object must expose a data buffer\n",
      " |  that will be decoded using the given encoding and error handler.\n",
      " |  Otherwise, returns the result of object.__str__() (if defined)\n",
      " |  or repr(object).\n",
      " |  encoding defaults to sys.getdefaultencoding().\n",
      " |  errors defaults to 'strict'.\n",
      " |  \n",
      " |  Methods defined here:\n",
      " |  \n",
      " |  __add__(self, value, /)\n",
      " |      Return self+value.\n",
      " |  \n",
      " |  __contains__(self, key, /)\n",
      " |      Return key in self.\n",
      " |  \n",
      " |  __eq__(self, value, /)\n",
      " |      Return self==value.\n",
      " |  \n",
      " |  __format__(self, format_spec, /)\n",
      " |      Return a formatted version of the string as described by format_spec.\n",
      " |  \n",
      " |  __ge__(self, value, /)\n",
      " |      Return self>=value.\n",
      " |  \n",
      " |  __getattribute__(self, name, /)\n",
      " |      Return getattr(self, name).\n",
      " |  \n",
      " |  __getitem__(self, key, /)\n",
      " |      Return self[key].\n",
      " |  \n",
      " |  __getnewargs__(...)\n",
      " |  \n",
      " |  __gt__(self, value, /)\n",
      " |      Return self>value.\n",
      " |  \n",
      " |  __hash__(self, /)\n",
      " |      Return hash(self).\n",
      " |  \n",
      " |  __iter__(self, /)\n",
      " |      Implement iter(self).\n",
      " |  \n",
      " |  __le__(self, value, /)\n",
      " |      Return self<=value.\n",
      " |  \n",
      " |  __len__(self, /)\n",
      " |      Return len(self).\n",
      " |  \n",
      " |  __lt__(self, value, /)\n",
      " |      Return self<value.\n",
      " |  \n",
      " |  __mod__(self, value, /)\n",
      " |      Return self%value.\n",
      " |  \n",
      " |  __mul__(self, value, /)\n",
      " |      Return self*value.\n",
      " |  \n",
      " |  __ne__(self, value, /)\n",
      " |      Return self!=value.\n",
      " |  \n",
      " |  __repr__(self, /)\n",
      " |      Return repr(self).\n",
      " |  \n",
      " |  __rmod__(self, value, /)\n",
      " |      Return value%self.\n",
      " |  \n",
      " |  __rmul__(self, value, /)\n",
      " |      Return value*self.\n",
      " |  \n",
      " |  __sizeof__(self, /)\n",
      " |      Return the size of the string in memory, in bytes.\n",
      " |  \n",
      " |  __str__(self, /)\n",
      " |      Return str(self).\n",
      " |  \n",
      " |  capitalize(self, /)\n",
      " |      Return a capitalized version of the string.\n",
      " |      \n",
      " |      More specifically, make the first character have upper case and the rest lower\n",
      " |      case.\n",
      " |  \n",
      " |  casefold(self, /)\n",
      " |      Return a version of the string suitable for caseless comparisons.\n",
      " |  \n",
      " |  center(self, width, fillchar=' ', /)\n",
      " |      Return a centered string of length width.\n",
      " |      \n",
      " |      Padding is done using the specified fill character (default is a space).\n",
      " |  \n",
      " |  count(...)\n",
      " |      S.count(sub[, start[, end]]) -> int\n",
      " |      \n",
      " |      Return the number of non-overlapping occurrences of substring sub in\n",
      " |      string S[start:end].  Optional arguments start and end are\n",
      " |      interpreted as in slice notation.\n",
      " |  \n",
      " |  encode(self, /, encoding='utf-8', errors='strict')\n",
      " |      Encode the string using the codec registered for encoding.\n",
      " |      \n",
      " |      encoding\n",
      " |        The encoding in which to encode the string.\n",
      " |      errors\n",
      " |        The error handling scheme to use for encoding errors.\n",
      " |        The default is 'strict' meaning that encoding errors raise a\n",
      " |        UnicodeEncodeError.  Other possible values are 'ignore', 'replace' and\n",
      " |        'xmlcharrefreplace' as well as any other name registered with\n",
      " |        codecs.register_error that can handle UnicodeEncodeErrors.\n",
      " |  \n",
      " |  endswith(...)\n",
      " |      S.endswith(suffix[, start[, end]]) -> bool\n",
      " |      \n",
      " |      Return True if S ends with the specified suffix, False otherwise.\n",
      " |      With optional start, test S beginning at that position.\n",
      " |      With optional end, stop comparing S at that position.\n",
      " |      suffix can also be a tuple of strings to try.\n",
      " |  \n",
      " |  expandtabs(self, /, tabsize=8)\n",
      " |      Return a copy where all tab characters are expanded using spaces.\n",
      " |      \n",
      " |      If tabsize is not given, a tab size of 8 characters is assumed.\n",
      " |  \n",
      " |  find(...)\n",
      " |      S.find(sub[, start[, end]]) -> int\n",
      " |      \n",
      " |      Return the lowest index in S where substring sub is found,\n",
      " |      such that sub is contained within S[start:end].  Optional\n",
      " |      arguments start and end are interpreted as in slice notation.\n",
      " |      \n",
      " |      Return -1 on failure.\n",
      " |  \n",
      " |  format(...)\n",
      " |      S.format(*args, **kwargs) -> str\n",
      " |      \n",
      " |      Return a formatted version of S, using substitutions from args and kwargs.\n",
      " |      The substitutions are identified by braces ('{' and '}').\n",
      " |  \n",
      " |  format_map(...)\n",
      " |      S.format_map(mapping) -> str\n",
      " |      \n",
      " |      Return a formatted version of S, using substitutions from mapping.\n",
      " |      The substitutions are identified by braces ('{' and '}').\n",
      " |  \n",
      " |  index(...)\n",
      " |      S.index(sub[, start[, end]]) -> int\n",
      " |      \n",
      " |      Return the lowest index in S where substring sub is found,\n",
      " |      such that sub is contained within S[start:end].  Optional\n",
      " |      arguments start and end are interpreted as in slice notation.\n",
      " |      \n",
      " |      Raises ValueError when the substring is not found.\n",
      " |  \n",
      " |  isalnum(self, /)\n",
      " |      Return True if the string is an alpha-numeric string, False otherwise.\n",
      " |      \n",
      " |      A string is alpha-numeric if all characters in the string are alpha-numeric and\n",
      " |      there is at least one character in the string.\n",
      " |  \n",
      " |  isalpha(self, /)\n",
      " |      Return True if the string is an alphabetic string, False otherwise.\n",
      " |      \n",
      " |      A string is alphabetic if all characters in the string are alphabetic and there\n",
      " |      is at least one character in the string.\n",
      " |  \n",
      " |  isascii(self, /)\n",
      " |      Return True if all characters in the string are ASCII, False otherwise.\n",
      " |      \n",
      " |      ASCII characters have code points in the range U+0000-U+007F.\n",
      " |      Empty string is ASCII too.\n",
      " |  \n",
      " |  isdecimal(self, /)\n",
      " |      Return True if the string is a decimal string, False otherwise.\n",
      " |      \n",
      " |      A string is a decimal string if all characters in the string are decimal and\n",
      " |      there is at least one character in the string.\n",
      " |  \n",
      " |  isdigit(self, /)\n",
      " |      Return True if the string is a digit string, False otherwise.\n",
      " |      \n",
      " |      A string is a digit string if all characters in the string are digits and there\n",
      " |      is at least one character in the string.\n",
      " |  \n",
      " |  isidentifier(self, /)\n",
      " |      Return True if the string is a valid Python identifier, False otherwise.\n",
      " |      \n",
      " |      Call keyword.iskeyword(s) to test whether string s is a reserved identifier,\n",
      " |      such as \"def\" or \"class\".\n",
      " |  \n",
      " |  islower(self, /)\n",
      " |      Return True if the string is a lowercase string, False otherwise.\n",
      " |      \n",
      " |      A string is lowercase if all cased characters in the string are lowercase and\n",
      " |      there is at least one cased character in the string.\n",
      " |  \n",
      " |  isnumeric(self, /)\n",
      " |      Return True if the string is a numeric string, False otherwise.\n",
      " |      \n",
      " |      A string is numeric if all characters in the string are numeric and there is at\n",
      " |      least one character in the string.\n",
      " |  \n",
      " |  isprintable(self, /)\n",
      " |      Return True if the string is printable, False otherwise.\n",
      " |      \n",
      " |      A string is printable if all of its characters are considered printable in\n",
      " |      repr() or if it is empty.\n",
      " |  \n",
      " |  isspace(self, /)\n",
      " |      Return True if the string is a whitespace string, False otherwise.\n",
      " |      \n",
      " |      A string is whitespace if all characters in the string are whitespace and there\n",
      " |      is at least one character in the string.\n",
      " |  \n",
      " |  istitle(self, /)\n",
      " |      Return True if the string is a title-cased string, False otherwise.\n",
      " |      \n",
      " |      In a title-cased string, upper- and title-case characters may only\n",
      " |      follow uncased characters and lowercase characters only cased ones.\n",
      " |  \n",
      " |  isupper(self, /)\n",
      " |      Return True if the string is an uppercase string, False otherwise.\n",
      " |      \n",
      " |      A string is uppercase if all cased characters in the string are uppercase and\n",
      " |      there is at least one cased character in the string.\n",
      " |  \n",
      " |  join(self, iterable, /)\n",
      " |      Concatenate any number of strings.\n",
      " |      \n",
      " |      The string whose method is called is inserted in between each given string.\n",
      " |      The result is returned as a new string.\n",
      " |      \n",
      " |      Example: '.'.join(['ab', 'pq', 'rs']) -> 'ab.pq.rs'\n",
      " |  \n",
      " |  ljust(self, width, fillchar=' ', /)\n",
      " |      Return a left-justified string of length width.\n",
      " |      \n",
      " |      Padding is done using the specified fill character (default is a space).\n",
      " |  \n",
      " |  lower(self, /)\n",
      " |      Return a copy of the string converted to lowercase.\n",
      " |  \n",
      " |  lstrip(self, chars=None, /)\n",
      " |      Return a copy of the string with leading whitespace removed.\n",
      " |      \n",
      " |      If chars is given and not None, remove characters in chars instead.\n",
      " |  \n",
      " |  partition(self, sep, /)\n",
      " |      Partition the string into three parts using the given separator.\n",
      " |      \n",
      " |      This will search for the separator in the string.  If the separator is found,\n",
      " |      returns a 3-tuple containing the part before the separator, the separator\n",
      " |      itself, and the part after it.\n",
      " |      \n",
      " |      If the separator is not found, returns a 3-tuple containing the original string\n",
      " |      and two empty strings.\n",
      " |  \n",
      " |  removeprefix(self, prefix, /)\n",
      " |      Return a str with the given prefix string removed if present.\n",
      " |      \n",
      " |      If the string starts with the prefix string, return string[len(prefix):].\n",
      " |      Otherwise, return a copy of the original string.\n",
      " |  \n",
      " |  removesuffix(self, suffix, /)\n",
      " |      Return a str with the given suffix string removed if present.\n",
      " |      \n",
      " |      If the string ends with the suffix string and that suffix is not empty,\n",
      " |      return string[:-len(suffix)]. Otherwise, return a copy of the original\n",
      " |      string.\n",
      " |  \n",
      " |  replace(self, old, new, count=-1, /)\n",
      " |      Return a copy with all occurrences of substring old replaced by new.\n",
      " |      \n",
      " |        count\n",
      " |          Maximum number of occurrences to replace.\n",
      " |          -1 (the default value) means replace all occurrences.\n",
      " |      \n",
      " |      If the optional argument count is given, only the first count occurrences are\n",
      " |      replaced.\n",
      " |  \n",
      " |  rfind(...)\n",
      " |      S.rfind(sub[, start[, end]]) -> int\n",
      " |      \n",
      " |      Return the highest index in S where substring sub is found,\n",
      " |      such that sub is contained within S[start:end].  Optional\n",
      " |      arguments start and end are interpreted as in slice notation.\n",
      " |      \n",
      " |      Return -1 on failure.\n",
      " |  \n",
      " |  rindex(...)\n",
      " |      S.rindex(sub[, start[, end]]) -> int\n",
      " |      \n",
      " |      Return the highest index in S where substring sub is found,\n",
      " |      such that sub is contained within S[start:end].  Optional\n",
      " |      arguments start and end are interpreted as in slice notation.\n",
      " |      \n",
      " |      Raises ValueError when the substring is not found.\n",
      " |  \n",
      " |  rjust(self, width, fillchar=' ', /)\n",
      " |      Return a right-justified string of length width.\n",
      " |      \n",
      " |      Padding is done using the specified fill character (default is a space).\n",
      " |  \n",
      " |  rpartition(self, sep, /)\n",
      " |      Partition the string into three parts using the given separator.\n",
      " |      \n",
      " |      This will search for the separator in the string, starting at the end. If\n",
      " |      the separator is found, returns a 3-tuple containing the part before the\n",
      " |      separator, the separator itself, and the part after it.\n",
      " |      \n",
      " |      If the separator is not found, returns a 3-tuple containing two empty strings\n",
      " |      and the original string.\n",
      " |  \n",
      " |  rsplit(self, /, sep=None, maxsplit=-1)\n",
      " |      Return a list of the words in the string, using sep as the delimiter string.\n",
      " |      \n",
      " |        sep\n",
      " |          The delimiter according which to split the string.\n",
      " |          None (the default value) means split according to any whitespace,\n",
      " |          and discard empty strings from the result.\n",
      " |        maxsplit\n",
      " |          Maximum number of splits to do.\n",
      " |          -1 (the default value) means no limit.\n",
      " |      \n",
      " |      Splits are done starting at the end of the string and working to the front.\n",
      " |  \n",
      " |  rstrip(self, chars=None, /)\n",
      " |      Return a copy of the string with trailing whitespace removed.\n",
      " |      \n",
      " |      If chars is given and not None, remove characters in chars instead.\n",
      " |  \n",
      " |  split(self, /, sep=None, maxsplit=-1)\n",
      " |      Return a list of the words in the string, using sep as the delimiter string.\n",
      " |      \n",
      " |      sep\n",
      " |        The delimiter according which to split the string.\n",
      " |        None (the default value) means split according to any whitespace,\n",
      " |        and discard empty strings from the result.\n",
      " |      maxsplit\n",
      " |        Maximum number of splits to do.\n",
      " |        -1 (the default value) means no limit.\n",
      " |  \n",
      " |  splitlines(self, /, keepends=False)\n",
      " |      Return a list of the lines in the string, breaking at line boundaries.\n",
      " |      \n",
      " |      Line breaks are not included in the resulting list unless keepends is given and\n",
      " |      true.\n",
      " |  \n",
      " |  startswith(...)\n",
      " |      S.startswith(prefix[, start[, end]]) -> bool\n",
      " |      \n",
      " |      Return True if S starts with the specified prefix, False otherwise.\n",
      " |      With optional start, test S beginning at that position.\n",
      " |      With optional end, stop comparing S at that position.\n",
      " |      prefix can also be a tuple of strings to try.\n",
      " |  \n",
      " |  strip(self, chars=None, /)\n",
      " |      Return a copy of the string with leading and trailing whitespace removed.\n",
      " |      \n",
      " |      If chars is given and not None, remove characters in chars instead.\n",
      " |  \n",
      " |  swapcase(self, /)\n",
      " |      Convert uppercase characters to lowercase and lowercase characters to uppercase.\n",
      " |  \n",
      " |  title(self, /)\n",
      " |      Return a version of the string where each word is titlecased.\n",
      " |      \n",
      " |      More specifically, words start with uppercased characters and all remaining\n",
      " |      cased characters have lower case.\n",
      " |  \n",
      " |  translate(self, table, /)\n",
      " |      Replace each character in the string using the given translation table.\n",
      " |      \n",
      " |        table\n",
      " |          Translation table, which must be a mapping of Unicode ordinals to\n",
      " |          Unicode ordinals, strings, or None.\n",
      " |      \n",
      " |      The table must implement lookup/indexing via __getitem__, for instance a\n",
      " |      dictionary or list.  If this operation raises LookupError, the character is\n",
      " |      left untouched.  Characters mapped to None are deleted.\n",
      " |  \n",
      " |  upper(self, /)\n",
      " |      Return a copy of the string converted to uppercase.\n",
      " |  \n",
      " |  zfill(self, width, /)\n",
      " |      Pad a numeric string with zeros on the left, to fill a field of the given width.\n",
      " |      \n",
      " |      The string is never truncated.\n",
      " |  \n",
      " |  ----------------------------------------------------------------------\n",
      " |  Static methods defined here:\n",
      " |  \n",
      " |  __new__(*args, **kwargs) from builtins.type\n",
      " |      Create and return a new object.  See help(type) for accurate signature.\n",
      " |  \n",
      " |  maketrans(...)\n",
      " |      Return a translation table usable for str.translate().\n",
      " |      \n",
      " |      If there is only one argument, it must be a dictionary mapping Unicode\n",
      " |      ordinals (integers) or characters to Unicode ordinals, strings or None.\n",
      " |      Character keys will be then converted to ordinals.\n",
      " |      If there are two arguments, they must be strings of equal length, and\n",
      " |      in the resulting dictionary, each character in x will be mapped to the\n",
      " |      character at the same position in y. If there is a third argument, it\n",
      " |      must be a string, whose characters will be mapped to None in the result.\n",
      "\n"
     ]
    }
   ],
   "source": [
    "help(str)"
   ]
  },
  {
   "cell_type": "code",
   "execution_count": 42,
   "id": "0c8b0355",
   "metadata": {},
   "outputs": [
    {
     "data": {
      "text/plain": [
       "'this is a sample string'"
      ]
     },
     "execution_count": 42,
     "metadata": {},
     "output_type": "execute_result"
    }
   ],
   "source": [
    "S.lower()"
   ]
  },
  {
   "cell_type": "code",
   "execution_count": 43,
   "id": "ab7842f7",
   "metadata": {},
   "outputs": [
    {
     "data": {
      "text/plain": [
       "'This is a sample string'"
      ]
     },
     "execution_count": 43,
     "metadata": {},
     "output_type": "execute_result"
    }
   ],
   "source": [
    "S"
   ]
  },
  {
   "cell_type": "code",
   "execution_count": 44,
   "id": "5ecdee79",
   "metadata": {},
   "outputs": [
    {
     "data": {
      "text/plain": [
       "'THIS IS A SAMPLE STRING'"
      ]
     },
     "execution_count": 44,
     "metadata": {},
     "output_type": "execute_result"
    }
   ],
   "source": [
    "S.upper()"
   ]
  },
  {
   "cell_type": "code",
   "execution_count": 45,
   "id": "deeeb367",
   "metadata": {},
   "outputs": [
    {
     "data": {
      "text/plain": [
       "'This Is A Sample String'"
      ]
     },
     "execution_count": 45,
     "metadata": {},
     "output_type": "execute_result"
    }
   ],
   "source": [
    "S.title()"
   ]
  },
  {
   "cell_type": "code",
   "execution_count": 46,
   "id": "da72fc9b",
   "metadata": {},
   "outputs": [],
   "source": [
    "S = '   This is a sample string    '"
   ]
  },
  {
   "cell_type": "code",
   "execution_count": 47,
   "id": "a8d2ff35",
   "metadata": {},
   "outputs": [
    {
     "data": {
      "text/plain": [
       "'   This is a sample string    '"
      ]
     },
     "execution_count": 47,
     "metadata": {},
     "output_type": "execute_result"
    }
   ],
   "source": [
    "S"
   ]
  },
  {
   "cell_type": "code",
   "execution_count": 48,
   "id": "51edf0e6",
   "metadata": {},
   "outputs": [
    {
     "data": {
      "text/plain": [
       "'This is a sample string'"
      ]
     },
     "execution_count": 48,
     "metadata": {},
     "output_type": "execute_result"
    }
   ],
   "source": [
    "S.strip()"
   ]
  },
  {
   "cell_type": "code",
   "execution_count": 49,
   "id": "008fbe11",
   "metadata": {},
   "outputs": [
    {
     "data": {
      "text/plain": [
       "'This is a sample string    '"
      ]
     },
     "execution_count": 49,
     "metadata": {},
     "output_type": "execute_result"
    }
   ],
   "source": [
    "S.lstrip()"
   ]
  },
  {
   "cell_type": "code",
   "execution_count": 50,
   "id": "b382003f",
   "metadata": {},
   "outputs": [
    {
     "data": {
      "text/plain": [
       "'   This is a sample string'"
      ]
     },
     "execution_count": 50,
     "metadata": {},
     "output_type": "execute_result"
    }
   ],
   "source": [
    "S.rstrip()"
   ]
  },
  {
   "cell_type": "code",
   "execution_count": 51,
   "id": "80418ef9",
   "metadata": {},
   "outputs": [
    {
     "data": {
      "text/plain": [
       "False"
      ]
     },
     "execution_count": 51,
     "metadata": {},
     "output_type": "execute_result"
    }
   ],
   "source": [
    "S.isupper()"
   ]
  },
  {
   "cell_type": "code",
   "execution_count": 52,
   "id": "14228a45",
   "metadata": {},
   "outputs": [],
   "source": [
    "S1 = 'H'"
   ]
  },
  {
   "cell_type": "code",
   "execution_count": 53,
   "id": "a3f4d0c6",
   "metadata": {},
   "outputs": [
    {
     "data": {
      "text/plain": [
       "True"
      ]
     },
     "execution_count": 53,
     "metadata": {},
     "output_type": "execute_result"
    }
   ],
   "source": [
    "S1.isupper()"
   ]
  },
  {
   "cell_type": "code",
   "execution_count": 54,
   "id": "c5b03c42",
   "metadata": {},
   "outputs": [],
   "source": [
    "S2 = S+S1"
   ]
  },
  {
   "cell_type": "code",
   "execution_count": 55,
   "id": "1a3f17fc",
   "metadata": {},
   "outputs": [
    {
     "data": {
      "text/plain": [
       "'   This is a sample string    H'"
      ]
     },
     "execution_count": 55,
     "metadata": {},
     "output_type": "execute_result"
    }
   ],
   "source": [
    "S2"
   ]
  },
  {
   "cell_type": "code",
   "execution_count": 56,
   "id": "064da785",
   "metadata": {},
   "outputs": [
    {
     "data": {
      "text/plain": [
       "'This is a sample string    H'"
      ]
     },
     "execution_count": 56,
     "metadata": {},
     "output_type": "execute_result"
    }
   ],
   "source": [
    "S2.strip()"
   ]
  },
  {
   "cell_type": "code",
   "execution_count": 57,
   "id": "3babe7ea",
   "metadata": {},
   "outputs": [
    {
     "data": {
      "text/plain": [
       "'   J is a sample string    H'"
      ]
     },
     "execution_count": 57,
     "metadata": {},
     "output_type": "execute_result"
    }
   ],
   "source": [
    "S2.replace('This','J')"
   ]
  },
  {
   "cell_type": "code",
   "execution_count": 58,
   "id": "029028f6",
   "metadata": {},
   "outputs": [
    {
     "data": {
      "text/plain": [
       "'   This is a sample string    H'"
      ]
     },
     "execution_count": 58,
     "metadata": {},
     "output_type": "execute_result"
    }
   ],
   "source": [
    "S2"
   ]
  },
  {
   "cell_type": "code",
   "execution_count": 59,
   "id": "6c2ba366",
   "metadata": {},
   "outputs": [],
   "source": [
    "S3 = S2.split('a')"
   ]
  },
  {
   "cell_type": "code",
   "execution_count": 60,
   "id": "ff353e4d",
   "metadata": {},
   "outputs": [
    {
     "data": {
      "text/plain": [
       "['   This is ', ' s', 'mple string    H']"
      ]
     },
     "execution_count": 60,
     "metadata": {},
     "output_type": "execute_result"
    }
   ],
   "source": [
    "S3"
   ]
  },
  {
   "cell_type": "code",
   "execution_count": 61,
   "id": "0783caea",
   "metadata": {},
   "outputs": [
    {
     "data": {
      "text/plain": [
       "'   This is '"
      ]
     },
     "execution_count": 61,
     "metadata": {},
     "output_type": "execute_result"
    }
   ],
   "source": [
    "S3[0]"
   ]
  },
  {
   "cell_type": "code",
   "execution_count": 62,
   "id": "1330c3fd",
   "metadata": {},
   "outputs": [
    {
     "data": {
      "text/plain": [
       "' s'"
      ]
     },
     "execution_count": 62,
     "metadata": {},
     "output_type": "execute_result"
    }
   ],
   "source": [
    "S3[1]"
   ]
  },
  {
   "cell_type": "code",
   "execution_count": 63,
   "id": "f26f6733",
   "metadata": {},
   "outputs": [
    {
     "data": {
      "text/plain": [
       "'mple string    H'"
      ]
     },
     "execution_count": 63,
     "metadata": {},
     "output_type": "execute_result"
    }
   ],
   "source": [
    "S3[2]"
   ]
  },
  {
   "cell_type": "code",
   "execution_count": 74,
   "id": "f54c974b",
   "metadata": {},
   "outputs": [
    {
     "data": {
      "text/plain": [
       "'H'"
      ]
     },
     "execution_count": 74,
     "metadata": {},
     "output_type": "execute_result"
    }
   ],
   "source": [
    "S1"
   ]
  },
  {
   "cell_type": "code",
   "execution_count": 75,
   "id": "99bbba48",
   "metadata": {},
   "outputs": [
    {
     "data": {
      "text/plain": [
       "'   This is a sample string    H'"
      ]
     },
     "execution_count": 75,
     "metadata": {},
     "output_type": "execute_result"
    }
   ],
   "source": [
    "S2"
   ]
  },
  {
   "cell_type": "code",
   "execution_count": 76,
   "id": "5d48d8dc",
   "metadata": {
    "scrolled": true
   },
   "outputs": [
    {
     "data": {
      "text/plain": [
       "'H    This is a sample string    H    This is '"
      ]
     },
     "execution_count": 76,
     "metadata": {},
     "output_type": "execute_result"
    }
   ],
   "source": [
    "' '.join([S1,S2,S3[0]])"
   ]
  },
  {
   "cell_type": "code",
   "execution_count": 77,
   "id": "28e82f89",
   "metadata": {},
   "outputs": [
    {
     "data": {
      "text/plain": [
       "['   This is ', ' s', 'mple string    H']"
      ]
     },
     "execution_count": 77,
     "metadata": {},
     "output_type": "execute_result"
    }
   ],
   "source": [
    "S3"
   ]
  },
  {
   "cell_type": "markdown",
   "id": "8cc0e9dd",
   "metadata": {},
   "source": [
    "### Python code to divide a given string of 24 charcaters to 3 equal strings with each of 8 characters"
   ]
  },
  {
   "cell_type": "code",
   "execution_count": 78,
   "id": "b1250889",
   "metadata": {},
   "outputs": [],
   "source": [
    "S = 'This is a sample string.'"
   ]
  },
  {
   "cell_type": "code",
   "execution_count": 79,
   "id": "441f1778",
   "metadata": {},
   "outputs": [
    {
     "data": {
      "text/plain": [
       "24"
      ]
     },
     "execution_count": 79,
     "metadata": {},
     "output_type": "execute_result"
    }
   ],
   "source": [
    "len(S)"
   ]
  },
  {
   "cell_type": "markdown",
   "id": "4290d880",
   "metadata": {},
   "source": [
    "#### Method 1"
   ]
  },
  {
   "cell_type": "code",
   "execution_count": 80,
   "id": "107d424d",
   "metadata": {},
   "outputs": [],
   "source": [
    "S1 = S[0:8]"
   ]
  },
  {
   "cell_type": "code",
   "execution_count": 81,
   "id": "58cf05df",
   "metadata": {},
   "outputs": [],
   "source": [
    "S2 = S[8:16]"
   ]
  },
  {
   "cell_type": "code",
   "execution_count": 82,
   "id": "7bfe0e13",
   "metadata": {},
   "outputs": [],
   "source": [
    "S3 = S[16:24]"
   ]
  },
  {
   "cell_type": "code",
   "execution_count": 83,
   "id": "292e700e",
   "metadata": {},
   "outputs": [
    {
     "name": "stdout",
     "output_type": "stream",
     "text": [
      "This is \n",
      "a sample\n",
      " string.\n"
     ]
    }
   ],
   "source": [
    "print(S1)\n",
    "print(S2)\n",
    "print(S3)"
   ]
  },
  {
   "cell_type": "code",
   "execution_count": 84,
   "id": "773969e5",
   "metadata": {},
   "outputs": [
    {
     "data": {
      "text/plain": [
       "8"
      ]
     },
     "execution_count": 84,
     "metadata": {},
     "output_type": "execute_result"
    },
    {
     "data": {
      "text/plain": [
       "8"
      ]
     },
     "execution_count": 84,
     "metadata": {},
     "output_type": "execute_result"
    },
    {
     "data": {
      "text/plain": [
       "8"
      ]
     },
     "execution_count": 84,
     "metadata": {},
     "output_type": "execute_result"
    }
   ],
   "source": [
    "len(S1)\n",
    "len(S2)\n",
    "len(S3)"
   ]
  },
  {
   "cell_type": "code",
   "execution_count": 85,
   "id": "d7a2d0bf",
   "metadata": {},
   "outputs": [
    {
     "data": {
      "text/plain": [
       "3"
      ]
     },
     "execution_count": 85,
     "metadata": {},
     "output_type": "execute_result"
    }
   ],
   "source": [
    "int(24/8)"
   ]
  },
  {
   "cell_type": "code",
   "execution_count": 86,
   "id": "05d25a7f",
   "metadata": {},
   "outputs": [
    {
     "data": {
      "text/plain": [
       "3"
      ]
     },
     "execution_count": 86,
     "metadata": {},
     "output_type": "execute_result"
    }
   ],
   "source": [
    "24//8"
   ]
  },
  {
   "cell_type": "markdown",
   "id": "3406eca7",
   "metadata": {},
   "source": [
    "#### Method - 2: Using len() function and spliting the string into three equal parts"
   ]
  },
  {
   "cell_type": "code",
   "execution_count": 87,
   "id": "5037b743",
   "metadata": {},
   "outputs": [],
   "source": [
    "S1 = S[0:len(S)//3]\n",
    "S2 = S[len(S)//3:2*len(S)//3]\n",
    "S3 = S[2*len(S)//3:3*len(S)//3]"
   ]
  },
  {
   "cell_type": "code",
   "execution_count": 88,
   "id": "005ba4e0",
   "metadata": {},
   "outputs": [
    {
     "name": "stdout",
     "output_type": "stream",
     "text": [
      "This is \n",
      "a sample\n",
      " string.\n"
     ]
    }
   ],
   "source": [
    "print(S1)\n",
    "print(S2)\n",
    "print(S3)"
   ]
  }
 ],
 "metadata": {
  "kernelspec": {
   "display_name": "Python 3 (ipykernel)",
   "language": "python",
   "name": "python3"
  },
  "language_info": {
   "codemirror_mode": {
    "name": "ipython",
    "version": 3
   },
   "file_extension": ".py",
   "mimetype": "text/x-python",
   "name": "python",
   "nbconvert_exporter": "python",
   "pygments_lexer": "ipython3",
   "version": "3.9.13"
  },
  "latex_envs": {
   "LaTeX_envs_menu_present": true,
   "autoclose": false,
   "autocomplete": true,
   "bibliofile": "biblio.bib",
   "cite_by": "apalike",
   "current_citInitial": 1,
   "eqLabelWithNumbers": true,
   "eqNumInitial": 1,
   "hotkeys": {
    "equation": "Ctrl-E",
    "itemize": "Ctrl-I"
   },
   "labels_anchors": false,
   "latex_user_defs": false,
   "report_style_numbering": false,
   "user_envs_cfg": false
  }
 },
 "nbformat": 4,
 "nbformat_minor": 5
}
