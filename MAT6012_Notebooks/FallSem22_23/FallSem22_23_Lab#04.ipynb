{
 "cells": [
  {
   "cell_type": "markdown",
   "id": "4e60f59f",
   "metadata": {},
   "source": [
    "### Strong a multiline string in Python"
   ]
  },
  {
   "cell_type": "code",
   "execution_count": 1,
   "id": "1051729e",
   "metadata": {},
   "outputs": [
    {
     "name": "stdout",
     "output_type": "stream",
     "text": [
      "\n",
      "This is line 1\n",
      "This is line 2\n",
      "This is line 3\n",
      " 20\n"
     ]
    }
   ],
   "source": [
    "a = \"\"\"\n",
    "This is line 1\n",
    "This is line 2\n",
    "This is line 3\n",
    "\"\"\"\n",
    "b = 20\n",
    "print(a,b)"
   ]
  },
  {
   "cell_type": "markdown",
   "id": "b7639ac7",
   "metadata": {},
   "source": [
    "### Assigning multi variables in a single line Python"
   ]
  },
  {
   "cell_type": "code",
   "execution_count": 2,
   "id": "3b0d4414",
   "metadata": {},
   "outputs": [
    {
     "name": "stdout",
     "output_type": "stream",
     "text": [
      "10 20 30\n"
     ]
    }
   ],
   "source": [
    "a,b,c = 10,20,30\n",
    "print(a,b,c)"
   ]
  },
  {
   "cell_type": "markdown",
   "id": "a004ab94",
   "metadata": {},
   "source": [
    "### Assigning same value to multiple variables in Python"
   ]
  },
  {
   "cell_type": "code",
   "execution_count": 3,
   "id": "7fa28d53",
   "metadata": {},
   "outputs": [
    {
     "name": "stdout",
     "output_type": "stream",
     "text": [
      "30 30 30\n"
     ]
    }
   ],
   "source": [
    "a = b = c = 30\n",
    "print(a,b,c)"
   ]
  },
  {
   "cell_type": "markdown",
   "id": "35ebe804",
   "metadata": {},
   "source": [
    "### Swapping of two numbers (general method - using a temporary variable)"
   ]
  },
  {
   "cell_type": "code",
   "execution_count": 4,
   "id": "0a6f5d5d",
   "metadata": {},
   "outputs": [
    {
     "name": "stdout",
     "output_type": "stream",
     "text": [
      "10 20\n",
      "20 20\n"
     ]
    }
   ],
   "source": [
    "# this is a program for swapping numbers\n",
    "a = 10\n",
    "b = 20\n",
    "print(a,b)\n",
    "temp = a\n",
    "a = b\n",
    "b = a\n",
    "print(a,b)"
   ]
  },
  {
   "cell_type": "markdown",
   "id": "20ef059b",
   "metadata": {},
   "source": [
    "### Swapping of two numbers (advanced method - without using a temporary variable)"
   ]
  },
  {
   "cell_type": "code",
   "execution_count": 5,
   "id": "ea72ac68",
   "metadata": {},
   "outputs": [
    {
     "name": "stdout",
     "output_type": "stream",
     "text": [
      "10 20\n",
      "20 10\n"
     ]
    }
   ],
   "source": [
    "# this is a program for swapping numbers\n",
    "a = 10\n",
    "b = 20\n",
    "print(a,b)\n",
    "a = a+b\n",
    "b = a-b \n",
    "a = a-b\n",
    "print(a,b)"
   ]
  },
  {
   "cell_type": "markdown",
   "id": "919d9dfc",
   "metadata": {},
   "source": [
    "### Swapping of two numbers - Pythonic way"
   ]
  },
  {
   "cell_type": "code",
   "execution_count": 6,
   "id": "4924982b",
   "metadata": {},
   "outputs": [
    {
     "name": "stdout",
     "output_type": "stream",
     "text": [
      "10 20\n",
      "20 10\n"
     ]
    }
   ],
   "source": [
    "a,b = 10,20\n",
    "print(a,b)\n",
    "a,b = b,a\n",
    "print(a,b)"
   ]
  }
 ],
 "metadata": {
  "kernelspec": {
   "display_name": "Python 3 (ipykernel)",
   "language": "python",
   "name": "python3"
  },
  "language_info": {
   "codemirror_mode": {
    "name": "ipython",
    "version": 3
   },
   "file_extension": ".py",
   "mimetype": "text/x-python",
   "name": "python",
   "nbconvert_exporter": "python",
   "pygments_lexer": "ipython3",
   "version": "3.9.13"
  },
  "latex_envs": {
   "LaTeX_envs_menu_present": true,
   "autoclose": false,
   "autocomplete": true,
   "bibliofile": "biblio.bib",
   "cite_by": "apalike",
   "current_citInitial": 1,
   "eqLabelWithNumbers": true,
   "eqNumInitial": 1,
   "hotkeys": {
    "equation": "Ctrl-E",
    "itemize": "Ctrl-I"
   },
   "labels_anchors": false,
   "latex_user_defs": false,
   "report_style_numbering": false,
   "user_envs_cfg": false
  }
 },
 "nbformat": 4,
 "nbformat_minor": 5
}
