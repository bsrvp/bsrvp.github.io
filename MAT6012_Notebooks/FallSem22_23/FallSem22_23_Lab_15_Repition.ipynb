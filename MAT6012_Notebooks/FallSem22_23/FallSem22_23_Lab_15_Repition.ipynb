{
 "cells": [
  {
   "cell_type": "code",
   "execution_count": 29,
   "id": "c7d13f2b",
   "metadata": {},
   "outputs": [],
   "source": [
    "num = 10\n",
    "def outer(num):\n",
    "    print('Num value before inner function: ',num)\n",
    "    def inner():\n",
    "        nonlocal num\n",
    "        num = 6\n",
    "        print('Num value in inner function: ',num)\n",
    "    inner()\n",
    "    print('Num value after inner function: ',num)"
   ]
  },
  {
   "cell_type": "code",
   "execution_count": 31,
   "id": "b4edac87",
   "metadata": {},
   "outputs": [
    {
     "name": "stdout",
     "output_type": "stream",
     "text": [
      "Num value before inner function:  5\n",
      "Num value in inner function:  6\n",
      "Num value after inner function:  6\n"
     ]
    }
   ],
   "source": [
    "outer(5)"
   ]
  },
  {
   "cell_type": "markdown",
   "id": "78bf9296",
   "metadata": {},
   "source": [
    "#### Write a closure function which takes an argument $n$ and returns a function which performs the operation of raising a given number to the power $n$"
   ]
  },
  {
   "cell_type": "code",
   "execution_count": 32,
   "id": "016cb32c",
   "metadata": {},
   "outputs": [],
   "source": [
    "def power(n):\n",
    "    def power_to_n(x):\n",
    "        return x**n\n",
    "    return power_to_n"
   ]
  },
  {
   "cell_type": "code",
   "execution_count": 33,
   "id": "2ac1b562",
   "metadata": {},
   "outputs": [],
   "source": [
    "power_2 = power(2)"
   ]
  },
  {
   "cell_type": "code",
   "execution_count": 34,
   "id": "6617fa10",
   "metadata": {},
   "outputs": [],
   "source": [
    "power_5 = power(5)"
   ]
  },
  {
   "cell_type": "code",
   "execution_count": 35,
   "id": "f330caae",
   "metadata": {},
   "outputs": [
    {
     "data": {
      "text/plain": [
       "4"
      ]
     },
     "execution_count": 35,
     "metadata": {},
     "output_type": "execute_result"
    }
   ],
   "source": [
    "power_2(2)"
   ]
  },
  {
   "cell_type": "code",
   "execution_count": 36,
   "id": "a18e91c8",
   "metadata": {},
   "outputs": [
    {
     "data": {
      "text/plain": [
       "32"
      ]
     },
     "execution_count": 36,
     "metadata": {},
     "output_type": "execute_result"
    }
   ],
   "source": [
    "power_5(2)"
   ]
  },
  {
   "cell_type": "markdown",
   "id": "344597f0",
   "metadata": {},
   "source": [
    "#### Suppose you need to calculate the mean of a dataset. The data come in a stream of successive measurements of the parameter under analysis, and you need your function to retain the previous measurements between calls. Write a closure function named `mean()` in which the inner function stores the successing measurements and returns the mean of these values "
   ]
  },
  {
   "cell_type": "code",
   "execution_count": 56,
   "id": "624a82ee",
   "metadata": {},
   "outputs": [],
   "source": [
    "def mean():\n",
    "    sample = []\n",
    "    def inner(*n):\n",
    "        sample.extend(n)\n",
    "        print(sum(sample)/len(sample))\n",
    "    return inner"
   ]
  },
  {
   "cell_type": "code",
   "execution_count": 54,
   "id": "73be1f82",
   "metadata": {},
   "outputs": [],
   "source": [
    "mean = mean()"
   ]
  },
  {
   "cell_type": "code",
   "execution_count": 55,
   "id": "0b1ff970",
   "metadata": {},
   "outputs": [
    {
     "name": "stdout",
     "output_type": "stream",
     "text": [
      "10.0\n"
     ]
    }
   ],
   "source": [
    "mean(10)"
   ]
  },
  {
   "cell_type": "code",
   "execution_count": 49,
   "id": "2866c7c3",
   "metadata": {},
   "outputs": [
    {
     "name": "stdout",
     "output_type": "stream",
     "text": [
      "7.5\n"
     ]
    }
   ],
   "source": [
    "smean(5)"
   ]
  },
  {
   "cell_type": "code",
   "execution_count": 50,
   "id": "cd83f1b5",
   "metadata": {},
   "outputs": [
    {
     "name": "stdout",
     "output_type": "stream",
     "text": [
      "7.0\n"
     ]
    }
   ],
   "source": [
    "smean(6)"
   ]
  },
  {
   "cell_type": "code",
   "execution_count": 51,
   "id": "cbf15963",
   "metadata": {},
   "outputs": [
    {
     "name": "stdout",
     "output_type": "stream",
     "text": [
      "7.2\n"
     ]
    }
   ],
   "source": [
    "smean(7,8)"
   ]
  },
  {
   "cell_type": "code",
   "execution_count": null,
   "id": "cda413fa",
   "metadata": {},
   "outputs": [],
   "source": []
  }
 ],
 "metadata": {
  "kernelspec": {
   "display_name": "Python 3 (ipykernel)",
   "language": "python",
   "name": "python3"
  },
  "language_info": {
   "codemirror_mode": {
    "name": "ipython",
    "version": 3
   },
   "file_extension": ".py",
   "mimetype": "text/x-python",
   "name": "python",
   "nbconvert_exporter": "python",
   "pygments_lexer": "ipython3",
   "version": "3.9.15"
  },
  "latex_envs": {
   "LaTeX_envs_menu_present": true,
   "autoclose": false,
   "autocomplete": true,
   "bibliofile": "biblio.bib",
   "cite_by": "apalike",
   "current_citInitial": 1,
   "eqLabelWithNumbers": true,
   "eqNumInitial": 1,
   "hotkeys": {
    "equation": "Ctrl-E",
    "itemize": "Ctrl-I"
   },
   "labels_anchors": false,
   "latex_user_defs": false,
   "report_style_numbering": false,
   "user_envs_cfg": false
  }
 },
 "nbformat": 4,
 "nbformat_minor": 5
}
