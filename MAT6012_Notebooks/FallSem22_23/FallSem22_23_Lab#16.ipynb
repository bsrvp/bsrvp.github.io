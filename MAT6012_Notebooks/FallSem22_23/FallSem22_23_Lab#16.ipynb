{
 "cells": [
  {
   "cell_type": "markdown",
   "id": "c58cb02d",
   "metadata": {},
   "source": [
    "#### Please write a program using list comprehension to print the Fibonacci Sequence in comma separated form with a given n input by console."
   ]
  },
  {
   "cell_type": "code",
   "execution_count": 2,
   "id": "970e963c",
   "metadata": {},
   "outputs": [
    {
     "name": "stdout",
     "output_type": "stream",
     "text": [
      "[0, 1, 1, 2, 3, 5, 8, 13, 21]\n"
     ]
    }
   ],
   "source": [
    "def Fib_Recu(n):\n",
    "    if n==0:\n",
    "        return 0\n",
    "    elif n==1:\n",
    "        return 1\n",
    "    else:\n",
    "        return Fib_Recu(n-1)+Fib_Recu(n-2)\n",
    "\n",
    "n = 8\n",
    "values = [Fib_Recu(x) for x in range(0, n+1)]\n",
    "print(values)"
   ]
  },
  {
   "cell_type": "code",
   "execution_count": 43,
   "id": "ed9880e6",
   "metadata": {},
   "outputs": [],
   "source": [
    "def Fib(n):\n",
    "        f1,f2 = 0,1\n",
    "        FS = []\n",
    "        FS.append(f1)\n",
    "        FS.append(f2)\n",
    "        if n<=0:\n",
    "            print(\"The input is incorrect.\")\n",
    "            return\n",
    "        elif n==1 or n==2:\n",
    "            return FS\n",
    "        else:\n",
    "            for i in range(n-2):\n",
    "                f3 = f1+f2\n",
    "                FS.append(f3)\n",
    "                f1,f2 = f2,f3\n",
    "            return FS"
   ]
  },
  {
   "cell_type": "code",
   "execution_count": 15,
   "id": "da420303",
   "metadata": {},
   "outputs": [],
   "source": []
  },
  {
   "cell_type": "code",
   "execution_count": 51,
   "id": "862d8c4d",
   "metadata": {},
   "outputs": [
    {
     "data": {
      "text/plain": [
       "[0, 1, 1, 2, 3, 5, 8, 13, 21, 34, 55, 89]"
      ]
     },
     "execution_count": 51,
     "metadata": {},
     "output_type": "execute_result"
    }
   ],
   "source": [
    "Fib(12)"
   ]
  },
  {
   "cell_type": "code",
   "execution_count": 68,
   "id": "29c691fa",
   "metadata": {},
   "outputs": [
    {
     "name": "stdout",
     "output_type": "stream",
     "text": [
      "345,35,62,64\n"
     ]
    }
   ],
   "source": [
    "value = []\n",
    "items=[int(x) for x in input().split(',')]\n",
    "value=list(filter(lambda x: x%5 == 0,items))\n",
    "value=\",\".join([str(x) for x in value])"
   ]
  },
  {
   "cell_type": "code",
   "execution_count": 69,
   "id": "06cb8118",
   "metadata": {},
   "outputs": [
    {
     "data": {
      "text/plain": [
       "'345,35'"
      ]
     },
     "execution_count": 69,
     "metadata": {},
     "output_type": "execute_result"
    }
   ],
   "source": [
    "value"
   ]
  },
  {
   "cell_type": "code",
   "execution_count": 3,
   "id": "fd00032e",
   "metadata": {},
   "outputs": [
    {
     "data": {
      "text/plain": [
       "'I Love Cricket.'"
      ]
     },
     "execution_count": 3,
     "metadata": {},
     "output_type": "execute_result"
    }
   ],
   "source": [
    "\"%s %s %s.\" % (\"I\", \"Love\", \"Cricket\")"
   ]
  },
  {
   "cell_type": "code",
   "execution_count": 4,
   "id": "a44355b2",
   "metadata": {},
   "outputs": [
    {
     "name": "stdout",
     "output_type": "stream",
     "text": [
      "0 12\n",
      "1 24\n",
      "2 35\n",
      "3 70\n",
      "4 88\n",
      "5 120\n",
      "6 155\n"
     ]
    }
   ],
   "source": [
    "li = [12,24,35,70,88,120,155]\n",
    "for (i,x) in enumerate(li):\n",
    "    print (i,x)"
   ]
  },
  {
   "cell_type": "code",
   "execution_count": null,
   "id": "fe5c8ad0",
   "metadata": {},
   "outputs": [],
   "source": [
    "def collatz(n):\n",
    "    if n == 1: return [n]\n",
    "    elif n % 2 == 0: return [n] + collatz(int(n/2))\n",
    "    else: return [n] + collatz(n*3+1)\n",
    "\n",
    "print(collatz(9))"
   ]
  }
 ],
 "metadata": {
  "kernelspec": {
   "display_name": "Python 3 (ipykernel)",
   "language": "python",
   "name": "python3"
  },
  "language_info": {
   "codemirror_mode": {
    "name": "ipython",
    "version": 3
   },
   "file_extension": ".py",
   "mimetype": "text/x-python",
   "name": "python",
   "nbconvert_exporter": "python",
   "pygments_lexer": "ipython3",
   "version": "3.10.13"
  },
  "latex_envs": {
   "LaTeX_envs_menu_present": true,
   "autoclose": false,
   "autocomplete": true,
   "bibliofile": "biblio.bib",
   "cite_by": "apalike",
   "current_citInitial": 1,
   "eqLabelWithNumbers": true,
   "eqNumInitial": 1,
   "hotkeys": {
    "equation": "Ctrl-E",
    "itemize": "Ctrl-I"
   },
   "labels_anchors": false,
   "latex_user_defs": false,
   "report_style_numbering": false,
   "user_envs_cfg": false
  }
 },
 "nbformat": 4,
 "nbformat_minor": 5
}
