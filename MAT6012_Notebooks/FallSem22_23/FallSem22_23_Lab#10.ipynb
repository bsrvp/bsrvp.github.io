{
 "cells": [
  {
   "cell_type": "markdown",
   "id": "b3a62598",
   "metadata": {},
   "source": [
    "## Python Data Collection - Dictionaries"
   ]
  },
  {
   "cell_type": "code",
   "execution_count": 1,
   "id": "03140f5f",
   "metadata": {},
   "outputs": [],
   "source": [
    "mydict = {\"a\":\"First\", \"b\":2, \"c\":23.52, \"d\":True, \"e\":[2,3,5]}"
   ]
  },
  {
   "cell_type": "code",
   "execution_count": 2,
   "id": "aba93abd",
   "metadata": {},
   "outputs": [
    {
     "data": {
      "text/plain": [
       "{'a': 'First', 'b': 2, 'c': 23.52, 'd': True, 'e': [2, 3, 5]}"
      ]
     },
     "execution_count": 2,
     "metadata": {},
     "output_type": "execute_result"
    }
   ],
   "source": [
    "mydict"
   ]
  },
  {
   "cell_type": "code",
   "execution_count": 3,
   "id": "062e7471",
   "metadata": {},
   "outputs": [
    {
     "data": {
      "text/plain": [
       "dict_items([('a', 'First'), ('b', 2), ('c', 23.52), ('d', True), ('e', [2, 3, 5])])"
      ]
     },
     "execution_count": 3,
     "metadata": {},
     "output_type": "execute_result"
    }
   ],
   "source": [
    "mydict.items()"
   ]
  },
  {
   "cell_type": "code",
   "execution_count": 4,
   "id": "a0cead60",
   "metadata": {},
   "outputs": [],
   "source": [
    "mydict[\"e\"].append(6)"
   ]
  },
  {
   "cell_type": "code",
   "execution_count": 5,
   "id": "394176b1",
   "metadata": {},
   "outputs": [],
   "source": [
    "mydict[5] = (10,340)"
   ]
  },
  {
   "cell_type": "code",
   "execution_count": 6,
   "id": "d0d1ba32",
   "metadata": {},
   "outputs": [
    {
     "data": {
      "text/plain": [
       "{'a': 'First', 'b': 2, 'c': 23.52, 'd': True, 'e': [2, 3, 5, 6], 5: (10, 340)}"
      ]
     },
     "execution_count": 6,
     "metadata": {},
     "output_type": "execute_result"
    }
   ],
   "source": [
    "mydict"
   ]
  },
  {
   "cell_type": "code",
   "execution_count": 7,
   "id": "4877ccec",
   "metadata": {},
   "outputs": [],
   "source": [
    "mydict1 = {1:'abc',2:23,3:12.243}"
   ]
  },
  {
   "cell_type": "code",
   "execution_count": 8,
   "id": "1c5c4ee3",
   "metadata": {},
   "outputs": [],
   "source": [
    "mydict.update({5:True})"
   ]
  },
  {
   "cell_type": "code",
   "execution_count": 9,
   "id": "9eefa57d",
   "metadata": {},
   "outputs": [
    {
     "data": {
      "text/plain": [
       "{'a': 'First', 'b': 2, 'c': 23.52, 'd': True, 'e': [2, 3, 5, 6], 5: True}"
      ]
     },
     "execution_count": 9,
     "metadata": {},
     "output_type": "execute_result"
    }
   ],
   "source": [
    "mydict"
   ]
  },
  {
   "cell_type": "code",
   "execution_count": 10,
   "id": "0a50896f",
   "metadata": {},
   "outputs": [
    {
     "data": {
      "text/plain": [
       "(5, True)"
      ]
     },
     "execution_count": 10,
     "metadata": {},
     "output_type": "execute_result"
    }
   ],
   "source": [
    "mydict.popitem()"
   ]
  },
  {
   "cell_type": "code",
   "execution_count": 11,
   "id": "7e609c6d",
   "metadata": {},
   "outputs": [
    {
     "ename": "KeyError",
     "evalue": "'g'",
     "output_type": "error",
     "traceback": [
      "\u001b[1;31m---------------------------------------------------------------------------\u001b[0m",
      "\u001b[1;31mKeyError\u001b[0m                                  Traceback (most recent call last)",
      "\u001b[1;32mC:\\Users\\BSRVPR~1\\AppData\\Local\\Temp/ipykernel_2592/2140504754.py\u001b[0m in \u001b[0;36m<module>\u001b[1;34m\u001b[0m\n\u001b[1;32m----> 1\u001b[1;33m \u001b[0mmydict\u001b[0m\u001b[1;33m.\u001b[0m\u001b[0mpop\u001b[0m\u001b[1;33m(\u001b[0m\u001b[1;34m\"g\"\u001b[0m\u001b[1;33m)\u001b[0m\u001b[1;33m\u001b[0m\u001b[1;33m\u001b[0m\u001b[0m\n\u001b[0m",
      "\u001b[1;31mKeyError\u001b[0m: 'g'"
     ]
    }
   ],
   "source": [
    "mydict.pop(\"g\")"
   ]
  },
  {
   "cell_type": "code",
   "execution_count": 12,
   "id": "3d44fb8b",
   "metadata": {},
   "outputs": [
    {
     "data": {
      "text/plain": [
       "{'a': 'First', 'b': 2, 'c': 23.52, 'd': True, 'e': [2, 3, 5, 6]}"
      ]
     },
     "execution_count": 12,
     "metadata": {},
     "output_type": "execute_result"
    }
   ],
   "source": [
    "mydict"
   ]
  },
  {
   "cell_type": "code",
   "execution_count": 13,
   "id": "25b7b4e9",
   "metadata": {},
   "outputs": [
    {
     "data": {
      "text/plain": [
       "dict_keys(['a', 'b', 'c', 'd', 'e'])"
      ]
     },
     "execution_count": 13,
     "metadata": {},
     "output_type": "execute_result"
    }
   ],
   "source": [
    "mydict.keys()"
   ]
  },
  {
   "cell_type": "code",
   "execution_count": 14,
   "id": "04d053ee",
   "metadata": {},
   "outputs": [
    {
     "name": "stdout",
     "output_type": "stream",
     "text": [
      "('a', 'First')\n",
      "('b', 2)\n",
      "('c', 23.52)\n",
      "('d', True)\n",
      "('e', [2, 3, 5, 6])\n"
     ]
    }
   ],
   "source": [
    "for key, value in mydict.items():\n",
    "    print((key, value))"
   ]
  },
  {
   "cell_type": "code",
   "execution_count": 15,
   "id": "859d2de2",
   "metadata": {},
   "outputs": [],
   "source": [
    "mydict1 = mydict"
   ]
  },
  {
   "cell_type": "code",
   "execution_count": 16,
   "id": "aa3a3308",
   "metadata": {},
   "outputs": [
    {
     "data": {
      "text/plain": [
       "(2591079560128, 2591079560128)"
      ]
     },
     "execution_count": 16,
     "metadata": {},
     "output_type": "execute_result"
    }
   ],
   "source": [
    "(id(mydict1), id(mydict))"
   ]
  },
  {
   "cell_type": "code",
   "execution_count": 17,
   "id": "1afdd9f0",
   "metadata": {},
   "outputs": [
    {
     "data": {
      "text/plain": [
       "('e', [2, 3, 5, 6])"
      ]
     },
     "execution_count": 17,
     "metadata": {},
     "output_type": "execute_result"
    }
   ],
   "source": [
    "mydict1.popitem()"
   ]
  },
  {
   "cell_type": "code",
   "execution_count": 18,
   "id": "751b3dae",
   "metadata": {},
   "outputs": [
    {
     "data": {
      "text/plain": [
       "{'a': 'First', 'b': 2, 'c': 23.52, 'd': True}"
      ]
     },
     "execution_count": 18,
     "metadata": {},
     "output_type": "execute_result"
    }
   ],
   "source": [
    "mydict"
   ]
  },
  {
   "cell_type": "code",
   "execution_count": 19,
   "id": "d34a4537",
   "metadata": {},
   "outputs": [],
   "source": [
    "mydict2 = mydict.copy()"
   ]
  },
  {
   "cell_type": "code",
   "execution_count": 20,
   "id": "627dd1d6",
   "metadata": {},
   "outputs": [
    {
     "data": {
      "text/plain": [
       "(2591079560128, 2591079166656)"
      ]
     },
     "execution_count": 20,
     "metadata": {},
     "output_type": "execute_result"
    }
   ],
   "source": [
    "(id(mydict), id(mydict2))"
   ]
  },
  {
   "cell_type": "code",
   "execution_count": 21,
   "id": "0040fe1b",
   "metadata": {},
   "outputs": [],
   "source": [
    "mydict3 = dict(mydict)"
   ]
  },
  {
   "cell_type": "code",
   "execution_count": 22,
   "id": "0f95d421",
   "metadata": {},
   "outputs": [],
   "source": [
    "del mydict3"
   ]
  },
  {
   "cell_type": "code",
   "execution_count": 23,
   "id": "5fdba9d4",
   "metadata": {},
   "outputs": [
    {
     "ename": "NameError",
     "evalue": "name 'mydict3' is not defined",
     "output_type": "error",
     "traceback": [
      "\u001b[1;31m---------------------------------------------------------------------------\u001b[0m",
      "\u001b[1;31mNameError\u001b[0m                                 Traceback (most recent call last)",
      "\u001b[1;32mC:\\Users\\BSRVPR~1\\AppData\\Local\\Temp/ipykernel_2592/859535606.py\u001b[0m in \u001b[0;36m<module>\u001b[1;34m\u001b[0m\n\u001b[1;32m----> 1\u001b[1;33m \u001b[0mmydict3\u001b[0m\u001b[1;33m\u001b[0m\u001b[1;33m\u001b[0m\u001b[0m\n\u001b[0m",
      "\u001b[1;31mNameError\u001b[0m: name 'mydict3' is not defined"
     ]
    }
   ],
   "source": [
    "mydict3"
   ]
  },
  {
   "cell_type": "code",
   "execution_count": 24,
   "id": "3ea299ca",
   "metadata": {},
   "outputs": [
    {
     "ename": "NameError",
     "evalue": "name 'mydict3' is not defined",
     "output_type": "error",
     "traceback": [
      "\u001b[1;31m---------------------------------------------------------------------------\u001b[0m",
      "\u001b[1;31mNameError\u001b[0m                                 Traceback (most recent call last)",
      "\u001b[1;32mC:\\Users\\BSRVPR~1\\AppData\\Local\\Temp/ipykernel_2592/3568736635.py\u001b[0m in \u001b[0;36m<module>\u001b[1;34m\u001b[0m\n\u001b[1;32m----> 1\u001b[1;33m \u001b[1;33m(\u001b[0m\u001b[0mid\u001b[0m\u001b[1;33m(\u001b[0m\u001b[0mmydict\u001b[0m\u001b[1;33m)\u001b[0m\u001b[1;33m,\u001b[0m \u001b[0mid\u001b[0m\u001b[1;33m(\u001b[0m\u001b[0mmydict3\u001b[0m\u001b[1;33m)\u001b[0m\u001b[1;33m)\u001b[0m\u001b[1;33m\u001b[0m\u001b[1;33m\u001b[0m\u001b[0m\n\u001b[0m",
      "\u001b[1;31mNameError\u001b[0m: name 'mydict3' is not defined"
     ]
    }
   ],
   "source": [
    "(id(mydict), id(mydict3))"
   ]
  },
  {
   "cell_type": "code",
   "execution_count": null,
   "id": "d726d33d",
   "metadata": {},
   "outputs": [],
   "source": [
    "mydict.values()"
   ]
  },
  {
   "cell_type": "code",
   "execution_count": null,
   "id": "ccde9e71",
   "metadata": {},
   "outputs": [],
   "source": [
    "mydict.popitem()"
   ]
  },
  {
   "cell_type": "code",
   "execution_count": null,
   "id": "f4fe33ac",
   "metadata": {},
   "outputs": [],
   "source": [
    "mydict"
   ]
  },
  {
   "cell_type": "code",
   "execution_count": null,
   "id": "9c9deaf4",
   "metadata": {},
   "outputs": [],
   "source": [
    "mydict.pop(\"a\")"
   ]
  },
  {
   "cell_type": "code",
   "execution_count": null,
   "id": "09a64fbe",
   "metadata": {},
   "outputs": [],
   "source": [
    "mydict"
   ]
  },
  {
   "cell_type": "code",
   "execution_count": null,
   "id": "76a6c6af",
   "metadata": {},
   "outputs": [],
   "source": [
    "mydict1 = mydict"
   ]
  },
  {
   "cell_type": "code",
   "execution_count": null,
   "id": "14fa550c",
   "metadata": {},
   "outputs": [],
   "source": [
    "(id(mydict1), id(mydict))"
   ]
  },
  {
   "cell_type": "code",
   "execution_count": null,
   "id": "2a7800e7",
   "metadata": {},
   "outputs": [],
   "source": [
    "mydict2 = mydict.copy()"
   ]
  },
  {
   "cell_type": "code",
   "execution_count": null,
   "id": "2ee79d34",
   "metadata": {},
   "outputs": [],
   "source": [
    "mydict3 = dict(mydict)"
   ]
  },
  {
   "cell_type": "code",
   "execution_count": null,
   "id": "e1004349",
   "metadata": {},
   "outputs": [],
   "source": [
    "(id(mydict), id(mydict2), id(mydict3))"
   ]
  },
  {
   "cell_type": "code",
   "execution_count": 25,
   "id": "c1ee1fc5",
   "metadata": {},
   "outputs": [
    {
     "data": {
      "text/plain": [
       "('d', True)"
      ]
     },
     "execution_count": 25,
     "metadata": {},
     "output_type": "execute_result"
    }
   ],
   "source": [
    "mydict1.popitem()"
   ]
  },
  {
   "cell_type": "code",
   "execution_count": 26,
   "id": "78050d31",
   "metadata": {},
   "outputs": [
    {
     "data": {
      "text/plain": [
       "{'a': 'First', 'b': 2, 'c': 23.52}"
      ]
     },
     "execution_count": 26,
     "metadata": {},
     "output_type": "execute_result"
    }
   ],
   "source": [
    "mydict"
   ]
  },
  {
   "cell_type": "code",
   "execution_count": 27,
   "id": "5510204e",
   "metadata": {},
   "outputs": [],
   "source": [
    "mydict[\"e\"] = [1,3,5,6,7]"
   ]
  },
  {
   "cell_type": "code",
   "execution_count": 28,
   "id": "511008d6",
   "metadata": {},
   "outputs": [
    {
     "data": {
      "text/plain": [
       "{'a': 'First', 'b': 2, 'c': 23.52, 'e': [1, 3, 5, 6, 7]}"
      ]
     },
     "execution_count": 28,
     "metadata": {},
     "output_type": "execute_result"
    }
   ],
   "source": [
    "mydict"
   ]
  },
  {
   "cell_type": "code",
   "execution_count": 29,
   "id": "6e77dbb5",
   "metadata": {},
   "outputs": [
    {
     "data": {
      "text/plain": [
       "{'a': 'First', 'b': 2, 'c': 23.52, 'e': [1, 3, 5, 6, 7]}"
      ]
     },
     "execution_count": 29,
     "metadata": {},
     "output_type": "execute_result"
    }
   ],
   "source": [
    "mydict1"
   ]
  },
  {
   "cell_type": "code",
   "execution_count": 30,
   "id": "ddb39016",
   "metadata": {},
   "outputs": [
    {
     "data": {
      "text/plain": [
       "2"
      ]
     },
     "execution_count": 30,
     "metadata": {},
     "output_type": "execute_result"
    }
   ],
   "source": [
    "mydict1.pop(\"b\")"
   ]
  },
  {
   "cell_type": "code",
   "execution_count": 31,
   "id": "c7eec513",
   "metadata": {},
   "outputs": [
    {
     "data": {
      "text/plain": [
       "{'a': 'First', 'c': 23.52, 'e': [1, 3, 5, 6, 7]}"
      ]
     },
     "execution_count": 31,
     "metadata": {},
     "output_type": "execute_result"
    }
   ],
   "source": [
    "mydict1"
   ]
  },
  {
   "cell_type": "code",
   "execution_count": 32,
   "id": "7ec82c41",
   "metadata": {},
   "outputs": [
    {
     "data": {
      "text/plain": [
       "dict_items([('a', 'First'), ('c', 23.52), ('e', [1, 3, 5, 6, 7])])"
      ]
     },
     "execution_count": 32,
     "metadata": {},
     "output_type": "execute_result"
    }
   ],
   "source": [
    "mydict.items()"
   ]
  },
  {
   "cell_type": "code",
   "execution_count": 33,
   "id": "ea81748a",
   "metadata": {},
   "outputs": [
    {
     "data": {
      "text/plain": [
       "dict_keys(['a', 'c', 'e'])"
      ]
     },
     "execution_count": 33,
     "metadata": {},
     "output_type": "execute_result"
    }
   ],
   "source": [
    "mydict.keys()"
   ]
  },
  {
   "cell_type": "code",
   "execution_count": 34,
   "id": "2413fa99",
   "metadata": {},
   "outputs": [
    {
     "data": {
      "text/plain": [
       "dict_values(['First', 23.52, [1, 3, 5, 6, 7]])"
      ]
     },
     "execution_count": 34,
     "metadata": {},
     "output_type": "execute_result"
    }
   ],
   "source": [
    "mydict.values()"
   ]
  },
  {
   "cell_type": "code",
   "execution_count": 35,
   "id": "32dfa59a",
   "metadata": {},
   "outputs": [
    {
     "data": {
      "text/plain": [
       "['First', 23.52, [1, 3, 5, 6, 7]]"
      ]
     },
     "execution_count": 35,
     "metadata": {},
     "output_type": "execute_result"
    }
   ],
   "source": [
    "list(mydict.values())"
   ]
  },
  {
   "cell_type": "code",
   "execution_count": 36,
   "id": "4e99bc58",
   "metadata": {},
   "outputs": [],
   "source": [
    "numbers = dict(x=5, y=0)"
   ]
  },
  {
   "cell_type": "code",
   "execution_count": 37,
   "id": "1cb3728b",
   "metadata": {},
   "outputs": [
    {
     "data": {
      "text/plain": [
       "{'x': 5, 'y': 0}"
      ]
     },
     "execution_count": 37,
     "metadata": {},
     "output_type": "execute_result"
    }
   ],
   "source": [
    "numbers"
   ]
  },
  {
   "cell_type": "code",
   "execution_count": 39,
   "id": "53593d39",
   "metadata": {},
   "outputs": [],
   "source": [
    "myDict = dict(brand=\"HP\", type=\"Convertible\", year=2019)"
   ]
  },
  {
   "cell_type": "code",
   "execution_count": 40,
   "id": "11c7c8ea",
   "metadata": {},
   "outputs": [],
   "source": [
    "myDict['price'] = '7K'"
   ]
  },
  {
   "cell_type": "code",
   "execution_count": 41,
   "id": "c46c711a",
   "metadata": {},
   "outputs": [
    {
     "data": {
      "text/plain": [
       "{'brand': 'HP', 'type': 'Convertible', 'year': 2019, 'price': '7K'}"
      ]
     },
     "execution_count": 41,
     "metadata": {},
     "output_type": "execute_result"
    }
   ],
   "source": [
    "myDict"
   ]
  },
  {
   "cell_type": "code",
   "execution_count": 42,
   "id": "b6c6859b",
   "metadata": {},
   "outputs": [],
   "source": [
    "myDict.update(mydict1)"
   ]
  },
  {
   "cell_type": "code",
   "execution_count": 43,
   "id": "7257d5a3",
   "metadata": {},
   "outputs": [
    {
     "data": {
      "text/plain": [
       "{'brand': 'HP',\n",
       " 'type': 'Convertible',\n",
       " 'year': 2019,\n",
       " 'price': '7K',\n",
       " 'a': 'First',\n",
       " 'c': 23.52,\n",
       " 'e': [1, 3, 5, 6, 7]}"
      ]
     },
     "execution_count": 43,
     "metadata": {},
     "output_type": "execute_result"
    }
   ],
   "source": [
    "myDict"
   ]
  },
  {
   "cell_type": "code",
   "execution_count": 44,
   "id": "e8d72c4e",
   "metadata": {},
   "outputs": [],
   "source": [
    "myDict.update({'Price':'9K'})"
   ]
  },
  {
   "cell_type": "code",
   "execution_count": 45,
   "id": "e785a40b",
   "metadata": {},
   "outputs": [
    {
     "data": {
      "text/plain": [
       "{'brand': 'HP',\n",
       " 'type': 'Convertible',\n",
       " 'year': 2019,\n",
       " 'price': '7K',\n",
       " 'a': 'First',\n",
       " 'c': 23.52,\n",
       " 'e': [1, 3, 5, 6, 7],\n",
       " 'Price': '9K'}"
      ]
     },
     "execution_count": 45,
     "metadata": {},
     "output_type": "execute_result"
    }
   ],
   "source": [
    "myDict"
   ]
  },
  {
   "cell_type": "code",
   "execution_count": 46,
   "id": "2a32c38a",
   "metadata": {},
   "outputs": [],
   "source": [
    "mydict2 = dict()"
   ]
  },
  {
   "cell_type": "code",
   "execution_count": 47,
   "id": "b2524d1a",
   "metadata": {},
   "outputs": [],
   "source": [
    "mydict2.update(mydict1)"
   ]
  },
  {
   "cell_type": "code",
   "execution_count": 48,
   "id": "fb15619b",
   "metadata": {},
   "outputs": [
    {
     "data": {
      "text/plain": [
       "{'a': 'First', 'c': 23.52, 'e': [1, 3, 5, 6, 7]}"
      ]
     },
     "execution_count": 48,
     "metadata": {},
     "output_type": "execute_result"
    }
   ],
   "source": [
    "mydict2"
   ]
  },
  {
   "cell_type": "code",
   "execution_count": 49,
   "id": "a1dfba3a",
   "metadata": {},
   "outputs": [
    {
     "data": {
      "text/plain": [
       "2591097119552"
      ]
     },
     "execution_count": 49,
     "metadata": {},
     "output_type": "execute_result"
    }
   ],
   "source": [
    "id(mydict2)"
   ]
  },
  {
   "cell_type": "code",
   "execution_count": 50,
   "id": "60ff5a03",
   "metadata": {},
   "outputs": [
    {
     "data": {
      "text/plain": [
       "2591079560128"
      ]
     },
     "execution_count": 50,
     "metadata": {},
     "output_type": "execute_result"
    }
   ],
   "source": [
    "id(mydict1)"
   ]
  },
  {
   "cell_type": "code",
   "execution_count": 51,
   "id": "a65f4113",
   "metadata": {},
   "outputs": [
    {
     "name": "stdout",
     "output_type": "stream",
     "text": [
      "brand\n",
      "type\n",
      "year\n",
      "price\n",
      "a\n",
      "c\n",
      "e\n",
      "Price\n"
     ]
    }
   ],
   "source": [
    "for key in myDict:\n",
    "    print(key)"
   ]
  },
  {
   "cell_type": "code",
   "execution_count": 52,
   "id": "b11134dc",
   "metadata": {},
   "outputs": [
    {
     "name": "stdout",
     "output_type": "stream",
     "text": [
      "HP\n",
      "Convertible\n",
      "2019\n",
      "7K\n",
      "First\n",
      "23.52\n",
      "[1, 3, 5, 6, 7]\n",
      "9K\n"
     ]
    }
   ],
   "source": [
    "for key in myDict:\n",
    "    print(myDict[key])"
   ]
  },
  {
   "cell_type": "code",
   "execution_count": 53,
   "id": "791a990b",
   "metadata": {},
   "outputs": [
    {
     "name": "stdout",
     "output_type": "stream",
     "text": [
      "brand\n",
      "type\n",
      "year\n",
      "price\n",
      "a\n",
      "c\n",
      "e\n",
      "Price\n"
     ]
    }
   ],
   "source": [
    "for key in myDict.keys():\n",
    "    print(key)"
   ]
  },
  {
   "cell_type": "code",
   "execution_count": 54,
   "id": "d6efd238",
   "metadata": {},
   "outputs": [
    {
     "name": "stdout",
     "output_type": "stream",
     "text": [
      "HP\n",
      "Convertible\n",
      "2019\n",
      "7K\n",
      "First\n",
      "23.52\n",
      "[1, 3, 5, 6, 7]\n",
      "9K\n"
     ]
    }
   ],
   "source": [
    "for value in myDict.values():\n",
    "    print(value)"
   ]
  },
  {
   "cell_type": "code",
   "execution_count": 55,
   "id": "7c2cf4b0",
   "metadata": {},
   "outputs": [
    {
     "name": "stdout",
     "output_type": "stream",
     "text": [
      "Key =  brand Value =  HP\n",
      "Key =  type Value =  Convertible\n",
      "Key =  year Value =  2019\n",
      "Key =  price Value =  7K\n",
      "Key =  a Value =  First\n",
      "Key =  c Value =  23.52\n",
      "Key =  e Value =  [1, 3, 5, 6, 7]\n",
      "Key =  Price Value =  9K\n"
     ]
    }
   ],
   "source": [
    "for key,value in myDict.items():\n",
    "    print('Key = ',key, 'Value = ',value)"
   ]
  },
  {
   "cell_type": "code",
   "execution_count": 56,
   "id": "1510a928",
   "metadata": {},
   "outputs": [],
   "source": [
    "mydict1.clear()"
   ]
  },
  {
   "cell_type": "code",
   "execution_count": 57,
   "id": "3ddaca81",
   "metadata": {},
   "outputs": [
    {
     "data": {
      "text/plain": [
       "{}"
      ]
     },
     "execution_count": 57,
     "metadata": {},
     "output_type": "execute_result"
    }
   ],
   "source": [
    "mydict1"
   ]
  },
  {
   "cell_type": "code",
   "execution_count": 58,
   "id": "cda13ba6",
   "metadata": {},
   "outputs": [
    {
     "name": "stdout",
     "output_type": "stream",
     "text": [
      "{'prod1': {'bname': 'HP', 'btype': 'Computer', 'byear': 2019}, 'prod2': {'bname': 'Lenovo', 'btype': 'Tablet', 'byear': 2019}, 'prod3': {'bname': 'Microsoft', 'btype': 'Convertible', 'byear': 2020}}\n"
     ]
    }
   ],
   "source": [
    "prod1 = {\n",
    "        \"bname\": \"HP\",\n",
    "        \"btype\": \"Computer\",\n",
    "        \"byear\": 2019\n",
    "    }\n",
    "prod2 = {\n",
    "        \"bname\": \"Lenovo\",\n",
    "        \"btype\": \"Tablet\",\n",
    "        \"byear\":2019\n",
    "    }\n",
    "prod3 = {\n",
    "        \"bname\": \"Microsoft\",\n",
    "        \"btype\": \"Convertible\",\n",
    "        \"byear\": 2020\n",
    "    }\n",
    "\n",
    "myDict = {\n",
    "    \"prod1\": prod1,\n",
    "    \"prod2\": prod2,\n",
    "    \"prod3\": prod3\n",
    "}\n",
    "print(myDict)\n"
   ]
  },
  {
   "cell_type": "code",
   "execution_count": 59,
   "id": "c2a9cf6f",
   "metadata": {},
   "outputs": [
    {
     "data": {
      "text/plain": [
       "'Microsoft'"
      ]
     },
     "execution_count": 59,
     "metadata": {},
     "output_type": "execute_result"
    }
   ],
   "source": [
    "myDict['prod3']['bname']"
   ]
  },
  {
   "cell_type": "code",
   "execution_count": 60,
   "id": "b3b8eb57",
   "metadata": {},
   "outputs": [
    {
     "name": "stdout",
     "output_type": "stream",
     "text": [
      "prod1\n",
      "bname : HP\n",
      "btype : Computer\n",
      "byear : 2019\n",
      "prod2\n",
      "bname : Lenovo\n",
      "btype : Tablet\n",
      "byear : 2019\n",
      "prod3\n",
      "bname : Microsoft\n",
      "btype : Convertible\n",
      "byear : 2020\n"
     ]
    }
   ],
   "source": [
    "for key,value in myDict.items():\n",
    "    print(key)\n",
    "    for key1,value1 in value.items():\n",
    "        print(key1,\":\",value1)"
   ]
  }
 ],
 "metadata": {
  "kernelspec": {
   "display_name": "Python 3 (ipykernel)",
   "language": "python",
   "name": "python3"
  },
  "language_info": {
   "codemirror_mode": {
    "name": "ipython",
    "version": 3
   },
   "file_extension": ".py",
   "mimetype": "text/x-python",
   "name": "python",
   "nbconvert_exporter": "python",
   "pygments_lexer": "ipython3",
   "version": "3.9.13"
  },
  "latex_envs": {
   "LaTeX_envs_menu_present": true,
   "autoclose": false,
   "autocomplete": true,
   "bibliofile": "biblio.bib",
   "cite_by": "apalike",
   "current_citInitial": 1,
   "eqLabelWithNumbers": true,
   "eqNumInitial": 1,
   "hotkeys": {
    "equation": "Ctrl-E",
    "itemize": "Ctrl-I"
   },
   "labels_anchors": false,
   "latex_user_defs": false,
   "report_style_numbering": false,
   "user_envs_cfg": false
  }
 },
 "nbformat": 4,
 "nbformat_minor": 5
}
