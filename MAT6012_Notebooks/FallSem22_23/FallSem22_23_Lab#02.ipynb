{
 "cells": [
  {
   "cell_type": "markdown",
   "id": "90a5a8ea",
   "metadata": {},
   "source": [
    "### Getting help in Python"
   ]
  },
  {
   "cell_type": "code",
   "execution_count": 1,
   "id": "120014b4",
   "metadata": {},
   "outputs": [
    {
     "name": "stdout",
     "output_type": "stream",
     "text": [
      "\n",
      "Welcome to Python 3.9's help utility!\n",
      "\n",
      "If this is your first time using Python, you should definitely check out\n",
      "the tutorial on the Internet at https://docs.python.org/3.9/tutorial/.\n",
      "\n",
      "Enter the name of any module, keyword, or topic to get help on writing\n",
      "Python programs and using Python modules.  To quit this help utility and\n",
      "return to the interpreter, just type \"quit\".\n",
      "\n",
      "To get a list of available modules, keywords, symbols, or topics, type\n",
      "\"modules\", \"keywords\", \"symbols\", or \"topics\".  Each module also comes\n",
      "with a one-line summary of what it does; to list the modules whose name\n",
      "or summary contain a given string such as \"spam\", type \"modules spam\".\n",
      "\n",
      "help> quit\n",
      "\n",
      "You are now leaving help and returning to the Python interpreter.\n",
      "If you want to ask for help on a particular object directly from the\n",
      "interpreter, you can type \"help(object)\".  Executing \"help('string')\"\n",
      "has the same effect as typing a particular string at the help> prompt.\n"
     ]
    }
   ],
   "source": [
    "help()"
   ]
  },
  {
   "cell_type": "code",
   "execution_count": 2,
   "id": "5810562f",
   "metadata": {},
   "outputs": [
    {
     "name": "stdout",
     "output_type": "stream",
     "text": [
      "Help on class int in module builtins:\n",
      "\n",
      "class int(object)\n",
      " |  int([x]) -> integer\n",
      " |  int(x, base=10) -> integer\n",
      " |  \n",
      " |  Convert a number or string to an integer, or return 0 if no arguments\n",
      " |  are given.  If x is a number, return x.__int__().  For floating point\n",
      " |  numbers, this truncates towards zero.\n",
      " |  \n",
      " |  If x is not a number or if base is given, then x must be a string,\n",
      " |  bytes, or bytearray instance representing an integer literal in the\n",
      " |  given base.  The literal can be preceded by '+' or '-' and be surrounded\n",
      " |  by whitespace.  The base defaults to 10.  Valid bases are 0 and 2-36.\n",
      " |  Base 0 means to interpret the base from the string as an integer literal.\n",
      " |  >>> int('0b100', base=0)\n",
      " |  4\n",
      " |  \n",
      " |  Built-in subclasses:\n",
      " |      bool\n",
      " |  \n",
      " |  Methods defined here:\n",
      " |  \n",
      " |  __abs__(self, /)\n",
      " |      abs(self)\n",
      " |  \n",
      " |  __add__(self, value, /)\n",
      " |      Return self+value.\n",
      " |  \n",
      " |  __and__(self, value, /)\n",
      " |      Return self&value.\n",
      " |  \n",
      " |  __bool__(self, /)\n",
      " |      True if self else False\n",
      " |  \n",
      " |  __ceil__(...)\n",
      " |      Ceiling of an Integral returns itself.\n",
      " |  \n",
      " |  __divmod__(self, value, /)\n",
      " |      Return divmod(self, value).\n",
      " |  \n",
      " |  __eq__(self, value, /)\n",
      " |      Return self==value.\n",
      " |  \n",
      " |  __float__(self, /)\n",
      " |      float(self)\n",
      " |  \n",
      " |  __floor__(...)\n",
      " |      Flooring an Integral returns itself.\n",
      " |  \n",
      " |  __floordiv__(self, value, /)\n",
      " |      Return self//value.\n",
      " |  \n",
      " |  __format__(self, format_spec, /)\n",
      " |      Default object formatter.\n",
      " |  \n",
      " |  __ge__(self, value, /)\n",
      " |      Return self>=value.\n",
      " |  \n",
      " |  __getattribute__(self, name, /)\n",
      " |      Return getattr(self, name).\n",
      " |  \n",
      " |  __getnewargs__(self, /)\n",
      " |  \n",
      " |  __gt__(self, value, /)\n",
      " |      Return self>value.\n",
      " |  \n",
      " |  __hash__(self, /)\n",
      " |      Return hash(self).\n",
      " |  \n",
      " |  __index__(self, /)\n",
      " |      Return self converted to an integer, if self is suitable for use as an index into a list.\n",
      " |  \n",
      " |  __int__(self, /)\n",
      " |      int(self)\n",
      " |  \n",
      " |  __invert__(self, /)\n",
      " |      ~self\n",
      " |  \n",
      " |  __le__(self, value, /)\n",
      " |      Return self<=value.\n",
      " |  \n",
      " |  __lshift__(self, value, /)\n",
      " |      Return self<<value.\n",
      " |  \n",
      " |  __lt__(self, value, /)\n",
      " |      Return self<value.\n",
      " |  \n",
      " |  __mod__(self, value, /)\n",
      " |      Return self%value.\n",
      " |  \n",
      " |  __mul__(self, value, /)\n",
      " |      Return self*value.\n",
      " |  \n",
      " |  __ne__(self, value, /)\n",
      " |      Return self!=value.\n",
      " |  \n",
      " |  __neg__(self, /)\n",
      " |      -self\n",
      " |  \n",
      " |  __or__(self, value, /)\n",
      " |      Return self|value.\n",
      " |  \n",
      " |  __pos__(self, /)\n",
      " |      +self\n",
      " |  \n",
      " |  __pow__(self, value, mod=None, /)\n",
      " |      Return pow(self, value, mod).\n",
      " |  \n",
      " |  __radd__(self, value, /)\n",
      " |      Return value+self.\n",
      " |  \n",
      " |  __rand__(self, value, /)\n",
      " |      Return value&self.\n",
      " |  \n",
      " |  __rdivmod__(self, value, /)\n",
      " |      Return divmod(value, self).\n",
      " |  \n",
      " |  __repr__(self, /)\n",
      " |      Return repr(self).\n",
      " |  \n",
      " |  __rfloordiv__(self, value, /)\n",
      " |      Return value//self.\n",
      " |  \n",
      " |  __rlshift__(self, value, /)\n",
      " |      Return value<<self.\n",
      " |  \n",
      " |  __rmod__(self, value, /)\n",
      " |      Return value%self.\n",
      " |  \n",
      " |  __rmul__(self, value, /)\n",
      " |      Return value*self.\n",
      " |  \n",
      " |  __ror__(self, value, /)\n",
      " |      Return value|self.\n",
      " |  \n",
      " |  __round__(...)\n",
      " |      Rounding an Integral returns itself.\n",
      " |      Rounding with an ndigits argument also returns an integer.\n",
      " |  \n",
      " |  __rpow__(self, value, mod=None, /)\n",
      " |      Return pow(value, self, mod).\n",
      " |  \n",
      " |  __rrshift__(self, value, /)\n",
      " |      Return value>>self.\n",
      " |  \n",
      " |  __rshift__(self, value, /)\n",
      " |      Return self>>value.\n",
      " |  \n",
      " |  __rsub__(self, value, /)\n",
      " |      Return value-self.\n",
      " |  \n",
      " |  __rtruediv__(self, value, /)\n",
      " |      Return value/self.\n",
      " |  \n",
      " |  __rxor__(self, value, /)\n",
      " |      Return value^self.\n",
      " |  \n",
      " |  __sizeof__(self, /)\n",
      " |      Returns size in memory, in bytes.\n",
      " |  \n",
      " |  __sub__(self, value, /)\n",
      " |      Return self-value.\n",
      " |  \n",
      " |  __truediv__(self, value, /)\n",
      " |      Return self/value.\n",
      " |  \n",
      " |  __trunc__(...)\n",
      " |      Truncating an Integral returns itself.\n",
      " |  \n",
      " |  __xor__(self, value, /)\n",
      " |      Return self^value.\n",
      " |  \n",
      " |  as_integer_ratio(self, /)\n",
      " |      Return integer ratio.\n",
      " |      \n",
      " |      Return a pair of integers, whose ratio is exactly equal to the original int\n",
      " |      and with a positive denominator.\n",
      " |      \n",
      " |      >>> (10).as_integer_ratio()\n",
      " |      (10, 1)\n",
      " |      >>> (-10).as_integer_ratio()\n",
      " |      (-10, 1)\n",
      " |      >>> (0).as_integer_ratio()\n",
      " |      (0, 1)\n",
      " |  \n",
      " |  bit_length(self, /)\n",
      " |      Number of bits necessary to represent self in binary.\n",
      " |      \n",
      " |      >>> bin(37)\n",
      " |      '0b100101'\n",
      " |      >>> (37).bit_length()\n",
      " |      6\n",
      " |  \n",
      " |  conjugate(...)\n",
      " |      Returns self, the complex conjugate of any int.\n",
      " |  \n",
      " |  to_bytes(self, /, length, byteorder, *, signed=False)\n",
      " |      Return an array of bytes representing an integer.\n",
      " |      \n",
      " |      length\n",
      " |        Length of bytes object to use.  An OverflowError is raised if the\n",
      " |        integer is not representable with the given number of bytes.\n",
      " |      byteorder\n",
      " |        The byte order used to represent the integer.  If byteorder is 'big',\n",
      " |        the most significant byte is at the beginning of the byte array.  If\n",
      " |        byteorder is 'little', the most significant byte is at the end of the\n",
      " |        byte array.  To request the native byte order of the host system, use\n",
      " |        `sys.byteorder' as the byte order value.\n",
      " |      signed\n",
      " |        Determines whether two's complement is used to represent the integer.\n",
      " |        If signed is False and a negative integer is given, an OverflowError\n",
      " |        is raised.\n",
      " |  \n",
      " |  ----------------------------------------------------------------------\n",
      " |  Class methods defined here:\n",
      " |  \n",
      " |  from_bytes(bytes, byteorder, *, signed=False) from builtins.type\n",
      " |      Return the integer represented by the given array of bytes.\n",
      " |      \n",
      " |      bytes\n",
      " |        Holds the array of bytes to convert.  The argument must either\n",
      " |        support the buffer protocol or be an iterable object producing bytes.\n",
      " |        Bytes and bytearray are examples of built-in objects that support the\n",
      " |        buffer protocol.\n",
      " |      byteorder\n",
      " |        The byte order used to represent the integer.  If byteorder is 'big',\n",
      " |        the most significant byte is at the beginning of the byte array.  If\n",
      " |        byteorder is 'little', the most significant byte is at the end of the\n",
      " |        byte array.  To request the native byte order of the host system, use\n",
      " |        `sys.byteorder' as the byte order value.\n",
      " |      signed\n",
      " |        Indicates whether two's complement is used to represent the integer.\n",
      " |  \n",
      " |  ----------------------------------------------------------------------\n",
      " |  Static methods defined here:\n",
      " |  \n",
      " |  __new__(*args, **kwargs) from builtins.type\n",
      " |      Create and return a new object.  See help(type) for accurate signature.\n",
      " |  \n",
      " |  ----------------------------------------------------------------------\n",
      " |  Data descriptors defined here:\n",
      " |  \n",
      " |  denominator\n",
      " |      the denominator of a rational number in lowest terms\n",
      " |  \n",
      " |  imag\n",
      " |      the imaginary part of a complex number\n",
      " |  \n",
      " |  numerator\n",
      " |      the numerator of a rational number in lowest terms\n",
      " |  \n",
      " |  real\n",
      " |      the real part of a complex number\n",
      "\n"
     ]
    }
   ],
   "source": [
    "help('int')"
   ]
  },
  {
   "cell_type": "markdown",
   "id": "b209f78e",
   "metadata": {},
   "source": [
    "### Checking whether a string is a keyword or identifier in Python or not?"
   ]
  },
  {
   "cell_type": "code",
   "execution_count": 3,
   "id": "2644e0f5",
   "metadata": {},
   "outputs": [],
   "source": [
    "import keyword"
   ]
  },
  {
   "cell_type": "code",
   "execution_count": 4,
   "id": "a8de7d49",
   "metadata": {},
   "outputs": [
    {
     "data": {
      "text/plain": [
       "True"
      ]
     },
     "execution_count": 4,
     "metadata": {},
     "output_type": "execute_result"
    }
   ],
   "source": [
    "keyword.iskeyword('for')"
   ]
  },
  {
   "cell_type": "code",
   "execution_count": 5,
   "id": "76dfc68b",
   "metadata": {},
   "outputs": [
    {
     "data": {
      "text/plain": [
       "False"
      ]
     },
     "execution_count": 5,
     "metadata": {},
     "output_type": "execute_result"
    }
   ],
   "source": [
    "keyword.iskeyword('temp')"
   ]
  },
  {
   "cell_type": "code",
   "execution_count": 6,
   "id": "4bf8b23c",
   "metadata": {},
   "outputs": [
    {
     "data": {
      "text/plain": [
       "False"
      ]
     },
     "execution_count": 6,
     "metadata": {},
     "output_type": "execute_result"
    }
   ],
   "source": [
    "'@index'.isidentifier()"
   ]
  },
  {
   "cell_type": "code",
   "execution_count": 7,
   "id": "75e9d2de",
   "metadata": {},
   "outputs": [
    {
     "data": {
      "text/plain": [
       "True"
      ]
     },
     "execution_count": 7,
     "metadata": {},
     "output_type": "execute_result"
    }
   ],
   "source": [
    "'index_1'.isidentifier()"
   ]
  },
  {
   "cell_type": "code",
   "execution_count": 8,
   "id": "b55801ae",
   "metadata": {},
   "outputs": [
    {
     "data": {
      "text/plain": [
       "False"
      ]
     },
     "execution_count": 8,
     "metadata": {},
     "output_type": "execute_result"
    }
   ],
   "source": [
    "'index 1'.isidentifier()"
   ]
  },
  {
   "cell_type": "markdown",
   "id": "05540960",
   "metadata": {},
   "source": [
    "### Checking the id (stored memory location) of a variable in Python"
   ]
  },
  {
   "cell_type": "code",
   "execution_count": 9,
   "id": "7ecfedbb",
   "metadata": {},
   "outputs": [],
   "source": [
    "temp = 100"
   ]
  },
  {
   "cell_type": "code",
   "execution_count": 10,
   "id": "80e7dd9a",
   "metadata": {},
   "outputs": [
    {
     "data": {
      "text/plain": [
       "2706482288080"
      ]
     },
     "execution_count": 10,
     "metadata": {},
     "output_type": "execute_result"
    }
   ],
   "source": [
    "id(temp)"
   ]
  },
  {
   "cell_type": "code",
   "execution_count": 11,
   "id": "fe491784",
   "metadata": {},
   "outputs": [],
   "source": [
    "temp = 200"
   ]
  },
  {
   "cell_type": "code",
   "execution_count": 12,
   "id": "861a7440",
   "metadata": {},
   "outputs": [
    {
     "data": {
      "text/plain": [
       "2706482291344"
      ]
     },
     "execution_count": 12,
     "metadata": {},
     "output_type": "execute_result"
    }
   ],
   "source": [
    "id(temp)"
   ]
  },
  {
   "cell_type": "code",
   "execution_count": 13,
   "id": "f73c95c8",
   "metadata": {},
   "outputs": [
    {
     "data": {
      "text/plain": [
       "'0x27626ea6290'"
      ]
     },
     "execution_count": 13,
     "metadata": {},
     "output_type": "execute_result"
    }
   ],
   "source": [
    "hex(id(temp)) #Showing the ide in hexademical format"
   ]
  },
  {
   "cell_type": "code",
   "execution_count": 14,
   "id": "2f3c8ba4",
   "metadata": {},
   "outputs": [
    {
     "data": {
      "text/plain": [
       "2706482288080"
      ]
     },
     "execution_count": 14,
     "metadata": {},
     "output_type": "execute_result"
    }
   ],
   "source": [
    "id(100)"
   ]
  },
  {
   "cell_type": "code",
   "execution_count": 15,
   "id": "fec4e65a",
   "metadata": {},
   "outputs": [
    {
     "data": {
      "text/plain": [
       "2706482291344"
      ]
     },
     "execution_count": 15,
     "metadata": {},
     "output_type": "execute_result"
    }
   ],
   "source": [
    "id(200)"
   ]
  },
  {
   "cell_type": "code",
   "execution_count": 16,
   "id": "183e954c",
   "metadata": {},
   "outputs": [
    {
     "data": {
      "text/plain": [
       "2706568181520"
      ]
     },
     "execution_count": 16,
     "metadata": {},
     "output_type": "execute_result"
    }
   ],
   "source": [
    "id(300)"
   ]
  },
  {
   "cell_type": "code",
   "execution_count": 17,
   "id": "54450092",
   "metadata": {},
   "outputs": [
    {
     "ename": "NameError",
     "evalue": "name 'name' is not defined",
     "output_type": "error",
     "traceback": [
      "\u001b[1;31m---------------------------------------------------------------------------\u001b[0m",
      "\u001b[1;31mNameError\u001b[0m                                 Traceback (most recent call last)",
      "\u001b[1;32mC:\\Users\\BSRVPR~1\\AppData\\Local\\Temp/ipykernel_27636/2554905365.py\u001b[0m in \u001b[0;36m<module>\u001b[1;34m\u001b[0m\n\u001b[1;32m----> 1\u001b[1;33m \u001b[0mid\u001b[0m\u001b[1;33m(\u001b[0m\u001b[0mname\u001b[0m\u001b[1;33m)\u001b[0m\u001b[1;33m\u001b[0m\u001b[1;33m\u001b[0m\u001b[0m\n\u001b[0m",
      "\u001b[1;31mNameError\u001b[0m: name 'name' is not defined"
     ]
    }
   ],
   "source": [
    "id(name)"
   ]
  },
  {
   "cell_type": "code",
   "execution_count": null,
   "id": "aa755a91",
   "metadata": {},
   "outputs": [],
   "source": [
    "del temp"
   ]
  },
  {
   "cell_type": "code",
   "execution_count": null,
   "id": "016c958c",
   "metadata": {},
   "outputs": [],
   "source": [
    "id(temp)"
   ]
  },
  {
   "cell_type": "code",
   "execution_count": null,
   "id": "7ba6a4c5",
   "metadata": {},
   "outputs": [],
   "source": [
    "id(200)"
   ]
  },
  {
   "cell_type": "code",
   "execution_count": null,
   "id": "dd479330",
   "metadata": {},
   "outputs": [],
   "source": [
    "value = 109"
   ]
  },
  {
   "cell_type": "code",
   "execution_count": null,
   "id": "47738c98",
   "metadata": {},
   "outputs": [],
   "source": [
    "id(value)"
   ]
  },
  {
   "cell_type": "code",
   "execution_count": null,
   "id": "e4887d99",
   "metadata": {},
   "outputs": [],
   "source": [
    "type(value)"
   ]
  },
  {
   "cell_type": "code",
   "execution_count": null,
   "id": "849ea97d",
   "metadata": {},
   "outputs": [],
   "source": [
    "value = 100.0"
   ]
  },
  {
   "cell_type": "code",
   "execution_count": null,
   "id": "84e0a578",
   "metadata": {},
   "outputs": [],
   "source": [
    "type(value)"
   ]
  },
  {
   "cell_type": "code",
   "execution_count": null,
   "id": "ee5c59da",
   "metadata": {},
   "outputs": [],
   "source": [
    "value = 'hello'"
   ]
  },
  {
   "cell_type": "code",
   "execution_count": null,
   "id": "2b8b220e",
   "metadata": {},
   "outputs": [],
   "source": [
    "type(value)"
   ]
  },
  {
   "cell_type": "code",
   "execution_count": null,
   "id": "85e9257f",
   "metadata": {},
   "outputs": [],
   "source": [
    "value = True"
   ]
  },
  {
   "cell_type": "code",
   "execution_count": null,
   "id": "c86d6fcc",
   "metadata": {},
   "outputs": [],
   "source": [
    "type(value)"
   ]
  },
  {
   "cell_type": "markdown",
   "id": "b6210d06",
   "metadata": {},
   "source": [
    "### Printing a message in Python"
   ]
  },
  {
   "cell_type": "code",
   "execution_count": null,
   "id": "482a707c",
   "metadata": {},
   "outputs": [],
   "source": [
    "print('Hello World...')\n",
    "print('Datascience Students')"
   ]
  },
  {
   "cell_type": "code",
   "execution_count": null,
   "id": "a74bf4b9",
   "metadata": {},
   "outputs": [],
   "source": [
    "print('Hello World...',end=' ')\n",
    "print('Datascience Students')"
   ]
  },
  {
   "cell_type": "markdown",
   "id": "0aa82460",
   "metadata": {},
   "source": [
    "### Single line comment in Python: Use of \\# infront of a line"
   ]
  },
  {
   "cell_type": "code",
   "execution_count": null,
   "id": "e966a24c",
   "metadata": {},
   "outputs": [],
   "source": [
    "# This is comment line\n",
    "#print('Hello...')\n",
    "print('World')"
   ]
  },
  {
   "cell_type": "markdown",
   "id": "223d4adf",
   "metadata": {},
   "source": [
    "### Multiline comment in Python: Use of \\\"\"\" ... \\\"\"\" (or) \\''' .... \\'''"
   ]
  },
  {
   "cell_type": "code",
   "execution_count": null,
   "id": "b25af971",
   "metadata": {},
   "outputs": [],
   "source": [
    "\"\"\"\n",
    "This is comment line 1\n",
    "This is comment line 2\n",
    "\"\"\"\n",
    "print('Hello World')"
   ]
  },
  {
   "cell_type": "code",
   "execution_count": null,
   "id": "43291535",
   "metadata": {},
   "outputs": [],
   "source": [
    "1000"
   ]
  },
  {
   "cell_type": "code",
   "execution_count": null,
   "id": "05991bff",
   "metadata": {},
   "outputs": [],
   "source": [
    "id(1000)"
   ]
  },
  {
   "cell_type": "code",
   "execution_count": null,
   "id": "06a9444b",
   "metadata": {},
   "outputs": [],
   "source": [
    "id(2000)"
   ]
  },
  {
   "cell_type": "code",
   "execution_count": null,
   "id": "0ffdc7c8",
   "metadata": {},
   "outputs": [],
   "source": [
    "temp = 2000"
   ]
  },
  {
   "cell_type": "code",
   "execution_count": null,
   "id": "26c91b58",
   "metadata": {},
   "outputs": [],
   "source": [
    "id(temp)"
   ]
  },
  {
   "cell_type": "markdown",
   "id": "17b0dbd5",
   "metadata": {},
   "source": [
    "### Jupyter magic command to display more than one output in a cell"
   ]
  },
  {
   "cell_type": "code",
   "execution_count": null,
   "id": "df5820ce",
   "metadata": {},
   "outputs": [],
   "source": [
    "from IPython.core.interactiveshell import InteractiveShell\n",
    "InteractiveShell.ast_node_interactivity = \"all\""
   ]
  },
  {
   "cell_type": "code",
   "execution_count": null,
   "id": "e18dcc8d",
   "metadata": {},
   "outputs": [],
   "source": [
    "x = 5\n",
    "y = 10\n",
    "id(x)\n",
    "id(y)\n",
    "y = x\n",
    "id(y)\n",
    "\n",
    "print('x= ',x,' y= ',y)"
   ]
  }
 ],
 "metadata": {
  "kernelspec": {
   "display_name": "Python 3 (ipykernel)",
   "language": "python",
   "name": "python3"
  },
  "language_info": {
   "codemirror_mode": {
    "name": "ipython",
    "version": 3
   },
   "file_extension": ".py",
   "mimetype": "text/x-python",
   "name": "python",
   "nbconvert_exporter": "python",
   "pygments_lexer": "ipython3",
   "version": "3.9.13"
  },
  "latex_envs": {
   "LaTeX_envs_menu_present": true,
   "autoclose": false,
   "autocomplete": true,
   "bibliofile": "biblio.bib",
   "cite_by": "apalike",
   "current_citInitial": 1,
   "eqLabelWithNumbers": true,
   "eqNumInitial": 1,
   "hotkeys": {
    "equation": "Ctrl-E",
    "itemize": "Ctrl-I"
   },
   "labels_anchors": false,
   "latex_user_defs": false,
   "report_style_numbering": false,
   "user_envs_cfg": false
  }
 },
 "nbformat": 4,
 "nbformat_minor": 5
}
