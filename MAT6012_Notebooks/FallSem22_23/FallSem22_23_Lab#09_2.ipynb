{
 "cells": [
  {
   "cell_type": "code",
   "execution_count": 3,
   "id": "af90c126",
   "metadata": {},
   "outputs": [
    {
     "name": "stdout",
     "output_type": "stream",
     "text": [
      "Enter a number10\n"
     ]
    }
   ],
   "source": [
    "x = int(input('Enter a number'))"
   ]
  },
  {
   "cell_type": "code",
   "execution_count": 4,
   "id": "82bd5a0d",
   "metadata": {},
   "outputs": [
    {
     "data": {
      "text/plain": [
       "10"
      ]
     },
     "execution_count": 4,
     "metadata": {},
     "output_type": "execute_result"
    }
   ],
   "source": [
    "x"
   ]
  },
  {
   "cell_type": "code",
   "execution_count": 5,
   "id": "3f60d08d",
   "metadata": {},
   "outputs": [
    {
     "data": {
      "text/plain": [
       "int"
      ]
     },
     "execution_count": 5,
     "metadata": {},
     "output_type": "execute_result"
    }
   ],
   "source": [
    "type(x)"
   ]
  },
  {
   "cell_type": "markdown",
   "id": "fd704edd",
   "metadata": {},
   "source": [
    "### Program for finding whether a number is Armstrong number or not?"
   ]
  },
  {
   "cell_type": "code",
   "execution_count": 9,
   "id": "25930ad5",
   "metadata": {},
   "outputs": [
    {
     "name": "stdout",
     "output_type": "stream",
     "text": [
      "Enter the number: 153\n",
      "The number  153  is Armstrong\n"
     ]
    }
   ],
   "source": [
    "num = int(input('Enter the number: '))\n",
    "num1 = num\n",
    "digitsum = 0\n",
    "digit = 0\n",
    "while num > 0:\n",
    "    digit = num%10\n",
    "    digitsum = digitsum + digit**3\n",
    "    num = num//10\n",
    "    \n",
    "if num1 == digitsum:\n",
    "    print('The number ',num1,' is Armstrong')\n",
    "else:\n",
    "    print('The number ',num1,' is not Armstrong')"
   ]
  },
  {
   "cell_type": "code",
   "execution_count": 10,
   "id": "414e0c77",
   "metadata": {},
   "outputs": [
    {
     "name": "stdout",
     "output_type": "stream",
     "text": [
      "Enter number: 153\n",
      "The number  153  is Armstrong\n"
     ]
    }
   ],
   "source": [
    "num = input('Enter number: ')\n",
    "digitsum = 0\n",
    "for digit in num:\n",
    "    digitsum += int(digit)**3\n",
    "    \n",
    "if digitsum == int(num):\n",
    "    print('The number ',num1,' is Armstrong')\n",
    "else:\n",
    "    print('The number ',num1,' is not Armstrong')"
   ]
  },
  {
   "cell_type": "markdown",
   "id": "e0778c85",
   "metadata": {},
   "source": [
    "#### Program for finding whether a given number is Disarium or not?"
   ]
  },
  {
   "cell_type": "code",
   "execution_count": 2,
   "id": "21eaee46",
   "metadata": {},
   "outputs": [
    {
     "name": "stdout",
     "output_type": "stream",
     "text": [
      "Enter the number: 135\n",
      "The number  135  is Disarium\n"
     ]
    }
   ],
   "source": [
    "num = input('Enter the number: ')\n",
    "length = len(num)\n",
    "num = int(num)\n",
    "num1 = num\n",
    "digitsum = 0\n",
    "digit = 0\n",
    "\"\"\"\n",
    "while num > 0:\n",
    "    num = num//10\n",
    "    len = len+1\n",
    "num = num1\n",
    "\"\"\"\n",
    "while num > 0:\n",
    "    digit = num%10\n",
    "    digitsum = digitsum + digit**length\n",
    "    num = num//10\n",
    "    length = length-1\n",
    "    \n",
    "if num1 == digitsum:\n",
    "    print('The number ',num1,' is Disarium')\n",
    "else:\n",
    "    print('The number ',num1,' is not Disarium')"
   ]
  },
  {
   "cell_type": "code",
   "execution_count": 5,
   "id": "42bdfb5f",
   "metadata": {},
   "outputs": [
    {
     "name": "stdout",
     "output_type": "stream",
     "text": [
      "Enter number: 135\n",
      "The number  135  is Disarium\n"
     ]
    }
   ],
   "source": [
    "num = input('Enter number: ')\n",
    "digitsum = 0\n",
    "#length = len(num)\n",
    "pos = len(num)\n",
    "\"\"\"\n",
    "for pos in range(1,length+1):\n",
    "    digitsum += int(num[pos-1])**pos\n",
    "\"\"\"\n",
    "'''\n",
    "for digit in num:\n",
    "    digitsum += int(digit)**pos\n",
    "    pos = pos+1\n",
    "'''\n",
    "for digit in num[::-1]:\n",
    "    digitsum += int(digit)**pos\n",
    "    pos = pos-1\n",
    "    \n",
    "if digitsum == int(num):\n",
    "    print('The number ',num1,' is Disarium')\n",
    "else:\n",
    "    print('The number ',num1,' is not Disarium')"
   ]
  },
  {
   "cell_type": "markdown",
   "id": "08de562d",
   "metadata": {},
   "source": [
    "#### Program for finding whether a given number is abundant or not?"
   ]
  },
  {
   "cell_type": "code",
   "execution_count": 10,
   "id": "11350924",
   "metadata": {},
   "outputs": [
    {
     "name": "stdout",
     "output_type": "stream",
     "text": [
      "Enter the number: 12\n",
      "Divisors: [1, 2, 3, 4, 6]\n",
      "Abundant\n"
     ]
    }
   ],
   "source": [
    "num = int(input('Enter the number: '))\n",
    "divisors = []\n",
    "digitsum = 0\n",
    "for d in range(1,num//2+1):\n",
    "    if num%d == 0:\n",
    "        divisors.append(d)\n",
    "        digitsum = digitsum + d\n",
    "        \n",
    "print('Divisors:', divisors)\n",
    "if digitsum > num:\n",
    "    print('Abundant')\n",
    "else:\n",
    "    print('Not Abundant')"
   ]
  },
  {
   "cell_type": "code",
   "execution_count": 12,
   "id": "36809691",
   "metadata": {},
   "outputs": [
    {
     "name": "stdout",
     "output_type": "stream",
     "text": [
      "Enter the number: 7\n",
      "Prime\n"
     ]
    }
   ],
   "source": [
    "flag = 1\n",
    "num = int(input('Enter the number: '))\n",
    "for x in range(2,num//2+1):\n",
    "    if num%x == 0:\n",
    "        flag = 0\n",
    "        break\n",
    "        \n",
    "if flag == 1:\n",
    "    print('Prime')\n",
    "else:\n",
    "    print('Not Prime')"
   ]
  },
  {
   "cell_type": "code",
   "execution_count": 16,
   "id": "b09b2d9c",
   "metadata": {},
   "outputs": [
    {
     "name": "stdout",
     "output_type": "stream",
     "text": [
      "Enter the number: 20034\n",
      "Not Prime\n"
     ]
    }
   ],
   "source": [
    "num = int(input('Enter the number: '))\n",
    "for x in range(2,num//2+1):\n",
    "    if num%x == 0:\n",
    "        print('Not Prime')\n",
    "        break\n",
    "else:\n",
    "    print('Prime')"
   ]
  },
  {
   "cell_type": "markdown",
   "id": "001e1a62",
   "metadata": {},
   "source": [
    "#### Write a Python to program to check whether a given string is a valid pasword or not?\n",
    "\n",
    "###### Rules for Password:\n",
    "1. Should contain at least one character\n",
    "2. Should contain at least one number\n",
    "3. Should contain at least one of the symbols #, $, @\n",
    "4. Should be at least 8 characters length\n"
   ]
  },
  {
   "cell_type": "code",
   "execution_count": 1,
   "id": "38f93349",
   "metadata": {},
   "outputs": [
    {
     "name": "stdout",
     "output_type": "stream",
     "text": [
      "Enter the password: 1a@bcde134\n",
      "Valid Password\n"
     ]
    }
   ],
   "source": [
    "pwd = input('Enter the password: ')\n",
    "pwdlen = len(pwd)\n",
    "digit = 0\n",
    "char = 0\n",
    "special = 0\n",
    "if pwdlen < 8:\n",
    "    print('Error! Password should be at least 8 character length')\n",
    "else:\n",
    "    for ch in pwd:\n",
    "        if ch.isdigit():\n",
    "            digit = 1\n",
    "        elif ch.isalpha():\n",
    "            char = 1\n",
    "        elif ch in ('@','#','$'):\n",
    "            special = 1\n",
    "        if digit == 1 and char == 1 and special == 1:\n",
    "            break\n",
    "    if digit == 1 and char == 1 and special == 1:\n",
    "        print('Valid Password')\n",
    "    else:\n",
    "        print('Not valid Password')"
   ]
  },
  {
   "cell_type": "code",
   "execution_count": null,
   "id": "cbe599b7",
   "metadata": {},
   "outputs": [],
   "source": []
  }
 ],
 "metadata": {
  "kernelspec": {
   "display_name": "Python 3 (ipykernel)",
   "language": "python",
   "name": "python3"
  },
  "language_info": {
   "codemirror_mode": {
    "name": "ipython",
    "version": 3
   },
   "file_extension": ".py",
   "mimetype": "text/x-python",
   "name": "python",
   "nbconvert_exporter": "python",
   "pygments_lexer": "ipython3",
   "version": "3.9.13"
  },
  "latex_envs": {
   "LaTeX_envs_menu_present": true,
   "autoclose": false,
   "autocomplete": true,
   "bibliofile": "biblio.bib",
   "cite_by": "apalike",
   "current_citInitial": 1,
   "eqLabelWithNumbers": true,
   "eqNumInitial": 1,
   "hotkeys": {
    "equation": "Ctrl-E",
    "itemize": "Ctrl-I"
   },
   "labels_anchors": false,
   "latex_user_defs": false,
   "report_style_numbering": false,
   "user_envs_cfg": false
  }
 },
 "nbformat": 4,
 "nbformat_minor": 5
}
