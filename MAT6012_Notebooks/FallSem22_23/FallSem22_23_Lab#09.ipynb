{
 "cells": [
  {
   "cell_type": "markdown",
   "id": "7fe458ee",
   "metadata": {},
   "source": [
    "# Python Programs using for and while loops"
   ]
  },
  {
   "cell_type": "markdown",
   "id": "19f0b4f7",
   "metadata": {},
   "source": [
    "### Program for verifying whether a given number is armstrong or not?\n",
    "\n",
    "#### A number $N = d_1d_2\\dotsc d_n$ is said to be an Armstrong number if $N = d_1^3 + d_2^3 + \\dotsc d_n^3$. For example, $153$ is an Armstrong number as $153 = 1^3 + 5^3 + 3^3$."
   ]
  },
  {
   "cell_type": "code",
   "execution_count": 1,
   "id": "e89e0eac",
   "metadata": {},
   "outputs": [
    {
     "name": "stdout",
     "output_type": "stream",
     "text": [
      "Enter the number: 153\n",
      "153 is Armstrong\n"
     ]
    }
   ],
   "source": [
    "num = int(input('Enter the number: '))\n",
    "digit = 0\n",
    "digitsum = 0\n",
    "num1 = num\n",
    "while num > 0:\n",
    "    digit = num%10\n",
    "    digitsum = digitsum + digit**3\n",
    "    num = num//10\n",
    "\n",
    "if digitsum == num1:\n",
    "    print(num1,'is Armstrong')\n",
    "else:\n",
    "    print(num1,'is not Armstrong')"
   ]
  },
  {
   "cell_type": "markdown",
   "id": "4e7c7cc3",
   "metadata": {},
   "source": [
    "#### Program to verify whether a given number is armstrong or not (Pythonic way - Using Strings)"
   ]
  },
  {
   "cell_type": "code",
   "execution_count": 2,
   "id": "ab074489",
   "metadata": {},
   "outputs": [
    {
     "name": "stdout",
     "output_type": "stream",
     "text": [
      "Enter the number: 154\n",
      "154 is not Armstrong\n"
     ]
    }
   ],
   "source": [
    "num = input('Enter the number: ')\n",
    "digitsum = 0\n",
    "for d in num:\n",
    "    digitsum = digitsum + int(d)**3\n",
    "    \n",
    "if digitsum == int(num):\n",
    "    print(num,'is Armstrong')\n",
    "else:\n",
    "    print(num,'is not Armstrong')"
   ]
  },
  {
   "cell_type": "markdown",
   "id": "bb2f8fb3",
   "metadata": {},
   "source": [
    "### Program for verifying a given number is disarium or not?\n",
    "\n",
    "#### A number $N = d_1d_2\\dotsc d_n$ is said to be a Disarium number if $N = d_1^1 + d_2^2 + \\dotsc d_n^n$ (where powers $1,2,\\dotsc,n$ denote the position of the digit in that number). For example, $135$ is a Disarium number as $135 = 1^1 + 3^2 + 5^3$."
   ]
  },
  {
   "cell_type": "markdown",
   "id": "4f96523b",
   "metadata": {},
   "source": [
    "#### Logic #01"
   ]
  },
  {
   "cell_type": "code",
   "execution_count": 3,
   "id": "8564dc45",
   "metadata": {},
   "outputs": [
    {
     "name": "stdout",
     "output_type": "stream",
     "text": [
      "Enter a number of your choice: 135\n",
      "135 is a disarium number.\n"
     ]
    }
   ],
   "source": [
    "n=int(input(\"Enter a number of your choice: \"))\n",
    "n1=n\n",
    "digit=0\n",
    "digitsum=0\n",
    "pos=0\n",
    "\n",
    "while n > 0:\n",
    "    n = n//10\n",
    "    pos = pos+1\n",
    "\n",
    "n=n1\n",
    "\n",
    "while n1!=0:\n",
    "    digit=n1%10\n",
    "    digitsum=digitsum+digit**pos\n",
    "    n1=n1//10\n",
    "    pos=pos-1\n",
    "\n",
    "if(digitsum==n):\n",
    "    print(n,\"is a disarium number.\")\n",
    "else:\n",
    "    print(n,\"is not a disarium number.\")\n"
   ]
  },
  {
   "cell_type": "markdown",
   "id": "8d376629",
   "metadata": {},
   "source": [
    "#### Logic #02 (Avoding the finding the length using while loop)"
   ]
  },
  {
   "cell_type": "code",
   "execution_count": 4,
   "id": "01d1f91c",
   "metadata": {},
   "outputs": [
    {
     "name": "stdout",
     "output_type": "stream",
     "text": [
      "Enter the number: 136\n",
      "The number 136 is not Disarium\n"
     ]
    }
   ],
   "source": [
    "num = input('Enter the number: ')\n",
    "length = len(num)\n",
    "num = int(num)\n",
    "num1 = num\n",
    "digitsum = 0\n",
    "digit = 0\n",
    "\n",
    "while num > 0:\n",
    "    digit = num%10\n",
    "    digitsum = digitsum + digit**length\n",
    "    num = num//10\n",
    "    length = length-1\n",
    "    \n",
    "if num1 == digitsum:\n",
    "    print('The number',num1,'is Disarium')\n",
    "else:\n",
    "    print('The number',num1,'is not Disarium')"
   ]
  },
  {
   "cell_type": "markdown",
   "id": "b92903d9",
   "metadata": {},
   "source": [
    "#### Logic #03 (Pythonic way)"
   ]
  },
  {
   "cell_type": "code",
   "execution_count": 5,
   "id": "a1271562",
   "metadata": {},
   "outputs": [
    {
     "name": "stdout",
     "output_type": "stream",
     "text": [
      "Enter number: 135\n",
      "The number 136 is Disarium\n"
     ]
    }
   ],
   "source": [
    "n = input('Enter number: ')\n",
    "digitsum=0\n",
    "pos = 1\n",
    "for digit in n:\n",
    "    digitsum = digitsum+int(digit)**pos\n",
    "    pos=pos+1\n",
    "\n",
    "if int(n)==digitsum:\n",
    "    print('The number',num1,'is Disarium')\n",
    "else:\n",
    "    print('The number',num1,'is not Disarium')"
   ]
  },
  {
   "cell_type": "code",
   "execution_count": 6,
   "id": "97e0f5da",
   "metadata": {},
   "outputs": [
    {
     "name": "stdout",
     "output_type": "stream",
     "text": [
      "Enter number: 136\n",
      "The number 136 is not Disarium\n"
     ]
    }
   ],
   "source": [
    "num = input('Enter number: ')\n",
    "digitsum = 0\n",
    "pos = len(num)\n",
    "for digit in num[::-1]:\n",
    "    digitsum += int(digit)**pos\n",
    "    pos = pos-1\n",
    "    \n",
    "if digitsum == int(num):\n",
    "    print('The number',num1,'is Disarium')\n",
    "else:\n",
    "    print('The number',num1,'is not Disarium')"
   ]
  },
  {
   "cell_type": "markdown",
   "id": "e37c244d",
   "metadata": {},
   "source": [
    "### Program for verifying a given number is abundant or not?\n",
    "\n",
    "#### A number $N$ is said to be an Abundant number if sum of the proper divisor of $N$ is greater than the number $N$. For example, $24$ is an abundant number as the proper divisors of $24$ are $1,2,3,4,6,8,12$ and whose sum is $36$ which is greater than $24$."
   ]
  },
  {
   "cell_type": "code",
   "execution_count": 7,
   "id": "04e4509a",
   "metadata": {},
   "outputs": [
    {
     "name": "stdout",
     "output_type": "stream",
     "text": [
      "Enter number: 24\n",
      "Divisors: [1, 2, 3, 4, 6, 8, 12]\n",
      "Abundant\n"
     ]
    }
   ],
   "source": [
    "n = int(input('Enter number: '))\n",
    "sum=0\n",
    "divisors=[]\n",
    "for x in range(1,n//2+1):\n",
    "    if n%x == 0:\n",
    "        sum = sum+x\n",
    "        divisors.append(x)\n",
    "        \n",
    "print('Divisors:', divisors)\n",
    "if(sum > n):\n",
    "    print('Abundant')\n",
    "else:\n",
    "    print('Not Abundant')"
   ]
  },
  {
   "cell_type": "markdown",
   "id": "7d4e47e0",
   "metadata": {},
   "source": [
    "### Program for verifying a given number is prime number or not?\n",
    "\n",
    "#### A number $N$ is said to be a Prime number if $N$ is divisble by $1$ and itself."
   ]
  },
  {
   "cell_type": "code",
   "execution_count": 8,
   "id": "f6f41159",
   "metadata": {},
   "outputs": [
    {
     "name": "stdout",
     "output_type": "stream",
     "text": [
      "Enter number: 47\n",
      "Prime Number\n"
     ]
    }
   ],
   "source": [
    "n = int(input('Enter number: '))\n",
    "flag=0\n",
    "for x in range(2,int(n**0.5)+1):\n",
    "    if n%x == 0:\n",
    "        flag=1\n",
    "        break\n",
    "        \n",
    "if flag==0:\n",
    "    print('Prime Number')\n",
    "else:\n",
    "    print('Not Prime Number')"
   ]
  },
  {
   "cell_type": "code",
   "execution_count": 9,
   "id": "5aa37ca1",
   "metadata": {},
   "outputs": [
    {
     "name": "stdout",
     "output_type": "stream",
     "text": [
      "Enter the number: 7576757\n",
      "Prime\n"
     ]
    }
   ],
   "source": [
    "num = int(input('Enter the number: '))\n",
    "for x in range(2,num//2+1):\n",
    "    if num%x == 0:\n",
    "        print('Not Prime')\n",
    "        break\n",
    "else:\n",
    "    print('Prime')"
   ]
  },
  {
   "cell_type": "markdown",
   "id": "6b3440f1",
   "metadata": {},
   "source": [
    "### Program for verifying a given number is palindrome or not?\n",
    "\n",
    "#### A number $N = d_1d_2\\dotsc d_n$ is said ot be palindrome $N = d_nd_{n-1}\\dotsc d_1$. For example $123321$ is a palindrome."
   ]
  },
  {
   "cell_type": "code",
   "execution_count": 10,
   "id": "d2ce19d7",
   "metadata": {},
   "outputs": [
    {
     "name": "stdout",
     "output_type": "stream",
     "text": [
      "Enter number: 1234321\n",
      "Number is palindrome\n"
     ]
    }
   ],
   "source": [
    "num = int(input('Enter number: '))\n",
    "revnum = 0\n",
    "num1 = num\n",
    "while num1 > 0:\n",
    "    digit = num1%10\n",
    "    revnum = revnum*10 + digit\n",
    "    num1 = num1//10\n",
    "\n",
    "if num == revnum:\n",
    "    print('Number is palindrome')\n",
    "else:\n",
    "    print('Number is not palindrome')"
   ]
  },
  {
   "cell_type": "markdown",
   "id": "9572dbb8",
   "metadata": {},
   "source": [
    "##### Pythonic way - By converting a number into a string"
   ]
  },
  {
   "cell_type": "code",
   "execution_count": 11,
   "id": "e1bd44e9",
   "metadata": {},
   "outputs": [
    {
     "name": "stdout",
     "output_type": "stream",
     "text": [
      "Enter number: 123421\n",
      "Number is not palindrome\n"
     ]
    }
   ],
   "source": [
    "num = input('Enter number: ')\n",
    "if int(num) == int(num[::-1]):\n",
    "    print('Number is palindrome')\n",
    "else:\n",
    "    print('Number is not palindrome')"
   ]
  },
  {
   "cell_type": "markdown",
   "id": "29b9cc85",
   "metadata": {},
   "source": [
    "### Write a Python to program to check whether a given string is a valid pasword or not?\n",
    "\n",
    "##### Rules for Password:\n",
    "1. Should contain at least one character\n",
    "2. Should contain at least one number\n",
    "3. Should contain at least one of the symbols #, $, @\n",
    "4. Should be at least 8 characters length"
   ]
  },
  {
   "cell_type": "markdown",
   "id": "2b61f478",
   "metadata": {},
   "source": [
    "### Version #01"
   ]
  },
  {
   "cell_type": "code",
   "execution_count": 12,
   "id": "77787958",
   "metadata": {},
   "outputs": [
    {
     "name": "stdout",
     "output_type": "stream",
     "text": [
      "Enter the password: 123@124gc\n",
      "Valid Password\n"
     ]
    }
   ],
   "source": [
    "pwd = input('Enter the password: ')\n",
    "pwdlen = len(pwd)\n",
    "digit = 0\n",
    "char = 0\n",
    "special = 0\n",
    "if pwdlen < 8:\n",
    "    print('Error! Password should be at least 8 character length')\n",
    "else:\n",
    "    for ch in pwd:\n",
    "        if ch.isdigit():\n",
    "            digit = 1\n",
    "        elif ch.isalpha():\n",
    "            char = 1\n",
    "        elif ch in ('@','#','$'):\n",
    "            special = 1\n",
    "        if digit == 1 and char == 1 and special == 1:\n",
    "            break\n",
    "    if digit == 1 and char == 1 and special == 1:\n",
    "        print('Valid Password')\n",
    "    else:\n",
    "        print('Not valid Password')"
   ]
  },
  {
   "cell_type": "markdown",
   "id": "a3b81a16",
   "metadata": {},
   "source": [
    "### Version #02 - Using \"for...else\""
   ]
  },
  {
   "cell_type": "code",
   "execution_count": 13,
   "id": "27ec8f79",
   "metadata": {},
   "outputs": [
    {
     "name": "stdout",
     "output_type": "stream",
     "text": [
      "Enter the password: 123abcde\n",
      "Invalid Password: Missing a special character $ or # or @\n"
     ]
    }
   ],
   "source": [
    "pwd = input('Enter the password: ')\n",
    "pwdlen = len(pwd)\n",
    "digit = 0\n",
    "char = 0\n",
    "special = 0\n",
    "if pwdlen < 8:\n",
    "    print('Error! Password should be at least 8 character length')\n",
    "else:\n",
    "    for ch in pwd:\n",
    "        if ch.isdigit():\n",
    "            digit = 1\n",
    "        elif ch.isalpha():\n",
    "            char = 1\n",
    "        elif ch in ('@','#','$'):\n",
    "            special = 1\n",
    "        if digit == 1 and char == 1 and special == 1:\n",
    "            print('Valid Password')\n",
    "            break\n",
    "    else:\n",
    "        print('Invalid Password: Missing a number') if digit==0 else \\\n",
    "        print('Invalid Password: Missing a character') if char==0 else \\\n",
    "        print('Invalid Password: Missing a special character $ or # or @')"
   ]
  }
 ],
 "metadata": {
  "kernelspec": {
   "display_name": "Python 3 (ipykernel)",
   "language": "python",
   "name": "python3"
  },
  "language_info": {
   "codemirror_mode": {
    "name": "ipython",
    "version": 3
   },
   "file_extension": ".py",
   "mimetype": "text/x-python",
   "name": "python",
   "nbconvert_exporter": "python",
   "pygments_lexer": "ipython3",
   "version": "3.9.13"
  },
  "latex_envs": {
   "LaTeX_envs_menu_present": true,
   "autoclose": false,
   "autocomplete": true,
   "bibliofile": "biblio.bib",
   "cite_by": "apalike",
   "current_citInitial": 1,
   "eqLabelWithNumbers": true,
   "eqNumInitial": 1,
   "hotkeys": {
    "equation": "Ctrl-E",
    "itemize": "Ctrl-I"
   },
   "labels_anchors": false,
   "latex_user_defs": false,
   "report_style_numbering": false,
   "user_envs_cfg": false
  }
 },
 "nbformat": 4,
 "nbformat_minor": 5
}
