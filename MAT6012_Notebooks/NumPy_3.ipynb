{
 "cells": [
  {
   "cell_type": "code",
   "execution_count": 1,
   "id": "68ace082",
   "metadata": {},
   "outputs": [],
   "source": [
    "import numpy as np"
   ]
  },
  {
   "cell_type": "code",
   "execution_count": 4,
   "id": "9b7b9fc0",
   "metadata": {},
   "outputs": [],
   "source": [
    "a = np.arange(0,10,3)"
   ]
  },
  {
   "cell_type": "code",
   "execution_count": 5,
   "id": "52499ad6",
   "metadata": {},
   "outputs": [
    {
     "data": {
      "text/plain": [
       "array([0, 3, 6, 9])"
      ]
     },
     "execution_count": 5,
     "metadata": {},
     "output_type": "execute_result"
    }
   ],
   "source": [
    "a"
   ]
  },
  {
   "cell_type": "code",
   "execution_count": 8,
   "id": "d74b9fca",
   "metadata": {},
   "outputs": [],
   "source": [
    "b = np.linspace(-10,0,20)"
   ]
  },
  {
   "cell_type": "code",
   "execution_count": 9,
   "id": "97b06c8f",
   "metadata": {},
   "outputs": [
    {
     "data": {
      "text/plain": [
       "array([-10.        ,  -9.47368421,  -8.94736842,  -8.42105263,\n",
       "        -7.89473684,  -7.36842105,  -6.84210526,  -6.31578947,\n",
       "        -5.78947368,  -5.26315789,  -4.73684211,  -4.21052632,\n",
       "        -3.68421053,  -3.15789474,  -2.63157895,  -2.10526316,\n",
       "        -1.57894737,  -1.05263158,  -0.52631579,   0.        ])"
      ]
     },
     "execution_count": 9,
     "metadata": {},
     "output_type": "execute_result"
    }
   ],
   "source": [
    "b"
   ]
  },
  {
   "cell_type": "code",
   "execution_count": 10,
   "id": "115b9175",
   "metadata": {},
   "outputs": [],
   "source": [
    "a = np.array([[1,2,3,4],[5,6,7,8],[9,10,11,12]])"
   ]
  },
  {
   "cell_type": "code",
   "execution_count": 11,
   "id": "d226e294",
   "metadata": {},
   "outputs": [
    {
     "data": {
      "text/plain": [
       "array([[ 1,  2,  3,  4],\n",
       "       [ 5,  6,  7,  8],\n",
       "       [ 9, 10, 11, 12]])"
      ]
     },
     "execution_count": 11,
     "metadata": {},
     "output_type": "execute_result"
    }
   ],
   "source": [
    "a"
   ]
  },
  {
   "cell_type": "code",
   "execution_count": 12,
   "id": "25eaf998",
   "metadata": {},
   "outputs": [
    {
     "data": {
      "text/plain": [
       "2"
      ]
     },
     "execution_count": 12,
     "metadata": {},
     "output_type": "execute_result"
    }
   ],
   "source": [
    "a.ndim"
   ]
  },
  {
   "cell_type": "code",
   "execution_count": 13,
   "id": "ae872b7d",
   "metadata": {},
   "outputs": [
    {
     "data": {
      "text/plain": [
       "(3, 4)"
      ]
     },
     "execution_count": 13,
     "metadata": {},
     "output_type": "execute_result"
    }
   ],
   "source": [
    "a.shape"
   ]
  },
  {
   "cell_type": "code",
   "execution_count": 14,
   "id": "6e7df44b",
   "metadata": {},
   "outputs": [],
   "source": [
    "b = a.reshape(4,3)"
   ]
  },
  {
   "cell_type": "code",
   "execution_count": 15,
   "id": "eac7144d",
   "metadata": {},
   "outputs": [
    {
     "data": {
      "text/plain": [
       "array([[ 1,  2,  3],\n",
       "       [ 4,  5,  6],\n",
       "       [ 7,  8,  9],\n",
       "       [10, 11, 12]])"
      ]
     },
     "execution_count": 15,
     "metadata": {},
     "output_type": "execute_result"
    }
   ],
   "source": [
    "b"
   ]
  },
  {
   "cell_type": "code",
   "execution_count": 16,
   "id": "8d7679c0",
   "metadata": {},
   "outputs": [
    {
     "data": {
      "text/plain": [
       "(4, 3)"
      ]
     },
     "execution_count": 16,
     "metadata": {},
     "output_type": "execute_result"
    }
   ],
   "source": [
    "b.shape"
   ]
  },
  {
   "cell_type": "code",
   "execution_count": 18,
   "id": "34fbf2c6",
   "metadata": {},
   "outputs": [],
   "source": [
    "c = a.reshape(2,3,2)"
   ]
  },
  {
   "cell_type": "code",
   "execution_count": 19,
   "id": "8e517cea",
   "metadata": {},
   "outputs": [
    {
     "data": {
      "text/plain": [
       "array([[[ 1,  2],\n",
       "        [ 3,  4],\n",
       "        [ 5,  6]],\n",
       "\n",
       "       [[ 7,  8],\n",
       "        [ 9, 10],\n",
       "        [11, 12]]])"
      ]
     },
     "execution_count": 19,
     "metadata": {},
     "output_type": "execute_result"
    }
   ],
   "source": [
    "c"
   ]
  },
  {
   "cell_type": "code",
   "execution_count": 21,
   "id": "0dd44abd",
   "metadata": {},
   "outputs": [
    {
     "data": {
      "text/plain": [
       "(2, 3, 2)"
      ]
     },
     "execution_count": 21,
     "metadata": {},
     "output_type": "execute_result"
    }
   ],
   "source": [
    "c.shape"
   ]
  },
  {
   "cell_type": "code",
   "execution_count": 22,
   "id": "186d7998",
   "metadata": {},
   "outputs": [
    {
     "data": {
      "text/plain": [
       "array([ 1,  2,  3,  4,  5,  6,  7,  8,  9, 10, 11, 12])"
      ]
     },
     "execution_count": 22,
     "metadata": {},
     "output_type": "execute_result"
    }
   ],
   "source": [
    "c.flatten()"
   ]
  },
  {
   "cell_type": "code",
   "execution_count": 23,
   "id": "94fde27b",
   "metadata": {},
   "outputs": [
    {
     "data": {
      "text/plain": [
       "array([[ 1,  2,  3,  4],\n",
       "       [ 5,  6,  7,  8],\n",
       "       [ 9, 10, 11, 12]])"
      ]
     },
     "execution_count": 23,
     "metadata": {},
     "output_type": "execute_result"
    }
   ],
   "source": [
    "a"
   ]
  },
  {
   "cell_type": "code",
   "execution_count": 24,
   "id": "66f9bc9b",
   "metadata": {},
   "outputs": [
    {
     "data": {
      "text/plain": [
       "(3, 4)"
      ]
     },
     "execution_count": 24,
     "metadata": {},
     "output_type": "execute_result"
    }
   ],
   "source": [
    "a.shape"
   ]
  },
  {
   "cell_type": "code",
   "execution_count": 25,
   "id": "9eab8754",
   "metadata": {},
   "outputs": [],
   "source": [
    "O = np.zeros(a.shape)"
   ]
  },
  {
   "cell_type": "code",
   "execution_count": 26,
   "id": "d5f5a686",
   "metadata": {},
   "outputs": [
    {
     "data": {
      "text/plain": [
       "array([[0., 0., 0., 0.],\n",
       "       [0., 0., 0., 0.],\n",
       "       [0., 0., 0., 0.]])"
      ]
     },
     "execution_count": 26,
     "metadata": {},
     "output_type": "execute_result"
    }
   ],
   "source": [
    "O"
   ]
  },
  {
   "cell_type": "code",
   "execution_count": 27,
   "id": "b188085e",
   "metadata": {},
   "outputs": [],
   "source": [
    "O1 = np.zeros_like(a)"
   ]
  },
  {
   "cell_type": "code",
   "execution_count": 28,
   "id": "49d66b1a",
   "metadata": {},
   "outputs": [
    {
     "data": {
      "text/plain": [
       "array([[0, 0, 0, 0],\n",
       "       [0, 0, 0, 0],\n",
       "       [0, 0, 0, 0]])"
      ]
     },
     "execution_count": 28,
     "metadata": {},
     "output_type": "execute_result"
    }
   ],
   "source": [
    "O1"
   ]
  },
  {
   "cell_type": "code",
   "execution_count": 29,
   "id": "fa3b2a88",
   "metadata": {},
   "outputs": [
    {
     "data": {
      "text/plain": [
       "array([[0.13034498, 0.16264559, 0.99262582],\n",
       "       [0.98135595, 0.70809128, 0.49863672]])"
      ]
     },
     "execution_count": 29,
     "metadata": {},
     "output_type": "execute_result"
    }
   ],
   "source": [
    "np.random.random((2,3))"
   ]
  },
  {
   "cell_type": "code",
   "execution_count": 30,
   "id": "65630ae1",
   "metadata": {},
   "outputs": [],
   "source": [
    "a = np.random.rand(5,4)"
   ]
  },
  {
   "cell_type": "code",
   "execution_count": 31,
   "id": "b234bbde",
   "metadata": {},
   "outputs": [
    {
     "data": {
      "text/plain": [
       "array([[0.54386133, 0.85582814, 0.67094719, 0.43048889],\n",
       "       [0.64879865, 0.25531965, 0.86876955, 0.55525017],\n",
       "       [0.59248   , 0.25710986, 0.88133172, 0.51002567],\n",
       "       [0.17248014, 0.32646354, 0.04518304, 0.47870044],\n",
       "       [0.34074456, 0.40085009, 0.48528229, 0.46882893]])"
      ]
     },
     "execution_count": 31,
     "metadata": {},
     "output_type": "execute_result"
    }
   ],
   "source": [
    "a"
   ]
  },
  {
   "cell_type": "code",
   "execution_count": 32,
   "id": "8ed7453a",
   "metadata": {},
   "outputs": [
    {
     "data": {
      "text/plain": [
       "0.5438613252432335"
      ]
     },
     "execution_count": 32,
     "metadata": {},
     "output_type": "execute_result"
    }
   ],
   "source": [
    "a[0,0]"
   ]
  },
  {
   "cell_type": "code",
   "execution_count": 33,
   "id": "8f671a9e",
   "metadata": {},
   "outputs": [
    {
     "data": {
      "text/plain": [
       "array([0.54386133, 0.85582814, 0.67094719, 0.43048889])"
      ]
     },
     "execution_count": 33,
     "metadata": {},
     "output_type": "execute_result"
    }
   ],
   "source": [
    "a[0]"
   ]
  },
  {
   "cell_type": "code",
   "execution_count": 34,
   "id": "53e6ef37",
   "metadata": {},
   "outputs": [
    {
     "data": {
      "text/plain": [
       "array([0.54386133, 0.85582814, 0.67094719, 0.43048889])"
      ]
     },
     "execution_count": 34,
     "metadata": {},
     "output_type": "execute_result"
    }
   ],
   "source": [
    "a[0,:]"
   ]
  },
  {
   "cell_type": "code",
   "execution_count": 35,
   "id": "4b2b4b28",
   "metadata": {},
   "outputs": [
    {
     "data": {
      "text/plain": [
       "array([0.59248   , 0.25710986, 0.88133172, 0.51002567])"
      ]
     },
     "execution_count": 35,
     "metadata": {},
     "output_type": "execute_result"
    }
   ],
   "source": [
    "a[2]"
   ]
  },
  {
   "cell_type": "code",
   "execution_count": 36,
   "id": "1ee5ed73",
   "metadata": {},
   "outputs": [
    {
     "data": {
      "text/plain": [
       "array([0.59248   , 0.25710986, 0.88133172, 0.51002567])"
      ]
     },
     "execution_count": 36,
     "metadata": {},
     "output_type": "execute_result"
    }
   ],
   "source": [
    "a[2,:]"
   ]
  },
  {
   "cell_type": "code",
   "execution_count": 37,
   "id": "409ef0dd",
   "metadata": {},
   "outputs": [
    {
     "data": {
      "text/plain": [
       "array([[0.54386133, 0.85582814, 0.67094719, 0.43048889],\n",
       "       [0.64879865, 0.25531965, 0.86876955, 0.55525017],\n",
       "       [0.59248   , 0.25710986, 0.88133172, 0.51002567],\n",
       "       [0.17248014, 0.32646354, 0.04518304, 0.47870044],\n",
       "       [0.34074456, 0.40085009, 0.48528229, 0.46882893]])"
      ]
     },
     "execution_count": 37,
     "metadata": {},
     "output_type": "execute_result"
    }
   ],
   "source": [
    "a"
   ]
  },
  {
   "cell_type": "code",
   "execution_count": 38,
   "id": "1489cc6c",
   "metadata": {},
   "outputs": [
    {
     "data": {
      "text/plain": [
       "array([0.67094719, 0.86876955, 0.88133172, 0.04518304, 0.48528229])"
      ]
     },
     "execution_count": 38,
     "metadata": {},
     "output_type": "execute_result"
    }
   ],
   "source": [
    "a[:,2]"
   ]
  },
  {
   "cell_type": "code",
   "execution_count": 40,
   "id": "e60fab8f",
   "metadata": {},
   "outputs": [
    {
     "data": {
      "text/plain": [
       "array([0.54386133, 0.67094719])"
      ]
     },
     "execution_count": 40,
     "metadata": {},
     "output_type": "execute_result"
    }
   ],
   "source": [
    "a[0,[0,2]]"
   ]
  },
  {
   "cell_type": "code",
   "execution_count": 41,
   "id": "e88def4b",
   "metadata": {},
   "outputs": [
    {
     "data": {
      "text/plain": [
       "array([[0.54386133, 0.85582814, 0.67094719, 0.43048889],\n",
       "       [0.64879865, 0.25531965, 0.86876955, 0.55525017],\n",
       "       [0.59248   , 0.25710986, 0.88133172, 0.51002567],\n",
       "       [0.17248014, 0.32646354, 0.04518304, 0.47870044],\n",
       "       [0.34074456, 0.40085009, 0.48528229, 0.46882893]])"
      ]
     },
     "execution_count": 41,
     "metadata": {},
     "output_type": "execute_result"
    }
   ],
   "source": [
    "a"
   ]
  },
  {
   "cell_type": "code",
   "execution_count": 42,
   "id": "a4517e08",
   "metadata": {},
   "outputs": [
    {
     "data": {
      "text/plain": [
       "array([0.85582814, 0.25710986, 0.40085009])"
      ]
     },
     "execution_count": 42,
     "metadata": {},
     "output_type": "execute_result"
    }
   ],
   "source": [
    "a[[0,2,4],1]"
   ]
  },
  {
   "cell_type": "code",
   "execution_count": 43,
   "id": "fece8e08",
   "metadata": {},
   "outputs": [
    {
     "data": {
      "text/plain": [
       "array([0.85582814, 0.25710986, 0.40085009])"
      ]
     },
     "execution_count": 43,
     "metadata": {},
     "output_type": "execute_result"
    }
   ],
   "source": [
    "a[0:5:2,1]"
   ]
  },
  {
   "cell_type": "code",
   "execution_count": 44,
   "id": "8771c53d",
   "metadata": {},
   "outputs": [
    {
     "data": {
      "text/plain": [
       "array([[0.54386133, 0.85582814, 0.67094719, 0.43048889],\n",
       "       [0.64879865, 0.25531965, 0.86876955, 0.55525017],\n",
       "       [0.59248   , 0.25710986, 0.88133172, 0.51002567],\n",
       "       [0.17248014, 0.32646354, 0.04518304, 0.47870044],\n",
       "       [0.34074456, 0.40085009, 0.48528229, 0.46882893]])"
      ]
     },
     "execution_count": 44,
     "metadata": {},
     "output_type": "execute_result"
    }
   ],
   "source": [
    "a"
   ]
  },
  {
   "cell_type": "code",
   "execution_count": 64,
   "id": "7501afb1",
   "metadata": {},
   "outputs": [
    {
     "data": {
      "text/plain": [
       "array([3.        , 0.67094719, 0.59248   , 0.88133172])"
      ]
     },
     "execution_count": 64,
     "metadata": {},
     "output_type": "execute_result"
    }
   ],
   "source": [
    "a[[0,0,2,2],[0,2,0,2]]"
   ]
  },
  {
   "cell_type": "code",
   "execution_count": 63,
   "id": "19209321",
   "metadata": {},
   "outputs": [
    {
     "data": {
      "text/plain": [
       "array([[3.        , 0.67094719],\n",
       "       [0.59248   , 0.88133172]])"
      ]
     },
     "execution_count": 63,
     "metadata": {},
     "output_type": "execute_result"
    }
   ],
   "source": [
    "a[0:3:2,0:3:2]"
   ]
  },
  {
   "cell_type": "code",
   "execution_count": 50,
   "id": "4ad58a93",
   "metadata": {},
   "outputs": [],
   "source": [
    "a[0,0:2] = [1,2]"
   ]
  },
  {
   "cell_type": "code",
   "execution_count": 51,
   "id": "e5bd31fd",
   "metadata": {},
   "outputs": [
    {
     "data": {
      "text/plain": [
       "array([[1.        , 2.        , 0.67094719, 0.43048889],\n",
       "       [0.64879865, 0.25531965, 0.86876955, 0.55525017],\n",
       "       [0.59248   , 0.25710986, 0.88133172, 0.51002567],\n",
       "       [0.17248014, 0.32646354, 0.04518304, 0.47870044],\n",
       "       [0.34074456, 0.40085009, 0.48528229, 0.46882893]])"
      ]
     },
     "execution_count": 51,
     "metadata": {},
     "output_type": "execute_result"
    }
   ],
   "source": [
    "a"
   ]
  },
  {
   "cell_type": "code",
   "execution_count": 52,
   "id": "a03b478f",
   "metadata": {},
   "outputs": [],
   "source": [
    "b = a[0,0:2]"
   ]
  },
  {
   "cell_type": "code",
   "execution_count": 53,
   "id": "9e2105d6",
   "metadata": {},
   "outputs": [
    {
     "data": {
      "text/plain": [
       "array([1., 2.])"
      ]
     },
     "execution_count": 53,
     "metadata": {},
     "output_type": "execute_result"
    }
   ],
   "source": [
    "b"
   ]
  },
  {
   "cell_type": "code",
   "execution_count": 55,
   "id": "8061eba6",
   "metadata": {},
   "outputs": [],
   "source": [
    "b[0] = 3"
   ]
  },
  {
   "cell_type": "code",
   "execution_count": 57,
   "id": "8600a959",
   "metadata": {},
   "outputs": [
    {
     "data": {
      "text/plain": [
       "array([[3.        , 2.        , 0.67094719, 0.43048889],\n",
       "       [0.64879865, 0.25531965, 0.86876955, 0.55525017],\n",
       "       [0.59248   , 0.25710986, 0.88133172, 0.51002567],\n",
       "       [0.17248014, 0.32646354, 0.04518304, 0.47870044],\n",
       "       [0.34074456, 0.40085009, 0.48528229, 0.46882893]])"
      ]
     },
     "execution_count": 57,
     "metadata": {},
     "output_type": "execute_result"
    }
   ],
   "source": [
    "a"
   ]
  },
  {
   "cell_type": "code",
   "execution_count": 58,
   "id": "e488eed5",
   "metadata": {},
   "outputs": [],
   "source": [
    "c = a[0,0:2].copy()"
   ]
  },
  {
   "cell_type": "code",
   "execution_count": 59,
   "id": "db068cb9",
   "metadata": {},
   "outputs": [
    {
     "data": {
      "text/plain": [
       "array([3., 2.])"
      ]
     },
     "execution_count": 59,
     "metadata": {},
     "output_type": "execute_result"
    }
   ],
   "source": [
    "c"
   ]
  },
  {
   "cell_type": "code",
   "execution_count": 60,
   "id": "e7dc926e",
   "metadata": {},
   "outputs": [],
   "source": [
    "c[0] = 5"
   ]
  },
  {
   "cell_type": "code",
   "execution_count": 61,
   "id": "74799f4f",
   "metadata": {},
   "outputs": [
    {
     "data": {
      "text/plain": [
       "array([[3.        , 2.        , 0.67094719, 0.43048889],\n",
       "       [0.64879865, 0.25531965, 0.86876955, 0.55525017],\n",
       "       [0.59248   , 0.25710986, 0.88133172, 0.51002567],\n",
       "       [0.17248014, 0.32646354, 0.04518304, 0.47870044],\n",
       "       [0.34074456, 0.40085009, 0.48528229, 0.46882893]])"
      ]
     },
     "execution_count": 61,
     "metadata": {},
     "output_type": "execute_result"
    }
   ],
   "source": [
    "a"
   ]
  },
  {
   "cell_type": "code",
   "execution_count": null,
   "id": "80b8133d",
   "metadata": {},
   "outputs": [],
   "source": []
  }
 ],
 "metadata": {
  "kernelspec": {
   "display_name": "Python 3 (ipykernel)",
   "language": "python",
   "name": "python3"
  },
  "language_info": {
   "codemirror_mode": {
    "name": "ipython",
    "version": 3
   },
   "file_extension": ".py",
   "mimetype": "text/x-python",
   "name": "python",
   "nbconvert_exporter": "python",
   "pygments_lexer": "ipython3",
   "version": "3.10.13"
  },
  "latex_envs": {
   "LaTeX_envs_menu_present": true,
   "autoclose": true,
   "autocomplete": true,
   "bibliofile": "biblio.bib",
   "cite_by": "apalike",
   "current_citInitial": 1,
   "eqLabelWithNumbers": true,
   "eqNumInitial": 1,
   "hotkeys": {
    "equation": "Ctrl-E",
    "itemize": "Ctrl-I"
   },
   "labels_anchors": false,
   "latex_user_defs": false,
   "report_style_numbering": false,
   "user_envs_cfg": false
  }
 },
 "nbformat": 4,
 "nbformat_minor": 5
}
