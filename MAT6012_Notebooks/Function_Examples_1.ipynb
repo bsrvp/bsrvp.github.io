{
 "cells": [
  {
   "cell_type": "code",
   "execution_count": 28,
   "id": "185ddbee",
   "metadata": {},
   "outputs": [],
   "source": [
    "def divisorsum(n):\n",
    "    dsum = 0\n",
    "    for i in range(1,n):\n",
    "        if n%i == 0:\n",
    "            dsum = dsum+i\n",
    "    return dsum\n",
    "\n",
    "def num_type(n):\n",
    "#    psum = divisorsum(n)\n",
    "    if divisorsum(n) == n:\n",
    "        print(f'The number {n} is Perfect and Amicable')\n",
    "    elif divisorsum(divisorsum(n)) == n:\n",
    "        print(f'The number {n} is Amicable')\n",
    "    else:\n",
    "        print(f'The number {n} is neither Perfect and nor Amicable')"
   ]
  },
  {
   "cell_type": "code",
   "execution_count": 29,
   "id": "5cd00d88",
   "metadata": {},
   "outputs": [
    {
     "name": "stdout",
     "output_type": "stream",
     "text": [
      "The number 6 is Perfect and Amicable\n"
     ]
    }
   ],
   "source": [
    "num_type(6)"
   ]
  },
  {
   "cell_type": "code",
   "execution_count": 23,
   "id": "640952df",
   "metadata": {},
   "outputs": [
    {
     "name": "stdout",
     "output_type": "stream",
     "text": [
      "The number 2924 is Amicable\n"
     ]
    }
   ],
   "source": [
    "num_type(2924)"
   ]
  },
  {
   "cell_type": "code",
   "execution_count": 24,
   "id": "6f9ced43",
   "metadata": {},
   "outputs": [
    {
     "name": "stdout",
     "output_type": "stream",
     "text": [
      "The number 10 is neither Perfect and nor Amicable\n"
     ]
    }
   ],
   "source": [
    "num_type(10)"
   ]
  },
  {
   "cell_type": "code",
   "execution_count": 25,
   "id": "1b7ff582",
   "metadata": {},
   "outputs": [
    {
     "name": "stdout",
     "output_type": "stream",
     "text": [
      "The number 1 is neither Perfect and nor Amicable\n",
      "The number 2 is neither Perfect and nor Amicable\n",
      "The number 3 is neither Perfect and nor Amicable\n",
      "The number 4 is neither Perfect and nor Amicable\n",
      "The number 5 is neither Perfect and nor Amicable\n",
      "The number 6 is Perfect and Amicable\n",
      "The number 7 is neither Perfect and nor Amicable\n",
      "The number 8 is neither Perfect and nor Amicable\n",
      "The number 9 is neither Perfect and nor Amicable\n",
      "The number 10 is neither Perfect and nor Amicable\n",
      "The number 11 is neither Perfect and nor Amicable\n",
      "The number 12 is neither Perfect and nor Amicable\n",
      "The number 13 is neither Perfect and nor Amicable\n",
      "The number 14 is neither Perfect and nor Amicable\n",
      "The number 15 is neither Perfect and nor Amicable\n",
      "The number 16 is neither Perfect and nor Amicable\n",
      "The number 17 is neither Perfect and nor Amicable\n",
      "The number 18 is neither Perfect and nor Amicable\n",
      "The number 19 is neither Perfect and nor Amicable\n",
      "The number 20 is neither Perfect and nor Amicable\n",
      "The number 21 is neither Perfect and nor Amicable\n",
      "The number 22 is neither Perfect and nor Amicable\n",
      "The number 23 is neither Perfect and nor Amicable\n",
      "The number 24 is neither Perfect and nor Amicable\n",
      "The number 25 is neither Perfect and nor Amicable\n",
      "The number 26 is neither Perfect and nor Amicable\n",
      "The number 27 is neither Perfect and nor Amicable\n",
      "The number 28 is Perfect and Amicable\n",
      "The number 29 is neither Perfect and nor Amicable\n",
      "The number 30 is neither Perfect and nor Amicable\n",
      "The number 31 is neither Perfect and nor Amicable\n",
      "The number 32 is neither Perfect and nor Amicable\n",
      "The number 33 is neither Perfect and nor Amicable\n",
      "The number 34 is neither Perfect and nor Amicable\n",
      "The number 35 is neither Perfect and nor Amicable\n",
      "The number 36 is neither Perfect and nor Amicable\n",
      "The number 37 is neither Perfect and nor Amicable\n",
      "The number 38 is neither Perfect and nor Amicable\n",
      "The number 39 is neither Perfect and nor Amicable\n",
      "The number 40 is neither Perfect and nor Amicable\n",
      "The number 41 is neither Perfect and nor Amicable\n",
      "The number 42 is neither Perfect and nor Amicable\n",
      "The number 43 is neither Perfect and nor Amicable\n",
      "The number 44 is neither Perfect and nor Amicable\n",
      "The number 45 is neither Perfect and nor Amicable\n",
      "The number 46 is neither Perfect and nor Amicable\n",
      "The number 47 is neither Perfect and nor Amicable\n",
      "The number 48 is neither Perfect and nor Amicable\n",
      "The number 49 is neither Perfect and nor Amicable\n",
      "The number 50 is neither Perfect and nor Amicable\n",
      "The number 51 is neither Perfect and nor Amicable\n",
      "The number 52 is neither Perfect and nor Amicable\n",
      "The number 53 is neither Perfect and nor Amicable\n",
      "The number 54 is neither Perfect and nor Amicable\n",
      "The number 55 is neither Perfect and nor Amicable\n",
      "The number 56 is neither Perfect and nor Amicable\n",
      "The number 57 is neither Perfect and nor Amicable\n",
      "The number 58 is neither Perfect and nor Amicable\n",
      "The number 59 is neither Perfect and nor Amicable\n",
      "The number 60 is neither Perfect and nor Amicable\n",
      "The number 61 is neither Perfect and nor Amicable\n",
      "The number 62 is neither Perfect and nor Amicable\n",
      "The number 63 is neither Perfect and nor Amicable\n",
      "The number 64 is neither Perfect and nor Amicable\n",
      "The number 65 is neither Perfect and nor Amicable\n",
      "The number 66 is neither Perfect and nor Amicable\n",
      "The number 67 is neither Perfect and nor Amicable\n",
      "The number 68 is neither Perfect and nor Amicable\n",
      "The number 69 is neither Perfect and nor Amicable\n",
      "The number 70 is neither Perfect and nor Amicable\n",
      "The number 71 is neither Perfect and nor Amicable\n",
      "The number 72 is neither Perfect and nor Amicable\n",
      "The number 73 is neither Perfect and nor Amicable\n",
      "The number 74 is neither Perfect and nor Amicable\n",
      "The number 75 is neither Perfect and nor Amicable\n",
      "The number 76 is neither Perfect and nor Amicable\n",
      "The number 77 is neither Perfect and nor Amicable\n",
      "The number 78 is neither Perfect and nor Amicable\n",
      "The number 79 is neither Perfect and nor Amicable\n",
      "The number 80 is neither Perfect and nor Amicable\n",
      "The number 81 is neither Perfect and nor Amicable\n",
      "The number 82 is neither Perfect and nor Amicable\n",
      "The number 83 is neither Perfect and nor Amicable\n",
      "The number 84 is neither Perfect and nor Amicable\n",
      "The number 85 is neither Perfect and nor Amicable\n",
      "The number 86 is neither Perfect and nor Amicable\n",
      "The number 87 is neither Perfect and nor Amicable\n",
      "The number 88 is neither Perfect and nor Amicable\n",
      "The number 89 is neither Perfect and nor Amicable\n",
      "The number 90 is neither Perfect and nor Amicable\n",
      "The number 91 is neither Perfect and nor Amicable\n",
      "The number 92 is neither Perfect and nor Amicable\n",
      "The number 93 is neither Perfect and nor Amicable\n",
      "The number 94 is neither Perfect and nor Amicable\n",
      "The number 95 is neither Perfect and nor Amicable\n",
      "The number 96 is neither Perfect and nor Amicable\n",
      "The number 97 is neither Perfect and nor Amicable\n",
      "The number 98 is neither Perfect and nor Amicable\n",
      "The number 99 is neither Perfect and nor Amicable\n"
     ]
    }
   ],
   "source": [
    "for i in range(1,100):\n",
    "    num_type(i)"
   ]
  },
  {
   "cell_type": "code",
   "execution_count": 45,
   "id": "b5938f4e",
   "metadata": {},
   "outputs": [],
   "source": [
    "def euclidDistance(p1,p2):\n",
    "    if len(p1) != len(p2):\n",
    "        print('The points are of different size')\n",
    "        return\n",
    "    else:\n",
    "        n = len(p1)\n",
    "    distance = 0\n",
    "#    distance = sum([(p1[i]-p2[i])**2 for i in range(1,n)])**0.5\n",
    "    for i in range(1,n):\n",
    "        distance = distance + (p1[i]-p2[i])**2\n",
    "    distance = distance**0.5\n",
    "    return distance"
   ]
  },
  {
   "cell_type": "code",
   "execution_count": 46,
   "id": "cbe96de5",
   "metadata": {},
   "outputs": [
    {
     "name": "stdout",
     "output_type": "stream",
     "text": [
      "The distance between (1, 4, 6) and (1, 2, 3) is 3.605551275463989\n"
     ]
    }
   ],
   "source": [
    "p1 = (1,4,6)\n",
    "p2 = (1,2,3)\n",
    "print(f'The distance between {p1} and {p2} is {euclidDistance(p1,p2)}')"
   ]
  },
  {
   "cell_type": "code",
   "execution_count": 41,
   "id": "473fa52e",
   "metadata": {},
   "outputs": [],
   "source": [
    "L = [1,2,3]"
   ]
  },
  {
   "cell_type": "code",
   "execution_count": 42,
   "id": "49e95beb",
   "metadata": {},
   "outputs": [
    {
     "data": {
      "text/plain": [
       "6"
      ]
     },
     "execution_count": 42,
     "metadata": {},
     "output_type": "execute_result"
    }
   ],
   "source": [
    "sum(L)"
   ]
  },
  {
   "cell_type": "markdown",
   "id": "bd6d1f72",
   "metadata": {},
   "source": [
    "Write a Python function program which takes a string (combination of numerals and literals) and revereses the numerals, literals separatly and then reverses the whole string.\n",
    "\n",
    "For example consider the string \"1234ABCD\".  The output of the program should be \"DCBA4321\""
   ]
  },
  {
   "cell_type": "code",
   "execution_count": 63,
   "id": "53e8cb0e",
   "metadata": {},
   "outputs": [],
   "source": [
    "def revnumstr(str1):\n",
    "    numStr = [x for x in str1 if x.isnumeric() == True]\n",
    "    strStr = [x for x in str1 if x.isalpha() == True]\n",
    "    if str1[0].isnumeric():\n",
    "        revnumStr = \"\".join(strStr[::-1])+\"\".join(numStr[::-1])\n",
    "    else:\n",
    "        revnumStr = \"\".join(numStr[::-1])+\"\".join(strStr[::-1])\n",
    "    return revnumStr"
   ]
  },
  {
   "cell_type": "code",
   "execution_count": 47,
   "id": "63b8ced8",
   "metadata": {},
   "outputs": [],
   "source": [
    "L = ['1','2','3']"
   ]
  },
  {
   "cell_type": "code",
   "execution_count": 53,
   "id": "cf3a3e2f",
   "metadata": {},
   "outputs": [
    {
     "data": {
      "text/plain": [
       "'3 2 1'"
      ]
     },
     "execution_count": 53,
     "metadata": {},
     "output_type": "execute_result"
    }
   ],
   "source": [
    "\" \".join(L[::-1])"
   ]
  },
  {
   "cell_type": "code",
   "execution_count": 58,
   "id": "1c297373",
   "metadata": {},
   "outputs": [
    {
     "data": {
      "text/plain": [
       "'String1 and String2'"
      ]
     },
     "execution_count": 58,
     "metadata": {},
     "output_type": "execute_result"
    }
   ],
   "source": [
    "\" and \".join([\"String1\",\"String2\"])"
   ]
  },
  {
   "cell_type": "code",
   "execution_count": 64,
   "id": "3c02fa13",
   "metadata": {},
   "outputs": [
    {
     "data": {
      "text/plain": [
       "'DCBA4321'"
      ]
     },
     "execution_count": 64,
     "metadata": {},
     "output_type": "execute_result"
    }
   ],
   "source": [
    "revnumstr('1234ABCD')"
   ]
  },
  {
   "cell_type": "code",
   "execution_count": 65,
   "id": "a61a7970",
   "metadata": {},
   "outputs": [
    {
     "data": {
      "text/plain": [
       "'4321DCBA'"
      ]
     },
     "execution_count": 65,
     "metadata": {},
     "output_type": "execute_result"
    }
   ],
   "source": [
    "revnumstr('ABCD1234')"
   ]
  },
  {
   "cell_type": "markdown",
   "id": "fce55165",
   "metadata": {},
   "source": [
    "1234ABCD567XYZ\n",
    "ZYX765DCBA4321\n",
    "\n",
    "ABCD1234XYZ567\n",
    "765ZYX4321DCBA"
   ]
  },
  {
   "cell_type": "markdown",
   "id": "0d487972",
   "metadata": {},
   "source": [
    "              *\n",
    "             * *\n",
    "            * * *\n",
    "           * * * *\n",
    "          * * * * * "
   ]
  },
  {
   "cell_type": "code",
   "execution_count": 79,
   "id": "9d004d90",
   "metadata": {},
   "outputs": [
    {
     "name": "stdout",
     "output_type": "stream",
     "text": [
      "      \n",
      "      *  \n",
      "      *  *  \n",
      "      *  *  *  \n",
      "      *  *  *  *  \n",
      "      *  *  *  *  *  \n"
     ]
    }
   ],
   "source": [
    "for i in range(0,6):\n",
    "    for k in range(0,3):\n",
    "        print(\" \",end=\" \")\n",
    "    for j in range(0,i):\n",
    "        print(\"* \",end=\" \")\n",
    "    print(\"\")"
   ]
  },
  {
   "cell_type": "code",
   "execution_count": null,
   "id": "4a42a2cc",
   "metadata": {},
   "outputs": [],
   "source": []
  }
 ],
 "metadata": {
  "kernelspec": {
   "display_name": "Python 3 (ipykernel)",
   "language": "python",
   "name": "python3"
  },
  "language_info": {
   "codemirror_mode": {
    "name": "ipython",
    "version": 3
   },
   "file_extension": ".py",
   "mimetype": "text/x-python",
   "name": "python",
   "nbconvert_exporter": "python",
   "pygments_lexer": "ipython3",
   "version": "3.9.16"
  },
  "latex_envs": {
   "LaTeX_envs_menu_present": true,
   "autoclose": true,
   "autocomplete": true,
   "bibliofile": "biblio.bib",
   "cite_by": "apalike",
   "current_citInitial": 1,
   "eqLabelWithNumbers": true,
   "eqNumInitial": 1,
   "hotkeys": {
    "equation": "Ctrl-E",
    "itemize": "Ctrl-I"
   },
   "labels_anchors": false,
   "latex_user_defs": false,
   "report_style_numbering": false,
   "user_envs_cfg": false
  }
 },
 "nbformat": 4,
 "nbformat_minor": 5
}
