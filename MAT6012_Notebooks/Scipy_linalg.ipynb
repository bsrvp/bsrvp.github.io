{
 "cells": [
  {
   "cell_type": "markdown",
   "id": "66036885",
   "metadata": {},
   "source": [
    "### Scipy.linalg Package\n",
    "- `scipy.linalg` package contains the linear algebraic functions to perform the operations on the matrices, solve the system of equations\n",
    " - `scipy.linalg` functions are coplied with BLAS/LAPACK support, which results in a faster execution"
   ]
  },
  {
   "cell_type": "markdown",
   "id": "08c4dc9d",
   "metadata": {},
   "source": [
    "### Solving Linear Equations\n",
    "- The `scipy.linalg.solve` feature solves the linear (system of) equations for the unknowns\n",
    "- As an example, consider solving the sytem\n",
    "$$\n",
    "\\begin{align*}\n",
    "x + 2y + 5z &= 9\\\\\n",
    "2x - 5y + z &= 8\\\\\n",
    "2x - 3y + 8z &= 2\n",
    "\\end{align*}\n",
    "$$"
   ]
  },
  {
   "cell_type": "code",
   "execution_count": 1,
   "id": "e31601fc",
   "metadata": {},
   "outputs": [
    {
     "name": "stdout",
     "output_type": "stream",
     "text": [
      "[11.71111111  2.75555556 -1.64444444]\n"
     ]
    }
   ],
   "source": [
    "import numpy as np\n",
    "from scipy.linalg import solve\n",
    "\n",
    "A = np.array([[1,2,5],[2,-5,1],[2,-3,8]])\n",
    "b = np.array([9,8,2])\n",
    "\n",
    "x = solve(A,b)\n",
    "print(x)"
   ]
  },
  {
   "cell_type": "markdown",
   "id": "bd4df49d",
   "metadata": {},
   "source": [
    "### Finding a Determinant, Eigenvalues and Eigenvectors\n",
    "- We can use `scipy.linalg.det` function to find the determinant of the given matrix."
   ]
  },
  {
   "cell_type": "code",
   "execution_count": 2,
   "id": "b9f7626c",
   "metadata": {},
   "outputs": [
    {
     "name": "stdout",
     "output_type": "stream",
     "text": [
      "-2.0\n"
     ]
    }
   ],
   "source": [
    "from scipy.linalg import det\n",
    "import numpy as np\n",
    "\n",
    "A = np.array([[1,2],[3,4]])\n",
    "d = det(A)\n",
    "\n",
    "print(d)"
   ]
  },
  {
   "cell_type": "markdown",
   "id": "021619f6",
   "metadata": {},
   "source": [
    "- For determining the eigenvalues and eigenvectors of a matrix, we can use `scipy.linalg.eig`"
   ]
  },
  {
   "cell_type": "code",
   "execution_count": 3,
   "id": "3469b929",
   "metadata": {},
   "outputs": [
    {
     "name": "stdout",
     "output_type": "stream",
     "text": [
      "Eigenvalues are:  [-0.37228132+0.j  5.37228132+0.j]\n",
      "Eigenvectors are:  [[-0.82456484 -0.41597356]\n",
      " [ 0.56576746 -0.90937671]]\n"
     ]
    }
   ],
   "source": [
    "from scipy.linalg import eig\n",
    "import numpy as np\n",
    "\n",
    "A = np.array([[1,2],[3,4]])\n",
    "L,V = eig(A)\n",
    "\n",
    "print('Eigenvalues are: ',L)\n",
    "print('Eigenvectors are: ',V)"
   ]
  },
  {
   "cell_type": "markdown",
   "id": "934d1a48",
   "metadata": {},
   "source": [
    "### Singular Value Decompostion\n",
    "- A singular value decompostion (SVD) is a factorization of a real or complex matrix. \n",
    "- It generalizes the eigendecomposition of a square normal matrix with an orthonormal eigenbasis to any $m\\times n$ matrix.\n",
    "- It can be tought of as an extension of the eigenvalue problem to matrices that are not square.\n",
    "- For a matrix $A$ of size $m \\times n$ the factorization is of the form $M = U\\Sigma V^*$, where $U$ is an $m \\times m$ (complex) matrix, $\\Sigma$ is a $m \\times n$ rectangular diagonal matrix with non-negative real numbers on the diagonal, $V$ is an $n \\times n$ (complex) matrix and $V^*$ is the conjugate transpose of $V$.\n",
    "- SVD of a matrix can be found by using `scipy.linalg.svd`. The output of this function is $U, s, Vh$ where $U$ and $Vh$ are two unitary matrices and $s$ is a $1-$D array of singluar values (real, non-negative) such that that $\\Sigma = {\\rm diagonal~matrix~of}~s$ and $A = U\\Sigma Vh$."
   ]
  },
  {
   "cell_type": "markdown",
   "id": "4acccf0d",
   "metadata": {},
   "source": [
    "### Python code sample to demonstrate SVD"
   ]
  },
  {
   "cell_type": "code",
   "execution_count": 1,
   "id": "c4f3a3c1",
   "metadata": {},
   "outputs": [
    {
     "name": "stdout",
     "output_type": "stream",
     "text": [
      "U =  [[-0.56853334  0.74647834 -0.34574547]\n",
      " [-0.36304901 -0.60480326 -0.70880775]\n",
      " [-0.73821763 -0.27745829  0.61485904]]\n",
      "s =  [1.27236314 0.43443192]\n",
      "Sigma =  [[1.27236314 0.        ]\n",
      " [0.         0.43443192]]\n",
      "Vh = [[-0.68794998 -0.7257581 ]\n",
      " [ 0.7257581  -0.68794998]]\n"
     ]
    }
   ],
   "source": [
    "from scipy import linalg\n",
    "import numpy as np\n",
    "\n",
    "# Creating a random matrix A with real entries\n",
    "A = np.random.rand(3,2)\n",
    "\n",
    "# SVD demcomposition of A\n",
    "U, s, Vh = linalg.svd(A)\n",
    "\n",
    "print(\"U = \",U)\n",
    "print(\"s = \",s)\n",
    "print(\"Sigma = \",np.diag(s))\n",
    "print(\"Vh =\",Vh)"
   ]
  },
  {
   "cell_type": "code",
   "execution_count": 5,
   "id": "45ab2dae",
   "metadata": {},
   "outputs": [
    {
     "name": "stdout",
     "output_type": "stream",
     "text": [
      "U =  [[-0.41486497+0.42009113j  0.7441306 -0.15704137j -0.1991394 -0.18265174j]\n",
      " [-0.36601581+0.01622119j -0.51437885-0.1103086j  -0.52433991-0.56043142j]\n",
      " [-0.52071958+0.49601505j -0.38009242-0.01959137j  0.54780063+0.19462937j]]\n",
      "s =  [2.43101371 0.39425364]\n",
      "Sigma =  [[2.43101371 0.        ]\n",
      " [0.         0.39425364]]\n",
      "Vh = [[-0.68931548+0.j         -0.02392102-0.72406627j]\n",
      " [ 0.7244613 +0.j         -0.02276054-0.68893961j]]\n"
     ]
    }
   ],
   "source": [
    "from scipy import linalg\n",
    "import numpy as np\n",
    "\n",
    "# Creating a random matrix A with complex entries\n",
    "A = np.random.rand(3,2) + 1.j*np.random.randn(3,2)\n",
    "\n",
    "# SVD demcomposition of A\n",
    "U, s, Vh = linalg.svd(A)\n",
    "\n",
    "print(\"U = \",U)\n",
    "print(\"s = \",s)\n",
    "print(\"Sigma = \",np.diag(s))\n",
    "print(\"Vh =\",Vh)"
   ]
  }
 ],
 "metadata": {
  "kernelspec": {
   "display_name": "Python 3 (ipykernel)",
   "language": "python",
   "name": "python3"
  },
  "language_info": {
   "codemirror_mode": {
    "name": "ipython",
    "version": 3
   },
   "file_extension": ".py",
   "mimetype": "text/x-python",
   "name": "python",
   "nbconvert_exporter": "python",
   "pygments_lexer": "ipython3",
   "version": "3.10.13"
  }
 },
 "nbformat": 4,
 "nbformat_minor": 5
}
