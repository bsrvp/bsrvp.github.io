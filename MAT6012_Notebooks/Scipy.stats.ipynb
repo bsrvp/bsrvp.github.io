{
 "cells": [
  {
   "cell_type": "markdown",
   "id": "6357c43c",
   "metadata": {},
   "source": [
    "## Scipy.Stats Package\n",
    "- The `scipy.stats` package contains the all the statistical functions.\n",
    "- A fiarly complete listing of these functions can be obtained using `info(stats)` function\n",
    "```python\n",
    "import scipy\n",
    "help(scipy.stats)\n",
    "```"
   ]
  },
  {
   "cell_type": "markdown",
   "id": "2c184434",
   "metadata": {},
   "source": [
    "### Normal Continuous Random Varaible\n",
    "- A probability distribution in which the random variable $X$ can take any value is continous random variable.\n",
    "- The `norm` object of `scipy.stats` inherits a collection of generic methods from the continous random variable class.\n",
    "- The `norm.cdf` function generated a continous random number.  This function takes extra arguments\n",
    "    - `loc` specifies the mean\n",
    "    - `scale` specifies the standard deviation"
   ]
  },
  {
   "cell_type": "markdown",
   "id": "193dc552",
   "metadata": {},
   "source": [
    "#### scipy.stats.norm.cdf function (To compute the CDF at a number of points)"
   ]
  },
  {
   "cell_type": "code",
   "execution_count": 23,
   "id": "28832d83",
   "metadata": {},
   "outputs": [
    {
     "name": "stdout",
     "output_type": "stream",
     "text": [
      "Help on method cdf in module scipy.stats._distn_infrastructure:\n",
      "\n",
      "cdf(x, *args, **kwds) method of scipy.stats._continuous_distns.norm_gen instance\n",
      "    Cumulative distribution function of the given RV.\n",
      "    \n",
      "    Parameters\n",
      "    ----------\n",
      "    x : array_like\n",
      "        quantiles\n",
      "    arg1, arg2, arg3,... : array_like\n",
      "        The shape parameter(s) for the distribution (see docstring of the\n",
      "        instance object for more information)\n",
      "    loc : array_like, optional\n",
      "        location parameter (default=0)\n",
      "    scale : array_like, optional\n",
      "        scale parameter (default=1)\n",
      "    \n",
      "    Returns\n",
      "    -------\n",
      "    cdf : ndarray\n",
      "        Cumulative distribution function evaluated at `x`\n",
      "\n"
     ]
    }
   ],
   "source": [
    "help(scipy.stats.norm.cdf)"
   ]
  },
  {
   "cell_type": "code",
   "execution_count": 6,
   "id": "232adda8",
   "metadata": {},
   "outputs": [
    {
     "name": "stdout",
     "output_type": "stream",
     "text": [
      "[0.5        0.34457826 0.42074029 0.5        0.65542174 0.72574688\n",
      " 0.27425312 0.84134475]\n"
     ]
    }
   ],
   "source": [
    "from scipy.stats import norm\n",
    "import numpy as np\n",
    "data = [1,-1.,0,1,3,4,-2,6]\n",
    "datacdf = norm.cdf(data,loc=1, scale=5)\n",
    "print(datacdf)"
   ]
  },
  {
   "cell_type": "markdown",
   "id": "c34a805b",
   "metadata": {},
   "source": [
    "#### scipy.stats.norm.ppf function (To compute the median of a distribution)\n",
    "- Here ppf stands for Percent Point Function (PPF), which is inverse of the CDF."
   ]
  },
  {
   "cell_type": "code",
   "execution_count": 13,
   "id": "f19ca1e8",
   "metadata": {},
   "outputs": [
    {
     "name": "stdout",
     "output_type": "stream",
     "text": [
      "[ 0.         -0.84162123 -2.32634787 -1.28155157 -0.52440051]\n"
     ]
    }
   ],
   "source": [
    "from scipy.stats import norm\n",
    "import numpy as np\n",
    "data = [0.5,0.2,0.01,0.1,0.3]\n",
    "print(norm.ppf(data))"
   ]
  },
  {
   "cell_type": "markdown",
   "id": "d4e79bf7",
   "metadata": {},
   "source": [
    "#### scipy.stats.norm.rvs (To generate a sequence of random variables)\n",
    "- The function tatkes the `size` argument."
   ]
  },
  {
   "cell_type": "code",
   "execution_count": 17,
   "id": "82d7033e",
   "metadata": {},
   "outputs": [
    {
     "data": {
      "text/plain": [
       "DescribeResult(nobs=15, minmax=(-1.1712033749823623, 2.0520775523852195), mean=0.31610978068839957, variance=0.8095486610169318, skewness=0.047865217457338606, kurtosis=-0.819901110907912)"
      ]
     },
     "execution_count": 17,
     "metadata": {},
     "output_type": "execute_result"
    }
   ],
   "source": [
    "from scipy.stats import norm, describe\n",
    "r = norm.rvs(size=15)\n",
    "describe(r)"
   ]
  },
  {
   "cell_type": "markdown",
   "id": "e0905ef5",
   "metadata": {},
   "source": [
    "### Uniform Distribution\n",
    "- A uniform distribution can be generated using the `scipy.stats.unifrom` function.\n",
    "- Here also, the keyword `loc` specifies the mean and `scale` specifies the standard deviation"
   ]
  },
  {
   "cell_type": "code",
   "execution_count": 25,
   "id": "6046b57c",
   "metadata": {},
   "outputs": [
    {
     "name": "stdout",
     "output_type": "stream",
     "text": [
      "[0.   0.   0.25 0.5  0.75 1.  ]\n"
     ]
    }
   ],
   "source": [
    "from scipy.stats import uniform\n",
    "import numpy as np\n",
    "data = np.arange(6)\n",
    "ucdfdata = uniform.cdf(data, loc=1, scale=4)\n",
    "print(ucdfdata)"
   ]
  },
  {
   "cell_type": "markdown",
   "id": "210a7f06",
   "metadata": {},
   "source": [
    "### Discrete Distrbution (Binomial Distribution)\n",
    "- `binom` object inherits the collection of generic methods which are avialble in `rv_discrete` class necessary to work with discrte distribtuions"
   ]
  },
  {
   "cell_type": "code",
   "execution_count": 29,
   "id": "15e9ce09",
   "metadata": {},
   "outputs": [
    {
     "name": "stdout",
     "output_type": "stream",
     "text": [
      "[0. 0. 1. 1. 1. 1.]\n"
     ]
    }
   ],
   "source": [
    "from scipy.stats import binom\n",
    "data = np.arange(6)\n",
    "bincdf = binom.cdf(data,n=2,p=1)\n",
    "print(bincdf)"
   ]
  },
  {
   "cell_type": "markdown",
   "id": "cb1642b4",
   "metadata": {},
   "source": [
    "### Descriptive Statistics\n",
    "|Function|Description|\n",
    "|--------|:-----------|\n",
    "|`describe()`|Computes several descriptive statistics of the passed array|\n",
    "|`gmean()`|Computes geometric mean along the specified axis|\n",
    "|`hmean()`|Computes harmonic mean along the specified axis|\n",
    "|`kurtosis()`|Computes the kurtosis (tailedness of distribtuion)|\n",
    "|`mode()`|Returns the modal value|\n",
    "|`skew()`|Tests the skewness of the data|\n",
    "|`f_oneway()`|Performs a 1-way ANOVA|\n",
    "|`iqr()`|Computes the interquartile range of the data along the|\n",
    "| | specified axis|\n",
    "|`zscore()`|Calculates the $z-$score of each value in the sample,|\n",
    "| | relative to the sample mean and standard distribution|"
   ]
  },
  {
   "cell_type": "code",
   "execution_count": 8,
   "id": "89faa068",
   "metadata": {},
   "outputs": [
    {
     "name": "stdout",
     "output_type": "stream",
     "text": [
      "DescribeResult(nobs=9, minmax=(1, 9), mean=5.0, variance=7.5, skewness=0.0, kurtosis=-1.2300000000000002)\n",
      "gmean =  4.147166274396913\n",
      "hmean =  3.181371861411138\n",
      "zscore =  [-1.54919334 -1.161895   -0.77459667 -0.38729833  0.          0.38729833\n",
      "  0.77459667  1.161895    1.54919334]\n"
     ]
    }
   ],
   "source": [
    "from scipy import stats\n",
    "import numpy as np\n",
    "a = np.array([1,2,3,4,5,6,7,8,9])\n",
    "print(stats.describe(a))\n",
    "print(\"gmean = \",stats.gmean(a))\n",
    "print(\"hmean = \",stats.hmean(a))\n",
    "print(\"zscore = \",stats.zscore(a))"
   ]
  },
  {
   "cell_type": "markdown",
   "id": "a86e95c8",
   "metadata": {},
   "source": [
    "### T-test\n",
    "- `stats.ttest_1samp` calculates the T-test for the mean of ONE group of scores.\n",
    "- `stats.ttest_ind` calculates the T-test for the means of two independ samples of scores."
   ]
  },
  {
   "cell_type": "code",
   "execution_count": 49,
   "id": "3fbce043",
   "metadata": {},
   "outputs": [
    {
     "name": "stdout",
     "output_type": "stream",
     "text": [
      "Ttest_1sampResult(statistic=array([1.09940764, 0.38901711]), pvalue=array([0.27696267, 0.69894893]))\n"
     ]
    }
   ],
   "source": [
    "# Comparing mean of one sample\n",
    "from scipy import stats\n",
    "rvs = stats.norm.rvs(loc=5,scale = 10, size=(50,2))\n",
    "print(stats.ttest_1samp(rvs,5.0))"
   ]
  },
  {
   "cell_type": "code",
   "execution_count": 50,
   "id": "3a03488e",
   "metadata": {},
   "outputs": [
    {
     "name": "stdout",
     "output_type": "stream",
     "text": [
      "Ttest_indResult(statistic=0.8410148006091283, pvalue=0.40054109864195864)\n"
     ]
    }
   ],
   "source": [
    "# Comparing means of two samples\n",
    "from scipy import stats\n",
    "rvs1 = stats.norm.rvs(loc=5,scale = 10, size=500)\n",
    "rvs2 = stats.norm.rvs(loc=5,scale = 10, size=500)\n",
    "print(stats.ttest_ind(rvs1,rvs2))"
   ]
  },
  {
   "cell_type": "code",
   "execution_count": null,
   "id": "5b43ff09",
   "metadata": {},
   "outputs": [],
   "source": []
  }
 ],
 "metadata": {
  "kernelspec": {
   "display_name": "Python 3 (ipykernel)",
   "language": "python",
   "name": "python3"
  },
  "language_info": {
   "codemirror_mode": {
    "name": "ipython",
    "version": 3
   },
   "file_extension": ".py",
   "mimetype": "text/x-python",
   "name": "python",
   "nbconvert_exporter": "python",
   "pygments_lexer": "ipython3",
   "version": "3.10.13"
  }
 },
 "nbformat": 4,
 "nbformat_minor": 5
}
