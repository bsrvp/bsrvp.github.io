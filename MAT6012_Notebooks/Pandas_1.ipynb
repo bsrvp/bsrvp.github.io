{
 "cells": [
  {
   "cell_type": "code",
   "execution_count": 1,
   "id": "35e74f32",
   "metadata": {},
   "outputs": [],
   "source": [
    "import pandas as pd\n",
    "import numpy as np"
   ]
  },
  {
   "cell_type": "code",
   "execution_count": 25,
   "id": "1cdaac42",
   "metadata": {},
   "outputs": [],
   "source": [
    "df = pd.DataFrame(np.random.rand(10,6),columns=['col'+str(i) for i in range(1,7)], index=['row'+str(i) for i in range(1,11)])"
   ]
  },
  {
   "cell_type": "code",
   "execution_count": 26,
   "id": "60b71224",
   "metadata": {},
   "outputs": [
    {
     "data": {
      "text/html": [
       "<div>\n",
       "<style scoped>\n",
       "    .dataframe tbody tr th:only-of-type {\n",
       "        vertical-align: middle;\n",
       "    }\n",
       "\n",
       "    .dataframe tbody tr th {\n",
       "        vertical-align: top;\n",
       "    }\n",
       "\n",
       "    .dataframe thead th {\n",
       "        text-align: right;\n",
       "    }\n",
       "</style>\n",
       "<table border=\"1\" class=\"dataframe\">\n",
       "  <thead>\n",
       "    <tr style=\"text-align: right;\">\n",
       "      <th></th>\n",
       "      <th>col1</th>\n",
       "      <th>col2</th>\n",
       "      <th>col3</th>\n",
       "      <th>col4</th>\n",
       "      <th>col5</th>\n",
       "      <th>col6</th>\n",
       "    </tr>\n",
       "  </thead>\n",
       "  <tbody>\n",
       "    <tr>\n",
       "      <th>row1</th>\n",
       "      <td>0.148094</td>\n",
       "      <td>0.653580</td>\n",
       "      <td>0.613129</td>\n",
       "      <td>0.350355</td>\n",
       "      <td>0.923112</td>\n",
       "      <td>0.679172</td>\n",
       "    </tr>\n",
       "    <tr>\n",
       "      <th>row2</th>\n",
       "      <td>0.018569</td>\n",
       "      <td>0.106523</td>\n",
       "      <td>0.610577</td>\n",
       "      <td>0.948249</td>\n",
       "      <td>0.196955</td>\n",
       "      <td>0.995130</td>\n",
       "    </tr>\n",
       "    <tr>\n",
       "      <th>row3</th>\n",
       "      <td>0.967418</td>\n",
       "      <td>0.580832</td>\n",
       "      <td>0.255442</td>\n",
       "      <td>0.469086</td>\n",
       "      <td>0.528993</td>\n",
       "      <td>0.716378</td>\n",
       "    </tr>\n",
       "    <tr>\n",
       "      <th>row4</th>\n",
       "      <td>0.039382</td>\n",
       "      <td>0.898019</td>\n",
       "      <td>0.524639</td>\n",
       "      <td>0.569288</td>\n",
       "      <td>0.457974</td>\n",
       "      <td>0.030945</td>\n",
       "    </tr>\n",
       "    <tr>\n",
       "      <th>row5</th>\n",
       "      <td>0.306373</td>\n",
       "      <td>0.096655</td>\n",
       "      <td>0.768796</td>\n",
       "      <td>0.074831</td>\n",
       "      <td>0.132757</td>\n",
       "      <td>0.152062</td>\n",
       "    </tr>\n",
       "    <tr>\n",
       "      <th>row6</th>\n",
       "      <td>0.183812</td>\n",
       "      <td>0.873851</td>\n",
       "      <td>0.548662</td>\n",
       "      <td>0.391730</td>\n",
       "      <td>0.854880</td>\n",
       "      <td>0.068930</td>\n",
       "    </tr>\n",
       "    <tr>\n",
       "      <th>row7</th>\n",
       "      <td>0.717094</td>\n",
       "      <td>0.090001</td>\n",
       "      <td>0.835593</td>\n",
       "      <td>0.808379</td>\n",
       "      <td>0.053216</td>\n",
       "      <td>0.193681</td>\n",
       "    </tr>\n",
       "    <tr>\n",
       "      <th>row8</th>\n",
       "      <td>0.566126</td>\n",
       "      <td>0.105971</td>\n",
       "      <td>0.407641</td>\n",
       "      <td>0.959478</td>\n",
       "      <td>0.658075</td>\n",
       "      <td>0.647473</td>\n",
       "    </tr>\n",
       "    <tr>\n",
       "      <th>row9</th>\n",
       "      <td>0.746494</td>\n",
       "      <td>0.791941</td>\n",
       "      <td>0.847872</td>\n",
       "      <td>0.871841</td>\n",
       "      <td>0.661786</td>\n",
       "      <td>0.690374</td>\n",
       "    </tr>\n",
       "    <tr>\n",
       "      <th>row10</th>\n",
       "      <td>0.320771</td>\n",
       "      <td>0.719804</td>\n",
       "      <td>0.537836</td>\n",
       "      <td>0.366895</td>\n",
       "      <td>0.400657</td>\n",
       "      <td>0.546639</td>\n",
       "    </tr>\n",
       "  </tbody>\n",
       "</table>\n",
       "</div>"
      ],
      "text/plain": [
       "           col1      col2      col3      col4      col5      col6\n",
       "row1   0.148094  0.653580  0.613129  0.350355  0.923112  0.679172\n",
       "row2   0.018569  0.106523  0.610577  0.948249  0.196955  0.995130\n",
       "row3   0.967418  0.580832  0.255442  0.469086  0.528993  0.716378\n",
       "row4   0.039382  0.898019  0.524639  0.569288  0.457974  0.030945\n",
       "row5   0.306373  0.096655  0.768796  0.074831  0.132757  0.152062\n",
       "row6   0.183812  0.873851  0.548662  0.391730  0.854880  0.068930\n",
       "row7   0.717094  0.090001  0.835593  0.808379  0.053216  0.193681\n",
       "row8   0.566126  0.105971  0.407641  0.959478  0.658075  0.647473\n",
       "row9   0.746494  0.791941  0.847872  0.871841  0.661786  0.690374\n",
       "row10  0.320771  0.719804  0.537836  0.366895  0.400657  0.546639"
      ]
     },
     "execution_count": 26,
     "metadata": {},
     "output_type": "execute_result"
    }
   ],
   "source": [
    "df"
   ]
  },
  {
   "cell_type": "code",
   "execution_count": 27,
   "id": "43052925",
   "metadata": {},
   "outputs": [],
   "source": [
    "df['col7'] = df.apply(lambda x: min(x) - max(x),axis=1)"
   ]
  },
  {
   "cell_type": "code",
   "execution_count": 28,
   "id": "ce511450",
   "metadata": {},
   "outputs": [
    {
     "data": {
      "text/html": [
       "<div>\n",
       "<style scoped>\n",
       "    .dataframe tbody tr th:only-of-type {\n",
       "        vertical-align: middle;\n",
       "    }\n",
       "\n",
       "    .dataframe tbody tr th {\n",
       "        vertical-align: top;\n",
       "    }\n",
       "\n",
       "    .dataframe thead th {\n",
       "        text-align: right;\n",
       "    }\n",
       "</style>\n",
       "<table border=\"1\" class=\"dataframe\">\n",
       "  <thead>\n",
       "    <tr style=\"text-align: right;\">\n",
       "      <th></th>\n",
       "      <th>col1</th>\n",
       "      <th>col2</th>\n",
       "      <th>col3</th>\n",
       "      <th>col4</th>\n",
       "      <th>col5</th>\n",
       "      <th>col6</th>\n",
       "      <th>col7</th>\n",
       "    </tr>\n",
       "  </thead>\n",
       "  <tbody>\n",
       "    <tr>\n",
       "      <th>row1</th>\n",
       "      <td>0.148094</td>\n",
       "      <td>0.653580</td>\n",
       "      <td>0.613129</td>\n",
       "      <td>0.350355</td>\n",
       "      <td>0.923112</td>\n",
       "      <td>0.679172</td>\n",
       "      <td>-0.775018</td>\n",
       "    </tr>\n",
       "    <tr>\n",
       "      <th>row2</th>\n",
       "      <td>0.018569</td>\n",
       "      <td>0.106523</td>\n",
       "      <td>0.610577</td>\n",
       "      <td>0.948249</td>\n",
       "      <td>0.196955</td>\n",
       "      <td>0.995130</td>\n",
       "      <td>-0.976561</td>\n",
       "    </tr>\n",
       "    <tr>\n",
       "      <th>row3</th>\n",
       "      <td>0.967418</td>\n",
       "      <td>0.580832</td>\n",
       "      <td>0.255442</td>\n",
       "      <td>0.469086</td>\n",
       "      <td>0.528993</td>\n",
       "      <td>0.716378</td>\n",
       "      <td>-0.711976</td>\n",
       "    </tr>\n",
       "    <tr>\n",
       "      <th>row4</th>\n",
       "      <td>0.039382</td>\n",
       "      <td>0.898019</td>\n",
       "      <td>0.524639</td>\n",
       "      <td>0.569288</td>\n",
       "      <td>0.457974</td>\n",
       "      <td>0.030945</td>\n",
       "      <td>-0.867074</td>\n",
       "    </tr>\n",
       "    <tr>\n",
       "      <th>row5</th>\n",
       "      <td>0.306373</td>\n",
       "      <td>0.096655</td>\n",
       "      <td>0.768796</td>\n",
       "      <td>0.074831</td>\n",
       "      <td>0.132757</td>\n",
       "      <td>0.152062</td>\n",
       "      <td>-0.693965</td>\n",
       "    </tr>\n",
       "    <tr>\n",
       "      <th>row6</th>\n",
       "      <td>0.183812</td>\n",
       "      <td>0.873851</td>\n",
       "      <td>0.548662</td>\n",
       "      <td>0.391730</td>\n",
       "      <td>0.854880</td>\n",
       "      <td>0.068930</td>\n",
       "      <td>-0.804922</td>\n",
       "    </tr>\n",
       "    <tr>\n",
       "      <th>row7</th>\n",
       "      <td>0.717094</td>\n",
       "      <td>0.090001</td>\n",
       "      <td>0.835593</td>\n",
       "      <td>0.808379</td>\n",
       "      <td>0.053216</td>\n",
       "      <td>0.193681</td>\n",
       "      <td>-0.782377</td>\n",
       "    </tr>\n",
       "    <tr>\n",
       "      <th>row8</th>\n",
       "      <td>0.566126</td>\n",
       "      <td>0.105971</td>\n",
       "      <td>0.407641</td>\n",
       "      <td>0.959478</td>\n",
       "      <td>0.658075</td>\n",
       "      <td>0.647473</td>\n",
       "      <td>-0.853507</td>\n",
       "    </tr>\n",
       "    <tr>\n",
       "      <th>row9</th>\n",
       "      <td>0.746494</td>\n",
       "      <td>0.791941</td>\n",
       "      <td>0.847872</td>\n",
       "      <td>0.871841</td>\n",
       "      <td>0.661786</td>\n",
       "      <td>0.690374</td>\n",
       "      <td>-0.210055</td>\n",
       "    </tr>\n",
       "    <tr>\n",
       "      <th>row10</th>\n",
       "      <td>0.320771</td>\n",
       "      <td>0.719804</td>\n",
       "      <td>0.537836</td>\n",
       "      <td>0.366895</td>\n",
       "      <td>0.400657</td>\n",
       "      <td>0.546639</td>\n",
       "      <td>-0.399033</td>\n",
       "    </tr>\n",
       "  </tbody>\n",
       "</table>\n",
       "</div>"
      ],
      "text/plain": [
       "           col1      col2      col3      col4      col5      col6      col7\n",
       "row1   0.148094  0.653580  0.613129  0.350355  0.923112  0.679172 -0.775018\n",
       "row2   0.018569  0.106523  0.610577  0.948249  0.196955  0.995130 -0.976561\n",
       "row3   0.967418  0.580832  0.255442  0.469086  0.528993  0.716378 -0.711976\n",
       "row4   0.039382  0.898019  0.524639  0.569288  0.457974  0.030945 -0.867074\n",
       "row5   0.306373  0.096655  0.768796  0.074831  0.132757  0.152062 -0.693965\n",
       "row6   0.183812  0.873851  0.548662  0.391730  0.854880  0.068930 -0.804922\n",
       "row7   0.717094  0.090001  0.835593  0.808379  0.053216  0.193681 -0.782377\n",
       "row8   0.566126  0.105971  0.407641  0.959478  0.658075  0.647473 -0.853507\n",
       "row9   0.746494  0.791941  0.847872  0.871841  0.661786  0.690374 -0.210055\n",
       "row10  0.320771  0.719804  0.537836  0.366895  0.400657  0.546639 -0.399033"
      ]
     },
     "execution_count": 28,
     "metadata": {},
     "output_type": "execute_result"
    }
   ],
   "source": [
    "df"
   ]
  },
  {
   "cell_type": "code",
   "execution_count": 62,
   "id": "409a531f",
   "metadata": {},
   "outputs": [],
   "source": [
    "df1 = pd.DataFrame(df.apply(lambda x: x.min() - x.max()),columns=['row11']).T"
   ]
  },
  {
   "cell_type": "code",
   "execution_count": 65,
   "id": "57c96acb",
   "metadata": {},
   "outputs": [],
   "source": [
    "df = df.append(df1)"
   ]
  },
  {
   "cell_type": "code",
   "execution_count": 66,
   "id": "08627576",
   "metadata": {},
   "outputs": [
    {
     "data": {
      "text/html": [
       "<div>\n",
       "<style scoped>\n",
       "    .dataframe tbody tr th:only-of-type {\n",
       "        vertical-align: middle;\n",
       "    }\n",
       "\n",
       "    .dataframe tbody tr th {\n",
       "        vertical-align: top;\n",
       "    }\n",
       "\n",
       "    .dataframe thead th {\n",
       "        text-align: right;\n",
       "    }\n",
       "</style>\n",
       "<table border=\"1\" class=\"dataframe\">\n",
       "  <thead>\n",
       "    <tr style=\"text-align: right;\">\n",
       "      <th></th>\n",
       "      <th>col1</th>\n",
       "      <th>col2</th>\n",
       "      <th>col3</th>\n",
       "      <th>col4</th>\n",
       "      <th>col5</th>\n",
       "      <th>col6</th>\n",
       "      <th>col7</th>\n",
       "    </tr>\n",
       "  </thead>\n",
       "  <tbody>\n",
       "    <tr>\n",
       "      <th>row1</th>\n",
       "      <td>0.148094</td>\n",
       "      <td>0.653580</td>\n",
       "      <td>0.613129</td>\n",
       "      <td>0.350355</td>\n",
       "      <td>0.923112</td>\n",
       "      <td>0.679172</td>\n",
       "      <td>-0.775018</td>\n",
       "    </tr>\n",
       "    <tr>\n",
       "      <th>row2</th>\n",
       "      <td>0.018569</td>\n",
       "      <td>0.106523</td>\n",
       "      <td>0.610577</td>\n",
       "      <td>0.948249</td>\n",
       "      <td>0.196955</td>\n",
       "      <td>0.995130</td>\n",
       "      <td>-0.976561</td>\n",
       "    </tr>\n",
       "    <tr>\n",
       "      <th>row3</th>\n",
       "      <td>0.967418</td>\n",
       "      <td>0.580832</td>\n",
       "      <td>0.255442</td>\n",
       "      <td>0.469086</td>\n",
       "      <td>0.528993</td>\n",
       "      <td>0.716378</td>\n",
       "      <td>-0.711976</td>\n",
       "    </tr>\n",
       "    <tr>\n",
       "      <th>row4</th>\n",
       "      <td>0.039382</td>\n",
       "      <td>0.898019</td>\n",
       "      <td>0.524639</td>\n",
       "      <td>0.569288</td>\n",
       "      <td>0.457974</td>\n",
       "      <td>0.030945</td>\n",
       "      <td>-0.867074</td>\n",
       "    </tr>\n",
       "    <tr>\n",
       "      <th>row5</th>\n",
       "      <td>0.306373</td>\n",
       "      <td>0.096655</td>\n",
       "      <td>0.768796</td>\n",
       "      <td>0.074831</td>\n",
       "      <td>0.132757</td>\n",
       "      <td>0.152062</td>\n",
       "      <td>-0.693965</td>\n",
       "    </tr>\n",
       "    <tr>\n",
       "      <th>row6</th>\n",
       "      <td>0.183812</td>\n",
       "      <td>0.873851</td>\n",
       "      <td>0.548662</td>\n",
       "      <td>0.391730</td>\n",
       "      <td>0.854880</td>\n",
       "      <td>0.068930</td>\n",
       "      <td>-0.804922</td>\n",
       "    </tr>\n",
       "    <tr>\n",
       "      <th>row7</th>\n",
       "      <td>0.717094</td>\n",
       "      <td>0.090001</td>\n",
       "      <td>0.835593</td>\n",
       "      <td>0.808379</td>\n",
       "      <td>0.053216</td>\n",
       "      <td>0.193681</td>\n",
       "      <td>-0.782377</td>\n",
       "    </tr>\n",
       "    <tr>\n",
       "      <th>row8</th>\n",
       "      <td>0.566126</td>\n",
       "      <td>0.105971</td>\n",
       "      <td>0.407641</td>\n",
       "      <td>0.959478</td>\n",
       "      <td>0.658075</td>\n",
       "      <td>0.647473</td>\n",
       "      <td>-0.853507</td>\n",
       "    </tr>\n",
       "    <tr>\n",
       "      <th>row9</th>\n",
       "      <td>0.746494</td>\n",
       "      <td>0.791941</td>\n",
       "      <td>0.847872</td>\n",
       "      <td>0.871841</td>\n",
       "      <td>0.661786</td>\n",
       "      <td>0.690374</td>\n",
       "      <td>-0.210055</td>\n",
       "    </tr>\n",
       "    <tr>\n",
       "      <th>row10</th>\n",
       "      <td>0.320771</td>\n",
       "      <td>0.719804</td>\n",
       "      <td>0.537836</td>\n",
       "      <td>0.366895</td>\n",
       "      <td>0.400657</td>\n",
       "      <td>0.546639</td>\n",
       "      <td>-0.399033</td>\n",
       "    </tr>\n",
       "    <tr>\n",
       "      <th>row11</th>\n",
       "      <td>-0.948849</td>\n",
       "      <td>-0.808019</td>\n",
       "      <td>-0.592430</td>\n",
       "      <td>-0.884647</td>\n",
       "      <td>-0.869896</td>\n",
       "      <td>-0.964185</td>\n",
       "      <td>-0.766506</td>\n",
       "    </tr>\n",
       "  </tbody>\n",
       "</table>\n",
       "</div>"
      ],
      "text/plain": [
       "           col1      col2      col3      col4      col5      col6      col7\n",
       "row1   0.148094  0.653580  0.613129  0.350355  0.923112  0.679172 -0.775018\n",
       "row2   0.018569  0.106523  0.610577  0.948249  0.196955  0.995130 -0.976561\n",
       "row3   0.967418  0.580832  0.255442  0.469086  0.528993  0.716378 -0.711976\n",
       "row4   0.039382  0.898019  0.524639  0.569288  0.457974  0.030945 -0.867074\n",
       "row5   0.306373  0.096655  0.768796  0.074831  0.132757  0.152062 -0.693965\n",
       "row6   0.183812  0.873851  0.548662  0.391730  0.854880  0.068930 -0.804922\n",
       "row7   0.717094  0.090001  0.835593  0.808379  0.053216  0.193681 -0.782377\n",
       "row8   0.566126  0.105971  0.407641  0.959478  0.658075  0.647473 -0.853507\n",
       "row9   0.746494  0.791941  0.847872  0.871841  0.661786  0.690374 -0.210055\n",
       "row10  0.320771  0.719804  0.537836  0.366895  0.400657  0.546639 -0.399033\n",
       "row11 -0.948849 -0.808019 -0.592430 -0.884647 -0.869896 -0.964185 -0.766506"
      ]
     },
     "execution_count": 66,
     "metadata": {},
     "output_type": "execute_result"
    }
   ],
   "source": [
    "df"
   ]
  },
  {
   "cell_type": "code",
   "execution_count": 113,
   "id": "25325c0b",
   "metadata": {},
   "outputs": [],
   "source": [
    "def myFun(*args):\n",
    "    for i in args:\n",
    "        if not isinstance(i, (int, float)):\n",
    "            print(\"Wrong Input\")\n",
    "            break\n",
    "    else:\n",
    "        print(\"Correct Input\")"
   ]
  },
  {
   "cell_type": "code",
   "execution_count": 117,
   "id": "8583d42a",
   "metadata": {},
   "outputs": [
    {
     "name": "stdout",
     "output_type": "stream",
     "text": [
      "Correct Input\n"
     ]
    }
   ],
   "source": [
    "myFun(10.42,20.42,243)"
   ]
  },
  {
   "cell_type": "code",
   "execution_count": 111,
   "id": "2a963afd",
   "metadata": {},
   "outputs": [
    {
     "name": "stdout",
     "output_type": "stream",
     "text": [
      "Help on built-in function isinstance in module builtins:\n",
      "\n",
      "isinstance(obj, class_or_tuple, /)\n",
      "    Return whether an object is an instance of a class or of a subclass thereof.\n",
      "    \n",
      "    A tuple, as in ``isinstance(x, (A, B, ...))``, may be given as the target to\n",
      "    check against. This is equivalent to ``isinstance(x, A) or isinstance(x, B)\n",
      "    or ...`` etc.\n",
      "\n"
     ]
    }
   ],
   "source": [
    "help(isinstance)"
   ]
  },
  {
   "cell_type": "code",
   "execution_count": 118,
   "id": "19d16436",
   "metadata": {},
   "outputs": [
    {
     "name": "stdout",
     "output_type": "stream",
     "text": [
      "Enter total before tax:10\n"
     ]
    },
    {
     "ename": "NameError",
     "evalue": "name 'subTotal' is not defined",
     "output_type": "error",
     "traceback": [
      "\u001b[1;31m---------------------------------------------------------------------------\u001b[0m",
      "\u001b[1;31mNameError\u001b[0m                                 Traceback (most recent call last)",
      "\u001b[1;32mC:\\Users\\BSRVPR~1\\AppData\\Local\\Temp/ipykernel_25092/2364712327.py\u001b[0m in \u001b[0;36m<module>\u001b[1;34m\u001b[0m\n\u001b[0;32m      1\u001b[0m \u001b[0msubtotal\u001b[0m \u001b[1;33m=\u001b[0m \u001b[0minput\u001b[0m\u001b[1;33m(\u001b[0m\u001b[1;34m\"Enter total before tax:\"\u001b[0m\u001b[1;33m)\u001b[0m\u001b[1;33m\u001b[0m\u001b[1;33m\u001b[0m\u001b[0m\n\u001b[1;32m----> 2\u001b[1;33m \u001b[0mtax\u001b[0m \u001b[1;33m=\u001b[0m \u001b[1;36m.08\u001b[0m \u001b[1;33m*\u001b[0m \u001b[0msubTotal\u001b[0m\u001b[1;33m\u001b[0m\u001b[1;33m\u001b[0m\u001b[0m\n\u001b[0m\u001b[0;32m      3\u001b[0m \u001b[0mprint\u001b[0m\u001b[1;33m(\u001b[0m\u001b[1;34m\"tax on\"\u001b[0m\u001b[1;33m,\u001b[0m \u001b[0msubtotal\u001b[0m\u001b[1;33m,\u001b[0m \u001b[1;34m\"is:\"\u001b[0m\u001b[1;33m,\u001b[0m \u001b[0mtax\u001b[0m\u001b[1;33m)\u001b[0m\u001b[1;33m\u001b[0m\u001b[1;33m\u001b[0m\u001b[0m\n",
      "\u001b[1;31mNameError\u001b[0m: name 'subTotal' is not defined"
     ]
    }
   ],
   "source": [
    "subtotal = input(\"Enter total before tax:\")\n",
    "tax = .08 * subTotal\n",
    "print(\"tax on\", subtotal, \"is:\", tax)"
   ]
  },
  {
   "cell_type": "code",
   "execution_count": 121,
   "id": "2e7f8d6b",
   "metadata": {},
   "outputs": [
    {
     "ename": "ZeroDivisionError",
     "evalue": "division by zero",
     "output_type": "error",
     "traceback": [
      "\u001b[1;31m---------------------------------------------------------------------------\u001b[0m",
      "\u001b[1;31mZeroDivisionError\u001b[0m                         Traceback (most recent call last)",
      "\u001b[1;32mC:\\Users\\BSRVPR~1\\AppData\\Local\\Temp/ipykernel_25092/3627099327.py\u001b[0m in \u001b[0;36m<module>\u001b[1;34m\u001b[0m\n\u001b[1;32m----> 1\u001b[1;33m \u001b[1;36m2\u001b[0m\u001b[1;33m/\u001b[0m\u001b[1;36m0\u001b[0m\u001b[1;33m\u001b[0m\u001b[1;33m\u001b[0m\u001b[0m\n\u001b[0m",
      "\u001b[1;31mZeroDivisionError\u001b[0m: division by zero"
     ]
    }
   ],
   "source": [
    "2/0"
   ]
  },
  {
   "cell_type": "code",
   "execution_count": 120,
   "id": "baf0ddb0",
   "metadata": {},
   "outputs": [
    {
     "ename": "NameError",
     "evalue": "name 'Temp' is not defined",
     "output_type": "error",
     "traceback": [
      "\u001b[1;31m---------------------------------------------------------------------------\u001b[0m",
      "\u001b[1;31mNameError\u001b[0m                                 Traceback (most recent call last)",
      "\u001b[1;32mC:\\Users\\BSRVPR~1\\AppData\\Local\\Temp/ipykernel_25092/1091209446.py\u001b[0m in \u001b[0;36m<module>\u001b[1;34m\u001b[0m\n\u001b[0;32m      1\u001b[0m \u001b[0mtemp\u001b[0m \u001b[1;33m=\u001b[0m \u001b[1;36m10\u001b[0m\u001b[1;33m\u001b[0m\u001b[1;33m\u001b[0m\u001b[0m\n\u001b[1;32m----> 2\u001b[1;33m \u001b[0mprint\u001b[0m\u001b[1;33m(\u001b[0m\u001b[0mTemp\u001b[0m\u001b[1;33m)\u001b[0m\u001b[1;33m\u001b[0m\u001b[1;33m\u001b[0m\u001b[0m\n\u001b[0m",
      "\u001b[1;31mNameError\u001b[0m: name 'Temp' is not defined"
     ]
    }
   ],
   "source": [
    "temp = 10\n",
    "print(Temp)"
   ]
  },
  {
   "cell_type": "code",
   "execution_count": 124,
   "id": "23d7aa8d",
   "metadata": {},
   "outputs": [
    {
     "ename": "IndentationError",
     "evalue": "expected an indented block (Temp/ipykernel_25092/331269752.py, line 6)",
     "output_type": "error",
     "traceback": [
      "\u001b[1;36m  File \u001b[1;32m\"C:\\Users\\BSRVPR~1\\AppData\\Local\\Temp/ipykernel_25092/331269752.py\"\u001b[1;36m, line \u001b[1;32m6\u001b[0m\n\u001b[1;33m    print(a+b)\u001b[0m\n\u001b[1;37m    ^\u001b[0m\n\u001b[1;31mIndentationError\u001b[0m\u001b[1;31m:\u001b[0m expected an indented block\n"
     ]
    }
   ],
   "source": [
    "a = 10\n",
    "b = 20\n",
    "if a==b:\n",
    "    print('a and b are equal')\n",
    "else:\n",
    "print(a+b)"
   ]
  },
  {
   "cell_type": "code",
   "execution_count": 126,
   "id": "09eef542",
   "metadata": {},
   "outputs": [
    {
     "name": "stdout",
     "output_type": "stream",
     "text": [
      "Press Ctrl+C to end\n",
      "Enter number 34\n",
      "No exception is caught\n"
     ]
    }
   ],
   "source": [
    "try:\n",
    "    print('Press Ctrl+C to end')\n",
    "    inp = input('Enter number ')\n",
    "except KeyboardInterrupt:\n",
    "    print('Ctrl+C is pressed: KeyboardInterrupt is caught')\n",
    "else:\n",
    "    print('No exception is caught')"
   ]
  },
  {
   "cell_type": "code",
   "execution_count": 130,
   "id": "94768791",
   "metadata": {},
   "outputs": [
    {
     "name": "stdout",
     "output_type": "stream",
     "text": [
      "Enter the Number a:34\n",
      "Enter the Number b:0\n",
      "ZeroDivision Error Caused as the input b = 0\n",
      "The division of a by 10 is 3.4\n"
     ]
    }
   ],
   "source": [
    "try:\n",
    "    a = int(input('Enter the Number a:'))\n",
    "    b = int(input('Enter the Number b:'))\n",
    "    c = a/b\n",
    "except ZeroDivisionError:\n",
    "    print('ZeroDivision Error Caused as the input b = 0')\n",
    "    c = a/10\n",
    "    print('The division of a by 10 is',c)\n",
    "else:\n",
    "    print('The division of a by b is',c)"
   ]
  },
  {
   "cell_type": "code",
   "execution_count": 131,
   "id": "90ea9d93",
   "metadata": {},
   "outputs": [],
   "source": [
    "import numpy as np"
   ]
  },
  {
   "cell_type": "code",
   "execution_count": 132,
   "id": "681a374e",
   "metadata": {},
   "outputs": [
    {
     "name": "stderr",
     "output_type": "stream",
     "text": [
      "C:\\Users\\BSRVPR~1\\AppData\\Local\\Temp/ipykernel_25092/2006519253.py:1: RuntimeWarning: overflow encountered in exp\n",
      "  np.exp(1000)\n"
     ]
    },
    {
     "data": {
      "text/plain": [
       "inf"
      ]
     },
     "execution_count": 132,
     "metadata": {},
     "output_type": "execute_result"
    }
   ],
   "source": [
    "np.exp(1000)"
   ]
  },
  {
   "cell_type": "code",
   "execution_count": null,
   "id": "7ac0de4b",
   "metadata": {},
   "outputs": [],
   "source": []
  }
 ],
 "metadata": {
  "kernelspec": {
   "display_name": "Python 3 (ipykernel)",
   "language": "python",
   "name": "python3"
  },
  "language_info": {
   "codemirror_mode": {
    "name": "ipython",
    "version": 3
   },
   "file_extension": ".py",
   "mimetype": "text/x-python",
   "name": "python",
   "nbconvert_exporter": "python",
   "pygments_lexer": "ipython3",
   "version": "3.9.16"
  }
 },
 "nbformat": 4,
 "nbformat_minor": 5
}
