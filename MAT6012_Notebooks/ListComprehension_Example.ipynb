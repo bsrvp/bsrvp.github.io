{
 "cells": [
  {
   "cell_type": "markdown",
   "id": "21e437e7",
   "metadata": {},
   "source": [
    "$S = \\{1,2,3,4,5,6,7,8,9,10\\}$\n",
    "\n",
    "$ES = \\{2,4,6,8,10\\}$\n",
    "\n",
    "$OHS = \\{1/2,3/2,5/2,7/2,9/2\\}$\n",
    "\n",
    "$E2O = \\{1,4,3,16,5,36,7,64,9,100\\}$"
   ]
  },
  {
   "cell_type": "code",
   "execution_count": 1,
   "id": "d683df80",
   "metadata": {},
   "outputs": [
    {
     "name": "stdout",
     "output_type": "stream",
     "text": [
      "[1, 2, 3, 4, 5, 6, 7, 8, 9, 10]\n"
     ]
    }
   ],
   "source": [
    "S = []\n",
    "for i in range(1,11):\n",
    "    S.append(i)\n",
    "print(S)"
   ]
  },
  {
   "cell_type": "code",
   "execution_count": 5,
   "id": "c182c338",
   "metadata": {},
   "outputs": [
    {
     "name": "stdout",
     "output_type": "stream",
     "text": [
      "[1, 2, 3, 4, 5, 6, 7, 8, 9, 10]\n"
     ]
    }
   ],
   "source": [
    "S = [i for i in range(1,11)]\n",
    "print(S)"
   ]
  },
  {
   "cell_type": "code",
   "execution_count": 2,
   "id": "5b5bdc9a",
   "metadata": {},
   "outputs": [
    {
     "name": "stdout",
     "output_type": "stream",
     "text": [
      "[2, 4, 6, 8, 10]\n"
     ]
    }
   ],
   "source": [
    "ES = []\n",
    "for i in range(1,11):\n",
    "    if i%2 == 0:\n",
    "        ES.append(i)\n",
    "print(ES)"
   ]
  },
  {
   "cell_type": "code",
   "execution_count": 6,
   "id": "0af02a3a",
   "metadata": {},
   "outputs": [
    {
     "name": "stdout",
     "output_type": "stream",
     "text": [
      "[2, 4, 6, 8, 10]\n"
     ]
    }
   ],
   "source": [
    "ES = [i for i in range(1,11) if i%2 == 0]\n",
    "print(ES)"
   ]
  },
  {
   "cell_type": "code",
   "execution_count": 3,
   "id": "db372ec0",
   "metadata": {},
   "outputs": [
    {
     "name": "stdout",
     "output_type": "stream",
     "text": [
      "[0.5, 1.5, 2.5, 3.5, 4.5]\n"
     ]
    }
   ],
   "source": [
    "O2S = []\n",
    "for i in range(1,11):\n",
    "    if i%2 != 0:\n",
    "        O2S.append(i/2)\n",
    "print(O2S)"
   ]
  },
  {
   "cell_type": "code",
   "execution_count": 7,
   "id": "32023db0",
   "metadata": {},
   "outputs": [
    {
     "name": "stdout",
     "output_type": "stream",
     "text": [
      "[0.5, 1.5, 2.5, 3.5, 4.5]\n"
     ]
    }
   ],
   "source": [
    "OHS = [i/2 for i in range(1,11) if i%2 != 0]\n",
    "print(OHS)"
   ]
  },
  {
   "cell_type": "code",
   "execution_count": 4,
   "id": "2f8c7232",
   "metadata": {},
   "outputs": [
    {
     "name": "stdout",
     "output_type": "stream",
     "text": [
      "[1, 4, 3, 16, 5, 36, 7, 64, 9, 100]\n"
     ]
    }
   ],
   "source": [
    "E2O = []\n",
    "for i in range(1,11):\n",
    "    if i%2 == 0:\n",
    "        E2O.append(i**2)\n",
    "    else:\n",
    "        E2O.append(i)\n",
    "print(E2O)"
   ]
  },
  {
   "cell_type": "code",
   "execution_count": 8,
   "id": "da87545b",
   "metadata": {},
   "outputs": [
    {
     "name": "stdout",
     "output_type": "stream",
     "text": [
      "[1, 4, 3, 16, 5, 36, 7, 64, 9, 100]\n"
     ]
    }
   ],
   "source": [
    "E2O = []\n",
    "for i in range(1,11):\n",
    "    E2O.append(i**2) if i%2 == 0 else E2O.append(i)\n",
    "print(E2O)"
   ]
  },
  {
   "cell_type": "code",
   "execution_count": 9,
   "id": "5eb95937",
   "metadata": {},
   "outputs": [
    {
     "name": "stdout",
     "output_type": "stream",
     "text": [
      "[1, 4, 3, 16, 5, 36, 7, 64, 9, 100]\n"
     ]
    }
   ],
   "source": [
    "E2O = [i**2 if i%2 == 0 else i for i in range(1,11)]\n",
    "print(E2O)"
   ]
  },
  {
   "cell_type": "code",
   "execution_count": 10,
   "id": "10c1f7a2",
   "metadata": {},
   "outputs": [
    {
     "name": "stdout",
     "output_type": "stream",
     "text": [
      "a = 5\n"
     ]
    }
   ],
   "source": [
    "a = 5\n",
    "if a < 5:\n",
    "    print(\"a < 5\")\n",
    "elif a == 5:\n",
    "    print(\"a = 5\")\n",
    "else:\n",
    "    print(\"a > 5\")"
   ]
  },
  {
   "cell_type": "code",
   "execution_count": 13,
   "id": "aa6d672f",
   "metadata": {},
   "outputs": [
    {
     "name": "stdout",
     "output_type": "stream",
     "text": [
      "a < 5\n"
     ]
    }
   ],
   "source": [
    "a = 1\n",
    "print(\"a < 5\") if a < 5 else print(\"a = 5\")\\\n",
    "if a == 5 else print(\"a > 5\")"
   ]
  },
  {
   "cell_type": "code",
   "execution_count": 16,
   "id": "fce0983d",
   "metadata": {},
   "outputs": [
    {
     "name": "stdout",
     "output_type": "stream",
     "text": [
      "[[1, 2, 3, 4], [5, 6, 7, 8], [9, 10, 11, 12], [13, 14, 15, 16]]\n"
     ]
    }
   ],
   "source": [
    "M = []\n",
    "for i in range(4):\n",
    "    M.append([])\n",
    "    for j in range(1,5):\n",
    "        M[i].append(4*i+j)\n",
    "print(M)"
   ]
  },
  {
   "cell_type": "code",
   "execution_count": 17,
   "id": "e31e7b1a",
   "metadata": {},
   "outputs": [
    {
     "name": "stdout",
     "output_type": "stream",
     "text": [
      "[[1, 5, 9], [2, 6, 10], [3, 7, 11], [4, 8, 12]]\n"
     ]
    }
   ],
   "source": [
    "N = []\n",
    "for i in range(4):\n",
    "    N.append([])\n",
    "    for j in range(3):\n",
    "        N[i].append((i+1)+4*j)\n",
    "print(N)"
   ]
  },
  {
   "cell_type": "code",
   "execution_count": 18,
   "id": "cff0bc6b",
   "metadata": {},
   "outputs": [
    {
     "data": {
      "text/plain": [
       "[[1, 2, 3, 4], [5, 6, 7, 8], [9, 10, 11, 12], [13, 14, 15, 16]]"
      ]
     },
     "execution_count": 18,
     "metadata": {},
     "output_type": "execute_result"
    }
   ],
   "source": [
    "[[4*i+j for j in range (1,5)] for i in range(4)]"
   ]
  },
  {
   "cell_type": "code",
   "execution_count": 19,
   "id": "db33779d",
   "metadata": {},
   "outputs": [
    {
     "data": {
      "text/plain": [
       "[[1, 5, 9], [2, 6, 10], [3, 7, 11], [4, 8, 12]]"
      ]
     },
     "execution_count": 19,
     "metadata": {},
     "output_type": "execute_result"
    }
   ],
   "source": [
    "[[(i+1)+4*j for j in range(3)] for i in range(4)]"
   ]
  },
  {
   "cell_type": "code",
   "execution_count": 20,
   "id": "b1a54f54",
   "metadata": {},
   "outputs": [
    {
     "data": {
      "text/plain": [
       "[[[0, 1, 2, 3], [1, 2, 3, 4], [2, 3, 4, 5], [3, 4, 5, 6]],\n",
       " [[1, 2, 3, 4], [2, 3, 4, 5], [3, 4, 5, 6], [4, 5, 6, 7]],\n",
       " [[2, 3, 4, 5], [3, 4, 5, 6], [4, 5, 6, 7], [5, 6, 7, 8]],\n",
       " [[3, 4, 5, 6], [4, 5, 6, 7], [5, 6, 7, 8], [6, 7, 8, 9]]]"
      ]
     },
     "execution_count": 20,
     "metadata": {},
     "output_type": "execute_result"
    }
   ],
   "source": [
    "[[[(i+j+k) for k in range(4)] for j in range(4)]\\\n",
    " for i in range(4)]"
   ]
  },
  {
   "cell_type": "code",
   "execution_count": 25,
   "id": "385340ec",
   "metadata": {},
   "outputs": [
    {
     "name": "stdout",
     "output_type": "stream",
     "text": [
      "Enter the alpha-numeric string:123sdfd234sfs34dfsd\n",
      "321sdfd432sfs43dfsd\n"
     ]
    }
   ],
   "source": [
    "S = input('Enter the alpha-numeric string:')\n",
    "RS = \"\"\n",
    "DS = \"\"\n",
    "for ch in S:\n",
    "    if ch.isdigit():\n",
    "        DS = DS+ch\n",
    "    else:\n",
    "        RS = RS+DS[::-1]\n",
    "        RS = RS+ch\n",
    "        DS = \"\"\n",
    "else:\n",
    "    RS = RS+DS[::-1]\n",
    "print(RS)"
   ]
  },
  {
   "cell_type": "code",
   "execution_count": null,
   "id": "f2de1cf7",
   "metadata": {},
   "outputs": [],
   "source": []
  }
 ],
 "metadata": {
  "kernelspec": {
   "display_name": "Python 3 (ipykernel)",
   "language": "python",
   "name": "python3"
  },
  "language_info": {
   "codemirror_mode": {
    "name": "ipython",
    "version": 3
   },
   "file_extension": ".py",
   "mimetype": "text/x-python",
   "name": "python",
   "nbconvert_exporter": "python",
   "pygments_lexer": "ipython3",
   "version": "3.10.13"
  }
 },
 "nbformat": 4,
 "nbformat_minor": 5
}
