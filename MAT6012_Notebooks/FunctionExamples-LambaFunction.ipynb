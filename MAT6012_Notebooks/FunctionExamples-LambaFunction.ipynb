{
 "cells": [
  {
   "cell_type": "code",
   "execution_count": 7,
   "id": "41a8819d",
   "metadata": {},
   "outputs": [
    {
     "name": "stdout",
     "output_type": "stream",
     "text": [
      "inside function call c =  40\n",
      "The sum is: 80\n",
      "outside function call c =  40\n"
     ]
    }
   ],
   "source": [
    "c = 10\n",
    "def myFunc(a,b):\n",
    "    global c\n",
    "    c = c+30\n",
    "    print(\"inside function call c = \",c)\n",
    "    print(\"The sum is:\", a+b+c)\n",
    "\n",
    "myFunc(20,20)\n",
    "print(\"outside function call c = \",c)"
   ]
  },
  {
   "cell_type": "code",
   "execution_count": 9,
   "id": "f862feee",
   "metadata": {},
   "outputs": [
    {
     "name": "stdout",
     "output_type": "stream",
     "text": [
      "16\n"
     ]
    }
   ],
   "source": [
    "print((lambda x: x**2)(4))"
   ]
  },
  {
   "cell_type": "code",
   "execution_count": 10,
   "id": "8c351dc8",
   "metadata": {},
   "outputs": [],
   "source": [
    "EvenOdd = lambda n: print(\"Even\") if n%2 == 0 \\\n",
    "else print(\"Odd\")"
   ]
  },
  {
   "cell_type": "code",
   "execution_count": 12,
   "id": "9ff85577",
   "metadata": {},
   "outputs": [
    {
     "name": "stdout",
     "output_type": "stream",
     "text": [
      "Odd\n"
     ]
    }
   ],
   "source": [
    "EvenOdd(101)"
   ]
  },
  {
   "cell_type": "code",
   "execution_count": 19,
   "id": "2166ae51",
   "metadata": {},
   "outputs": [
    {
     "name": "stdout",
     "output_type": "stream",
     "text": [
      "Enter elements separated by comma: 1,2,2,3\n",
      "{1, 2, 3}\n"
     ]
    }
   ],
   "source": [
    "S = input(\"Enter elements separated by comma: \")\n",
    "L = set(map(int,S.split(\",\")))\n",
    "print(L)"
   ]
  },
  {
   "cell_type": "code",
   "execution_count": 35,
   "id": "a41674ef",
   "metadata": {},
   "outputs": [],
   "source": [
    "def add(a,b,c=0):\n",
    "    return a+b+c"
   ]
  },
  {
   "cell_type": "code",
   "execution_count": 36,
   "id": "797250bd",
   "metadata": {},
   "outputs": [
    {
     "name": "stdout",
     "output_type": "stream",
     "text": [
      "[9, 12, 15]\n"
     ]
    }
   ],
   "source": [
    "L1 = [1,2,3]\n",
    "L2 = [3,4,5]\n",
    "L3 = [5,6,7]\n",
    "L4 = list(map(add, L1, L2, L3))\n",
    "print(L4)"
   ]
  },
  {
   "cell_type": "code",
   "execution_count": 37,
   "id": "383835bd",
   "metadata": {},
   "outputs": [],
   "source": [
    "X = list(map(lambda x: x**2, [1,3,-4,-5,6]))"
   ]
  },
  {
   "cell_type": "code",
   "execution_count": 38,
   "id": "2a8c3a90",
   "metadata": {},
   "outputs": [
    {
     "name": "stdout",
     "output_type": "stream",
     "text": [
      "[1, 9, 16, 25, 36]\n"
     ]
    }
   ],
   "source": [
    "print(X)"
   ]
  },
  {
   "cell_type": "code",
   "execution_count": 39,
   "id": "180e31db",
   "metadata": {},
   "outputs": [],
   "source": []
  },
  {
   "cell_type": "code",
   "execution_count": 40,
   "id": "b53badf0",
   "metadata": {},
   "outputs": [
    {
     "data": {
      "text/plain": [
       "True"
      ]
     },
     "execution_count": 40,
     "metadata": {},
     "output_type": "execute_result"
    }
   ],
   "source": [
    "EvenOdd(4)"
   ]
  },
  {
   "cell_type": "code",
   "execution_count": 44,
   "id": "140f5395",
   "metadata": {},
   "outputs": [
    {
     "name": "stdout",
     "output_type": "stream",
     "text": [
      "[1, 3, 5]\n"
     ]
    }
   ],
   "source": [
    "EvenOdd = lambda n: True if n%2 != 0 \\\n",
    "else False\n",
    "L = [1,2,3,4,5,6]\n",
    "EvenNos = list(filter(EvenOdd,L))\n",
    "print(EvenNos)"
   ]
  },
  {
   "cell_type": "code",
   "execution_count": 53,
   "id": "3869cb19",
   "metadata": {},
   "outputs": [],
   "source": [
    "def myFunc(a,b=0):\n",
    "    if a+b > 10:\n",
    "        return True\n",
    "    else:\n",
    "        return False"
   ]
  },
  {
   "cell_type": "code",
   "execution_count": 55,
   "id": "ecac5e04",
   "metadata": {},
   "outputs": [
    {
     "name": "stdout",
     "output_type": "stream",
     "text": [
      "[]\n"
     ]
    }
   ],
   "source": [
    "L1 = [1,2,3,4,5]\n",
    "L2 = [19,-2,3,4,-11]\n",
    "print(list(filter(myFunc, map(myFunc,L1,L2))))"
   ]
  },
  {
   "cell_type": "code",
   "execution_count": 49,
   "id": "be18841d",
   "metadata": {},
   "outputs": [
    {
     "data": {
      "text/plain": [
       "<map at 0x2c48ddf78e0>"
      ]
     },
     "execution_count": 49,
     "metadata": {},
     "output_type": "execute_result"
    }
   ],
   "source": [
    "map(myFunc,L1,L2)"
   ]
  },
  {
   "cell_type": "code",
   "execution_count": null,
   "id": "b6adc1b8",
   "metadata": {},
   "outputs": [],
   "source": []
  }
 ],
 "metadata": {
  "kernelspec": {
   "display_name": "Python 3 (ipykernel)",
   "language": "python",
   "name": "python3"
  },
  "language_info": {
   "codemirror_mode": {
    "name": "ipython",
    "version": 3
   },
   "file_extension": ".py",
   "mimetype": "text/x-python",
   "name": "python",
   "nbconvert_exporter": "python",
   "pygments_lexer": "ipython3",
   "version": "3.10.13"
  }
 },
 "nbformat": 4,
 "nbformat_minor": 5
}
