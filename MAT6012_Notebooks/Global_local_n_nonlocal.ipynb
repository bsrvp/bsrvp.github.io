{
 "cells": [
  {
   "cell_type": "markdown",
   "id": "99e19851",
   "metadata": {},
   "source": [
    "#### Global variables"
   ]
  },
  {
   "cell_type": "code",
   "execution_count": 1,
   "id": "ecd6d9ee",
   "metadata": {},
   "outputs": [],
   "source": [
    "init = 1\n",
    "\n",
    "def sample_fn(*args):\n",
    "    global init\n",
    "    total = 0\n",
    "    print('The initial value is: ',init)\n",
    "    for i in args:\n",
    "        total += i+init\n",
    "    init = total;\n",
    "    print('After the for value initial values is:',init)\n",
    "    print('The total value is: ',total)"
   ]
  },
  {
   "cell_type": "code",
   "execution_count": 2,
   "id": "537890ba",
   "metadata": {},
   "outputs": [
    {
     "name": "stdout",
     "output_type": "stream",
     "text": [
      "The initial value is:  1\n",
      "After the for value initial values is: 20\n",
      "The total value is:  20\n",
      "The initial value after fn call:  20\n"
     ]
    }
   ],
   "source": [
    "sample_fn(1,2,3,4,5)\n",
    "print('The initial value after fn call: ',init)"
   ]
  },
  {
   "cell_type": "markdown",
   "id": "4c4e75db",
   "metadata": {},
   "source": [
    "#### Modifying the argument of the outer function in inner function and returing this value to the outer function using `nonlocal` keyword"
   ]
  },
  {
   "cell_type": "code",
   "execution_count": 3,
   "id": "5891af64",
   "metadata": {},
   "outputs": [],
   "source": [
    "def outer(num):\n",
    "    print('From outer before inner: ',num)\n",
    "    def inner():\n",
    "        nonlocal num\n",
    "        num = 6\n",
    "        print('In the inner function ',num)\n",
    "    inner()\n",
    "    print('From outer after inner',num)"
   ]
  },
  {
   "cell_type": "code",
   "execution_count": 4,
   "id": "2805c690",
   "metadata": {},
   "outputs": [
    {
     "name": "stdout",
     "output_type": "stream",
     "text": [
      "From outer before inner:  3\n",
      "In the inner function  6\n",
      "From outer after inner 6\n"
     ]
    }
   ],
   "source": [
    "outer(3)"
   ]
  },
  {
   "cell_type": "code",
   "execution_count": null,
   "id": "18590405",
   "metadata": {},
   "outputs": [],
   "source": []
  }
 ],
 "metadata": {
  "kernelspec": {
   "display_name": "Python 3 (ipykernel)",
   "language": "python",
   "name": "python3"
  },
  "language_info": {
   "codemirror_mode": {
    "name": "ipython",
    "version": 3
   },
   "file_extension": ".py",
   "mimetype": "text/x-python",
   "name": "python",
   "nbconvert_exporter": "python",
   "pygments_lexer": "ipython3",
   "version": "3.10.13"
  },
  "latex_envs": {
   "LaTeX_envs_menu_present": true,
   "autoclose": false,
   "autocomplete": true,
   "bibliofile": "biblio.bib",
   "cite_by": "apalike",
   "current_citInitial": 1,
   "eqLabelWithNumbers": true,
   "eqNumInitial": 1,
   "hotkeys": {
    "equation": "Ctrl-E",
    "itemize": "Ctrl-I"
   },
   "labels_anchors": false,
   "latex_user_defs": false,
   "report_style_numbering": false,
   "user_envs_cfg": false
  }
 },
 "nbformat": 4,
 "nbformat_minor": 5
}
