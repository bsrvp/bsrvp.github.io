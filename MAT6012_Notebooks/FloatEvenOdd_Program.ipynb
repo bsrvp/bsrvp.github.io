{
 "cells": [
  {
   "cell_type": "code",
   "execution_count": 10,
   "id": "092274c7",
   "metadata": {},
   "outputs": [
    {
     "name": "stdout",
     "output_type": "stream",
     "text": [
      "Enter the number: 134.23\n",
      "134.23 is odd number\n"
     ]
    }
   ],
   "source": [
    "n = input(\"Enter the number: \")\n",
    "n1 = float(n)\n",
    "integerpart,decimalpart = str(n1).split(\".\")\n",
    "if int(decimalpart) == 0:\n",
    "    tempn = integerpart\n",
    "else:\n",
    "    tempn = decimalpart\n",
    "    \n",
    "if int(tempn)%2 == 0:\n",
    "    print(n,\"is even number\")\n",
    "else:\n",
    "    print(n,\"is odd number\")"
   ]
  },
  {
   "cell_type": "code",
   "execution_count": null,
   "id": "c6586290",
   "metadata": {},
   "outputs": [],
   "source": []
  }
 ],
 "metadata": {
  "kernelspec": {
   "display_name": "Python 3 (ipykernel)",
   "language": "python",
   "name": "python3"
  },
  "language_info": {
   "codemirror_mode": {
    "name": "ipython",
    "version": 3
   },
   "file_extension": ".py",
   "mimetype": "text/x-python",
   "name": "python",
   "nbconvert_exporter": "python",
   "pygments_lexer": "ipython3",
   "version": "3.10.12"
  }
 },
 "nbformat": 4,
 "nbformat_minor": 5
}
