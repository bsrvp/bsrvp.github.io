{
 "cells": [
  {
   "cell_type": "code",
   "execution_count": 1,
   "id": "f32eaa34",
   "metadata": {},
   "outputs": [],
   "source": [
    "import pandas as pd"
   ]
  },
  {
   "cell_type": "code",
   "execution_count": 22,
   "id": "6ee8139e",
   "metadata": {},
   "outputs": [],
   "source": [
    "data = pd.Series([],dtype='float64')"
   ]
  },
  {
   "cell_type": "code",
   "execution_count": 23,
   "id": "e12d6fe3",
   "metadata": {},
   "outputs": [
    {
     "data": {
      "text/plain": [
       "pandas.core.series.Series"
      ]
     },
     "execution_count": 23,
     "metadata": {},
     "output_type": "execute_result"
    }
   ],
   "source": [
    "type(data)"
   ]
  },
  {
   "cell_type": "code",
   "execution_count": 24,
   "id": "73c18f25",
   "metadata": {},
   "outputs": [
    {
     "data": {
      "text/plain": [
       "Series([], dtype: float64)"
      ]
     },
     "execution_count": 24,
     "metadata": {},
     "output_type": "execute_result"
    }
   ],
   "source": [
    "data"
   ]
  },
  {
   "cell_type": "code",
   "execution_count": 25,
   "id": "269e1873",
   "metadata": {},
   "outputs": [
    {
     "ename": "TypeError",
     "evalue": "cannot concatenate object of type '<class 'int'>'; only Series and DataFrame objs are valid",
     "output_type": "error",
     "traceback": [
      "\u001b[1;31m---------------------------------------------------------------------------\u001b[0m",
      "\u001b[1;31mTypeError\u001b[0m                                 Traceback (most recent call last)",
      "\u001b[1;32mC:\\Users\\BSRVPR~1\\AppData\\Local\\Temp/ipykernel_17176/2889110748.py\u001b[0m in \u001b[0;36m<module>\u001b[1;34m\u001b[0m\n\u001b[1;32m----> 1\u001b[1;33m \u001b[0mdata\u001b[0m\u001b[1;33m.\u001b[0m\u001b[0mappend\u001b[0m\u001b[1;33m(\u001b[0m\u001b[1;33m[\u001b[0m\u001b[1;36m1\u001b[0m\u001b[1;33m,\u001b[0m\u001b[1;36m2\u001b[0m\u001b[1;33m,\u001b[0m\u001b[1;36m3\u001b[0m\u001b[1;33m,\u001b[0m\u001b[1;36m4\u001b[0m\u001b[1;33m]\u001b[0m\u001b[1;33m)\u001b[0m\u001b[1;33m\u001b[0m\u001b[1;33m\u001b[0m\u001b[0m\n\u001b[0m",
      "\u001b[1;32mC:\\ProgramData\\Anaconda3\\lib\\site-packages\\pandas\\core\\series.py\u001b[0m in \u001b[0;36mappend\u001b[1;34m(self, to_append, ignore_index, verify_integrity)\u001b[0m\n\u001b[0;32m   2875\u001b[0m             \u001b[0mmsg\u001b[0m \u001b[1;33m=\u001b[0m \u001b[1;34m\"to_append should be a Series or list/tuple of Series, got DataFrame\"\u001b[0m\u001b[1;33m\u001b[0m\u001b[1;33m\u001b[0m\u001b[0m\n\u001b[0;32m   2876\u001b[0m             \u001b[1;32mraise\u001b[0m \u001b[0mTypeError\u001b[0m\u001b[1;33m(\u001b[0m\u001b[0mmsg\u001b[0m\u001b[1;33m)\u001b[0m\u001b[1;33m\u001b[0m\u001b[1;33m\u001b[0m\u001b[0m\n\u001b[1;32m-> 2877\u001b[1;33m         return concat(\n\u001b[0m\u001b[0;32m   2878\u001b[0m             \u001b[0mto_concat\u001b[0m\u001b[1;33m,\u001b[0m \u001b[0mignore_index\u001b[0m\u001b[1;33m=\u001b[0m\u001b[0mignore_index\u001b[0m\u001b[1;33m,\u001b[0m \u001b[0mverify_integrity\u001b[0m\u001b[1;33m=\u001b[0m\u001b[0mverify_integrity\u001b[0m\u001b[1;33m\u001b[0m\u001b[1;33m\u001b[0m\u001b[0m\n\u001b[0;32m   2879\u001b[0m         )\n",
      "\u001b[1;32mC:\\ProgramData\\Anaconda3\\lib\\site-packages\\pandas\\util\\_decorators.py\u001b[0m in \u001b[0;36mwrapper\u001b[1;34m(*args, **kwargs)\u001b[0m\n\u001b[0;32m    309\u001b[0m                     \u001b[0mstacklevel\u001b[0m\u001b[1;33m=\u001b[0m\u001b[0mstacklevel\u001b[0m\u001b[1;33m,\u001b[0m\u001b[1;33m\u001b[0m\u001b[1;33m\u001b[0m\u001b[0m\n\u001b[0;32m    310\u001b[0m                 )\n\u001b[1;32m--> 311\u001b[1;33m             \u001b[1;32mreturn\u001b[0m \u001b[0mfunc\u001b[0m\u001b[1;33m(\u001b[0m\u001b[1;33m*\u001b[0m\u001b[0margs\u001b[0m\u001b[1;33m,\u001b[0m \u001b[1;33m**\u001b[0m\u001b[0mkwargs\u001b[0m\u001b[1;33m)\u001b[0m\u001b[1;33m\u001b[0m\u001b[1;33m\u001b[0m\u001b[0m\n\u001b[0m\u001b[0;32m    312\u001b[0m \u001b[1;33m\u001b[0m\u001b[0m\n\u001b[0;32m    313\u001b[0m         \u001b[1;32mreturn\u001b[0m \u001b[0mwrapper\u001b[0m\u001b[1;33m\u001b[0m\u001b[1;33m\u001b[0m\u001b[0m\n",
      "\u001b[1;32mC:\\ProgramData\\Anaconda3\\lib\\site-packages\\pandas\\core\\reshape\\concat.py\u001b[0m in \u001b[0;36mconcat\u001b[1;34m(objs, axis, join, ignore_index, keys, levels, names, verify_integrity, sort, copy)\u001b[0m\n\u001b[0;32m    292\u001b[0m     \u001b[0mValueError\u001b[0m\u001b[1;33m:\u001b[0m \u001b[0mIndexes\u001b[0m \u001b[0mhave\u001b[0m \u001b[0moverlapping\u001b[0m \u001b[0mvalues\u001b[0m\u001b[1;33m:\u001b[0m \u001b[1;33m[\u001b[0m\u001b[1;34m'a'\u001b[0m\u001b[1;33m]\u001b[0m\u001b[1;33m\u001b[0m\u001b[1;33m\u001b[0m\u001b[0m\n\u001b[0;32m    293\u001b[0m     \"\"\"\n\u001b[1;32m--> 294\u001b[1;33m     op = _Concatenator(\n\u001b[0m\u001b[0;32m    295\u001b[0m         \u001b[0mobjs\u001b[0m\u001b[1;33m,\u001b[0m\u001b[1;33m\u001b[0m\u001b[1;33m\u001b[0m\u001b[0m\n\u001b[0;32m    296\u001b[0m         \u001b[0maxis\u001b[0m\u001b[1;33m=\u001b[0m\u001b[0maxis\u001b[0m\u001b[1;33m,\u001b[0m\u001b[1;33m\u001b[0m\u001b[1;33m\u001b[0m\u001b[0m\n",
      "\u001b[1;32mC:\\ProgramData\\Anaconda3\\lib\\site-packages\\pandas\\core\\reshape\\concat.py\u001b[0m in \u001b[0;36m__init__\u001b[1;34m(self, objs, axis, join, keys, levels, names, ignore_index, verify_integrity, copy, sort)\u001b[0m\n\u001b[0;32m    382\u001b[0m                     \u001b[1;34m\"only Series and DataFrame objs are valid\"\u001b[0m\u001b[1;33m\u001b[0m\u001b[1;33m\u001b[0m\u001b[0m\n\u001b[0;32m    383\u001b[0m                 )\n\u001b[1;32m--> 384\u001b[1;33m                 \u001b[1;32mraise\u001b[0m \u001b[0mTypeError\u001b[0m\u001b[1;33m(\u001b[0m\u001b[0mmsg\u001b[0m\u001b[1;33m)\u001b[0m\u001b[1;33m\u001b[0m\u001b[1;33m\u001b[0m\u001b[0m\n\u001b[0m\u001b[0;32m    385\u001b[0m \u001b[1;33m\u001b[0m\u001b[0m\n\u001b[0;32m    386\u001b[0m             \u001b[0mndims\u001b[0m\u001b[1;33m.\u001b[0m\u001b[0madd\u001b[0m\u001b[1;33m(\u001b[0m\u001b[0mobj\u001b[0m\u001b[1;33m.\u001b[0m\u001b[0mndim\u001b[0m\u001b[1;33m)\u001b[0m\u001b[1;33m\u001b[0m\u001b[1;33m\u001b[0m\u001b[0m\n",
      "\u001b[1;31mTypeError\u001b[0m: cannot concatenate object of type '<class 'int'>'; only Series and DataFrame objs are valid"
     ]
    }
   ],
   "source": [
    "data.append([1,2,3,4])"
   ]
  },
  {
   "cell_type": "code",
   "execution_count": 35,
   "id": "b5ea5be3",
   "metadata": {},
   "outputs": [],
   "source": [
    "data = data.append(pd.Series([1,2,3,4]),ignore_index=True)"
   ]
  },
  {
   "cell_type": "code",
   "execution_count": 36,
   "id": "b5c68dd7",
   "metadata": {},
   "outputs": [
    {
     "data": {
      "text/plain": [
       "0     1\n",
       "1     2\n",
       "2     3\n",
       "3     4\n",
       "4     1\n",
       "5     2\n",
       "6     3\n",
       "7     4\n",
       "8     1\n",
       "9     2\n",
       "10    3\n",
       "11    4\n",
       "dtype: int64"
      ]
     },
     "execution_count": 36,
     "metadata": {},
     "output_type": "execute_result"
    }
   ],
   "source": [
    "data"
   ]
  },
  {
   "cell_type": "code",
   "execution_count": 40,
   "id": "6f32d364",
   "metadata": {},
   "outputs": [],
   "source": [
    "import pandas as pd"
   ]
  },
  {
   "cell_type": "code",
   "execution_count": 41,
   "id": "4f8e23da",
   "metadata": {},
   "outputs": [],
   "source": [
    "S = pd.Series([1,2,3],dtype='float64')"
   ]
  },
  {
   "cell_type": "code",
   "execution_count": 42,
   "id": "f12af6f2",
   "metadata": {},
   "outputs": [
    {
     "data": {
      "text/plain": [
       "0    1.0\n",
       "1    2.0\n",
       "2    3.0\n",
       "dtype: float64"
      ]
     },
     "execution_count": 42,
     "metadata": {},
     "output_type": "execute_result"
    }
   ],
   "source": [
    "S"
   ]
  },
  {
   "cell_type": "code",
   "execution_count": 43,
   "id": "c437fe15",
   "metadata": {},
   "outputs": [],
   "source": [
    "S = pd.Series([1,2,3],['a','b','c'])"
   ]
  },
  {
   "cell_type": "code",
   "execution_count": 44,
   "id": "a51aad58",
   "metadata": {},
   "outputs": [
    {
     "data": {
      "text/plain": [
       "a    1\n",
       "b    2\n",
       "c    3\n",
       "dtype: int64"
      ]
     },
     "execution_count": 44,
     "metadata": {},
     "output_type": "execute_result"
    }
   ],
   "source": [
    "S"
   ]
  },
  {
   "cell_type": "code",
   "execution_count": 45,
   "id": "1c696645",
   "metadata": {},
   "outputs": [
    {
     "data": {
      "text/plain": [
       "1"
      ]
     },
     "execution_count": 45,
     "metadata": {},
     "output_type": "execute_result"
    }
   ],
   "source": [
    "S[0]"
   ]
  },
  {
   "cell_type": "code",
   "execution_count": 46,
   "id": "ae4ce9c8",
   "metadata": {},
   "outputs": [
    {
     "data": {
      "text/plain": [
       "2"
      ]
     },
     "execution_count": 46,
     "metadata": {},
     "output_type": "execute_result"
    }
   ],
   "source": [
    "S[1]"
   ]
  },
  {
   "cell_type": "code",
   "execution_count": 47,
   "id": "9fef7456",
   "metadata": {},
   "outputs": [
    {
     "data": {
      "text/plain": [
       "a    1\n",
       "b    2\n",
       "dtype: int64"
      ]
     },
     "execution_count": 47,
     "metadata": {},
     "output_type": "execute_result"
    }
   ],
   "source": [
    "S[:2]"
   ]
  },
  {
   "cell_type": "code",
   "execution_count": 48,
   "id": "5fd47efe",
   "metadata": {},
   "outputs": [],
   "source": [
    "import numpy as np"
   ]
  },
  {
   "cell_type": "code",
   "execution_count": 64,
   "id": "4493485c",
   "metadata": {},
   "outputs": [],
   "source": [
    "A = [[j+(i*10) for j in range(20,26)] for i in range(0,6)]"
   ]
  },
  {
   "cell_type": "code",
   "execution_count": 65,
   "id": "29a3ad3f",
   "metadata": {},
   "outputs": [
    {
     "data": {
      "text/plain": [
       "[[20, 21, 22, 23, 24, 25],\n",
       " [30, 31, 32, 33, 34, 35],\n",
       " [40, 41, 42, 43, 44, 45],\n",
       " [50, 51, 52, 53, 54, 55],\n",
       " [60, 61, 62, 63, 64, 65],\n",
       " [70, 71, 72, 73, 74, 75]]"
      ]
     },
     "execution_count": 65,
     "metadata": {},
     "output_type": "execute_result"
    }
   ],
   "source": [
    "A"
   ]
  },
  {
   "cell_type": "code",
   "execution_count": 67,
   "id": "d98f0002",
   "metadata": {},
   "outputs": [],
   "source": [
    "A = np.array(A)"
   ]
  },
  {
   "cell_type": "code",
   "execution_count": 68,
   "id": "94da5d3c",
   "metadata": {},
   "outputs": [
    {
     "data": {
      "text/plain": [
       "array([[20, 21, 22, 23, 24, 25],\n",
       "       [30, 31, 32, 33, 34, 35],\n",
       "       [40, 41, 42, 43, 44, 45],\n",
       "       [50, 51, 52, 53, 54, 55],\n",
       "       [60, 61, 62, 63, 64, 65],\n",
       "       [70, 71, 72, 73, 74, 75]])"
      ]
     },
     "execution_count": 68,
     "metadata": {},
     "output_type": "execute_result"
    }
   ],
   "source": [
    "A"
   ]
  },
  {
   "cell_type": "code",
   "execution_count": 70,
   "id": "ede71916",
   "metadata": {},
   "outputs": [],
   "source": [
    "BD = A[(0,1,2,3,4),(1,2,3,4,5)]"
   ]
  },
  {
   "cell_type": "code",
   "execution_count": 71,
   "id": "56a34b78",
   "metadata": {},
   "outputs": [
    {
     "data": {
      "text/plain": [
       "array([21, 32, 43, 54, 65])"
      ]
     },
     "execution_count": 71,
     "metadata": {},
     "output_type": "execute_result"
    }
   ],
   "source": [
    "BD"
   ]
  },
  {
   "cell_type": "code",
   "execution_count": 72,
   "id": "101f79ef",
   "metadata": {},
   "outputs": [],
   "source": [
    "LD = A[(1,2,3,4,5),(0,1,2,3,4)]"
   ]
  },
  {
   "cell_type": "code",
   "execution_count": 73,
   "id": "858fc0bb",
   "metadata": {},
   "outputs": [
    {
     "data": {
      "text/plain": [
       "array([30, 41, 52, 63, 74])"
      ]
     },
     "execution_count": 73,
     "metadata": {},
     "output_type": "execute_result"
    }
   ],
   "source": [
    "LD"
   ]
  },
  {
   "cell_type": "code",
   "execution_count": 74,
   "id": "c7751182",
   "metadata": {},
   "outputs": [],
   "source": [
    "U = A[1:6,1:6]"
   ]
  },
  {
   "cell_type": "code",
   "execution_count": 75,
   "id": "df50433c",
   "metadata": {},
   "outputs": [
    {
     "data": {
      "text/plain": [
       "array([[31, 32, 33, 34, 35],\n",
       "       [41, 42, 43, 44, 45],\n",
       "       [51, 52, 53, 54, 55],\n",
       "       [61, 62, 63, 64, 65],\n",
       "       [71, 72, 73, 74, 75]])"
      ]
     },
     "execution_count": 75,
     "metadata": {},
     "output_type": "execute_result"
    }
   ],
   "source": [
    "U"
   ]
  },
  {
   "cell_type": "code",
   "execution_count": 76,
   "id": "01711128",
   "metadata": {},
   "outputs": [
    {
     "data": {
      "text/plain": [
       "(5,)"
      ]
     },
     "execution_count": 76,
     "metadata": {},
     "output_type": "execute_result"
    }
   ],
   "source": [
    "LD.shape"
   ]
  },
  {
   "cell_type": "code",
   "execution_count": 78,
   "id": "1afa4518",
   "metadata": {},
   "outputs": [
    {
     "data": {
      "text/plain": [
       "array([[ 61,  73,  85,  97, 109],\n",
       "       [ 71,  83,  95, 107, 119],\n",
       "       [ 81,  93, 105, 117, 129],\n",
       "       [ 91, 103, 115, 127, 139],\n",
       "       [101, 113, 125, 137, 149]])"
      ]
     },
     "execution_count": 78,
     "metadata": {},
     "output_type": "execute_result"
    }
   ],
   "source": [
    "U+LD"
   ]
  },
  {
   "cell_type": "code",
   "execution_count": 79,
   "id": "f666a08c",
   "metadata": {},
   "outputs": [
    {
     "data": {
      "text/plain": [
       "array([[31, 32, 33, 34, 35],\n",
       "       [41, 42, 43, 44, 45],\n",
       "       [51, 52, 53, 54, 55],\n",
       "       [61, 62, 63, 64, 65],\n",
       "       [71, 72, 73, 74, 75]])"
      ]
     },
     "execution_count": 79,
     "metadata": {},
     "output_type": "execute_result"
    }
   ],
   "source": [
    "U"
   ]
  },
  {
   "cell_type": "code",
   "execution_count": 80,
   "id": "297a8f8e",
   "metadata": {},
   "outputs": [
    {
     "data": {
      "text/plain": [
       "array([30, 41, 52, 63, 74])"
      ]
     },
     "execution_count": 80,
     "metadata": {},
     "output_type": "execute_result"
    }
   ],
   "source": [
    "LD"
   ]
  },
  {
   "cell_type": "code",
   "execution_count": 81,
   "id": "542c3add",
   "metadata": {},
   "outputs": [
    {
     "data": {
      "text/plain": [
       "array([[ 61,  73,  85,  97, 109],\n",
       "       [ 71,  83,  95, 107, 119],\n",
       "       [ 81,  93, 105, 117, 129],\n",
       "       [ 91, 103, 115, 127, 139],\n",
       "       [101, 113, 125, 137, 149]])"
      ]
     },
     "execution_count": 81,
     "metadata": {},
     "output_type": "execute_result"
    }
   ],
   "source": [
    "LD+U"
   ]
  },
  {
   "cell_type": "code",
   "execution_count": 82,
   "id": "b742e370",
   "metadata": {},
   "outputs": [
    {
     "data": {
      "text/plain": [
       "array([[ 930, 1312, 1716, 2142, 2590],\n",
       "       [1230, 1722, 2236, 2772, 3330],\n",
       "       [1530, 2132, 2756, 3402, 4070],\n",
       "       [1830, 2542, 3276, 4032, 4810],\n",
       "       [2130, 2952, 3796, 4662, 5550]])"
      ]
     },
     "execution_count": 82,
     "metadata": {},
     "output_type": "execute_result"
    }
   ],
   "source": [
    "LD*U"
   ]
  },
  {
   "cell_type": "code",
   "execution_count": 83,
   "id": "26058c8f",
   "metadata": {},
   "outputs": [
    {
     "data": {
      "text/plain": [
       "array([[ 19530,  41984,  73788, 115668, 168350],\n",
       "       [ 25830,  55104,  96148, 149688, 216450],\n",
       "       [ 32130,  68224, 118508, 183708, 264550],\n",
       "       [ 38430,  81344, 140868, 217728, 312650],\n",
       "       [ 44730,  94464, 163228, 251748, 360750]])"
      ]
     },
     "execution_count": 83,
     "metadata": {},
     "output_type": "execute_result"
    }
   ],
   "source": [
    "LD*U*BD"
   ]
  },
  {
   "cell_type": "code",
   "execution_count": 84,
   "id": "81209f47",
   "metadata": {},
   "outputs": [
    {
     "data": {
      "text/plain": [
       "array([ 51,  73,  95, 117, 139])"
      ]
     },
     "execution_count": 84,
     "metadata": {},
     "output_type": "execute_result"
    }
   ],
   "source": [
    "LD+BD"
   ]
  },
  {
   "cell_type": "code",
   "execution_count": 87,
   "id": "724a9370",
   "metadata": {},
   "outputs": [
    {
     "data": {
      "text/plain": [
       "array([[ 82,  94, 106, 118, 130],\n",
       "       [103, 115, 127, 139, 151],\n",
       "       [124, 136, 148, 160, 172],\n",
       "       [145, 157, 169, 181, 193],\n",
       "       [166, 178, 190, 202, 214]])"
      ]
     },
     "execution_count": 87,
     "metadata": {},
     "output_type": "execute_result"
    }
   ],
   "source": [
    "LD.reshape(5,1)+BD+U"
   ]
  },
  {
   "cell_type": "code",
   "execution_count": 88,
   "id": "3d5a237d",
   "metadata": {},
   "outputs": [
    {
     "data": {
      "text/plain": [
       "array([[ 51,  73,  95, 117, 139]])"
      ]
     },
     "execution_count": 88,
     "metadata": {},
     "output_type": "execute_result"
    }
   ],
   "source": [
    "LD.reshape(1,5)+BD"
   ]
  },
  {
   "cell_type": "code",
   "execution_count": 89,
   "id": "44f3b904",
   "metadata": {},
   "outputs": [
    {
     "data": {
      "text/plain": [
       "array([21, 32, 43, 54, 65])"
      ]
     },
     "execution_count": 89,
     "metadata": {},
     "output_type": "execute_result"
    }
   ],
   "source": [
    "BD"
   ]
  },
  {
   "cell_type": "code",
   "execution_count": 90,
   "id": "4e14a956",
   "metadata": {},
   "outputs": [
    {
     "data": {
      "text/plain": [
       "array([[ 51,  62,  73,  84,  95],\n",
       "       [ 62,  73,  84,  95, 106],\n",
       "       [ 73,  84,  95, 106, 117],\n",
       "       [ 84,  95, 106, 117, 128],\n",
       "       [ 95, 106, 117, 128, 139]])"
      ]
     },
     "execution_count": 90,
     "metadata": {},
     "output_type": "execute_result"
    }
   ],
   "source": [
    "LD.reshape(1,5)+BD.reshape(5,1)"
   ]
  },
  {
   "cell_type": "code",
   "execution_count": 91,
   "id": "5e733faf",
   "metadata": {},
   "outputs": [
    {
     "data": {
      "text/plain": [
       "array([ 630, 1312, 2236, 3402, 4810])"
      ]
     },
     "execution_count": 91,
     "metadata": {},
     "output_type": "execute_result"
    }
   ],
   "source": [
    "BD*LD"
   ]
  },
  {
   "cell_type": "code",
   "execution_count": 92,
   "id": "6b96b208",
   "metadata": {},
   "outputs": [
    {
     "data": {
      "text/plain": [
       "array([21, 32, 43, 54, 65])"
      ]
     },
     "execution_count": 92,
     "metadata": {},
     "output_type": "execute_result"
    }
   ],
   "source": [
    "BD"
   ]
  },
  {
   "cell_type": "code",
   "execution_count": 93,
   "id": "bdc4671d",
   "metadata": {},
   "outputs": [
    {
     "data": {
      "text/plain": [
       "array([30, 41, 52, 63, 74])"
      ]
     },
     "execution_count": 93,
     "metadata": {},
     "output_type": "execute_result"
    }
   ],
   "source": [
    "LD"
   ]
  },
  {
   "cell_type": "code",
   "execution_count": 94,
   "id": "e3f40f8a",
   "metadata": {},
   "outputs": [
    {
     "data": {
      "text/plain": [
       "array([ 630, 1312, 2236, 3402, 4810])"
      ]
     },
     "execution_count": 94,
     "metadata": {},
     "output_type": "execute_result"
    }
   ],
   "source": [
    "BD*LD"
   ]
  },
  {
   "cell_type": "code",
   "execution_count": 95,
   "id": "01e51cf9",
   "metadata": {},
   "outputs": [
    {
     "data": {
      "text/plain": [
       "array([[ 630,  861, 1092, 1323, 1554],\n",
       "       [ 960, 1312, 1664, 2016, 2368],\n",
       "       [1290, 1763, 2236, 2709, 3182],\n",
       "       [1620, 2214, 2808, 3402, 3996],\n",
       "       [1950, 2665, 3380, 4095, 4810]])"
      ]
     },
     "execution_count": 95,
     "metadata": {},
     "output_type": "execute_result"
    }
   ],
   "source": [
    "BD.reshape(5,1)*LD"
   ]
  },
  {
   "cell_type": "code",
   "execution_count": 96,
   "id": "d72eb472",
   "metadata": {},
   "outputs": [
    {
     "data": {
      "text/plain": [
       "array([[31, 32, 33, 34, 35],\n",
       "       [41, 42, 43, 44, 45],\n",
       "       [51, 52, 53, 54, 55],\n",
       "       [61, 62, 63, 64, 65],\n",
       "       [71, 72, 73, 74, 75]])"
      ]
     },
     "execution_count": 96,
     "metadata": {},
     "output_type": "execute_result"
    }
   ],
   "source": [
    "U"
   ]
  },
  {
   "cell_type": "code",
   "execution_count": 98,
   "id": "6499ffef",
   "metadata": {},
   "outputs": [
    {
     "data": {
      "text/plain": [
       "array([419320, 543220, 667120, 791020, 914920])"
      ]
     },
     "execution_count": 98,
     "metadata": {},
     "output_type": "execute_result"
    }
   ],
   "source": [
    "U@(BD*LD)"
   ]
  },
  {
   "cell_type": "code",
   "execution_count": 100,
   "id": "72f1c861",
   "metadata": {},
   "outputs": [
    {
     "name": "stdout",
     "output_type": "stream",
     "text": [
      "Help on built-in function randn:\n",
      "\n",
      "randn(...) method of numpy.random.mtrand.RandomState instance\n",
      "    randn(d0, d1, ..., dn)\n",
      "    \n",
      "    Return a sample (or samples) from the \"standard normal\" distribution.\n",
      "    \n",
      "    .. note::\n",
      "        This is a convenience function for users porting code from Matlab,\n",
      "        and wraps `standard_normal`. That function takes a\n",
      "        tuple to specify the size of the output, which is consistent with\n",
      "        other NumPy functions like `numpy.zeros` and `numpy.ones`.\n",
      "    \n",
      "    .. note::\n",
      "        New code should use the ``standard_normal`` method of a ``default_rng()``\n",
      "        instance instead; please see the :ref:`random-quick-start`.\n",
      "    \n",
      "    If positive int_like arguments are provided, `randn` generates an array\n",
      "    of shape ``(d0, d1, ..., dn)``, filled\n",
      "    with random floats sampled from a univariate \"normal\" (Gaussian)\n",
      "    distribution of mean 0 and variance 1. A single float randomly sampled\n",
      "    from the distribution is returned if no argument is provided.\n",
      "    \n",
      "    Parameters\n",
      "    ----------\n",
      "    d0, d1, ..., dn : int, optional\n",
      "        The dimensions of the returned array, must be non-negative.\n",
      "        If no argument is given a single Python float is returned.\n",
      "    \n",
      "    Returns\n",
      "    -------\n",
      "    Z : ndarray or float\n",
      "        A ``(d0, d1, ..., dn)``-shaped array of floating-point samples from\n",
      "        the standard normal distribution, or a single such float if\n",
      "        no parameters were supplied.\n",
      "    \n",
      "    See Also\n",
      "    --------\n",
      "    standard_normal : Similar, but takes a tuple as its argument.\n",
      "    normal : Also accepts mu and sigma arguments.\n",
      "    Generator.standard_normal: which should be used for new code.\n",
      "    \n",
      "    Notes\n",
      "    -----\n",
      "    For random samples from :math:`N(\\mu, \\sigma^2)`, use:\n",
      "    \n",
      "    ``sigma * np.random.randn(...) + mu``\n",
      "    \n",
      "    Examples\n",
      "    --------\n",
      "    >>> np.random.randn()\n",
      "    2.1923875335537315  # random\n",
      "    \n",
      "    Two-by-four array of samples from N(3, 6.25):\n",
      "    \n",
      "    >>> 3 + 2.5 * np.random.randn(2, 4)\n",
      "    array([[-4.49401501,  4.00950034, -1.81814867,  7.29718677],   # random\n",
      "           [ 0.39924804,  4.68456316,  4.99394529,  4.84057254]])  # random\n",
      "\n"
     ]
    }
   ],
   "source": [
    "help(np.random.randn)"
   ]
  },
  {
   "cell_type": "code",
   "execution_count": 101,
   "id": "192d9298",
   "metadata": {},
   "outputs": [],
   "source": [
    "import matplotlib.pyplot as plt"
   ]
  },
  {
   "cell_type": "code",
   "execution_count": 112,
   "id": "48982e69",
   "metadata": {},
   "outputs": [],
   "source": [
    "x1 = np.random.randn(100)\n",
    "x2 = np.random.randn(100)"
   ]
  },
  {
   "cell_type": "code",
   "execution_count": 120,
   "id": "5ae3d6af",
   "metadata": {},
   "outputs": [
    {
     "data": {
      "image/png": "[encoded data removed]",
      "text/plain": [
       "<Figure size 432x288 with 4 Axes>"
      ]
     },
     "metadata": {
      "needs_background": "light"
     },
     "output_type": "display_data"
    }
   ],
   "source": [
    "plt.subplot(221)\n",
    "plt.scatter(x1,x2)\n",
    "plt.xlim([-3,3])\n",
    "plt.ylim([-4,4])\n",
    "plt.title('Uncorrelated')\n",
    "\n",
    "plt.subplot(222)\n",
    "plt.scatter(x1,x1+x2)\n",
    "plt.xlim([-3,3])\n",
    "plt.ylim([-4,4])\n",
    "plt.title('Weakly possitively correlated')\n",
    "\n",
    "plt.subplot(223)\n",
    "plt.scatter(x1,-x1+x2)\n",
    "plt.xlim([-3,3])\n",
    "plt.ylim([-4,4])\n",
    "plt.title('Weakly negatively correlated')\n",
    "\n",
    "plt.subplot(224)\n",
    "plt.scatter(x1,x1+0.15*x2)\n",
    "plt.xlim([-3,3])\n",
    "plt.ylim([-4,4])\n",
    "plt.title('Strongly correlated')\n",
    "\n",
    "plt.subplots_adjust(left=0.1,right=0.95,bottom=0.1,top=0.95,wspace=0.4,hspace=0.4)\n",
    "plt.show()"
   ]
  },
  {
   "cell_type": "code",
   "execution_count": 121,
   "id": "2864b948",
   "metadata": {},
   "outputs": [
    {
     "name": "stdout",
     "output_type": "stream",
     "text": [
      "Help on function subplots_adjust in module matplotlib.pyplot:\n",
      "\n",
      "subplots_adjust(left=None, bottom=None, right=None, top=None, wspace=None, hspace=None)\n",
      "    Adjust the subplot layout parameters.\n",
      "    \n",
      "    Unset parameters are left unmodified; initial values are given by\n",
      "    :rc:`figure.subplot.[name]`.\n",
      "    \n",
      "    Parameters\n",
      "    ----------\n",
      "    left : float, optional\n",
      "        The position of the left edge of the subplots,\n",
      "        as a fraction of the figure width.\n",
      "    right : float, optional\n",
      "        The position of the right edge of the subplots,\n",
      "        as a fraction of the figure width.\n",
      "    bottom : float, optional\n",
      "        The position of the bottom edge of the subplots,\n",
      "        as a fraction of the figure height.\n",
      "    top : float, optional\n",
      "        The position of the top edge of the subplots,\n",
      "        as a fraction of the figure height.\n",
      "    wspace : float, optional\n",
      "        The width of the padding between subplots,\n",
      "        as a fraction of the average Axes width.\n",
      "    hspace : float, optional\n",
      "        The height of the padding between subplots,\n",
      "        as a fraction of the average Axes height.\n",
      "\n"
     ]
    }
   ],
   "source": [
    "help(plt.subplots_adjust)"
   ]
  },
  {
   "cell_type": "code",
   "execution_count": null,
   "id": "342af080",
   "metadata": {},
   "outputs": [],
   "source": []
  }
 ],
 "metadata": {
  "kernelspec": {
   "display_name": "Python 3 (ipykernel)",
   "language": "python",
   "name": "python3"
  },
  "language_info": {
   "codemirror_mode": {
    "name": "ipython",
    "version": 3
   },
   "file_extension": ".py",
   "mimetype": "text/x-python",
   "name": "python",
   "nbconvert_exporter": "python",
   "pygments_lexer": "ipython3",
   "version": "3.9.16"
  },
  "latex_envs": {
   "LaTeX_envs_menu_present": true,
   "autoclose": true,
   "autocomplete": true,
   "bibliofile": "biblio.bib",
   "cite_by": "apalike",
   "current_citInitial": 1,
   "eqLabelWithNumbers": true,
   "eqNumInitial": 1,
   "hotkeys": {
    "equation": "Ctrl-E",
    "itemize": "Ctrl-I"
   },
   "labels_anchors": false,
   "latex_user_defs": false,
   "report_style_numbering": false,
   "user_envs_cfg": false
  }
 },
 "nbformat": 4,
 "nbformat_minor": 5
}
