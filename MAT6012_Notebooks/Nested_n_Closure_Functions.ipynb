{
 "cells": [
  {
   "cell_type": "markdown",
   "id": "6a8a2aaf",
   "metadata": {},
   "source": [
    "#### Python Jupyter Notebook to Supplement the Lecture on Nested Functions, Closure Functions"
   ]
  },
  {
   "cell_type": "code",
   "execution_count": 1,
   "id": "6dd62e5d",
   "metadata": {},
   "outputs": [],
   "source": [
    "def first():\n",
    "    print(\"Hello\")"
   ]
  },
  {
   "cell_type": "code",
   "execution_count": 2,
   "id": "ec752402",
   "metadata": {},
   "outputs": [
    {
     "name": "stdout",
     "output_type": "stream",
     "text": [
      "Hello\n"
     ]
    }
   ],
   "source": [
    "first()"
   ]
  },
  {
   "cell_type": "code",
   "execution_count": 3,
   "id": "1fe799b3",
   "metadata": {},
   "outputs": [],
   "source": [
    "second = first"
   ]
  },
  {
   "cell_type": "code",
   "execution_count": 4,
   "id": "5f42e8ce",
   "metadata": {},
   "outputs": [
    {
     "name": "stdout",
     "output_type": "stream",
     "text": [
      "Hello\n"
     ]
    }
   ],
   "source": [
    "second()"
   ]
  },
  {
   "cell_type": "code",
   "execution_count": 5,
   "id": "314323db",
   "metadata": {},
   "outputs": [],
   "source": [
    "del first"
   ]
  },
  {
   "cell_type": "code",
   "execution_count": 7,
   "id": "959e999f",
   "metadata": {},
   "outputs": [
    {
     "ename": "NameError",
     "evalue": "name 'first' is not defined",
     "output_type": "error",
     "traceback": [
      "\u001b[1;31m---------------------------------------------------------------------------\u001b[0m",
      "\u001b[1;31mNameError\u001b[0m                                 Traceback (most recent call last)",
      "\u001b[1;32mC:\\Users\\BSRVPR~1\\AppData\\Local\\Temp/ipykernel_8436/40926793.py\u001b[0m in \u001b[0;36m<module>\u001b[1;34m\u001b[0m\n\u001b[1;32m----> 1\u001b[1;33m \u001b[0mfirst\u001b[0m\u001b[1;33m(\u001b[0m\u001b[1;33m)\u001b[0m\u001b[1;33m\u001b[0m\u001b[1;33m\u001b[0m\u001b[0m\n\u001b[0m",
      "\u001b[1;31mNameError\u001b[0m: name 'first' is not defined"
     ]
    }
   ],
   "source": [
    "first()"
   ]
  },
  {
   "cell_type": "code",
   "execution_count": null,
   "id": "e74d0ba2",
   "metadata": {},
   "outputs": [],
   "source": [
    "second()"
   ]
  },
  {
   "cell_type": "code",
   "execution_count": null,
   "id": "e1cb6b88",
   "metadata": {},
   "outputs": [],
   "source": [
    "def first(msg):\n",
    "    print(msg)"
   ]
  },
  {
   "cell_type": "code",
   "execution_count": null,
   "id": "ba6fa7c3",
   "metadata": {},
   "outputs": [],
   "source": [
    "second()"
   ]
  },
  {
   "cell_type": "code",
   "execution_count": null,
   "id": "b921b6ec",
   "metadata": {},
   "outputs": [],
   "source": [
    "second = first"
   ]
  },
  {
   "cell_type": "code",
   "execution_count": null,
   "id": "f39baa20",
   "metadata": {},
   "outputs": [],
   "source": [
    "second(\"Hello\")"
   ]
  },
  {
   "cell_type": "code",
   "execution_count": null,
   "id": "4032f004",
   "metadata": {},
   "outputs": [],
   "source": [
    "first(\"Hi\")"
   ]
  },
  {
   "cell_type": "code",
   "execution_count": null,
   "id": "630263ec",
   "metadata": {},
   "outputs": [],
   "source": [
    "del second"
   ]
  },
  {
   "cell_type": "code",
   "execution_count": null,
   "id": "225a2b49",
   "metadata": {},
   "outputs": [],
   "source": [
    "first(\"Hello\")"
   ]
  },
  {
   "cell_type": "code",
   "execution_count": null,
   "id": "7b9467b4",
   "metadata": {},
   "outputs": [],
   "source": [
    "def outerfn():\n",
    "    def innerfun():\n",
    "        print(\"message from inner function\")\n",
    "    print(\"message from outer function\")\n",
    "    innerfun()"
   ]
  },
  {
   "cell_type": "code",
   "execution_count": null,
   "id": "b79b089c",
   "metadata": {},
   "outputs": [],
   "source": [
    "of = outerfn"
   ]
  },
  {
   "cell_type": "code",
   "execution_count": null,
   "id": "ab737442",
   "metadata": {},
   "outputs": [],
   "source": [
    "of()"
   ]
  },
  {
   "cell_type": "code",
   "execution_count": null,
   "id": "3e3b3f14",
   "metadata": {},
   "outputs": [],
   "source": [
    "del innerfn"
   ]
  },
  {
   "cell_type": "code",
   "execution_count": null,
   "id": "ff9a56ef",
   "metadata": {},
   "outputs": [],
   "source": [
    "del outerfn"
   ]
  },
  {
   "cell_type": "code",
   "execution_count": null,
   "id": "e57a2b4c",
   "metadata": {},
   "outputs": [],
   "source": [
    "of()"
   ]
  },
  {
   "cell_type": "code",
   "execution_count": null,
   "id": "56c29d4f",
   "metadata": {},
   "outputs": [],
   "source": [
    "of"
   ]
  },
  {
   "cell_type": "code",
   "execution_count": null,
   "id": "e508cd86",
   "metadata": {},
   "outputs": [],
   "source": [
    "def outerfn(msg1):\n",
    "    def innerfun(msg):\n",
    "        print(\"message from inner function\",msg+msg1)\n",
    "    print(\"message from outer function\",msg1)\n",
    "    #innerfun()\n",
    "    return innerfun"
   ]
  },
  {
   "cell_type": "code",
   "execution_count": 8,
   "id": "8118d5c4",
   "metadata": {},
   "outputs": [
    {
     "ename": "NameError",
     "evalue": "name 'outerfn' is not defined",
     "output_type": "error",
     "traceback": [
      "\u001b[1;31m---------------------------------------------------------------------------\u001b[0m",
      "\u001b[1;31mNameError\u001b[0m                                 Traceback (most recent call last)",
      "\u001b[1;32mC:\\Users\\BSRVPR~1\\AppData\\Local\\Temp/ipykernel_8436/2632420790.py\u001b[0m in \u001b[0;36m<module>\u001b[1;34m\u001b[0m\n\u001b[1;32m----> 1\u001b[1;33m \u001b[0minfun\u001b[0m \u001b[1;33m=\u001b[0m \u001b[0mouterfn\u001b[0m\u001b[1;33m(\u001b[0m\u001b[1;34m\"Hello\"\u001b[0m\u001b[1;33m)\u001b[0m\u001b[1;33m\u001b[0m\u001b[1;33m\u001b[0m\u001b[0m\n\u001b[0m",
      "\u001b[1;31mNameError\u001b[0m: name 'outerfn' is not defined"
     ]
    }
   ],
   "source": [
    "infun = outerfn(\"Hello\")"
   ]
  },
  {
   "cell_type": "code",
   "execution_count": 9,
   "id": "8ca38baf",
   "metadata": {},
   "outputs": [
    {
     "ename": "NameError",
     "evalue": "name 'outerfn' is not defined",
     "output_type": "error",
     "traceback": [
      "\u001b[1;31m---------------------------------------------------------------------------\u001b[0m",
      "\u001b[1;31mNameError\u001b[0m                                 Traceback (most recent call last)",
      "\u001b[1;32mC:\\Users\\BSRVPR~1\\AppData\\Local\\Temp/ipykernel_8436/1581675212.py\u001b[0m in \u001b[0;36m<module>\u001b[1;34m\u001b[0m\n\u001b[1;32m----> 1\u001b[1;33m \u001b[1;32mdel\u001b[0m \u001b[0mouterfn\u001b[0m\u001b[1;33m\u001b[0m\u001b[1;33m\u001b[0m\u001b[0m\n\u001b[0m",
      "\u001b[1;31mNameError\u001b[0m: name 'outerfn' is not defined"
     ]
    }
   ],
   "source": [
    "del outerfn"
   ]
  },
  {
   "cell_type": "code",
   "execution_count": 19,
   "id": "b14c898c",
   "metadata": {},
   "outputs": [
    {
     "ename": "NameError",
     "evalue": "name 'infun' is not defined",
     "output_type": "error",
     "traceback": [
      "\u001b[1;31m---------------------------------------------------------------------------\u001b[0m",
      "\u001b[1;31mNameError\u001b[0m                                 Traceback (most recent call last)",
      "\u001b[1;32mC:\\Users\\BSRVPR~1\\AppData\\Local\\Temp/ipykernel_8436/2019275522.py\u001b[0m in \u001b[0;36m<module>\u001b[1;34m\u001b[0m\n\u001b[1;32m----> 1\u001b[1;33m \u001b[0minfun\u001b[0m\u001b[1;33m(\u001b[0m\u001b[1;34m\"Hi\"\u001b[0m\u001b[1;33m)\u001b[0m\u001b[1;33m\u001b[0m\u001b[1;33m\u001b[0m\u001b[0m\n\u001b[0m",
      "\u001b[1;31mNameError\u001b[0m: name 'infun' is not defined"
     ]
    }
   ],
   "source": [
    "infun(\"Hi\")"
   ]
  },
  {
   "cell_type": "markdown",
   "id": "097168e5",
   "metadata": {},
   "source": [
    "#### Constructing a closure function to generate a series of functions returning the mutiple of a given number with the fixed value passed to the outer function."
   ]
  },
  {
   "cell_type": "code",
   "execution_count": 20,
   "id": "84cc78f2",
   "metadata": {},
   "outputs": [],
   "source": [
    "def multiplier(n):\n",
    "    def multiply(x):\n",
    "        return x*n\n",
    "    return multiply"
   ]
  },
  {
   "cell_type": "code",
   "execution_count": 21,
   "id": "1a2b1fee",
   "metadata": {},
   "outputs": [],
   "source": [
    "time3 = multiplier(3)"
   ]
  },
  {
   "cell_type": "code",
   "execution_count": 22,
   "id": "d04b8c4e",
   "metadata": {},
   "outputs": [],
   "source": [
    "time5 = multiplier(5)"
   ]
  },
  {
   "cell_type": "code",
   "execution_count": 23,
   "id": "979739e7",
   "metadata": {},
   "outputs": [
    {
     "name": "stdout",
     "output_type": "stream",
     "text": [
      "3 X 1 = 3\n",
      "3 X 2 = 6\n",
      "3 X 3 = 9\n",
      "3 X 4 = 12\n",
      "3 X 5 = 15\n",
      "3 X 6 = 18\n",
      "3 X 7 = 21\n",
      "3 X 8 = 24\n",
      "3 X 9 = 27\n",
      "3 X 10 = 30\n"
     ]
    }
   ],
   "source": [
    "for x in range(1,11):\n",
    "    print('3 X',x,'=',time3(x))"
   ]
  },
  {
   "cell_type": "code",
   "execution_count": 24,
   "id": "4aa667ca",
   "metadata": {},
   "outputs": [
    {
     "name": "stdout",
     "output_type": "stream",
     "text": [
      "5 X 1 = 5\n",
      "5 X 2 = 10\n",
      "5 X 3 = 15\n",
      "5 X 4 = 20\n",
      "5 X 5 = 25\n",
      "5 X 6 = 30\n",
      "5 X 7 = 35\n",
      "5 X 8 = 40\n",
      "5 X 9 = 45\n",
      "5 X 10 = 50\n"
     ]
    }
   ],
   "source": [
    "for x in range(1,11):\n",
    "    print('5 X',x,'=',time5(x))"
   ]
  },
  {
   "cell_type": "code",
   "execution_count": 25,
   "id": "378a987a",
   "metadata": {},
   "outputs": [
    {
     "data": {
      "text/plain": [
       "24"
      ]
     },
     "execution_count": 25,
     "metadata": {},
     "output_type": "execute_result"
    }
   ],
   "source": [
    "multiplier(3)(8)"
   ]
  },
  {
   "cell_type": "markdown",
   "id": "10395291",
   "metadata": {},
   "source": [
    "#### Construct a closure function in which outer function takes the parameters '+','-','x','/' and the inner function takes variable aruguments and then returns the sum, difference, multiplication and division of these numbers"
   ]
  },
  {
   "cell_type": "code",
   "execution_count": 26,
   "id": "cc68191a",
   "metadata": {},
   "outputs": [],
   "source": [
    "def operator(op):\n",
    "    def operation(*x):\n",
    "        if op == '+':\n",
    "            return sum(x)\n",
    "        elif op == '-':\n",
    "            res = x[0]\n",
    "            for n in x[1:]:\n",
    "                res -= n\n",
    "            return res\n",
    "        elif op == '*':\n",
    "            res = x[0]\n",
    "            for n in x[1:]:\n",
    "                res *= n\n",
    "            return res\n",
    "        elif op == '/':\n",
    "            res = x[0]\n",
    "            for n in x[1:]:\n",
    "                res /= n\n",
    "            return res\n",
    "    return operation"
   ]
  },
  {
   "cell_type": "code",
   "execution_count": 27,
   "id": "c386d8b0",
   "metadata": {},
   "outputs": [],
   "source": [
    "plus = operator('+')"
   ]
  },
  {
   "cell_type": "code",
   "execution_count": 28,
   "id": "e81812d4",
   "metadata": {},
   "outputs": [],
   "source": [
    "minus = operator('-')"
   ]
  },
  {
   "cell_type": "code",
   "execution_count": 29,
   "id": "ea5027f4",
   "metadata": {},
   "outputs": [],
   "source": [
    "multiply = operator('*')"
   ]
  },
  {
   "cell_type": "code",
   "execution_count": 30,
   "id": "7b72bfb6",
   "metadata": {},
   "outputs": [],
   "source": [
    "divide = operator('/')"
   ]
  },
  {
   "cell_type": "code",
   "execution_count": 31,
   "id": "a63a3bde",
   "metadata": {},
   "outputs": [
    {
     "data": {
      "text/plain": [
       "9"
      ]
     },
     "execution_count": 31,
     "metadata": {},
     "output_type": "execute_result"
    }
   ],
   "source": [
    "plus(2,3,4)"
   ]
  },
  {
   "cell_type": "code",
   "execution_count": 32,
   "id": "dab8bfbe",
   "metadata": {},
   "outputs": [
    {
     "data": {
      "text/plain": [
       "-5"
      ]
     },
     "execution_count": 32,
     "metadata": {},
     "output_type": "execute_result"
    }
   ],
   "source": [
    "minus(2,3,4)"
   ]
  },
  {
   "cell_type": "code",
   "execution_count": 33,
   "id": "e6352589",
   "metadata": {},
   "outputs": [
    {
     "data": {
      "text/plain": [
       "24"
      ]
     },
     "execution_count": 33,
     "metadata": {},
     "output_type": "execute_result"
    }
   ],
   "source": [
    "multiply(2,3,4)"
   ]
  },
  {
   "cell_type": "code",
   "execution_count": 34,
   "id": "14abdf2a",
   "metadata": {},
   "outputs": [
    {
     "data": {
      "text/plain": [
       "0.16666666666666666"
      ]
     },
     "execution_count": 34,
     "metadata": {},
     "output_type": "execute_result"
    }
   ],
   "source": [
    "divide(2,3,4)"
   ]
  }
 ],
 "metadata": {
  "kernelspec": {
   "display_name": "Python 3 (ipykernel)",
   "language": "python",
   "name": "python3"
  },
  "language_info": {
   "codemirror_mode": {
    "name": "ipython",
    "version": 3
   },
   "file_extension": ".py",
   "mimetype": "text/x-python",
   "name": "python",
   "nbconvert_exporter": "python",
   "pygments_lexer": "ipython3",
   "version": "3.9.15"
  },
  "latex_envs": {
   "LaTeX_envs_menu_present": true,
   "autoclose": false,
   "autocomplete": true,
   "bibliofile": "biblio.bib",
   "cite_by": "apalike",
   "current_citInitial": 1,
   "eqLabelWithNumbers": true,
   "eqNumInitial": 1,
   "hotkeys": {
    "equation": "Ctrl-E",
    "itemize": "Ctrl-I"
   },
   "labels_anchors": false,
   "latex_user_defs": false,
   "report_style_numbering": false,
   "user_envs_cfg": false
  }
 },
 "nbformat": 4,
 "nbformat_minor": 5
}
