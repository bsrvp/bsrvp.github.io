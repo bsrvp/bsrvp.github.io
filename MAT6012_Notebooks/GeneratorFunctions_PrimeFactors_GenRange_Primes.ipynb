{
 "cells": [
  {
   "cell_type": "code",
   "execution_count": 13,
   "id": "183bd3fe",
   "metadata": {},
   "outputs": [],
   "source": [
    "def primeFactors(n):\n",
    "    f = 2\n",
    "    while n>int(n**0.5):\n",
    "        if n%f == 0:\n",
    "            yield f\n",
    "            n = int(n/f)\n",
    "        else:\n",
    "            f = f+1"
   ]
  },
  {
   "cell_type": "code",
   "execution_count": 43,
   "id": "c4362be9",
   "metadata": {},
   "outputs": [],
   "source": [
    "a = primeFactors(20011)"
   ]
  },
  {
   "cell_type": "code",
   "execution_count": 45,
   "id": "27b6f18b",
   "metadata": {},
   "outputs": [
    {
     "ename": "StopIteration",
     "evalue": "",
     "output_type": "error",
     "traceback": [
      "\u001b[1;31m---------------------------------------------------------------------------\u001b[0m",
      "\u001b[1;31mStopIteration\u001b[0m                             Traceback (most recent call last)",
      "Cell \u001b[1;32mIn[45], line 1\u001b[0m\n\u001b[1;32m----> 1\u001b[0m \u001b[38;5;28;43mnext\u001b[39;49m\u001b[43m(\u001b[49m\u001b[43ma\u001b[49m\u001b[43m)\u001b[49m\n",
      "\u001b[1;31mStopIteration\u001b[0m: "
     ]
    }
   ],
   "source": [
    "next(a)"
   ]
  },
  {
   "cell_type": "code",
   "execution_count": 20,
   "id": "8fade735",
   "metadata": {},
   "outputs": [
    {
     "name": "stdout",
     "output_type": "stream",
     "text": [
      "5 "
     ]
    }
   ],
   "source": [
    "for x in primeFactors(5):\n",
    "    print(x,end=\" \")"
   ]
  },
  {
   "cell_type": "code",
   "execution_count": null,
   "id": "58678c62",
   "metadata": {},
   "outputs": [],
   "source": [
    "sum(primeFactors(50043))"
   ]
  },
  {
   "cell_type": "code",
   "execution_count": null,
   "id": "c89e577a",
   "metadata": {},
   "outputs": [],
   "source": [
    "for x in range(5):\n",
    "    print(x)"
   ]
  },
  {
   "cell_type": "code",
   "execution_count": 48,
   "id": "59124f6e",
   "metadata": {},
   "outputs": [],
   "source": [
    "def genrange(*args):\n",
    "    if len(args) == 0 or len(args) > 3:\n",
    "        print('Error! in the number of arguments.')\n",
    "        print('The function should have one or two \\\n",
    "or three arguments')\n",
    "        return\n",
    "    elif len(args) == 1:\n",
    "        b,a,n = args[0], 0, 1\n",
    "    elif len(args) == 2:\n",
    "        a,b,n = args[0], args[1], 1\n",
    "    elif len(args) == 3:\n",
    "        a,b,n = args[0], args[1], args[2]\n",
    "    if a > b and n > 0:\n",
    "        print('Error...')\n",
    "        return\n",
    "    elif a < b and n < 0:\n",
    "        print('Error...')\n",
    "        return\n",
    "  \n",
    "    v = a\n",
    "    if n > 0:\n",
    "        while v<=b:\n",
    "            yield v\n",
    "            v = v+n\n",
    "    elif n < 0:\n",
    "        while v>=b:\n",
    "            yield v\n",
    "            v = v+n"
   ]
  },
  {
   "cell_type": "code",
   "execution_count": 56,
   "id": "bf6024ad",
   "metadata": {},
   "outputs": [
    {
     "name": "stdout",
     "output_type": "stream",
     "text": [
      "0\n",
      "1\n",
      "2\n",
      "3\n",
      "4\n",
      "5\n",
      "6\n",
      "7\n",
      "8\n",
      "9\n",
      "10\n"
     ]
    }
   ],
   "source": [
    "for x in genrange(10):\n",
    "    print(x)"
   ]
  },
  {
   "cell_type": "code",
   "execution_count": null,
   "id": "d31e369e",
   "metadata": {},
   "outputs": [],
   "source": [
    "for x in genrange(-3,-10,-5):\n",
    "    print(x)"
   ]
  },
  {
   "cell_type": "code",
   "execution_count": null,
   "id": "f6d81e33",
   "metadata": {},
   "outputs": [],
   "source": [
    "for x in range(5,3,-1):\n",
    "    print(x)"
   ]
  },
  {
   "cell_type": "code",
   "execution_count": null,
   "id": "98124e2d",
   "metadata": {},
   "outputs": [],
   "source": [
    "for x in range(-3,-5,-1):\n",
    "    print(x)"
   ]
  },
  {
   "cell_type": "code",
   "execution_count": 74,
   "id": "7c26542b",
   "metadata": {},
   "outputs": [],
   "source": [
    "def gen_primes():\n",
    "    \"\"\" Generate an infinite sequence of prime numbers.\n",
    "    \"\"\"\n",
    "    # Maps composites to primes witnessing their compositeness.\n",
    "    # This is memory efficient, as the sieve is not \"run forward\"\n",
    "    # indefinitely, but only as long as required by the current\n",
    "    # number being tested.\n",
    "    #\n",
    "    D = {}\n",
    "    \n",
    "    # The running integer that's checked for primeness\n",
    "    q = 2\n",
    "    \n",
    "    while True:\n",
    "        if q not in D:\n",
    "            # q is a new prime.\n",
    "            # Yield it and mark its first multiple that isn't\n",
    "            # already marked in previous iterations\n",
    "            # \n",
    "            yield q\n",
    "            D[q * q] = [q]\n",
    "        else:\n",
    "            # q is composite. D[q] is the list of primes that\n",
    "            # divide it. Since we've reached q, we no longer\n",
    "            # need it in the map, but we'll mark the next \n",
    "            # multiples of its witnesses to prepare for larger\n",
    "            # numbers\n",
    "            # \n",
    "            for p in D[q]:\n",
    "                D.setdefault(p + q, []).append(p)\n",
    "            del D[q]\n",
    "        \n",
    "        q += 1"
   ]
  },
  {
   "cell_type": "code",
   "execution_count": 75,
   "id": "f8de7720",
   "metadata": {},
   "outputs": [],
   "source": [
    "p = gen_primes()"
   ]
  },
  {
   "cell_type": "code",
   "execution_count": null,
   "id": "ffea53c7",
   "metadata": {},
   "outputs": [],
   "source": [
    "next(p)"
   ]
  },
  {
   "cell_type": "code",
   "execution_count": 78,
   "id": "a0dc9397",
   "metadata": {},
   "outputs": [
    {
     "name": "stdout",
     "output_type": "stream",
     "text": [
      "1223 1229 1231 1237 1249 1259 1277 1279 1283 1289 1291 1297 1301 1303 1307 1319 1321 1327 1361 1367 1373 1381 1399 1409 1423 1427 1429 1433 1439 1447 1451 1453 1459 1471 1481 1483 1487 1489 1493 1499 1511 1523 1531 1543 1549 1553 1559 1567 1571 1579 1583 1597 1601 1607 1609 1613 1619 1621 1627 1637 1657 1663 1667 1669 1693 1697 1699 1709 1721 1723 1733 1741 1747 1753 1759 1777 1783 1787 1789 1801 1811 1823 1831 1847 1861 1867 1871 1873 1877 1879 1889 1901 1907 1913 1931 1933 1949 1951 1973 1979 "
     ]
    }
   ],
   "source": [
    "for x in range(150000,150100):\n",
    "    print(next(p),end=\" \")"
   ]
  },
  {
   "cell_type": "code",
   "execution_count": 36,
   "id": "8d9279ca",
   "metadata": {},
   "outputs": [],
   "source": [
    "def primes(no=2):\n",
    "    #no = 2\n",
    "    while True:\n",
    "        isPrime = True\n",
    "        for x in range(2,int(no**0.5)+1):\n",
    "            if no%x == 0:\n",
    "                isPrime = False\n",
    "                break\n",
    "        if isPrime:\n",
    "            yield no\n",
    "        no = no+1"
   ]
  },
  {
   "cell_type": "code",
   "execution_count": 46,
   "id": "44e2b673",
   "metadata": {},
   "outputs": [],
   "source": [
    "p = primes(200000)"
   ]
  },
  {
   "cell_type": "code",
   "execution_count": 47,
   "id": "3ef8b889",
   "metadata": {},
   "outputs": [
    {
     "name": "stdout",
     "output_type": "stream",
     "text": [
      "200003 200009 200017 200023 200029 200033 200041 200063 200087 200117 200131 200153 200159 200171 200177 200183 200191 200201 200227 200231 200237 200257 200273 200293 200297 200323 200329 200341 200351 200357 200363 200371 200381 200383 200401 200407 200437 200443 200461 200467 200483 200513 200569 200573 200579 200587 200591 200597 200609 200639 200657 200671 200689 200699 200713 200723 200731 200771 200779 200789 200797 200807 200843 200861 200867 200869 200881 200891 200899 200903 200909 200927 200929 200971 200983 200987 200989 201007 201011 201031 201037 201049 201073 201101 201107 201119 201121 201139 201151 201163 201167 201193 201203 201209 201211 201233 201247 201251 201281 "
     ]
    }
   ],
   "source": [
    "for i in range(1,100):\n",
    "    print(next(p),end=\" \")"
   ]
  },
  {
   "cell_type": "code",
   "execution_count": null,
   "id": "51c12e24",
   "metadata": {},
   "outputs": [],
   "source": [
    "for x in range(1,100):\n",
    "    print(next(p),end=\" \")"
   ]
  },
  {
   "cell_type": "code",
   "execution_count": null,
   "id": "80ec32d6",
   "metadata": {},
   "outputs": [],
   "source": [
    "for x in range(1,100):\n",
    "    print(next(p),end=\" \")"
   ]
  },
  {
   "cell_type": "code",
   "execution_count": 21,
   "id": "51c0b367",
   "metadata": {},
   "outputs": [
    {
     "data": {
      "text/plain": [
       "1155"
      ]
     },
     "execution_count": 21,
     "metadata": {},
     "output_type": "execute_result"
    }
   ],
   "source": [
    "1*3*5*7*11"
   ]
  },
  {
   "cell_type": "code",
   "execution_count": 31,
   "id": "6e2fdbc2",
   "metadata": {},
   "outputs": [],
   "source": [
    "def infEven():\n",
    "    n = 2\n",
    "    while True:\n",
    "        yield n\n",
    "        n = n+2"
   ]
  },
  {
   "cell_type": "code",
   "execution_count": 32,
   "id": "a8677262",
   "metadata": {},
   "outputs": [],
   "source": [
    "infe = infEven()"
   ]
  },
  {
   "cell_type": "code",
   "execution_count": 35,
   "id": "ff6ae368",
   "metadata": {},
   "outputs": [
    {
     "name": "stdout",
     "output_type": "stream",
     "text": [
      "398\n",
      "400\n",
      "402\n",
      "404\n",
      "406\n",
      "408\n",
      "410\n",
      "412\n",
      "414\n",
      "416\n",
      "418\n",
      "420\n",
      "422\n",
      "424\n",
      "426\n",
      "428\n",
      "430\n",
      "432\n",
      "434\n",
      "436\n",
      "438\n",
      "440\n",
      "442\n",
      "444\n",
      "446\n",
      "448\n",
      "450\n",
      "452\n",
      "454\n",
      "456\n",
      "458\n",
      "460\n",
      "462\n",
      "464\n",
      "466\n",
      "468\n",
      "470\n",
      "472\n",
      "474\n",
      "476\n",
      "478\n",
      "480\n",
      "482\n",
      "484\n",
      "486\n",
      "488\n",
      "490\n",
      "492\n",
      "494\n",
      "496\n",
      "498\n",
      "500\n",
      "502\n",
      "504\n",
      "506\n",
      "508\n",
      "510\n",
      "512\n",
      "514\n",
      "516\n",
      "518\n",
      "520\n",
      "522\n",
      "524\n",
      "526\n",
      "528\n",
      "530\n",
      "532\n",
      "534\n",
      "536\n",
      "538\n",
      "540\n",
      "542\n",
      "544\n",
      "546\n",
      "548\n",
      "550\n",
      "552\n",
      "554\n",
      "556\n",
      "558\n",
      "560\n",
      "562\n",
      "564\n",
      "566\n",
      "568\n",
      "570\n",
      "572\n",
      "574\n",
      "576\n",
      "578\n",
      "580\n",
      "582\n",
      "584\n",
      "586\n",
      "588\n",
      "590\n",
      "592\n",
      "594\n"
     ]
    }
   ],
   "source": [
    "for i in range(1,100):\n",
    "    print(next(infe))"
   ]
  },
  {
   "cell_type": "code",
   "execution_count": null,
   "id": "0d64697c",
   "metadata": {},
   "outputs": [],
   "source": []
  }
 ],
 "metadata": {
  "kernelspec": {
   "display_name": "Python 3 (ipykernel)",
   "language": "python",
   "name": "python3"
  },
  "language_info": {
   "codemirror_mode": {
    "name": "ipython",
    "version": 3
   },
   "file_extension": ".py",
   "mimetype": "text/x-python",
   "name": "python",
   "nbconvert_exporter": "python",
   "pygments_lexer": "ipython3",
   "version": "3.10.13"
  },
  "latex_envs": {
   "LaTeX_envs_menu_present": true,
   "autoclose": false,
   "autocomplete": true,
   "bibliofile": "biblio.bib",
   "cite_by": "apalike",
   "current_citInitial": 1,
   "eqLabelWithNumbers": true,
   "eqNumInitial": 1,
   "hotkeys": {
    "equation": "Ctrl-E",
    "itemize": "Ctrl-I"
   },
   "labels_anchors": false,
   "latex_user_defs": false,
   "report_style_numbering": false,
   "user_envs_cfg": false
  }
 },
 "nbformat": 4,
 "nbformat_minor": 5
}
