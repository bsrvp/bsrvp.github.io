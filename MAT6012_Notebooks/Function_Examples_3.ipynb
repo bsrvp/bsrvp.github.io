{
 "cells": [
  {
   "cell_type": "code",
   "execution_count": 1,
   "id": "13233a39",
   "metadata": {},
   "outputs": [],
   "source": [
    "def sumdigits(num):\n",
    "    sum = 0\n",
    "    while num > 0:\n",
    "        digit = num%10\n",
    "        sum = sum + digit\n",
    "        num = num//10\n",
    "    return sum\n",
    "\n",
    "def digitalroot(num):\n",
    "    sumd = sumdigits(num)\n",
    "    if sumd < 10:\n",
    "        return sumd\n",
    "    else:\n",
    "        return digitalroot(sumd)"
   ]
  },
  {
   "cell_type": "code",
   "execution_count": 4,
   "id": "916a1ca9",
   "metadata": {},
   "outputs": [
    {
     "data": {
      "text/plain": [
       "3"
      ]
     },
     "execution_count": 4,
     "metadata": {},
     "output_type": "execute_result"
    }
   ],
   "source": [
    "digitalroot(54156)"
   ]
  },
  {
   "cell_type": "code",
   "execution_count": null,
   "id": "54ba756e",
   "metadata": {},
   "outputs": [],
   "source": []
  }
 ],
 "metadata": {
  "kernelspec": {
   "display_name": "Python 3 (ipykernel)",
   "language": "python",
   "name": "python3"
  },
  "language_info": {
   "codemirror_mode": {
    "name": "ipython",
    "version": 3
   },
   "file_extension": ".py",
   "mimetype": "text/x-python",
   "name": "python",
   "nbconvert_exporter": "python",
   "pygments_lexer": "ipython3",
   "version": "3.9.16"
  },
  "latex_envs": {
   "LaTeX_envs_menu_present": true,
   "autoclose": true,
   "autocomplete": true,
   "bibliofile": "biblio.bib",
   "cite_by": "apalike",
   "current_citInitial": 1,
   "eqLabelWithNumbers": true,
   "eqNumInitial": 1,
   "hotkeys": {
    "equation": "Ctrl-E",
    "itemize": "Ctrl-I"
   },
   "labels_anchors": false,
   "latex_user_defs": false,
   "report_style_numbering": false,
   "user_envs_cfg": false
  }
 },
 "nbformat": 4,
 "nbformat_minor": 5
}
