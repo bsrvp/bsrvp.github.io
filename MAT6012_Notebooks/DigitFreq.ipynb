{
 "cells": [
  {
   "cell_type": "code",
   "execution_count": 5,
   "id": "3b6837c5",
   "metadata": {},
   "outputs": [],
   "source": [
    "def digitfreq(n):\n",
    "    n=\"% s\" % n\n",
    "    print(n)\n",
    "    print(type(n))\n",
    "    num=['0','1','2','3','4','5','6','7','8','9']\n",
    "    freq={i:n.count(i) for i in num}\n",
    "    for j,k in freq.items():\n",
    "        print(f'Frequency of {j} = {int(k)}')"
   ]
  },
  {
   "cell_type": "code",
   "execution_count": 6,
   "id": "447f87c2",
   "metadata": {},
   "outputs": [
    {
     "name": "stdout",
     "output_type": "stream",
     "text": [
      "12345624342\n",
      "<class 'str'>\n",
      "Frequency of 0 = 0\n",
      "Frequency of 1 = 1\n",
      "Frequency of 2 = 3\n",
      "Frequency of 3 = 2\n",
      "Frequency of 4 = 3\n",
      "Frequency of 5 = 1\n",
      "Frequency of 6 = 1\n",
      "Frequency of 7 = 0\n",
      "Frequency of 8 = 0\n",
      "Frequency of 9 = 0\n"
     ]
    }
   ],
   "source": [
    "digitfreq(12345624342)"
   ]
  },
  {
   "cell_type": "code",
   "execution_count": null,
   "id": "8b0d2e1b",
   "metadata": {},
   "outputs": [],
   "source": []
  }
 ],
 "metadata": {
  "kernelspec": {
   "display_name": "Python 3 (ipykernel)",
   "language": "python",
   "name": "python3"
  },
  "language_info": {
   "codemirror_mode": {
    "name": "ipython",
    "version": 3
   },
   "file_extension": ".py",
   "mimetype": "text/x-python",
   "name": "python",
   "nbconvert_exporter": "python",
   "pygments_lexer": "ipython3",
   "version": "3.10.13"
  }
 },
 "nbformat": 4,
 "nbformat_minor": 5
}
