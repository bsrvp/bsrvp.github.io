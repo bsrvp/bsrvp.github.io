{
 "cells": [
  {
   "cell_type": "code",
   "execution_count": 3,
   "id": "2bf6f712",
   "metadata": {},
   "outputs": [],
   "source": [
    "def collatz_norecu(n):\n",
    "    CL = [n]\n",
    "    while n>1:\n",
    "        if n%2 == 0:\n",
    "            n = int(n/2)\n",
    "        else:\n",
    "            n = 3*n+1\n",
    "        CL.append(n)\n",
    "    return CL"
   ]
  },
  {
   "cell_type": "code",
   "execution_count": 6,
   "id": "1de7faa1",
   "metadata": {},
   "outputs": [
    {
     "name": "stdout",
     "output_type": "stream",
     "text": [
      "The collatz sequence is: [7, 22, 11, 34, 17, 52, 26, 13, 40, 20, 10, 5, 16, 8, 4, 2, 1]\n",
      "The steps take to reach 1 are: 17\n"
     ]
    }
   ],
   "source": [
    "C = collatz_norecu(7)\n",
    "print(\"The collatz sequence is:\",C)\n",
    "print(\"The steps take to reach 1 are:\",len(C))"
   ]
  },
  {
   "cell_type": "code",
   "execution_count": null,
   "id": "1f601650",
   "metadata": {},
   "outputs": [],
   "source": []
  }
 ],
 "metadata": {
  "kernelspec": {
   "display_name": "Python 3 (ipykernel)",
   "language": "python",
   "name": "python3"
  },
  "language_info": {
   "codemirror_mode": {
    "name": "ipython",
    "version": 3
   },
   "file_extension": ".py",
   "mimetype": "text/x-python",
   "name": "python",
   "nbconvert_exporter": "python",
   "pygments_lexer": "ipython3",
   "version": "3.10.13"
  }
 },
 "nbformat": 4,
 "nbformat_minor": 5
}
