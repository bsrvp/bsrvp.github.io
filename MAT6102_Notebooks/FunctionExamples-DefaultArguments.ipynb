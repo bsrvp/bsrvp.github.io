{
 "cells": [
  {
   "cell_type": "code",
   "execution_count": null,
   "id": "8299727d",
   "metadata": {},
   "outputs": [],
   "source": [
    "def my_first_function():\n",
    "    print(\"Hellooo.. This is my first function\")\n",
    "\n",
    "my_first_function()"
   ]
  },
  {
   "cell_type": "code",
   "execution_count": null,
   "id": "135a43c7",
   "metadata": {},
   "outputs": [],
   "source": [
    "my_first_function"
   ]
  },
  {
   "cell_type": "code",
   "execution_count": null,
   "id": "3eb67cc9",
   "metadata": {},
   "outputs": [],
   "source": [
    "def hello():\n",
    "    print(\"Hello World\")\n",
    "    return(\"hello\")\n",
    "\n",
    "def hello_noreturn():\n",
    "    print(\"Hello World\")"
   ]
  },
  {
   "cell_type": "code",
   "execution_count": null,
   "id": "81bbdde3",
   "metadata": {},
   "outputs": [],
   "source": [
    "hello()*2"
   ]
  },
  {
   "cell_type": "code",
   "execution_count": null,
   "id": "7c6ec979",
   "metadata": {},
   "outputs": [],
   "source": [
    "hello_noreturn()*2"
   ]
  },
  {
   "cell_type": "code",
   "execution_count": 1,
   "id": "8b66e5cc",
   "metadata": {},
   "outputs": [
    {
     "name": "stdout",
     "output_type": "stream",
     "text": [
      "Run!\n",
      "Run!\n",
      "Run!\n",
      "Run!\n",
      "Run!\n"
     ]
    }
   ],
   "source": [
    "def test_fun():\n",
    "    for x in range(10):\n",
    "        if x == 5:\n",
    "            return\n",
    "        print(\"Run!\")\n",
    "\n",
    "test_fun()"
   ]
  },
  {
   "cell_type": "code",
   "execution_count": 11,
   "id": "b8bb8b58",
   "metadata": {},
   "outputs": [
    {
     "name": "stdout",
     "output_type": "stream",
     "text": [
      "8\n",
      "5\n",
      "3\n"
     ]
    }
   ],
   "source": [
    "def plus(a=0,b=0):\n",
    "    sumab = a + b\n",
    "    return (sumab, a, b)\n",
    "\n",
    "# Call 'plus()'\n",
    "sumab, a, b = plus(b=3,a=5)\n",
    "print(sumab)\n",
    "print(a)\n",
    "print(b)"
   ]
  },
  {
   "cell_type": "code",
   "execution_count": 14,
   "id": "8ae62f77",
   "metadata": {},
   "outputs": [
    {
     "name": "stdout",
     "output_type": "stream",
     "text": [
      "1\n",
      "2\n",
      "4\n",
      "String1\n",
      "True\n"
     ]
    }
   ],
   "source": [
    "def varargsFunc(*args):\n",
    "    for x in args:\n",
    "        print(x)\n",
    "    \n",
    "varargsFunc(1)\n",
    "varargsFunc(2,4)\n",
    "varargsFunc('String1',True)"
   ]
  },
  {
   "cell_type": "code",
   "execution_count": 16,
   "id": "4d8b9731",
   "metadata": {},
   "outputs": [
    {
     "name": "stdout",
     "output_type": "stream",
     "text": [
      "Key =  First ; Value =  One\n",
      "Key =  Second ; Value =  34.5\n",
      "Key =  Third ; Value =  True\n"
     ]
    },
    {
     "ename": "TypeError",
     "evalue": "my_function() takes 0 positional arguments but 1 was given",
     "output_type": "error",
     "traceback": [
      "\u001b[1;31m---------------------------------------------------------------------------\u001b[0m",
      "\u001b[1;31mTypeError\u001b[0m                                 Traceback (most recent call last)",
      "Cell \u001b[1;32mIn[16], line 6\u001b[0m\n\u001b[0;32m      3\u001b[0m         \u001b[38;5;28mprint\u001b[39m(\u001b[38;5;124m'\u001b[39m\u001b[38;5;124mKey = \u001b[39m\u001b[38;5;124m'\u001b[39m,key,\u001b[38;5;124m'\u001b[39m\u001b[38;5;124m; Value = \u001b[39m\u001b[38;5;124m'\u001b[39m,value)\n\u001b[0;32m      5\u001b[0m my_function(First\u001b[38;5;241m=\u001b[39m\u001b[38;5;124m\"\u001b[39m\u001b[38;5;124mOne\u001b[39m\u001b[38;5;124m\"\u001b[39m, Second\u001b[38;5;241m=\u001b[39m\u001b[38;5;241m34.5\u001b[39m, Third\u001b[38;5;241m=\u001b[39m\u001b[38;5;28;01mTrue\u001b[39;00m)\n\u001b[1;32m----> 6\u001b[0m \u001b[43mmy_function\u001b[49m\u001b[43m(\u001b[49m\u001b[38;5;241;43m1\u001b[39;49m\u001b[43m)\u001b[49m\n\u001b[0;32m      7\u001b[0m my_function(Name\u001b[38;5;241m=\u001b[39m\u001b[38;5;124m\"\u001b[39m\u001b[38;5;124mPrasad\u001b[39m\u001b[38;5;124m\"\u001b[39m,Degree\u001b[38;5;241m=\u001b[39m\u001b[38;5;124m\"\u001b[39m\u001b[38;5;124mPhD\u001b[39m\u001b[38;5;124m\"\u001b[39m)\n\u001b[0;32m      8\u001b[0m my_function(Key1\u001b[38;5;241m=\u001b[39m\u001b[38;5;241m2\u001b[39m,Key2\u001b[38;5;241m=\u001b[39m\u001b[38;5;124m\"\u001b[39m\u001b[38;5;124ma\u001b[39m\u001b[38;5;124m\"\u001b[39m,Key3\u001b[38;5;241m=\u001b[39m[\u001b[38;5;241m3\u001b[39m,\u001b[38;5;241m5.7\u001b[39m,\u001b[38;5;124m\"\u001b[39m\u001b[38;5;124mTest\u001b[39m\u001b[38;5;124m\"\u001b[39m])\n",
      "\u001b[1;31mTypeError\u001b[0m: my_function() takes 0 positional arguments but 1 was given"
     ]
    }
   ],
   "source": [
    "def my_function(**kwargs):\n",
    "    for key,value in kwargs.items():\n",
    "        print('Key = ',key,'; Value = ',value)\n",
    "\n",
    "my_function(First=\"One\", Second=34.5, Third=True)\n",
    "my_function(1)\n",
    "my_function(Name=\"Prasad\",Degree=\"PhD\")\n",
    "my_function(Key1=2,Key2=\"a\",Key3=[3,5.7,\"Test\"])"
   ]
  },
  {
   "cell_type": "code",
   "execution_count": 17,
   "id": "da42596f",
   "metadata": {},
   "outputs": [
    {
     "name": "stdout",
     "output_type": "stream",
     "text": [
      "args:  ('one', 2, 3.14)\n",
      "kwargs:  {'first': 'Prasad', 'last': 'Bhuvanagiri', 'degree': 'PhD'}\n"
     ]
    }
   ],
   "source": [
    "def my_function(*args, **kwargs):\n",
    "    print(\"args: \", args)\n",
    "    print(\"kwargs: \", kwargs)\n",
    "\n",
    "my_function('one', 2, 3.14, first=\"Prasad\", last=\"Bhuvanagiri\", degree=\"PhD\")"
   ]
  },
  {
   "cell_type": "code",
   "execution_count": 33,
   "id": "6f72c7db",
   "metadata": {},
   "outputs": [
    {
     "name": "stdout",
     "output_type": "stream",
     "text": [
      "2\n",
      "2 3 17\n",
      "10\n",
      "100\n",
      "12\n",
      "100\n"
     ]
    }
   ],
   "source": [
    "init = 2\n",
    "a = 10\n",
    "def my_fun(a1,b1):\n",
    "    global init, a\n",
    "    print(init)\n",
    "    init = init+10\n",
    "    print(a1,b1,a1+b1+init)\n",
    "    print(a)\n",
    "    a = 100\n",
    "    print(a)\n",
    "\n",
    "my_fun(2,3)\n",
    "print(init)\n",
    "print(a)"
   ]
  },
  {
   "cell_type": "code",
   "execution_count": null,
   "id": "770a0f26",
   "metadata": {},
   "outputs": [],
   "source": []
  }
 ],
 "metadata": {
  "kernelspec": {
   "display_name": "Python 3 (ipykernel)",
   "language": "python",
   "name": "python3"
  },
  "language_info": {
   "codemirror_mode": {
    "name": "ipython",
    "version": 3
   },
   "file_extension": ".py",
   "mimetype": "text/x-python",
   "name": "python",
   "nbconvert_exporter": "python",
   "pygments_lexer": "ipython3",
   "version": "3.10.13"
  }
 },
 "nbformat": 4,
 "nbformat_minor": 5
}
