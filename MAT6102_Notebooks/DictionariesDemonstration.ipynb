{
 "cells": [
  {
   "cell_type": "code",
   "execution_count": 1,
   "id": "fc33e395",
   "metadata": {},
   "outputs": [
    {
     "name": "stdout",
     "output_type": "stream",
     "text": [
      "{'brand': 'HP', 'btype': 'Convertible', 'byear': 2019}\n"
     ]
    }
   ],
   "source": [
    "myDict = {\n",
    "    \"brand\": \"HP\",\n",
    "    \"btype\": \"Convertible\",\n",
    "    \"byear\": 2019\n",
    "}\n",
    "print(myDict)"
   ]
  },
  {
   "cell_type": "code",
   "execution_count": 2,
   "id": "2b2b0209",
   "metadata": {},
   "outputs": [
    {
     "data": {
      "text/plain": [
       "dict_items([('brand', 'HP'), ('btype', 'Convertible'), ('byear', 2019)])"
      ]
     },
     "execution_count": 2,
     "metadata": {},
     "output_type": "execute_result"
    }
   ],
   "source": [
    "myDict.items()"
   ]
  },
  {
   "cell_type": "code",
   "execution_count": 3,
   "id": "6244abee",
   "metadata": {},
   "outputs": [
    {
     "data": {
      "text/plain": [
       "dict_keys(['brand', 'btype', 'byear'])"
      ]
     },
     "execution_count": 3,
     "metadata": {},
     "output_type": "execute_result"
    }
   ],
   "source": [
    "myDict.keys()"
   ]
  },
  {
   "cell_type": "code",
   "execution_count": 4,
   "id": "55b44b90",
   "metadata": {},
   "outputs": [
    {
     "data": {
      "text/plain": [
       "dict_values(['HP', 'Convertible', 2019])"
      ]
     },
     "execution_count": 4,
     "metadata": {},
     "output_type": "execute_result"
    }
   ],
   "source": [
    "myDict.values()"
   ]
  },
  {
   "cell_type": "code",
   "execution_count": 5,
   "id": "19bfbba2",
   "metadata": {},
   "outputs": [
    {
     "name": "stdout",
     "output_type": "stream",
     "text": [
      "brand HP\n",
      "btype Convertible\n",
      "byear 2019\n"
     ]
    }
   ],
   "source": [
    "for key,value in myDict.items():\n",
    "    print(key,value)"
   ]
  },
  {
   "cell_type": "code",
   "execution_count": 9,
   "id": "bfee9c41",
   "metadata": {},
   "outputs": [
    {
     "name": "stdout",
     "output_type": "stream",
     "text": [
      "Test\n",
      "Test\n",
      "Test\n"
     ]
    }
   ],
   "source": [
    "for key in myDict.keys():\n",
    "    myDict[key] = \"Test\"\n",
    "    print(myDict[key])"
   ]
  },
  {
   "cell_type": "code",
   "execution_count": 10,
   "id": "d1a475c0",
   "metadata": {},
   "outputs": [
    {
     "data": {
      "text/plain": [
       "{'brand': 'Test', 'btype': 'Test', 'byear': 'Test'}"
      ]
     },
     "execution_count": 10,
     "metadata": {},
     "output_type": "execute_result"
    }
   ],
   "source": [
    "myDict"
   ]
  },
  {
   "cell_type": "code",
   "execution_count": 11,
   "id": "04c01959",
   "metadata": {},
   "outputs": [
    {
     "data": {
      "text/plain": [
       "'Test'"
      ]
     },
     "execution_count": 11,
     "metadata": {},
     "output_type": "execute_result"
    }
   ],
   "source": [
    "myDict.pop(\"btype\")"
   ]
  },
  {
   "cell_type": "code",
   "execution_count": 12,
   "id": "43c98aed",
   "metadata": {},
   "outputs": [
    {
     "data": {
      "text/plain": [
       "{'brand': 'Test', 'byear': 'Test'}"
      ]
     },
     "execution_count": 12,
     "metadata": {},
     "output_type": "execute_result"
    }
   ],
   "source": [
    "myDict"
   ]
  },
  {
   "cell_type": "code",
   "execution_count": 13,
   "id": "66e1f835",
   "metadata": {},
   "outputs": [],
   "source": [
    "myDict['type'] = \"Testing\""
   ]
  },
  {
   "cell_type": "code",
   "execution_count": 14,
   "id": "b7e604e8",
   "metadata": {},
   "outputs": [
    {
     "data": {
      "text/plain": [
       "{'brand': 'Test', 'byear': 'Test', 'type': 'Testing'}"
      ]
     },
     "execution_count": 14,
     "metadata": {},
     "output_type": "execute_result"
    }
   ],
   "source": [
    "myDict"
   ]
  },
  {
   "cell_type": "code",
   "execution_count": 23,
   "id": "4f7ec7f2",
   "metadata": {},
   "outputs": [
    {
     "ename": "KeyError",
     "evalue": "'popitem(): dictionary is empty'",
     "output_type": "error",
     "traceback": [
      "\u001b[1;31m---------------------------------------------------------------------------\u001b[0m",
      "\u001b[1;31mKeyError\u001b[0m                                  Traceback (most recent call last)",
      "Cell \u001b[1;32mIn[23], line 1\u001b[0m\n\u001b[1;32m----> 1\u001b[0m \u001b[43mmyDict\u001b[49m\u001b[38;5;241;43m.\u001b[39;49m\u001b[43mpopitem\u001b[49m\u001b[43m(\u001b[49m\u001b[43m)\u001b[49m\n",
      "\u001b[1;31mKeyError\u001b[0m: 'popitem(): dictionary is empty'"
     ]
    }
   ],
   "source": [
    "myDict.popitem()"
   ]
  },
  {
   "cell_type": "code",
   "execution_count": 22,
   "id": "815eb2e8",
   "metadata": {},
   "outputs": [
    {
     "data": {
      "text/plain": [
       "{}"
      ]
     },
     "execution_count": 22,
     "metadata": {},
     "output_type": "execute_result"
    }
   ],
   "source": [
    "myDict"
   ]
  },
  {
   "cell_type": "code",
   "execution_count": 24,
   "id": "0105b04d",
   "metadata": {},
   "outputs": [],
   "source": [
    "myDict = {\n",
    "  \"brand\": \"Lenovo\",\n",
    "  \"btype\": \"Tablet\",\n",
    "  \"byear\": 2019\n",
    "}"
   ]
  },
  {
   "cell_type": "code",
   "execution_count": 25,
   "id": "24fd3952",
   "metadata": {},
   "outputs": [],
   "source": [
    "myDict1 = myDict"
   ]
  },
  {
   "cell_type": "code",
   "execution_count": 26,
   "id": "a02743aa",
   "metadata": {},
   "outputs": [
    {
     "data": {
      "text/plain": [
       "('byear', 2019)"
      ]
     },
     "execution_count": 26,
     "metadata": {},
     "output_type": "execute_result"
    }
   ],
   "source": [
    "myDict1.popitem()"
   ]
  },
  {
   "cell_type": "code",
   "execution_count": 27,
   "id": "cbd2448c",
   "metadata": {},
   "outputs": [
    {
     "name": "stdout",
     "output_type": "stream",
     "text": [
      "{'brand': 'Lenovo', 'btype': 'Tablet'}\n"
     ]
    }
   ],
   "source": [
    "print(myDict1)"
   ]
  },
  {
   "cell_type": "code",
   "execution_count": 28,
   "id": "d6d8b703",
   "metadata": {},
   "outputs": [
    {
     "name": "stdout",
     "output_type": "stream",
     "text": [
      "{'brand': 'Lenovo', 'btype': 'Tablet'}\n"
     ]
    }
   ],
   "source": [
    "print(myDict)"
   ]
  },
  {
   "cell_type": "code",
   "execution_count": 29,
   "id": "d4a49032",
   "metadata": {},
   "outputs": [],
   "source": [
    "myDict2 = myDict1.copy()"
   ]
  },
  {
   "cell_type": "code",
   "execution_count": 30,
   "id": "58bd166f",
   "metadata": {},
   "outputs": [],
   "source": [
    "myDict2[\"byear\"] = 2023"
   ]
  },
  {
   "cell_type": "code",
   "execution_count": 31,
   "id": "9611e1df",
   "metadata": {},
   "outputs": [
    {
     "data": {
      "text/plain": [
       "{'brand': 'Lenovo', 'btype': 'Tablet'}"
      ]
     },
     "execution_count": 31,
     "metadata": {},
     "output_type": "execute_result"
    }
   ],
   "source": [
    "myDict1"
   ]
  },
  {
   "cell_type": "code",
   "execution_count": 32,
   "id": "f4bb2956",
   "metadata": {},
   "outputs": [
    {
     "data": {
      "text/plain": [
       "{'brand': 'Lenovo', 'btype': 'Tablet', 'byear': 2023}"
      ]
     },
     "execution_count": 32,
     "metadata": {},
     "output_type": "execute_result"
    }
   ],
   "source": [
    "myDict2"
   ]
  },
  {
   "cell_type": "code",
   "execution_count": 36,
   "id": "f10b042c",
   "metadata": {},
   "outputs": [
    {
     "name": "stdout",
     "output_type": "stream",
     "text": [
      "5\n",
      "4\n",
      "3\n",
      "2\n",
      "1\n",
      "0\n",
      "While loop finished\n"
     ]
    }
   ],
   "source": [
    "i = 5\n",
    "while i >= 0:\n",
    "    print(i)\n",
    "    i = i-1\n",
    "\n",
    "print(\"While loop finished\")"
   ]
  },
  {
   "cell_type": "code",
   "execution_count": 41,
   "id": "81e68ba5",
   "metadata": {},
   "outputs": [
    {
     "name": "stdout",
     "output_type": "stream",
     "text": [
      "[1, 4, 27, 16, 125, 36]\n"
     ]
    }
   ],
   "source": [
    "L = [1,2,3,4,5,6]\n",
    "L2 = []\n",
    "for x in L:\n",
    "    if x%2 == 0:\n",
    "        L2.append(x**2)\n",
    "    else:\n",
    "        L2.append(x**3)\n",
    "print(L2)"
   ]
  },
  {
   "cell_type": "code",
   "execution_count": 42,
   "id": "78063fb6",
   "metadata": {},
   "outputs": [
    {
     "name": "stdout",
     "output_type": "stream",
     "text": [
      "[1, 4, 27, 16, 125, 36]\n"
     ]
    }
   ],
   "source": [
    "L2C = [x**2 if x%2 == 0 else x**3 for x in L]\n",
    "print(L2C)"
   ]
  },
  {
   "cell_type": "code",
   "execution_count": null,
   "id": "72929ed1",
   "metadata": {},
   "outputs": [],
   "source": []
  }
 ],
 "metadata": {
  "kernelspec": {
   "display_name": "Python 3 (ipykernel)",
   "language": "python",
   "name": "python3"
  },
  "language_info": {
   "codemirror_mode": {
    "name": "ipython",
    "version": 3
   },
   "file_extension": ".py",
   "mimetype": "text/x-python",
   "name": "python",
   "nbconvert_exporter": "python",
   "pygments_lexer": "ipython3",
   "version": "3.10.13"
  }
 },
 "nbformat": 4,
 "nbformat_minor": 5
}
