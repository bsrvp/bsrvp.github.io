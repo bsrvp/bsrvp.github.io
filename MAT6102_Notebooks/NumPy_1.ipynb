{
 "cells": [
  {
   "cell_type": "code",
   "execution_count": 17,
   "id": "b56c904c",
   "metadata": {},
   "outputs": [],
   "source": [
    "no = 23.235"
   ]
  },
  {
   "cell_type": "code",
   "execution_count": 18,
   "id": "5f573c10",
   "metadata": {},
   "outputs": [],
   "source": [
    "decipart = int(str(no).split(\".\")[1])"
   ]
  },
  {
   "cell_type": "code",
   "execution_count": 24,
   "id": "aeb6970e",
   "metadata": {},
   "outputs": [],
   "source": [
    "def intEvenOdd(num):\n",
    "    if num%2 == 0:\n",
    "        return \"Even Number\"\n",
    "    else:\n",
    "        return \"Odd Number\"\n",
    "\n",
    "def floatEvenOdd(num):\n",
    "    if int(str(num).split(\".\")[1]) == 0:\n",
    "        return intEvenOdd(int(num))\n",
    "    else:\n",
    "        return intEvenOdd(int(str(num).split(\".\")[1]))"
   ]
  },
  {
   "cell_type": "code",
   "execution_count": 29,
   "id": "5e9f76ab",
   "metadata": {},
   "outputs": [
    {
     "data": {
      "text/plain": [
       "'Even Number'"
      ]
     },
     "execution_count": 29,
     "metadata": {},
     "output_type": "execute_result"
    }
   ],
   "source": [
    "floatEvenOdd(122.0)"
   ]
  },
  {
   "cell_type": "code",
   "execution_count": 30,
   "id": "555d46b2",
   "metadata": {},
   "outputs": [],
   "source": [
    "import numpy as np"
   ]
  },
  {
   "cell_type": "code",
   "execution_count": 34,
   "id": "fe181e99",
   "metadata": {},
   "outputs": [
    {
     "data": {
      "text/plain": [
       "array([3, 3])"
      ]
     },
     "execution_count": 34,
     "metadata": {},
     "output_type": "execute_result"
    }
   ],
   "source": [
    "np.full(2,3)"
   ]
  },
  {
   "cell_type": "code",
   "execution_count": 35,
   "id": "b3ca3740",
   "metadata": {},
   "outputs": [
    {
     "name": "stdout",
     "output_type": "stream",
     "text": [
      "Help on function full in module numpy:\n",
      "\n",
      "full(shape, fill_value, dtype=None, order='C', *, like=None)\n",
      "    Return a new array of given shape and type, filled with `fill_value`.\n",
      "    \n",
      "    Parameters\n",
      "    ----------\n",
      "    shape : int or sequence of ints\n",
      "        Shape of the new array, e.g., ``(2, 3)`` or ``2``.\n",
      "    fill_value : scalar or array_like\n",
      "        Fill value.\n",
      "    dtype : data-type, optional\n",
      "        The desired data-type for the array  The default, None, means\n",
      "         `np.array(fill_value).dtype`.\n",
      "    order : {'C', 'F'}, optional\n",
      "        Whether to store multidimensional data in C- or Fortran-contiguous\n",
      "        (row- or column-wise) order in memory.\n",
      "    like : array_like\n",
      "        Reference object to allow the creation of arrays which are not\n",
      "        NumPy arrays. If an array-like passed in as ``like`` supports\n",
      "        the ``__array_function__`` protocol, the result will be defined\n",
      "        by it. In this case, it ensures the creation of an array object\n",
      "        compatible with that passed in via this argument.\n",
      "    \n",
      "        .. note::\n",
      "            The ``like`` keyword is an experimental feature pending on\n",
      "            acceptance of :ref:`NEP 35 <NEP35>`.\n",
      "    \n",
      "        .. versionadded:: 1.20.0\n",
      "    \n",
      "    Returns\n",
      "    -------\n",
      "    out : ndarray\n",
      "        Array of `fill_value` with the given shape, dtype, and order.\n",
      "    \n",
      "    See Also\n",
      "    --------\n",
      "    full_like : Return a new array with shape of input filled with value.\n",
      "    empty : Return a new uninitialized array.\n",
      "    ones : Return a new array setting values to one.\n",
      "    zeros : Return a new array setting values to zero.\n",
      "    \n",
      "    Examples\n",
      "    --------\n",
      "    >>> np.full((2, 2), np.inf)\n",
      "    array([[inf, inf],\n",
      "           [inf, inf]])\n",
      "    >>> np.full((2, 2), 10)\n",
      "    array([[10, 10],\n",
      "           [10, 10]])\n",
      "    \n",
      "    >>> np.full((2, 2), [1, 2])\n",
      "    array([[1, 2],\n",
      "           [1, 2]])\n",
      "\n"
     ]
    }
   ],
   "source": [
    "help(np.full)"
   ]
  },
  {
   "cell_type": "code",
   "execution_count": 39,
   "id": "72a2cf4e",
   "metadata": {},
   "outputs": [],
   "source": [
    "A = np.full((2,2),10)"
   ]
  },
  {
   "cell_type": "code",
   "execution_count": 43,
   "id": "dc5843e0",
   "metadata": {},
   "outputs": [
    {
     "data": {
      "text/plain": [
       "(2, 2)"
      ]
     },
     "execution_count": 43,
     "metadata": {},
     "output_type": "execute_result"
    }
   ],
   "source": [
    "A.shape"
   ]
  },
  {
   "cell_type": "code",
   "execution_count": 42,
   "id": "2387f9a9",
   "metadata": {},
   "outputs": [
    {
     "data": {
      "text/plain": [
       "2"
      ]
     },
     "execution_count": 42,
     "metadata": {},
     "output_type": "execute_result"
    }
   ],
   "source": [
    "A.ndim"
   ]
  },
  {
   "cell_type": "code",
   "execution_count": 46,
   "id": "5d215531",
   "metadata": {},
   "outputs": [],
   "source": [
    "N = np.full((2,2),20)"
   ]
  },
  {
   "cell_type": "code",
   "execution_count": 47,
   "id": "d47f0ba3",
   "metadata": {},
   "outputs": [
    {
     "data": {
      "text/plain": [
       "array([[200, 200],\n",
       "       [200, 200]])"
      ]
     },
     "execution_count": 47,
     "metadata": {},
     "output_type": "execute_result"
    }
   ],
   "source": [
    "A*N"
   ]
  },
  {
   "cell_type": "code",
   "execution_count": 49,
   "id": "1714c758",
   "metadata": {},
   "outputs": [
    {
     "data": {
      "text/plain": [
       "array([[400, 400],\n",
       "       [400, 400]])"
      ]
     },
     "execution_count": 49,
     "metadata": {},
     "output_type": "execute_result"
    }
   ],
   "source": [
    "A.dot(N)"
   ]
  },
  {
   "cell_type": "code",
   "execution_count": 50,
   "id": "30844fb4",
   "metadata": {},
   "outputs": [
    {
     "data": {
      "text/plain": [
       "array([[400, 400],\n",
       "       [400, 400]])"
      ]
     },
     "execution_count": 50,
     "metadata": {},
     "output_type": "execute_result"
    }
   ],
   "source": [
    "A@N"
   ]
  },
  {
   "cell_type": "code",
   "execution_count": 51,
   "id": "d8486b2b",
   "metadata": {},
   "outputs": [
    {
     "data": {
      "text/plain": [
       "array([[200, 200],\n",
       "       [200, 200]])"
      ]
     },
     "execution_count": 51,
     "metadata": {},
     "output_type": "execute_result"
    }
   ],
   "source": [
    "A*N"
   ]
  },
  {
   "cell_type": "code",
   "execution_count": 52,
   "id": "3356d381",
   "metadata": {},
   "outputs": [
    {
     "data": {
      "text/plain": [
       "array([[10, 10],\n",
       "       [10, 10]])"
      ]
     },
     "execution_count": 52,
     "metadata": {},
     "output_type": "execute_result"
    }
   ],
   "source": [
    "A"
   ]
  },
  {
   "cell_type": "code",
   "execution_count": 53,
   "id": "30e6d0c0",
   "metadata": {},
   "outputs": [
    {
     "data": {
      "text/plain": [
       "array([[20, 20],\n",
       "       [20, 20]])"
      ]
     },
     "execution_count": 53,
     "metadata": {},
     "output_type": "execute_result"
    }
   ],
   "source": [
    "N"
   ]
  },
  {
   "cell_type": "code",
   "execution_count": 54,
   "id": "3f9fe7f0",
   "metadata": {},
   "outputs": [],
   "source": [
    "I = np.eye(2)"
   ]
  },
  {
   "cell_type": "code",
   "execution_count": 55,
   "id": "bbdee0bf",
   "metadata": {},
   "outputs": [
    {
     "data": {
      "text/plain": [
       "array([[1., 0.],\n",
       "       [0., 1.]])"
      ]
     },
     "execution_count": 55,
     "metadata": {},
     "output_type": "execute_result"
    }
   ],
   "source": [
    "I"
   ]
  },
  {
   "cell_type": "code",
   "execution_count": 56,
   "id": "6cad688f",
   "metadata": {},
   "outputs": [
    {
     "data": {
      "text/plain": [
       "array([[20.,  0.],\n",
       "       [ 0., 20.]])"
      ]
     },
     "execution_count": 56,
     "metadata": {},
     "output_type": "execute_result"
    }
   ],
   "source": [
    "I*N"
   ]
  },
  {
   "cell_type": "code",
   "execution_count": 57,
   "id": "ceed12a7",
   "metadata": {},
   "outputs": [
    {
     "data": {
      "text/plain": [
       "array([[20., 20.],\n",
       "       [20., 20.]])"
      ]
     },
     "execution_count": 57,
     "metadata": {},
     "output_type": "execute_result"
    }
   ],
   "source": [
    "I@N"
   ]
  },
  {
   "cell_type": "code",
   "execution_count": null,
   "id": "a79100ab",
   "metadata": {},
   "outputs": [],
   "source": []
  }
 ],
 "metadata": {
  "kernelspec": {
   "display_name": "Python 3 (ipykernel)",
   "language": "python",
   "name": "python3"
  },
  "language_info": {
   "codemirror_mode": {
    "name": "ipython",
    "version": 3
   },
   "file_extension": ".py",
   "mimetype": "text/x-python",
   "name": "python",
   "nbconvert_exporter": "python",
   "pygments_lexer": "ipython3",
   "version": "3.10.13"
  },
  "latex_envs": {
   "LaTeX_envs_menu_present": true,
   "autoclose": true,
   "autocomplete": true,
   "bibliofile": "biblio.bib",
   "cite_by": "apalike",
   "current_citInitial": 1,
   "eqLabelWithNumbers": true,
   "eqNumInitial": 1,
   "hotkeys": {
    "equation": "Ctrl-E",
    "itemize": "Ctrl-I"
   },
   "labels_anchors": false,
   "latex_user_defs": false,
   "report_style_numbering": false,
   "user_envs_cfg": false
  }
 },
 "nbformat": 4,
 "nbformat_minor": 5
}
