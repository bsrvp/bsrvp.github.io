{
 "cells": [
  {
   "cell_type": "code",
   "execution_count": 8,
   "id": "035b4706",
   "metadata": {},
   "outputs": [],
   "source": [
    "def findall(s,ch):\n",
    "    location = []\n",
    "    for i,x in enumerate(s):\n",
    "        if x == ch:\n",
    "            location.append(i)\n",
    "    return location"
   ]
  },
  {
   "cell_type": "code",
   "execution_count": 28,
   "id": "1f410d60",
   "metadata": {},
   "outputs": [],
   "source": [
    "def reverse(num):\n",
    "    revnum = 0\n",
    "    while num > 0:\n",
    "        digit = num %10\n",
    "        revnum = revnum*10 + digit\n",
    "        num = num//10\n",
    "    return revnum\n",
    "\n",
    "def square(num):\n",
    "    return num*num\n",
    "    \n",
    "def isAdamMessage(num):\n",
    "    sqnum = square(num)\n",
    "    revsquare = square(reverse(num))\n",
    "    if sqnum == reverse(revsquare):\n",
    "        print(f'The number {num} is an Adam number')\n",
    "    else:\n",
    "        print(f'The number {num} is not an Adam number')\n",
    "        \n",
    "def isAdam(num):\n",
    "    sqnum = square(num)\n",
    "    revsquare = square(reverse(num))\n",
    "    if sqnum == reverse(revsquare):\n",
    "        return True\n",
    "    else:\n",
    "        return False\n",
    "\n",
    "def adamNosInRange(num1,num2):\n",
    "    adamNos = []\n",
    "    for i in range(num1,num2+1):\n",
    "        if isAdam(i):\n",
    "            adamNos.append(i)\n",
    "    return adamNos"
   ]
  },
  {
   "cell_type": "code",
   "execution_count": 30,
   "id": "2eac1222",
   "metadata": {},
   "outputs": [
    {
     "name": "stdout",
     "output_type": "stream",
     "text": [
      "The number 10 is not an Adam number\n"
     ]
    }
   ],
   "source": [
    "isAdamMessage(10)"
   ]
  },
  {
   "cell_type": "code",
   "execution_count": 29,
   "id": "7f8c34f2",
   "metadata": {},
   "outputs": [
    {
     "data": {
      "text/plain": [
       "[1, 2, 3, 11, 12, 13, 21, 22, 31]"
      ]
     },
     "execution_count": 29,
     "metadata": {},
     "output_type": "execute_result"
    }
   ],
   "source": [
    "adamNosInRange(1,100)"
   ]
  },
  {
   "cell_type": "code",
   "execution_count": null,
   "id": "719b6412",
   "metadata": {},
   "outputs": [],
   "source": []
  }
 ],
 "metadata": {
  "kernelspec": {
   "display_name": "Python 3 (ipykernel)",
   "language": "python",
   "name": "python3"
  },
  "language_info": {
   "codemirror_mode": {
    "name": "ipython",
    "version": 3
   },
   "file_extension": ".py",
   "mimetype": "text/x-python",
   "name": "python",
   "nbconvert_exporter": "python",
   "pygments_lexer": "ipython3",
   "version": "3.9.16"
  },
  "latex_envs": {
   "LaTeX_envs_menu_present": true,
   "autoclose": true,
   "autocomplete": true,
   "bibliofile": "biblio.bib",
   "cite_by": "apalike",
   "current_citInitial": 1,
   "eqLabelWithNumbers": true,
   "eqNumInitial": 1,
   "hotkeys": {
    "equation": "Ctrl-E",
    "itemize": "Ctrl-I"
   },
   "labels_anchors": false,
   "latex_user_defs": false,
   "report_style_numbering": false,
   "user_envs_cfg": false
  }
 },
 "nbformat": 4,
 "nbformat_minor": 5
}
