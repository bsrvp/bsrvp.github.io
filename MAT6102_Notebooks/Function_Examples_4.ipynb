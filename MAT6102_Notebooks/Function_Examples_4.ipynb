{
 "cells": [
  {
   "cell_type": "code",
   "execution_count": 13,
   "id": "29b0fee1",
   "metadata": {},
   "outputs": [],
   "source": [
    "def strDecompose(string):\n",
    "    countAlphabets = 0\n",
    "    countNumbers = 0\n",
    "    countSpecial = 0\n",
    "    Alphabets = []\n",
    "    Numbers = []\n",
    "    Special = []\n",
    "    for i in range(len(string)):\n",
    "        #if(string[i] >= 'a' and string[i] <= 'z') or (string[i] >= 'A' and string[i] <= 'Z'):\n",
    "        if string[i].isalpha():\n",
    "            countAlphabets += 1\n",
    "            Alphabets.append(string[i])\n",
    "        #elif(string[i] >= '0' and string[i] <= '9'):\n",
    "        elif string[i].isdigit():\n",
    "            countNumbers += 1\n",
    "            Numbers.append(string[i])\n",
    "        else:\n",
    "            countSpecial += 1\n",
    "            Special.append(string[i])\n",
    "            \n",
    "    print(f'There are {countAlphabets} characters, {countNumbers} numbers \\\n",
    "and {countSpecial} special characters in the given string')\n",
    "    print('The character are: ',\"\".join(Alphabets))\n",
    "    print('The numbers are: ',\"\".join(Numbers))\n",
    "    print('The special characters are: ',\"\".join(Special))"
   ]
  },
  {
   "cell_type": "code",
   "execution_count": 15,
   "id": "2e775e56",
   "metadata": {},
   "outputs": [
    {
     "name": "stdout",
     "output_type": "stream",
     "text": [
      "There are 6 characters, 6 numbers and 4 special characters in the given string\n",
      "The character are:  abcdef\n",
      "The numbers are:  123456\n",
      "The special characters are:  @$#!\n"
     ]
    }
   ],
   "source": [
    "strDecompose('abcd@$1234#!ef56')"
   ]
  },
  {
   "cell_type": "code",
   "execution_count": 22,
   "id": "34c2c7c8",
   "metadata": {},
   "outputs": [],
   "source": [
    "def findAll(string,ch):\n",
    "    locs = []\n",
    "    for i in range(len(string)):\n",
    "        if string[i].lower() == ch.lower():\n",
    "            locs.append(i+1)\n",
    "    print(f'The locations where the character {ch} is present in the\\\n",
    " string {string} is {locs}')    "
   ]
  },
  {
   "cell_type": "code",
   "execution_count": 25,
   "id": "daf399da",
   "metadata": {},
   "outputs": [
    {
     "name": "stdout",
     "output_type": "stream",
     "text": [
      "The locations where the character s is present in the string Helloo... This is a test string is [14, 17, 23, 26]\n"
     ]
    }
   ],
   "source": [
    "findAll('Helloo... This is a test string','s')"
   ]
  },
  {
   "cell_type": "code",
   "execution_count": 26,
   "id": "e29365e7",
   "metadata": {},
   "outputs": [],
   "source": [
    "def sumNumSquares(n):\n",
    "    if n == 1:\n",
    "        return 1\n",
    "    else:\n",
    "        return n**2 + sumNumSquares(n-1)"
   ]
  },
  {
   "cell_type": "code",
   "execution_count": 29,
   "id": "21e3774e",
   "metadata": {},
   "outputs": [
    {
     "data": {
      "text/plain": [
       "385"
      ]
     },
     "execution_count": 29,
     "metadata": {},
     "output_type": "execute_result"
    }
   ],
   "source": [
    "sumNumSquares(10)"
   ]
  },
  {
   "cell_type": "code",
   "execution_count": 43,
   "id": "d82540d3",
   "metadata": {},
   "outputs": [],
   "source": [
    "def recurDivisors(n,i):\n",
    "    if n%i == 0:\n",
    "        print(i)\n",
    "    if n==i:\n",
    "        return\n",
    "    return recurDivisors(n,i+1)"
   ]
  },
  {
   "cell_type": "code",
   "execution_count": 48,
   "id": "2c30b62d",
   "metadata": {},
   "outputs": [
    {
     "name": "stdout",
     "output_type": "stream",
     "text": [
      "1\n",
      "3\n",
      "7\n",
      "9\n",
      "21\n",
      "63\n"
     ]
    }
   ],
   "source": [
    "recurDivisors(63,1)"
   ]
  },
  {
   "cell_type": "code",
   "execution_count": 53,
   "id": "43eaba12",
   "metadata": {},
   "outputs": [],
   "source": [
    "def makebold(str):\n",
    "    return \"<b>\"+str+\"</b>\"\n",
    "\n",
    "def makeitalic(str):\n",
    "    return \"<i>\"+str+\"</i>\"\n",
    "\n",
    "def makeunderline(str):\n",
    "    return \"<u>\"+str+\"</u>\""
   ]
  },
  {
   "cell_type": "code",
   "execution_count": 50,
   "id": "59d067c4",
   "metadata": {},
   "outputs": [
    {
     "data": {
      "text/plain": [
       "'<b>Hello</b>'"
      ]
     },
     "execution_count": 50,
     "metadata": {},
     "output_type": "execute_result"
    }
   ],
   "source": [
    "makebold('Hello')"
   ]
  },
  {
   "cell_type": "code",
   "execution_count": 52,
   "id": "596f0c77",
   "metadata": {},
   "outputs": [
    {
     "data": {
      "text/plain": [
       "'<i>Hello</i>'"
      ]
     },
     "execution_count": 52,
     "metadata": {},
     "output_type": "execute_result"
    }
   ],
   "source": [
    "makeitalic(\"Hello\")"
   ]
  },
  {
   "cell_type": "code",
   "execution_count": 54,
   "id": "f1ad6460",
   "metadata": {},
   "outputs": [
    {
     "data": {
      "text/plain": [
       "'<u>Hello</u>'"
      ]
     },
     "execution_count": 54,
     "metadata": {},
     "output_type": "execute_result"
    }
   ],
   "source": [
    "makeunderline(\"Hello\")"
   ]
  },
  {
   "cell_type": "code",
   "execution_count": 60,
   "id": "1174b6a9",
   "metadata": {},
   "outputs": [
    {
     "name": "stdout",
     "output_type": "stream",
     "text": [
      "<b><u><i>Hello... World!</i></u></b>\n"
     ]
    }
   ],
   "source": [
    "def make_bold(fn):\n",
    "    def inner():\n",
    "        return \"<b>\"+ fn() + \"</b>\"\n",
    "    return inner\n",
    "\n",
    "def make_italic(fn):\n",
    "    def inner():\n",
    "        return \"<i>\"+ fn() + \"</i>\"\n",
    "    return inner\n",
    "\n",
    "def make_underline(fn):\n",
    "    def inner():\n",
    "        return \"<u>\"+ fn() + \"</u>\"\n",
    "    return inner\n",
    "\n",
    "@make_bold\n",
    "@make_underline\n",
    "@make_italic\n",
    "def hello():\n",
    "    return \"Hello... World!\"\n",
    "\n",
    "print(hello())"
   ]
  },
  {
   "cell_type": "code",
   "execution_count": null,
   "id": "57dd8d1c",
   "metadata": {},
   "outputs": [],
   "source": []
  }
 ],
 "metadata": {
  "kernelspec": {
   "display_name": "Python 3 (ipykernel)",
   "language": "python",
   "name": "python3"
  },
  "language_info": {
   "codemirror_mode": {
    "name": "ipython",
    "version": 3
   },
   "file_extension": ".py",
   "mimetype": "text/x-python",
   "name": "python",
   "nbconvert_exporter": "python",
   "pygments_lexer": "ipython3",
   "version": "3.9.16"
  },
  "latex_envs": {
   "LaTeX_envs_menu_present": true,
   "autoclose": true,
   "autocomplete": true,
   "bibliofile": "biblio.bib",
   "cite_by": "apalike",
   "current_citInitial": 1,
   "eqLabelWithNumbers": true,
   "eqNumInitial": 1,
   "hotkeys": {
    "equation": "Ctrl-E",
    "itemize": "Ctrl-I"
   },
   "labels_anchors": false,
   "latex_user_defs": false,
   "report_style_numbering": false,
   "user_envs_cfg": false
  }
 },
 "nbformat": 4,
 "nbformat_minor": 5
}
