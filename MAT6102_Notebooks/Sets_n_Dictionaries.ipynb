{
 "cells": [
  {
   "cell_type": "code",
   "execution_count": 1,
   "id": "cd4f341a",
   "metadata": {},
   "outputs": [],
   "source": [
    "mySet1 = {1,4.5,\"First\",\"Chair\",\"Apple\",True,False}"
   ]
  },
  {
   "cell_type": "code",
   "execution_count": 2,
   "id": "3d1d04c4",
   "metadata": {},
   "outputs": [
    {
     "name": "stdout",
     "output_type": "stream",
     "text": [
      "{False, 1, 4.5, 'First', 'Chair', 'Apple'}\n"
     ]
    }
   ],
   "source": [
    "print(mySet1)"
   ]
  },
  {
   "cell_type": "code",
   "execution_count": 3,
   "id": "7a18cc16",
   "metadata": {},
   "outputs": [
    {
     "ename": "TypeError",
     "evalue": "'set' object is not subscriptable",
     "output_type": "error",
     "traceback": [
      "\u001b[1;31m---------------------------------------------------------------------------\u001b[0m",
      "\u001b[1;31mTypeError\u001b[0m                                 Traceback (most recent call last)",
      "\u001b[1;32mC:\\Users\\BSRVPR~1\\AppData\\Local\\Temp/ipykernel_17156/2210023303.py\u001b[0m in \u001b[0;36m<module>\u001b[1;34m\u001b[0m\n\u001b[1;32m----> 1\u001b[1;33m \u001b[0mmySet1\u001b[0m\u001b[1;33m[\u001b[0m\u001b[1;36m0\u001b[0m\u001b[1;33m]\u001b[0m\u001b[1;33m\u001b[0m\u001b[1;33m\u001b[0m\u001b[0m\n\u001b[0m",
      "\u001b[1;31mTypeError\u001b[0m: 'set' object is not subscriptable"
     ]
    }
   ],
   "source": [
    "mySet1[0]"
   ]
  },
  {
   "cell_type": "code",
   "execution_count": 4,
   "id": "402d5623",
   "metadata": {},
   "outputs": [
    {
     "data": {
      "text/plain": [
       "True"
      ]
     },
     "execution_count": 4,
     "metadata": {},
     "output_type": "execute_result"
    }
   ],
   "source": [
    "False in mySet1"
   ]
  },
  {
   "cell_type": "code",
   "execution_count": 5,
   "id": "b09a599b",
   "metadata": {},
   "outputs": [
    {
     "name": "stdout",
     "output_type": "stream",
     "text": [
      "False\n",
      "1\n",
      "4.5\n",
      "First\n",
      "Chair\n",
      "Apple\n"
     ]
    }
   ],
   "source": [
    "for ele in mySet1:\n",
    "    print(ele)"
   ]
  },
  {
   "cell_type": "code",
   "execution_count": 6,
   "id": "2db5d449",
   "metadata": {},
   "outputs": [
    {
     "ename": "TypeError",
     "evalue": "'set' object does not support item assignment",
     "output_type": "error",
     "traceback": [
      "\u001b[1;31m---------------------------------------------------------------------------\u001b[0m",
      "\u001b[1;31mTypeError\u001b[0m                                 Traceback (most recent call last)",
      "\u001b[1;32mC:\\Users\\BSRVPR~1\\AppData\\Local\\Temp/ipykernel_17156/1364831961.py\u001b[0m in \u001b[0;36m<module>\u001b[1;34m\u001b[0m\n\u001b[1;32m----> 1\u001b[1;33m \u001b[0mmySet1\u001b[0m\u001b[1;33m[\u001b[0m\u001b[1;36m0\u001b[0m\u001b[1;33m]\u001b[0m \u001b[1;33m=\u001b[0m \u001b[1;34m'Frist'\u001b[0m\u001b[1;33m\u001b[0m\u001b[1;33m\u001b[0m\u001b[0m\n\u001b[0m",
      "\u001b[1;31mTypeError\u001b[0m: 'set' object does not support item assignment"
     ]
    }
   ],
   "source": [
    "mySet1[0] = 'Frist'"
   ]
  },
  {
   "cell_type": "code",
   "execution_count": 7,
   "id": "95191cfb",
   "metadata": {},
   "outputs": [],
   "source": [
    "mySet1.add(10)"
   ]
  },
  {
   "cell_type": "code",
   "execution_count": 8,
   "id": "66648203",
   "metadata": {},
   "outputs": [
    {
     "data": {
      "text/plain": [
       "{1, 10, 4.5, 'Apple', 'Chair', False, 'First'}"
      ]
     },
     "execution_count": 8,
     "metadata": {},
     "output_type": "execute_result"
    }
   ],
   "source": [
    "mySet1"
   ]
  },
  {
   "cell_type": "code",
   "execution_count": 9,
   "id": "10bb4f2f",
   "metadata": {},
   "outputs": [
    {
     "name": "stdout",
     "output_type": "stream",
     "text": [
      "{False, 1, 4.5, 10, 'First', 'Chair', 'Apple'}\n"
     ]
    }
   ],
   "source": [
    "print(mySet1)"
   ]
  },
  {
   "cell_type": "code",
   "execution_count": 10,
   "id": "f1941474",
   "metadata": {},
   "outputs": [
    {
     "data": {
      "text/plain": [
       "{1, 10, 4.5, 'Apple', 'Chair', False, 'First'}"
      ]
     },
     "execution_count": 10,
     "metadata": {},
     "output_type": "execute_result"
    }
   ],
   "source": [
    "mySet1"
   ]
  },
  {
   "cell_type": "code",
   "execution_count": 11,
   "id": "94446d9d",
   "metadata": {},
   "outputs": [],
   "source": [
    "mySet1.add(\"Apple\")"
   ]
  },
  {
   "cell_type": "code",
   "execution_count": 19,
   "id": "21058baf",
   "metadata": {},
   "outputs": [],
   "source": [
    "mySet1.add('True')"
   ]
  },
  {
   "cell_type": "code",
   "execution_count": 17,
   "id": "9e488d83",
   "metadata": {},
   "outputs": [],
   "source": [
    "mySet2 = {1,4.5,False,\"True\"}"
   ]
  },
  {
   "cell_type": "code",
   "execution_count": 18,
   "id": "2fe10c74",
   "metadata": {},
   "outputs": [
    {
     "data": {
      "text/plain": [
       "{1, 4.5, False, 'True'}"
      ]
     },
     "execution_count": 18,
     "metadata": {},
     "output_type": "execute_result"
    }
   ],
   "source": [
    "mySet2"
   ]
  },
  {
   "cell_type": "code",
   "execution_count": 20,
   "id": "f47f3022",
   "metadata": {},
   "outputs": [
    {
     "data": {
      "text/plain": [
       "{1, 10, 4.5, 'Apple', 'Chair', False, 'First', 'True'}"
      ]
     },
     "execution_count": 20,
     "metadata": {},
     "output_type": "execute_result"
    }
   ],
   "source": [
    "mySet1"
   ]
  },
  {
   "cell_type": "code",
   "execution_count": 21,
   "id": "f82151d6",
   "metadata": {},
   "outputs": [],
   "source": [
    "mySet3 = mySet1.union(mySet2)"
   ]
  },
  {
   "cell_type": "code",
   "execution_count": 22,
   "id": "d9938f64",
   "metadata": {},
   "outputs": [
    {
     "data": {
      "text/plain": [
       "{1, 10, 4.5, 'Apple', 'Chair', False, 'First', 'True'}"
      ]
     },
     "execution_count": 22,
     "metadata": {},
     "output_type": "execute_result"
    }
   ],
   "source": [
    "mySet3"
   ]
  },
  {
   "cell_type": "code",
   "execution_count": 23,
   "id": "d66beee0",
   "metadata": {},
   "outputs": [],
   "source": [
    "mySet4 = mySet1.intersection(mySet2)"
   ]
  },
  {
   "cell_type": "code",
   "execution_count": 24,
   "id": "049162a6",
   "metadata": {},
   "outputs": [
    {
     "data": {
      "text/plain": [
       "{1, 4.5, False, 'True'}"
      ]
     },
     "execution_count": 24,
     "metadata": {},
     "output_type": "execute_result"
    }
   ],
   "source": [
    "mySet4"
   ]
  },
  {
   "cell_type": "code",
   "execution_count": 25,
   "id": "95955cd0",
   "metadata": {},
   "outputs": [
    {
     "data": {
      "text/plain": [
       "False"
      ]
     },
     "execution_count": 25,
     "metadata": {},
     "output_type": "execute_result"
    }
   ],
   "source": [
    "mySet1.issubset(mySet2)"
   ]
  },
  {
   "cell_type": "code",
   "execution_count": 26,
   "id": "87a55fdd",
   "metadata": {},
   "outputs": [
    {
     "data": {
      "text/plain": [
       "True"
      ]
     },
     "execution_count": 26,
     "metadata": {},
     "output_type": "execute_result"
    }
   ],
   "source": [
    "mySet2.issubset(mySet1)"
   ]
  },
  {
   "cell_type": "code",
   "execution_count": 27,
   "id": "abd39bf3",
   "metadata": {},
   "outputs": [
    {
     "data": {
      "text/plain": [
       "True"
      ]
     },
     "execution_count": 27,
     "metadata": {},
     "output_type": "execute_result"
    }
   ],
   "source": [
    "mySet1.issuperset(mySet2)"
   ]
  },
  {
   "cell_type": "code",
   "execution_count": 28,
   "id": "2a39c52a",
   "metadata": {},
   "outputs": [
    {
     "data": {
      "text/plain": [
       "{10, 'Apple', 'Chair', 'First'}"
      ]
     },
     "execution_count": 28,
     "metadata": {},
     "output_type": "execute_result"
    }
   ],
   "source": [
    "mySet1.difference(mySet2)"
   ]
  },
  {
   "cell_type": "code",
   "execution_count": 29,
   "id": "e80237cc",
   "metadata": {},
   "outputs": [
    {
     "data": {
      "text/plain": [
       "{1, 10, 4.5, 'Apple', 'Chair', False, 'First', 'True'}"
      ]
     },
     "execution_count": 29,
     "metadata": {},
     "output_type": "execute_result"
    }
   ],
   "source": [
    "mySet1"
   ]
  },
  {
   "cell_type": "code",
   "execution_count": 30,
   "id": "7c3cb33f",
   "metadata": {},
   "outputs": [
    {
     "data": {
      "text/plain": [
       "{1, 4.5, False, 'True'}"
      ]
     },
     "execution_count": 30,
     "metadata": {},
     "output_type": "execute_result"
    }
   ],
   "source": [
    "mySet2"
   ]
  },
  {
   "cell_type": "code",
   "execution_count": 31,
   "id": "03ed8e55",
   "metadata": {},
   "outputs": [
    {
     "data": {
      "text/plain": [
       "set()"
      ]
     },
     "execution_count": 31,
     "metadata": {},
     "output_type": "execute_result"
    }
   ],
   "source": [
    "mySet2.difference(mySet1)"
   ]
  },
  {
   "cell_type": "code",
   "execution_count": 32,
   "id": "f11a5fe0",
   "metadata": {},
   "outputs": [
    {
     "data": {
      "text/plain": [
       "{10, 'Apple', 'Chair', 'First'}"
      ]
     },
     "execution_count": 32,
     "metadata": {},
     "output_type": "execute_result"
    }
   ],
   "source": [
    "mySet1.symmetric_difference(mySet2)"
   ]
  },
  {
   "cell_type": "code",
   "execution_count": 33,
   "id": "a28ed053",
   "metadata": {},
   "outputs": [],
   "source": [
    "mySet1.update(mySet2)"
   ]
  },
  {
   "cell_type": "code",
   "execution_count": 34,
   "id": "0686df29",
   "metadata": {},
   "outputs": [
    {
     "data": {
      "text/plain": [
       "{1, 10, 4.5, 'Apple', 'Chair', False, 'First', 'True'}"
      ]
     },
     "execution_count": 34,
     "metadata": {},
     "output_type": "execute_result"
    }
   ],
   "source": [
    "mySet1"
   ]
  },
  {
   "cell_type": "code",
   "execution_count": 35,
   "id": "473d1e1a",
   "metadata": {},
   "outputs": [],
   "source": [
    "mySet1.update((2,3,'Orange'))"
   ]
  },
  {
   "cell_type": "code",
   "execution_count": 36,
   "id": "1d5674ec",
   "metadata": {},
   "outputs": [
    {
     "data": {
      "text/plain": [
       "{1, 10, 2, 3, 4.5, 'Apple', 'Chair', False, 'First', 'Orange', 'True'}"
      ]
     },
     "execution_count": 36,
     "metadata": {},
     "output_type": "execute_result"
    }
   ],
   "source": [
    "mySet1"
   ]
  },
  {
   "cell_type": "code",
   "execution_count": 37,
   "id": "0fc61853",
   "metadata": {},
   "outputs": [
    {
     "data": {
      "text/plain": [
       "False"
      ]
     },
     "execution_count": 37,
     "metadata": {},
     "output_type": "execute_result"
    }
   ],
   "source": [
    "mySet1.pop()"
   ]
  },
  {
   "cell_type": "code",
   "execution_count": 38,
   "id": "04c21ae8",
   "metadata": {},
   "outputs": [
    {
     "data": {
      "text/plain": [
       "1"
      ]
     },
     "execution_count": 38,
     "metadata": {},
     "output_type": "execute_result"
    }
   ],
   "source": [
    "mySet1.pop()"
   ]
  },
  {
   "cell_type": "code",
   "execution_count": 39,
   "id": "32692067",
   "metadata": {},
   "outputs": [
    {
     "data": {
      "text/plain": [
       "{10, 2, 3, 4.5, 'Apple', 'Chair', 'First', 'Orange', 'True'}"
      ]
     },
     "execution_count": 39,
     "metadata": {},
     "output_type": "execute_result"
    }
   ],
   "source": [
    "mySet1"
   ]
  },
  {
   "cell_type": "code",
   "execution_count": 40,
   "id": "52e4014e",
   "metadata": {},
   "outputs": [
    {
     "ename": "AttributeError",
     "evalue": "'set' object has no attribute 'sort'",
     "output_type": "error",
     "traceback": [
      "\u001b[1;31m---------------------------------------------------------------------------\u001b[0m",
      "\u001b[1;31mAttributeError\u001b[0m                            Traceback (most recent call last)",
      "\u001b[1;32mC:\\Users\\BSRVPR~1\\AppData\\Local\\Temp/ipykernel_17156/2158114845.py\u001b[0m in \u001b[0;36m<module>\u001b[1;34m\u001b[0m\n\u001b[1;32m----> 1\u001b[1;33m \u001b[0mmySet1\u001b[0m\u001b[1;33m.\u001b[0m\u001b[0msort\u001b[0m\u001b[1;33m(\u001b[0m\u001b[1;33m)\u001b[0m\u001b[1;33m\u001b[0m\u001b[1;33m\u001b[0m\u001b[0m\n\u001b[0m",
      "\u001b[1;31mAttributeError\u001b[0m: 'set' object has no attribute 'sort'"
     ]
    }
   ],
   "source": [
    "mySet1.sort()"
   ]
  },
  {
   "cell_type": "code",
   "execution_count": 41,
   "id": "bea4c6da",
   "metadata": {},
   "outputs": [],
   "source": [
    "mySet1.remove(\"Apple\")"
   ]
  },
  {
   "cell_type": "code",
   "execution_count": 42,
   "id": "08d1caa4",
   "metadata": {},
   "outputs": [
    {
     "ename": "KeyError",
     "evalue": "1",
     "output_type": "error",
     "traceback": [
      "\u001b[1;31m---------------------------------------------------------------------------\u001b[0m",
      "\u001b[1;31mKeyError\u001b[0m                                  Traceback (most recent call last)",
      "\u001b[1;32mC:\\Users\\BSRVPR~1\\AppData\\Local\\Temp/ipykernel_17156/3298952093.py\u001b[0m in \u001b[0;36m<module>\u001b[1;34m\u001b[0m\n\u001b[1;32m----> 1\u001b[1;33m \u001b[0mmySet1\u001b[0m\u001b[1;33m.\u001b[0m\u001b[0mremove\u001b[0m\u001b[1;33m(\u001b[0m\u001b[1;36m1\u001b[0m\u001b[1;33m)\u001b[0m\u001b[1;33m\u001b[0m\u001b[1;33m\u001b[0m\u001b[0m\n\u001b[0m",
      "\u001b[1;31mKeyError\u001b[0m: 1"
     ]
    }
   ],
   "source": [
    "mySet1.remove(1)"
   ]
  },
  {
   "cell_type": "code",
   "execution_count": 43,
   "id": "17476ec5",
   "metadata": {},
   "outputs": [
    {
     "data": {
      "text/plain": [
       "{10, 2, 3, 4.5, 'Chair', 'First', 'Orange', 'True'}"
      ]
     },
     "execution_count": 43,
     "metadata": {},
     "output_type": "execute_result"
    }
   ],
   "source": [
    "mySet1"
   ]
  },
  {
   "cell_type": "code",
   "execution_count": 44,
   "id": "ae5bee59",
   "metadata": {},
   "outputs": [],
   "source": [
    "mySet1.discard(10)"
   ]
  },
  {
   "cell_type": "code",
   "execution_count": 45,
   "id": "f6eeb469",
   "metadata": {},
   "outputs": [
    {
     "data": {
      "text/plain": [
       "{2, 3, 4.5, 'Chair', 'First', 'Orange', 'True'}"
      ]
     },
     "execution_count": 45,
     "metadata": {},
     "output_type": "execute_result"
    }
   ],
   "source": [
    "mySet1"
   ]
  },
  {
   "cell_type": "code",
   "execution_count": 46,
   "id": "563a864e",
   "metadata": {},
   "outputs": [],
   "source": [
    "mySet1.discard(1)"
   ]
  },
  {
   "cell_type": "code",
   "execution_count": 47,
   "id": "6778190b",
   "metadata": {},
   "outputs": [
    {
     "ename": "TypeError",
     "evalue": "'set' object doesn't support item deletion",
     "output_type": "error",
     "traceback": [
      "\u001b[1;31m---------------------------------------------------------------------------\u001b[0m",
      "\u001b[1;31mTypeError\u001b[0m                                 Traceback (most recent call last)",
      "\u001b[1;32mC:\\Users\\BSRVPR~1\\AppData\\Local\\Temp/ipykernel_17156/64694810.py\u001b[0m in \u001b[0;36m<module>\u001b[1;34m\u001b[0m\n\u001b[1;32m----> 1\u001b[1;33m \u001b[1;32mdel\u001b[0m \u001b[0mmySet1\u001b[0m\u001b[1;33m[\u001b[0m\u001b[1;36m0\u001b[0m\u001b[1;33m]\u001b[0m\u001b[1;33m\u001b[0m\u001b[1;33m\u001b[0m\u001b[0m\n\u001b[0m",
      "\u001b[1;31mTypeError\u001b[0m: 'set' object doesn't support item deletion"
     ]
    }
   ],
   "source": [
    "del mySet1[0]"
   ]
  },
  {
   "cell_type": "code",
   "execution_count": 48,
   "id": "a8ac3ba5",
   "metadata": {},
   "outputs": [],
   "source": [
    "del mySet3"
   ]
  },
  {
   "cell_type": "code",
   "execution_count": 49,
   "id": "071d867b",
   "metadata": {},
   "outputs": [],
   "source": [
    "myList = [1,2]"
   ]
  },
  {
   "cell_type": "code",
   "execution_count": 50,
   "id": "6de4a9e5",
   "metadata": {},
   "outputs": [
    {
     "ename": "IndexError",
     "evalue": "pop index out of range",
     "output_type": "error",
     "traceback": [
      "\u001b[1;31m---------------------------------------------------------------------------\u001b[0m",
      "\u001b[1;31mIndexError\u001b[0m                                Traceback (most recent call last)",
      "\u001b[1;32mC:\\Users\\BSRVPR~1\\AppData\\Local\\Temp/ipykernel_17156/3302763307.py\u001b[0m in \u001b[0;36m<module>\u001b[1;34m\u001b[0m\n\u001b[1;32m----> 1\u001b[1;33m \u001b[0mmyList\u001b[0m\u001b[1;33m.\u001b[0m\u001b[0mpop\u001b[0m\u001b[1;33m(\u001b[0m\u001b[1;36m3\u001b[0m\u001b[1;33m)\u001b[0m\u001b[1;33m\u001b[0m\u001b[1;33m\u001b[0m\u001b[0m\n\u001b[0m",
      "\u001b[1;31mIndexError\u001b[0m: pop index out of range"
     ]
    }
   ],
   "source": [
    "myList.pop(3)"
   ]
  },
  {
   "cell_type": "code",
   "execution_count": 51,
   "id": "76d60072",
   "metadata": {},
   "outputs": [
    {
     "data": {
      "text/plain": [
       "2"
      ]
     },
     "execution_count": 51,
     "metadata": {},
     "output_type": "execute_result"
    }
   ],
   "source": [
    "myList.pop()"
   ]
  },
  {
   "cell_type": "code",
   "execution_count": 52,
   "id": "4d513f3f",
   "metadata": {},
   "outputs": [
    {
     "data": {
      "text/plain": [
       "[1]"
      ]
     },
     "execution_count": 52,
     "metadata": {},
     "output_type": "execute_result"
    }
   ],
   "source": [
    "myList"
   ]
  },
  {
   "cell_type": "code",
   "execution_count": 53,
   "id": "84f0d771",
   "metadata": {},
   "outputs": [],
   "source": [
    "myList = [1,2]"
   ]
  },
  {
   "cell_type": "code",
   "execution_count": 57,
   "id": "c484453b",
   "metadata": {},
   "outputs": [
    {
     "ename": "ValueError",
     "evalue": "list.remove(x): x not in list",
     "output_type": "error",
     "traceback": [
      "\u001b[1;31m---------------------------------------------------------------------------\u001b[0m",
      "\u001b[1;31mValueError\u001b[0m                                Traceback (most recent call last)",
      "\u001b[1;32mC:\\Users\\BSRVPR~1\\AppData\\Local\\Temp/ipykernel_17156/721496061.py\u001b[0m in \u001b[0;36m<module>\u001b[1;34m\u001b[0m\n\u001b[1;32m----> 1\u001b[1;33m \u001b[0mmyList\u001b[0m\u001b[1;33m.\u001b[0m\u001b[0mremove\u001b[0m\u001b[1;33m(\u001b[0m\u001b[1;36m2\u001b[0m\u001b[1;33m)\u001b[0m\u001b[1;33m\u001b[0m\u001b[1;33m\u001b[0m\u001b[0m\n\u001b[0m",
      "\u001b[1;31mValueError\u001b[0m: list.remove(x): x not in list"
     ]
    }
   ],
   "source": [
    "myList.remove(2)"
   ]
  },
  {
   "cell_type": "code",
   "execution_count": 56,
   "id": "ed0544dd",
   "metadata": {},
   "outputs": [
    {
     "data": {
      "text/plain": [
       "[1]"
      ]
     },
     "execution_count": 56,
     "metadata": {},
     "output_type": "execute_result"
    }
   ],
   "source": [
    "myList"
   ]
  },
  {
   "cell_type": "code",
   "execution_count": 59,
   "id": "76c09566",
   "metadata": {},
   "outputs": [
    {
     "data": {
      "text/plain": [
       "{1, 4.5, False, 'True'}"
      ]
     },
     "execution_count": 59,
     "metadata": {},
     "output_type": "execute_result"
    }
   ],
   "source": [
    "mySet4"
   ]
  },
  {
   "cell_type": "code",
   "execution_count": 60,
   "id": "1df1d088",
   "metadata": {},
   "outputs": [
    {
     "data": {
      "text/plain": [
       "False"
      ]
     },
     "execution_count": 60,
     "metadata": {},
     "output_type": "execute_result"
    }
   ],
   "source": [
    "mySet4.pop()"
   ]
  },
  {
   "cell_type": "code",
   "execution_count": 61,
   "id": "887c348f",
   "metadata": {},
   "outputs": [],
   "source": [
    "mySet4.remove('True')"
   ]
  },
  {
   "cell_type": "code",
   "execution_count": 62,
   "id": "238bc320",
   "metadata": {},
   "outputs": [],
   "source": [
    "mySet4.discard(1)"
   ]
  },
  {
   "cell_type": "code",
   "execution_count": 63,
   "id": "0ea03c73",
   "metadata": {},
   "outputs": [
    {
     "data": {
      "text/plain": [
       "{4.5}"
      ]
     },
     "execution_count": 63,
     "metadata": {},
     "output_type": "execute_result"
    }
   ],
   "source": [
    "mySet4"
   ]
  },
  {
   "cell_type": "code",
   "execution_count": 64,
   "id": "8477d667",
   "metadata": {},
   "outputs": [
    {
     "ename": "KeyError",
     "evalue": "'True'",
     "output_type": "error",
     "traceback": [
      "\u001b[1;31m---------------------------------------------------------------------------\u001b[0m",
      "\u001b[1;31mKeyError\u001b[0m                                  Traceback (most recent call last)",
      "\u001b[1;32mC:\\Users\\BSRVPR~1\\AppData\\Local\\Temp/ipykernel_17156/2808265280.py\u001b[0m in \u001b[0;36m<module>\u001b[1;34m\u001b[0m\n\u001b[1;32m----> 1\u001b[1;33m \u001b[0mmySet4\u001b[0m\u001b[1;33m.\u001b[0m\u001b[0mremove\u001b[0m\u001b[1;33m(\u001b[0m\u001b[1;34m'True'\u001b[0m\u001b[1;33m)\u001b[0m\u001b[1;33m\u001b[0m\u001b[1;33m\u001b[0m\u001b[0m\n\u001b[0m",
      "\u001b[1;31mKeyError\u001b[0m: 'True'"
     ]
    }
   ],
   "source": [
    "mySet4.remove('True')"
   ]
  },
  {
   "cell_type": "code",
   "execution_count": 65,
   "id": "9eabd0fe",
   "metadata": {},
   "outputs": [],
   "source": [
    "mySet4.discard('True')"
   ]
  },
  {
   "cell_type": "code",
   "execution_count": 70,
   "id": "8b3a5433",
   "metadata": {},
   "outputs": [],
   "source": [
    "myDict = {'brand':'HP', 'model':'Laptop', 'year':2020}"
   ]
  },
  {
   "cell_type": "code",
   "execution_count": 67,
   "id": "a02ce2ec",
   "metadata": {},
   "outputs": [
    {
     "data": {
      "text/plain": [
       "dict"
      ]
     },
     "execution_count": 67,
     "metadata": {},
     "output_type": "execute_result"
    }
   ],
   "source": [
    "type(myDict)"
   ]
  },
  {
   "cell_type": "code",
   "execution_count": 68,
   "id": "2948a05e",
   "metadata": {},
   "outputs": [
    {
     "data": {
      "text/plain": [
       "{'barnd': 'HP', 'model': 'Laptop', 'year': 2020}"
      ]
     },
     "execution_count": 68,
     "metadata": {},
     "output_type": "execute_result"
    }
   ],
   "source": [
    "myDict"
   ]
  },
  {
   "cell_type": "code",
   "execution_count": 71,
   "id": "873fe817",
   "metadata": {},
   "outputs": [
    {
     "data": {
      "text/plain": [
       "'HP'"
      ]
     },
     "execution_count": 71,
     "metadata": {},
     "output_type": "execute_result"
    }
   ],
   "source": [
    "myDict['brand']"
   ]
  },
  {
   "cell_type": "code",
   "execution_count": 72,
   "id": "ee173cb3",
   "metadata": {},
   "outputs": [
    {
     "data": {
      "text/plain": [
       "'Laptop'"
      ]
     },
     "execution_count": 72,
     "metadata": {},
     "output_type": "execute_result"
    }
   ],
   "source": [
    "myDict['model']"
   ]
  },
  {
   "cell_type": "code",
   "execution_count": 76,
   "id": "321cba09",
   "metadata": {},
   "outputs": [],
   "source": [
    "myDict = {'brand':'HP', 'model':'Laptop', 'year':2020, 'colors':['Gold','Silver','White','Black']}"
   ]
  },
  {
   "cell_type": "code",
   "execution_count": 77,
   "id": "70285872",
   "metadata": {},
   "outputs": [
    {
     "data": {
      "text/plain": [
       "{'brand': 'HP',\n",
       " 'model': 'Laptop',\n",
       " 'year': 2020,\n",
       " 'colors': ['Gold', 'Silver', 'White', 'Black']}"
      ]
     },
     "execution_count": 77,
     "metadata": {},
     "output_type": "execute_result"
    }
   ],
   "source": [
    "myDict"
   ]
  },
  {
   "cell_type": "code",
   "execution_count": 75,
   "id": "93e748df",
   "metadata": {},
   "outputs": [
    {
     "data": {
      "text/plain": [
       "3"
      ]
     },
     "execution_count": 75,
     "metadata": {},
     "output_type": "execute_result"
    }
   ],
   "source": [
    "len(myDict)"
   ]
  },
  {
   "cell_type": "code",
   "execution_count": 79,
   "id": "f2daaba6",
   "metadata": {},
   "outputs": [
    {
     "data": {
      "text/plain": [
       "'Gold'"
      ]
     },
     "execution_count": 79,
     "metadata": {},
     "output_type": "execute_result"
    }
   ],
   "source": [
    "myDict['colors'][0]"
   ]
  },
  {
   "cell_type": "code",
   "execution_count": 80,
   "id": "e1b2321a",
   "metadata": {},
   "outputs": [
    {
     "data": {
      "text/plain": [
       "'HP'"
      ]
     },
     "execution_count": 80,
     "metadata": {},
     "output_type": "execute_result"
    }
   ],
   "source": [
    "myDict['brand']"
   ]
  },
  {
   "cell_type": "code",
   "execution_count": 81,
   "id": "063ca7c7",
   "metadata": {},
   "outputs": [
    {
     "data": {
      "text/plain": [
       "'HP'"
      ]
     },
     "execution_count": 81,
     "metadata": {},
     "output_type": "execute_result"
    }
   ],
   "source": [
    "myDict.get('brand')"
   ]
  },
  {
   "cell_type": "code",
   "execution_count": 82,
   "id": "dbd70378",
   "metadata": {},
   "outputs": [
    {
     "data": {
      "text/plain": [
       "dict_keys(['brand', 'model', 'year', 'colors'])"
      ]
     },
     "execution_count": 82,
     "metadata": {},
     "output_type": "execute_result"
    }
   ],
   "source": [
    "myDict.keys()"
   ]
  },
  {
   "cell_type": "code",
   "execution_count": 83,
   "id": "0873ed1a",
   "metadata": {},
   "outputs": [
    {
     "data": {
      "text/plain": [
       "dict_values(['HP', 'Laptop', 2020, ['Gold', 'Silver', 'White', 'Black']])"
      ]
     },
     "execution_count": 83,
     "metadata": {},
     "output_type": "execute_result"
    }
   ],
   "source": [
    "myDict.values()"
   ]
  },
  {
   "cell_type": "code",
   "execution_count": 84,
   "id": "55065c63",
   "metadata": {},
   "outputs": [
    {
     "data": {
      "text/plain": [
       "dict_items([('brand', 'HP'), ('model', 'Laptop'), ('year', 2020), ('colors', ['Gold', 'Silver', 'White', 'Black'])])"
      ]
     },
     "execution_count": 84,
     "metadata": {},
     "output_type": "execute_result"
    }
   ],
   "source": [
    "myDict.items()"
   ]
  },
  {
   "cell_type": "code",
   "execution_count": 85,
   "id": "21495b1d",
   "metadata": {},
   "outputs": [
    {
     "data": {
      "text/plain": [
       "True"
      ]
     },
     "execution_count": 85,
     "metadata": {},
     "output_type": "execute_result"
    }
   ],
   "source": [
    "'model' in myDict"
   ]
  },
  {
   "cell_type": "code",
   "execution_count": 86,
   "id": "b95cd48d",
   "metadata": {},
   "outputs": [],
   "source": [
    "myDict['year'] = 2021"
   ]
  },
  {
   "cell_type": "code",
   "execution_count": 87,
   "id": "fcbd088c",
   "metadata": {},
   "outputs": [
    {
     "data": {
      "text/plain": [
       "{'brand': 'HP',\n",
       " 'model': 'Laptop',\n",
       " 'year': 2021,\n",
       " 'colors': ['Gold', 'Silver', 'White', 'Black']}"
      ]
     },
     "execution_count": 87,
     "metadata": {},
     "output_type": "execute_result"
    }
   ],
   "source": [
    "myDict"
   ]
  },
  {
   "cell_type": "code",
   "execution_count": 88,
   "id": "364ad1d9",
   "metadata": {},
   "outputs": [],
   "source": [
    "myDict['brand'] = 'Lenovo'"
   ]
  },
  {
   "cell_type": "code",
   "execution_count": 89,
   "id": "6890cac1",
   "metadata": {},
   "outputs": [
    {
     "data": {
      "text/plain": [
       "{'brand': 'Lenovo',\n",
       " 'model': 'Laptop',\n",
       " 'year': 2021,\n",
       " 'colors': ['Gold', 'Silver', 'White', 'Black']}"
      ]
     },
     "execution_count": 89,
     "metadata": {},
     "output_type": "execute_result"
    }
   ],
   "source": [
    "myDict"
   ]
  },
  {
   "cell_type": "code",
   "execution_count": 90,
   "id": "1e168e11",
   "metadata": {},
   "outputs": [],
   "source": [
    "myDict['colors'][1] = 'RoseGold'"
   ]
  },
  {
   "cell_type": "code",
   "execution_count": 91,
   "id": "24a1e27d",
   "metadata": {},
   "outputs": [
    {
     "data": {
      "text/plain": [
       "{'brand': 'Lenovo',\n",
       " 'model': 'Laptop',\n",
       " 'year': 2021,\n",
       " 'colors': ['Gold', 'RoseGold', 'White', 'Black']}"
      ]
     },
     "execution_count": 91,
     "metadata": {},
     "output_type": "execute_result"
    }
   ],
   "source": [
    "myDict"
   ]
  },
  {
   "cell_type": "code",
   "execution_count": 92,
   "id": "eb9f585e",
   "metadata": {},
   "outputs": [],
   "source": [
    "myDict.update({'Warranty':2})"
   ]
  },
  {
   "cell_type": "code",
   "execution_count": 93,
   "id": "04057c08",
   "metadata": {},
   "outputs": [
    {
     "data": {
      "text/plain": [
       "{'brand': 'Lenovo',\n",
       " 'model': 'Laptop',\n",
       " 'year': 2021,\n",
       " 'colors': ['Gold', 'RoseGold', 'White', 'Black'],\n",
       " 'Warranty': 2}"
      ]
     },
     "execution_count": 93,
     "metadata": {},
     "output_type": "execute_result"
    }
   ],
   "source": [
    "myDict"
   ]
  },
  {
   "cell_type": "code",
   "execution_count": 95,
   "id": "89c33c81",
   "metadata": {},
   "outputs": [],
   "source": [
    "myDict.update({'colors':'red'})"
   ]
  },
  {
   "cell_type": "code",
   "execution_count": 96,
   "id": "0dae0d07",
   "metadata": {},
   "outputs": [
    {
     "data": {
      "text/plain": [
       "{'brand': 'Lenovo',\n",
       " 'model': 'Laptop',\n",
       " 'year': 2021,\n",
       " 'colors': 'red',\n",
       " 'Warranty': 2}"
      ]
     },
     "execution_count": 96,
     "metadata": {},
     "output_type": "execute_result"
    }
   ],
   "source": [
    "myDict"
   ]
  },
  {
   "cell_type": "code",
   "execution_count": 97,
   "id": "c143c4f8",
   "metadata": {},
   "outputs": [
    {
     "data": {
      "text/plain": [
       "2"
      ]
     },
     "execution_count": 97,
     "metadata": {},
     "output_type": "execute_result"
    }
   ],
   "source": [
    "myDict.pop('Warranty')"
   ]
  },
  {
   "cell_type": "code",
   "execution_count": 98,
   "id": "18631b9b",
   "metadata": {},
   "outputs": [
    {
     "data": {
      "text/plain": [
       "{'brand': 'Lenovo', 'model': 'Laptop', 'year': 2021, 'colors': 'red'}"
      ]
     },
     "execution_count": 98,
     "metadata": {},
     "output_type": "execute_result"
    }
   ],
   "source": [
    "myDict"
   ]
  },
  {
   "cell_type": "code",
   "execution_count": 100,
   "id": "c8ea4928",
   "metadata": {},
   "outputs": [
    {
     "data": {
      "text/plain": [
       "('year', 2021)"
      ]
     },
     "execution_count": 100,
     "metadata": {},
     "output_type": "execute_result"
    }
   ],
   "source": [
    "myDict.popitem()"
   ]
  },
  {
   "cell_type": "code",
   "execution_count": 101,
   "id": "bb55bfd9",
   "metadata": {},
   "outputs": [],
   "source": [
    "del myDict['brand']"
   ]
  },
  {
   "cell_type": "code",
   "execution_count": 102,
   "id": "15f6e958",
   "metadata": {},
   "outputs": [
    {
     "data": {
      "text/plain": [
       "{'model': 'Laptop'}"
      ]
     },
     "execution_count": 102,
     "metadata": {},
     "output_type": "execute_result"
    }
   ],
   "source": [
    "myDict"
   ]
  },
  {
   "cell_type": "code",
   "execution_count": 103,
   "id": "4ed97409",
   "metadata": {},
   "outputs": [],
   "source": [
    "myDict.clear()"
   ]
  },
  {
   "cell_type": "code",
   "execution_count": 104,
   "id": "e7230955",
   "metadata": {},
   "outputs": [
    {
     "data": {
      "text/plain": [
       "{}"
      ]
     },
     "execution_count": 104,
     "metadata": {},
     "output_type": "execute_result"
    }
   ],
   "source": [
    "myDict"
   ]
  },
  {
   "cell_type": "code",
   "execution_count": 8,
   "id": "b9e66f9f",
   "metadata": {},
   "outputs": [],
   "source": [
    "prod1 = {'brand':'HP','model':'Laptop','year':2020}\n",
    "prod2 = {'brand':'Lenovo','model':'Desktop','year':2018}\n",
    "prod3 = {'brand':'Asus','model':'Notebook','year':2021}"
   ]
  },
  {
   "cell_type": "code",
   "execution_count": 9,
   "id": "5cf4a303",
   "metadata": {},
   "outputs": [],
   "source": [
    "mySystems = {'sys1':prod1, 'sys2':prod2, 'sys3':prod3}"
   ]
  },
  {
   "cell_type": "code",
   "execution_count": 107,
   "id": "b63416b2",
   "metadata": {},
   "outputs": [
    {
     "data": {
      "text/plain": [
       "{'brand': 'HP', 'model': 'Laptop', 'year': 2020}"
      ]
     },
     "execution_count": 107,
     "metadata": {},
     "output_type": "execute_result"
    }
   ],
   "source": [
    "mySystems['sys1']"
   ]
  },
  {
   "cell_type": "code",
   "execution_count": 10,
   "id": "082c84b0",
   "metadata": {},
   "outputs": [
    {
     "data": {
      "text/plain": [
       "'Asus'"
      ]
     },
     "execution_count": 10,
     "metadata": {},
     "output_type": "execute_result"
    }
   ],
   "source": [
    "mySystems['sys3']['brand']"
   ]
  },
  {
   "cell_type": "code",
   "execution_count": 128,
   "id": "33859bff",
   "metadata": {},
   "outputs": [
    {
     "name": "stdout",
     "output_type": "stream",
     "text": [
      "Number is greater than 10\n",
      "Hello....\n"
     ]
    }
   ],
   "source": [
    "num = 15\n",
    "if num < 10:\n",
    "    print('Number is less than 10')\n",
    "    print('Hello')\n",
    "elif num==10:\n",
    " print('Number is equal to 10')\n",
    " print('Hellooooo')\n",
    "else:\n",
    "        print('Number is greater than 10')\n",
    "        print('Hello....')"
   ]
  },
  {
   "cell_type": "code",
   "execution_count": 120,
   "id": "497cc435",
   "metadata": {},
   "outputs": [
    {
     "name": "stdout",
     "output_type": "stream",
     "text": [
      "a > b\n"
     ]
    }
   ],
   "source": [
    "a = 50\n",
    "b = 20\n",
    "print('a > b') if a > b else print ('b > a')"
   ]
  },
  {
   "cell_type": "code",
   "execution_count": 123,
   "id": "aa39f2eb",
   "metadata": {},
   "outputs": [
    {
     "name": "stdout",
     "output_type": "stream",
     "text": [
      "a == b\n"
     ]
    }
   ],
   "source": [
    "a = 50\n",
    "b = 50\n",
    "print('a > b') if a > b else print ('a == b') if a == b else print ('b > a')"
   ]
  },
  {
   "cell_type": "code",
   "execution_count": 4,
   "id": "4844fa3a",
   "metadata": {},
   "outputs": [
    {
     "name": "stdout",
     "output_type": "stream",
     "text": [
      "1\n",
      "2\n",
      "4\n",
      "5\n",
      "6\n",
      "7\n",
      "8\n",
      "9\n",
      "i is no longer greater than 10\n"
     ]
    }
   ],
   "source": [
    "i = 1\n",
    "while (i < 10):\n",
    "    if i == 3:\n",
    "        pass\n",
    "    else:\n",
    "        print(i)\n",
    "    i = i+1\n",
    "else:\n",
    "    print('i is no longer greater than 10')"
   ]
  },
  {
   "cell_type": "code",
   "execution_count": 7,
   "id": "ecd7cb4c",
   "metadata": {},
   "outputs": [
    {
     "data": {
      "text/plain": [
       "range(0, 10, 2)"
      ]
     },
     "execution_count": 7,
     "metadata": {},
     "output_type": "execute_result"
    }
   ],
   "source": [
    "range(0,10,2)"
   ]
  },
  {
   "cell_type": "code",
   "execution_count": 14,
   "id": "ed98b4ed",
   "metadata": {},
   "outputs": [
    {
     "data": {
      "text/plain": [
       "dict_items([('brand', 'HP'), ('model', 'Laptop'), ('year', 2020)])"
      ]
     },
     "execution_count": 14,
     "metadata": {},
     "output_type": "execute_result"
    }
   ],
   "source": [
    "mySystems['sys1'].items()"
   ]
  },
  {
   "cell_type": "code",
   "execution_count": 15,
   "id": "325e0eef",
   "metadata": {},
   "outputs": [],
   "source": [
    "myDict = {'brand': 'Lenovo', 'model': 'Laptop', 'year': 2021, 'colors': 'red'}"
   ]
  },
  {
   "cell_type": "code",
   "execution_count": null,
   "id": "c056d98a",
   "metadata": {},
   "outputs": [],
   "source": []
  }
 ],
 "metadata": {
  "kernelspec": {
   "display_name": "Python 3 (ipykernel)",
   "language": "python",
   "name": "python3"
  },
  "language_info": {
   "codemirror_mode": {
    "name": "ipython",
    "version": 3
   },
   "file_extension": ".py",
   "mimetype": "text/x-python",
   "name": "python",
   "nbconvert_exporter": "python",
   "pygments_lexer": "ipython3",
   "version": "3.8.11"
  },
  "latex_envs": {
   "LaTeX_envs_menu_present": true,
   "autoclose": true,
   "autocomplete": true,
   "bibliofile": "biblio.bib",
   "cite_by": "apalike",
   "current_citInitial": 1,
   "eqLabelWithNumbers": true,
   "eqNumInitial": 1,
   "hotkeys": {
    "equation": "Ctrl-E",
    "itemize": "Ctrl-I"
   },
   "labels_anchors": false,
   "latex_user_defs": false,
   "report_style_numbering": false,
   "user_envs_cfg": false
  }
 },
 "nbformat": 4,
 "nbformat_minor": 5
}
