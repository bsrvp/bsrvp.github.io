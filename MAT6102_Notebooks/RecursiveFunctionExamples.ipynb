{
 "cells": [
  {
   "cell_type": "code",
   "execution_count": 12,
   "id": "5d168528",
   "metadata": {},
   "outputs": [
    {
     "name": "stdout",
     "output_type": "stream",
     "text": [
      "[0, 1, 1, 2, 3, 5, 8, 13, 21, 34, 55, 89, 144, 233, 377, 610]\n"
     ]
    }
   ],
   "source": [
    "def fib(n):\n",
    "    if n==0 or n==1:\n",
    "        return n\n",
    "    else:\n",
    "        return fib(n-1)+fib(n-2)\n",
    "\n",
    "n = 15\n",
    "fib(6)\n",
    "fibupton = [fib(i) for i in range(0,n+1)]\n",
    "print(fibupton)"
   ]
  },
  {
   "cell_type": "code",
   "execution_count": 21,
   "id": "085f6b56",
   "metadata": {},
   "outputs": [],
   "source": [
    "def fib_upto_n(n):\n",
    "    for i in range(0,n+1):\n",
    "        if i<n:\n",
    "            print(fib(i),end=\",\")\n",
    "        else:\n",
    "            print(fib(i))"
   ]
  },
  {
   "cell_type": "code",
   "execution_count": 23,
   "id": "24bb9ac7",
   "metadata": {},
   "outputs": [],
   "source": [
    "def fib_upto_nv2(n):\n",
    "    for i in range(0,n):\n",
    "        print(fib(i),end=\",\")\n",
    "    else:\n",
    "        print(fib(n))"
   ]
  },
  {
   "cell_type": "code",
   "execution_count": 24,
   "id": "cf00df6d",
   "metadata": {},
   "outputs": [
    {
     "name": "stdout",
     "output_type": "stream",
     "text": [
      "0,1,1,2,3,5,8,13,21,34,55,89,144,233\n"
     ]
    }
   ],
   "source": [
    "fib_upto_nv2(13)"
   ]
  },
  {
   "cell_type": "code",
   "execution_count": 27,
   "id": "e52dee2f",
   "metadata": {},
   "outputs": [],
   "source": [
    "def collatz_norecu(n):\n",
    "    CL = []\n",
    "    while n != 1:\n",
    "        CL.append(n)\n",
    "        if n%2 == 0:\n",
    "            n = int(n/2)\n",
    "        else:\n",
    "            n = 3*n+1\n",
    "    else:\n",
    "        CL.append(n)\n",
    "    return CL"
   ]
  },
  {
   "cell_type": "code",
   "execution_count": 31,
   "id": "2b0a3b56",
   "metadata": {},
   "outputs": [
    {
     "data": {
      "text/plain": [
       "[7, 22, 11, 34, 17, 52, 26, 13, 40, 20, 10, 5, 16, 8, 4, 2, 1]"
      ]
     },
     "execution_count": 31,
     "metadata": {},
     "output_type": "execute_result"
    }
   ],
   "source": [
    "collatz_norecu(7)"
   ]
  },
  {
   "cell_type": "code",
   "execution_count": 32,
   "id": "3d8ab3fe",
   "metadata": {},
   "outputs": [],
   "source": [
    "def collatz_recu(n):\n",
    "    if n==1:\n",
    "        return [n]\n",
    "    elif n%2 == 0:\n",
    "        return [n] + collatz_recu(n//2)\n",
    "    else:\n",
    "        return [n] + collatz_recu(3*n+1)"
   ]
  },
  {
   "cell_type": "code",
   "execution_count": 33,
   "id": "8a7cbc87",
   "metadata": {},
   "outputs": [
    {
     "data": {
      "text/plain": [
       "[7, 22, 11, 34, 17, 52, 26, 13, 40, 20, 10, 5, 16, 8, 4, 2, 1]"
      ]
     },
     "execution_count": 33,
     "metadata": {},
     "output_type": "execute_result"
    }
   ],
   "source": [
    "collatz_recu(7)"
   ]
  },
  {
   "cell_type": "code",
   "execution_count": 43,
   "id": "1d739a85",
   "metadata": {},
   "outputs": [],
   "source": [
    "def genrange(a,b):\n",
    "    i = a\n",
    "    while i <= b:\n",
    "        yield i\n",
    "        i = i+h"
   ]
  },
  {
   "cell_type": "code",
   "execution_count": 44,
   "id": "982f98f8",
   "metadata": {},
   "outputs": [
    {
     "name": "stdout",
     "output_type": "stream",
     "text": [
      "1\n",
      "2\n",
      "3\n",
      "4\n",
      "5\n",
      "6\n",
      "7\n",
      "8\n",
      "9\n",
      "10\n"
     ]
    }
   ],
   "source": [
    "for i in genrange(1,10):\n",
    "    print(i)"
   ]
  },
  {
   "cell_type": "code",
   "execution_count": null,
   "id": "a389f03b",
   "metadata": {},
   "outputs": [],
   "source": []
  }
 ],
 "metadata": {
  "kernelspec": {
   "display_name": "Python 3 (ipykernel)",
   "language": "python",
   "name": "python3"
  },
  "language_info": {
   "codemirror_mode": {
    "name": "ipython",
    "version": 3
   },
   "file_extension": ".py",
   "mimetype": "text/x-python",
   "name": "python",
   "nbconvert_exporter": "python",
   "pygments_lexer": "ipython3",
   "version": "3.10.13"
  }
 },
 "nbformat": 4,
 "nbformat_minor": 5
}
