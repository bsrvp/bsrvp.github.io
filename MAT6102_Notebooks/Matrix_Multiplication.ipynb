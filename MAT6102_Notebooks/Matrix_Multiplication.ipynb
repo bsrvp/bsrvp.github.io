{
 "cells": [
  {
   "cell_type": "code",
   "execution_count": 1,
   "id": "3c87af65",
   "metadata": {},
   "outputs": [],
   "source": [
    "def matrixMul(mat1,mat2):\n",
    "    r1=len(mat1)\n",
    "    c1=len(mat1[0])\n",
    "    r2=len(mat2)\n",
    "    c2=len(mat2[0])\n",
    "    \n",
    "    matrix=[[0 for j in range(c2)] for i in range(r1)] \n",
    "    #print(type(matrix))\n",
    "    #print((len(matrix),len(matrix[0])))\n",
    "    print(matrix)\n",
    "    #print(mat1)\n",
    "    #print(mat2)\n",
    "    if c1 != r2:\n",
    "        print(\"Wrong Dimension\")\n",
    "    else:\n",
    "        for i in range(r1):\n",
    "            for j in range(c2):\n",
    "                for k in range(c1):\n",
    "                    matrix[i][j] += mat1[i][k] * mat2[k][j]\n",
    "                    print((i,j,k,mat1[i][k],mat2[k][j],matrix[i][j]),end=\" \")\n",
    "                print(\"\")\n",
    "    return matrix"
   ]
  },
  {
   "cell_type": "code",
   "execution_count": null,
   "id": "0a2031d0",
   "metadata": {},
   "outputs": [],
   "source": [
    "def matrixMul_alt(mat1,mat2):\n",
    "    r1=len(mat1)\n",
    "    c1=len(mat1[0])\n",
    "    r2=len(mat2)\n",
    "    c2=len(mat2[0])\n",
    "    \n",
    "    #matrix = [[0]*c2]*r1\n",
    "    matrix = [[0]*c2 for i in range(r1)]\n",
    "    #print((id(mat1),id(mat2),id(matrix)))\n",
    "    #print((len(matrix),len(matrix[0])))\n",
    "    print(matrix)\n",
    "    #print(mat1)\n",
    "    #print(mat2)\n",
    "    if c1 != r2:\n",
    "        print(\"Wrong Dimension\")\n",
    "    else:\n",
    "        for i in range(r1):\n",
    "            for j in range(c2):\n",
    "                for k in range(c1):\n",
    "                    matrix[i][j] += mat1[i][k] * mat2[k][j]\n",
    "                    print((i,j,k,mat1[i][k],mat2[k][j],matrix[i][j]),end=\" \")\n",
    "                print(\"\")\n",
    "    return matrix"
   ]
  },
  {
   "cell_type": "code",
   "execution_count": null,
   "id": "3f532b98",
   "metadata": {},
   "outputs": [],
   "source": [
    "l=[[1, 2, 3],[4, 5, 6],[7, 8, 9]]\n",
    "m=[[1, 0, 0, 0],[0, 1, 0, 0],[0, 0, 1, 0]]"
   ]
  },
  {
   "cell_type": "code",
   "execution_count": null,
   "id": "dad18826",
   "metadata": {},
   "outputs": [],
   "source": [
    "matrixMul(l,m)"
   ]
  },
  {
   "cell_type": "code",
   "execution_count": null,
   "id": "03192b79",
   "metadata": {},
   "outputs": [],
   "source": [
    "matrixMul_alt(l,m)"
   ]
  },
  {
   "cell_type": "code",
   "execution_count": 5,
   "id": "48f5e23b",
   "metadata": {},
   "outputs": [],
   "source": [
    "def matrixDimension(m):\n",
    "    return len(m), len(m[0])"
   ]
  },
  {
   "cell_type": "code",
   "execution_count": 24,
   "id": "8960b20e",
   "metadata": {},
   "outputs": [],
   "source": [
    "def checkMatrixDimensions(m1,m2):\n",
    "    r1, c1 = matrixDimension(m1)\n",
    "    r2, c2 = matrixDimension(m2)\n",
    "    if c1 != r2:\n",
    "        return False\n",
    "    else:\n",
    "        return True"
   ]
  },
  {
   "cell_type": "code",
   "execution_count": 38,
   "id": "a639f730",
   "metadata": {},
   "outputs": [],
   "source": [
    "def matrixMultiplication(m1,m2):\n",
    "    r1,c1 = matrixDimension(m1)\n",
    "    r2,c2 = matrixDimension(m2)\n",
    "    matrix = [[0]*c2 for _ in range(r1)]\n",
    "    #matrix = [[0 for _ in range(c2)] for _ in range(r1)] \n",
    "    for i in range(r1):\n",
    "        for j in range(c2):\n",
    "            for k in range(c1):\n",
    "                matrix[i][j] += m1[i][k] * m2[k][j]\n",
    "    #result = [[sum(a*b for a,b in zip(X_row,Y_col)) for Y_col in zip(*Y)] for X_row in X]\n",
    "    return matrix"
   ]
  },
  {
   "cell_type": "code",
   "execution_count": 33,
   "id": "c7088486",
   "metadata": {},
   "outputs": [],
   "source": [
    "def varMatrixMultiplication(*matrix):\n",
    "    nofmat = len(matrix)\n",
    "    result = matrix[0].copy()\n",
    "    for i in range(nofmat-1):\n",
    "        if checkMatrixDimensions(result,matrix[i+1]):\n",
    "            result = matrixMultiplication(result,matrix[i+1])\n",
    "        else:\n",
    "            print('Matrix dimensions not agree')\n",
    "            return\n",
    "    return result"
   ]
  },
  {
   "cell_type": "code",
   "execution_count": 39,
   "id": "0134fcbc",
   "metadata": {},
   "outputs": [],
   "source": [
    "L = [[1,2,3],[3,4,4]]\n",
    "M = [[2,3],[4,5],[6,7]]\n",
    "N = [[1,0],[0,1],[0,0]]"
   ]
  },
  {
   "cell_type": "code",
   "execution_count": 40,
   "id": "af3c69e1",
   "metadata": {},
   "outputs": [
    {
     "name": "stdout",
     "output_type": "stream",
     "text": [
      "Matrix dimensions not agree\n"
     ]
    }
   ],
   "source": [
    "varMatrixMultiplication(L,M,N)"
   ]
  },
  {
   "cell_type": "code",
   "execution_count": null,
   "id": "cfb3ce02",
   "metadata": {},
   "outputs": [],
   "source": []
  }
 ],
 "metadata": {
  "kernelspec": {
   "display_name": "Python 3 (ipykernel)",
   "language": "python",
   "name": "python3"
  },
  "language_info": {
   "codemirror_mode": {
    "name": "ipython",
    "version": 3
   },
   "file_extension": ".py",
   "mimetype": "text/x-python",
   "name": "python",
   "nbconvert_exporter": "python",
   "pygments_lexer": "ipython3",
   "version": "3.10.13"
  },
  "latex_envs": {
   "LaTeX_envs_menu_present": true,
   "autoclose": false,
   "autocomplete": true,
   "bibliofile": "biblio.bib",
   "cite_by": "apalike",
   "current_citInitial": 1,
   "eqLabelWithNumbers": true,
   "eqNumInitial": 1,
   "hotkeys": {
    "equation": "Ctrl-E",
    "itemize": "Ctrl-I"
   },
   "labels_anchors": false,
   "latex_user_defs": false,
   "report_style_numbering": false,
   "user_envs_cfg": false
  }
 },
 "nbformat": 4,
 "nbformat_minor": 5
}
