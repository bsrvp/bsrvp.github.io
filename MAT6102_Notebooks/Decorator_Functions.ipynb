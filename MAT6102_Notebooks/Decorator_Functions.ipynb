{
 "cells": [
  {
   "cell_type": "markdown",
   "id": "ca742e8f",
   "metadata": {},
   "source": [
    "### Python Jupyter Notebook Demonstrating the Decorator Functions"
   ]
  },
  {
   "cell_type": "markdown",
   "id": "576c2283",
   "metadata": {},
   "source": [
    "#### Example 1: Simple Decorator"
   ]
  },
  {
   "cell_type": "code",
   "execution_count": 1,
   "id": "4f623c06",
   "metadata": {},
   "outputs": [],
   "source": [
    "def make_pretty(func):\n",
    "    def inner():\n",
    "        print('Decorated')\n",
    "        func()\n",
    "    return inner"
   ]
  },
  {
   "cell_type": "code",
   "execution_count": 2,
   "id": "5f3f71c5",
   "metadata": {},
   "outputs": [],
   "source": [
    "def ordinary():\n",
    "    print('Ordinary')"
   ]
  },
  {
   "cell_type": "code",
   "execution_count": 3,
   "id": "933484bc",
   "metadata": {},
   "outputs": [
    {
     "name": "stdout",
     "output_type": "stream",
     "text": [
      "Ordinary\n"
     ]
    }
   ],
   "source": [
    "ordinary()"
   ]
  },
  {
   "cell_type": "code",
   "execution_count": 4,
   "id": "04acca29",
   "metadata": {},
   "outputs": [],
   "source": [
    "pretty = make_pretty(ordinary)"
   ]
  },
  {
   "cell_type": "code",
   "execution_count": 5,
   "id": "814dc61e",
   "metadata": {},
   "outputs": [
    {
     "name": "stdout",
     "output_type": "stream",
     "text": [
      "Decorated\n",
      "Ordinary\n"
     ]
    }
   ],
   "source": [
    "pretty()"
   ]
  },
  {
   "cell_type": "code",
   "execution_count": 6,
   "id": "7588d960",
   "metadata": {},
   "outputs": [
    {
     "name": "stdout",
     "output_type": "stream",
     "text": [
      "Ordinary\n"
     ]
    }
   ],
   "source": [
    "ordinary()"
   ]
  },
  {
   "cell_type": "code",
   "execution_count": 7,
   "id": "3abb79f9",
   "metadata": {},
   "outputs": [],
   "source": [
    "ordinary = make_pretty(ordinary)"
   ]
  },
  {
   "cell_type": "code",
   "execution_count": 8,
   "id": "adad4b4b",
   "metadata": {},
   "outputs": [
    {
     "name": "stdout",
     "output_type": "stream",
     "text": [
      "Decorated\n",
      "Ordinary\n"
     ]
    }
   ],
   "source": [
    "ordinary()"
   ]
  },
  {
   "cell_type": "markdown",
   "id": "ea7efa04",
   "metadata": {},
   "source": [
    "#### Constructing a decorator function which handles the *Division by Zero* error"
   ]
  },
  {
   "cell_type": "code",
   "execution_count": 9,
   "id": "dc672adb",
   "metadata": {},
   "outputs": [],
   "source": [
    "def divide(a,b):\n",
    "    return a/b"
   ]
  },
  {
   "cell_type": "code",
   "execution_count": 10,
   "id": "0c7523a1",
   "metadata": {},
   "outputs": [
    {
     "data": {
      "text/plain": [
       "0.5"
      ]
     },
     "execution_count": 10,
     "metadata": {},
     "output_type": "execute_result"
    }
   ],
   "source": [
    "divide(2,4)"
   ]
  },
  {
   "cell_type": "code",
   "execution_count": 11,
   "id": "a6be786a",
   "metadata": {},
   "outputs": [
    {
     "ename": "ZeroDivisionError",
     "evalue": "division by zero",
     "output_type": "error",
     "traceback": [
      "\u001b[1;31m---------------------------------------------------------------------------\u001b[0m",
      "\u001b[1;31mZeroDivisionError\u001b[0m                         Traceback (most recent call last)",
      "\u001b[1;32mC:\\Users\\BSRVPR~1\\AppData\\Local\\Temp/ipykernel_6900/2734703358.py\u001b[0m in \u001b[0;36m<module>\u001b[1;34m\u001b[0m\n\u001b[1;32m----> 1\u001b[1;33m \u001b[0mdivide\u001b[0m\u001b[1;33m(\u001b[0m\u001b[1;36m2\u001b[0m\u001b[1;33m,\u001b[0m\u001b[1;36m0\u001b[0m\u001b[1;33m)\u001b[0m\u001b[1;33m\u001b[0m\u001b[1;33m\u001b[0m\u001b[0m\n\u001b[0m",
      "\u001b[1;32mC:\\Users\\BSRVPR~1\\AppData\\Local\\Temp/ipykernel_6900/2285670455.py\u001b[0m in \u001b[0;36mdivide\u001b[1;34m(a, b)\u001b[0m\n\u001b[0;32m      1\u001b[0m \u001b[1;32mdef\u001b[0m \u001b[0mdivide\u001b[0m\u001b[1;33m(\u001b[0m\u001b[0ma\u001b[0m\u001b[1;33m,\u001b[0m\u001b[0mb\u001b[0m\u001b[1;33m)\u001b[0m\u001b[1;33m:\u001b[0m\u001b[1;33m\u001b[0m\u001b[1;33m\u001b[0m\u001b[0m\n\u001b[1;32m----> 2\u001b[1;33m     \u001b[1;32mreturn\u001b[0m \u001b[0ma\u001b[0m\u001b[1;33m/\u001b[0m\u001b[0mb\u001b[0m\u001b[1;33m\u001b[0m\u001b[1;33m\u001b[0m\u001b[0m\n\u001b[0m",
      "\u001b[1;31mZeroDivisionError\u001b[0m: division by zero"
     ]
    }
   ],
   "source": [
    "divide(2,0)"
   ]
  },
  {
   "cell_type": "code",
   "execution_count": 12,
   "id": "e622e57c",
   "metadata": {},
   "outputs": [],
   "source": [
    "def smart_divide(func):\n",
    "    def inner(a,b):\n",
    "        if b == 0:\n",
    "            print('The denominator is zero. Can not divide')\n",
    "            return\n",
    "        return func(a,b)\n",
    "    return inner"
   ]
  },
  {
   "cell_type": "code",
   "execution_count": 13,
   "id": "716d6e63",
   "metadata": {},
   "outputs": [],
   "source": [
    "divide = smart_divide(divide)"
   ]
  },
  {
   "cell_type": "code",
   "execution_count": 14,
   "id": "12790d2b",
   "metadata": {},
   "outputs": [
    {
     "data": {
      "text/plain": [
       "0.6666666666666666"
      ]
     },
     "execution_count": 14,
     "metadata": {},
     "output_type": "execute_result"
    }
   ],
   "source": [
    "divide(2,3)"
   ]
  },
  {
   "cell_type": "code",
   "execution_count": 15,
   "id": "5d875c08",
   "metadata": {},
   "outputs": [
    {
     "name": "stdout",
     "output_type": "stream",
     "text": [
      "The denominator is zero. Can not divide\n"
     ]
    }
   ],
   "source": [
    "divide(2,0)"
   ]
  },
  {
   "cell_type": "markdown",
   "id": "1c105fd9",
   "metadata": {},
   "source": [
    "#### More than one decorator and the order of decorator"
   ]
  },
  {
   "cell_type": "code",
   "execution_count": 16,
   "id": "cb3dc058",
   "metadata": {},
   "outputs": [
    {
     "name": "stdout",
     "output_type": "stream",
     "text": [
      "Calling  g2 using deco1\n",
      "Calling  func using deco2\n",
      "4\n",
      "Calling  g1 using deco2\n",
      "Calling  func1 using deco1\n",
      "9\n",
      "Calling  g1 using deco2\n",
      "Calling  g1 using deco1\n",
      "Calling  g2 using deco1\n",
      "Calling  func using deco2\n",
      "4\n"
     ]
    }
   ],
   "source": [
    "def deco1(f):\n",
    "    def g1(*args, **kwargs):\n",
    "        print(\"Calling \", f.__name__, \"using deco1\")\n",
    "        return f(*args, **kwargs)\n",
    "    return g1\n",
    "def deco2(f):\n",
    "    def g2(*args, **kwargs):\n",
    "        print(\"Calling \", f.__name__, \"using deco2\")\n",
    "        return f(*args, **kwargs)\n",
    "    return g2\n",
    "def func(x):\n",
    "    return 2*x\n",
    "def func1(x):\n",
    "    return 3*x\n",
    "func = deco1(deco2(func))\n",
    "print(func(2))\n",
    "func1 = deco2(deco1(func1))\n",
    "print(func1(3))\n",
    "func = deco2(deco1(func))\n",
    "print(func(2))"
   ]
  },
  {
   "cell_type": "markdown",
   "id": "9b4d6736",
   "metadata": {},
   "source": [
    "#### Constructing decorators to print a given message embedded in a given pattern"
   ]
  },
  {
   "cell_type": "code",
   "execution_count": 17,
   "id": "76732a80",
   "metadata": {},
   "outputs": [],
   "source": [
    "def star(func):\n",
    "    def inner(*args, **kwargs):\n",
    "        print(\"*\" * 30)\n",
    "        func(*args, **kwargs)\n",
    "        print(\"*\" * 30)\n",
    "    return inner\n",
    "\n",
    "def percent(func):\n",
    "    def inner(*args, **kwargs):\n",
    "        print(\"%\" * 30)\n",
    "        func(*args, **kwargs)\n",
    "        print(\"%\" * 30)\n",
    "    return inner"
   ]
  },
  {
   "cell_type": "code",
   "execution_count": 18,
   "id": "ccaaf8f0",
   "metadata": {},
   "outputs": [],
   "source": [
    "def printmsg(msg):\n",
    "    print(msg)"
   ]
  },
  {
   "cell_type": "code",
   "execution_count": 19,
   "id": "639ec4e0",
   "metadata": {},
   "outputs": [
    {
     "name": "stdout",
     "output_type": "stream",
     "text": [
      "Hello... this is message from printmsg\n"
     ]
    }
   ],
   "source": [
    "printmsg('Hello... this is message from printmsg')"
   ]
  },
  {
   "cell_type": "code",
   "execution_count": 20,
   "id": "547c8d02",
   "metadata": {},
   "outputs": [],
   "source": [
    "printmsg = percent(star(printmsg))"
   ]
  },
  {
   "cell_type": "code",
   "execution_count": 21,
   "id": "36738f42",
   "metadata": {},
   "outputs": [
    {
     "name": "stdout",
     "output_type": "stream",
     "text": [
      "%%%%%%%%%%%%%%%%%%%%%%%%%%%%%%\n",
      "******************************\n",
      "Hellooooo\n",
      "******************************\n",
      "%%%%%%%%%%%%%%%%%%%%%%%%%%%%%%\n"
     ]
    }
   ],
   "source": [
    "printmsg('Hellooooo')"
   ]
  },
  {
   "cell_type": "markdown",
   "id": "4c51027e",
   "metadata": {},
   "source": [
    "#### Decorators in working.... (Some advanced applications)"
   ]
  },
  {
   "cell_type": "markdown",
   "id": "d489238e",
   "metadata": {},
   "source": [
    "For below code to run you first need to install the `latexify` package using the following command in the Jupyter notebook\n",
    "```python\n",
    "!pip install latexify-py==0.2.0\n",
    "```"
   ]
  },
  {
   "cell_type": "code",
   "execution_count": 22,
   "id": "60449353",
   "metadata": {},
   "outputs": [
    {
     "data": {
      "text/plain": [
       "'0.2.0'"
      ]
     },
     "execution_count": 22,
     "metadata": {},
     "output_type": "execute_result"
    }
   ],
   "source": [
    "import math\n",
    "import latexify\n",
    "latexify.__version__"
   ]
  },
  {
   "cell_type": "code",
   "execution_count": 23,
   "id": "99024b29",
   "metadata": {},
   "outputs": [
    {
     "name": "stdout",
     "output_type": "stream",
     "text": [
      "-1.0\n",
      "\\mathrm{solve}(a, b, c) = \\frac{-b + \\sqrt{b^{{2}} - {4} a c}}{{2} a}\n"
     ]
    },
    {
     "data": {
      "text/latex": [
       "$$ \\displaystyle \\mathrm{solve}(a, b, c) = \\frac{-b + \\sqrt{b^{{2}} - {4} a c}}{{2} a} $$"
      ],
      "text/plain": [
       "<latexify.frontend.LatexifiedFunction at 0x1c4bfd24e50>"
      ]
     },
     "execution_count": 23,
     "metadata": {},
     "output_type": "execute_result"
    }
   ],
   "source": [
    "@latexify.function\n",
    "def solve(a, b, c):\n",
    "    return (-b + math.sqrt(b**2 - 4*a*c)) / (2*a)\n",
    "\n",
    "print(solve(1, 4, 3))  # Invoking the function works as expected.\n",
    "print(solve)  # Printing the function shows the underlying LaTeX expression.\n",
    "solve  # Display the MathJax."
   ]
  },
  {
   "cell_type": "code",
   "execution_count": 24,
   "id": "a9bf6774",
   "metadata": {},
   "outputs": [
    {
     "data": {
      "text/latex": [
       "$$ \\displaystyle \\frac{-b + \\sqrt{b^{{2}} - {4} a c}}{{2} a} $$"
      ],
      "text/plain": [
       "<latexify.frontend.LatexifiedFunction at 0x1c4bfd24ee0>"
      ]
     },
     "execution_count": 24,
     "metadata": {},
     "output_type": "execute_result"
    }
   ],
   "source": [
    "# latexify.expression works similarly, but does not output the signature.\n",
    "@latexify.expression\n",
    "def solve(a, b, c):\n",
    "    return (-b + math.sqrt(b**2 - 4*a*c)) / (2*a)\n",
    "\n",
    "solve"
   ]
  },
  {
   "cell_type": "code",
   "execution_count": 25,
   "id": "11860cd8",
   "metadata": {},
   "outputs": [
    {
     "data": {
      "text/latex": [
       "$$ \\displaystyle \\mathrm{sinc}(x) = \\left\\{ \\begin{array}{ll} {1}, & \\mathrm{if} \\ {x = {0}} \\\\ \\frac{\\sin{\\left({x}\\right)}}{x}, & \\mathrm{otherwise} \\end{array} \\right. $$"
      ],
      "text/plain": [
       "<latexify.frontend.LatexifiedFunction at 0x1c4bfd248e0>"
      ]
     },
     "execution_count": 25,
     "metadata": {},
     "output_type": "execute_result"
    }
   ],
   "source": [
    "@latexify.function\n",
    "def sinc(x):\n",
    "    if x == 0:\n",
    "        return 1\n",
    "    else:\n",
    "        return math.sin(x) / x\n",
    "\n",
    "sinc"
   ]
  },
  {
   "cell_type": "code",
   "execution_count": 26,
   "id": "517bbe8e",
   "metadata": {},
   "outputs": [
    {
     "data": {
      "text/latex": [
       "$$ \\displaystyle \\mathrm{fib}(x) = \\left\\{ \\begin{array}{ll} {0}, & \\mathrm{if} \\ {x = {0}} \\\\ {1}, & \\mathrm{if} \\ {x = {1}} \\\\ \\mathrm{fib}\\left(x - {1}\\right) + \\mathrm{fib}\\left(x - {2}\\right), & \\mathrm{otherwise} \\end{array} \\right. $$"
      ],
      "text/plain": [
       "<latexify.frontend.LatexifiedFunction at 0x1c4bfd24d30>"
      ]
     },
     "execution_count": 26,
     "metadata": {},
     "output_type": "execute_result"
    }
   ],
   "source": [
    "# Elif or nested else-if are unrolled.\n",
    "@latexify.function\n",
    "def fib(x):\n",
    "    if x == 0:\n",
    "        return 0\n",
    "    elif x == 1:\n",
    "        return 1\n",
    "    else:\n",
    "        return fib(x-1) + fib(x-2)\n",
    "\n",
    "fib"
   ]
  },
  {
   "cell_type": "code",
   "execution_count": 27,
   "id": "177ba3b5",
   "metadata": {},
   "outputs": [
    {
     "data": {
      "text/latex": [
       "$$ \\displaystyle \\mathrm{greek}({\\alpha}, {\\beta}, {\\gamma}, {\\Omega}) = {\\alpha} {\\beta} + \\Gamma\\left({{\\gamma}}\\right) + {\\Omega} $$"
      ],
      "text/plain": [
       "<latexify.frontend.LatexifiedFunction at 0x1c4bfbb0580>"
      ]
     },
     "execution_count": 27,
     "metadata": {},
     "output_type": "execute_result"
    }
   ],
   "source": [
    "# Some math symbols are converted automatically.\n",
    "@latexify.function(use_math_symbols=True)\n",
    "def greek(alpha, beta, gamma, Omega):\n",
    "    return alpha * beta + math.gamma(gamma) + Omega\n",
    "\n",
    "greek"
   ]
  },
  {
   "cell_type": "code",
   "execution_count": 28,
   "id": "703f2d9d",
   "metadata": {},
   "outputs": [
    {
     "data": {
      "text/latex": [
       "$$ \\displaystyle \\mathrm{f}(a, b, c) = \\frac{-b + \\sqrt{b^{{2}} - {4} a c}}{{2} a} $$"
      ],
      "text/plain": [
       "<latexify.frontend.LatexifiedFunction at 0x1c4bfd38850>"
      ]
     },
     "execution_count": 28,
     "metadata": {},
     "output_type": "execute_result"
    }
   ],
   "source": [
    "# Assignments can be reduced into one expression.\n",
    "@latexify.function(reduce_assignments=True)\n",
    "def f(a, b, c):\n",
    "    discriminant = b**2 - 4 * a * c\n",
    "    numerator = -b + math.sqrt(discriminant)\n",
    "    denominator = 2 * a\n",
    "    return numerator / denominator\n",
    "\n",
    "f"
   ]
  }
 ],
 "metadata": {
  "kernelspec": {
   "display_name": "Python 3 (ipykernel)",
   "language": "python",
   "name": "python3"
  },
  "language_info": {
   "codemirror_mode": {
    "name": "ipython",
    "version": 3
   },
   "file_extension": ".py",
   "mimetype": "text/x-python",
   "name": "python",
   "nbconvert_exporter": "python",
   "pygments_lexer": "ipython3",
   "version": "3.9.15"
  },
  "latex_envs": {
   "LaTeX_envs_menu_present": true,
   "autoclose": false,
   "autocomplete": true,
   "bibliofile": "biblio.bib",
   "cite_by": "apalike",
   "current_citInitial": 1,
   "eqLabelWithNumbers": true,
   "eqNumInitial": 1,
   "hotkeys": {
    "equation": "Ctrl-E",
    "itemize": "Ctrl-I"
   },
   "labels_anchors": false,
   "latex_user_defs": false,
   "report_style_numbering": false,
   "user_envs_cfg": false
  }
 },
 "nbformat": 4,
 "nbformat_minor": 5
}
