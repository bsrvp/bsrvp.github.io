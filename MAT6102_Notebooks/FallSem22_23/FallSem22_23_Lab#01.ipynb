{
 "cells": [
  {
   "cell_type": "code",
   "execution_count": 1,
   "id": "60c722ad",
   "metadata": {},
   "outputs": [
    {
     "name": "stdout",
     "output_type": "stream",
     "text": [
      "Hello World...\n"
     ]
    }
   ],
   "source": [
    "print(\"Hello World...\")"
   ]
  },
  {
   "cell_type": "markdown",
   "id": "7f2256fb",
   "metadata": {},
   "source": [
    "### Below is the code for swapping of two number with temporary variable\n",
    "\n",
    "```python\n",
    "a = 100\n",
    "b = 200\n",
    "temp = a\n",
    "a = b\n",
    "b = temp\n",
    "```\n",
    "\n",
    "<u>***This a message 1***</u>\n",
    "\n",
    "- Bullet point 1\n",
    "- Bullet point 2\n",
    "    - Subbullet point 1\n",
    "    \n",
    "1. Bullet with numbering\n",
    "2. Bullet with numbering"
   ]
  },
  {
   "cell_type": "code",
   "execution_count": 18,
   "id": "3e9b9a99",
   "metadata": {},
   "outputs": [
    {
     "name": "stdout",
     "output_type": "stream",
     "text": [
      "100.01 200\n"
     ]
    }
   ],
   "source": [
    "a = 100.01\n",
    "b = 200\n",
    "print(a,b)"
   ]
  },
  {
   "cell_type": "code",
   "execution_count": 12,
   "id": "95cae68d",
   "metadata": {},
   "outputs": [
    {
     "name": "stdout",
     "output_type": "stream",
     "text": [
      "a= 100.01 b= 200\n"
     ]
    }
   ],
   "source": [
    "temp = a\n",
    "a = b\n",
    "b = temp\n",
    "print(\"a=\",a,\"b=\",b)"
   ]
  },
  {
   "cell_type": "code",
   "execution_count": 13,
   "id": "8eaf216b",
   "metadata": {},
   "outputs": [
    {
     "data": {
      "text/plain": [
       "'C:\\\\Users\\\\BSRVPrasad\\\\OneDrive\\\\PythonClass'"
      ]
     },
     "execution_count": 13,
     "metadata": {},
     "output_type": "execute_result"
    }
   ],
   "source": [
    "pwd"
   ]
  },
  {
   "cell_type": "code",
   "execution_count": 14,
   "id": "da1d1c2c",
   "metadata": {},
   "outputs": [
    {
     "name": "stdout",
     "output_type": "stream",
     "text": [
      "C:\\Users\\BSRVPrasad\\OneDrive\n"
     ]
    }
   ],
   "source": [
    "cd .."
   ]
  },
  {
   "cell_type": "code",
   "execution_count": 15,
   "id": "bca7f7a9",
   "metadata": {},
   "outputs": [
    {
     "name": "stdout",
     "output_type": "stream",
     "text": [
      "C:\\Users\\BSRVPrasad\\OneDrive\\PythonClass\n"
     ]
    }
   ],
   "source": [
    "cd PythonClass"
   ]
  },
  {
   "cell_type": "markdown",
   "id": "bb213807",
   "metadata": {},
   "source": [
    "# Heading1\n",
    "## Heading 2\n",
    "### Heading 3\n",
    "#### Heading 4\n",
    "##### Heading 5\n",
    "###### Heading 6\n",
    "\n",
    "The markdown code to produce the above output is:\n",
    "```markdown\n",
    "# Heading1\n",
    "## Heading 2\n",
    "### Heading 3\n",
    "#### Heading 4\n",
    "##### Heading 5\n",
    "###### Heading 6\n",
    "```"
   ]
  },
  {
   "cell_type": "markdown",
   "id": "0ab29184",
   "metadata": {},
   "source": [
    "Bold: **Bold** `markdown code Bold: **Bold**`\n",
    "\n",
    "Italic: *Italic* `markdown code Italic: *Italic*`\n",
    "\n",
    "Lists:\n",
    "1. This is a first list item\n",
    "    - This is sub item\n",
    "    - This is second sub item\n",
    "2. This is second list item\n",
    "\n",
    "Markdown code for the above list segement is:\n",
    "```markdown\n",
    "Lists:\n",
    "1. This is a first list item\n",
    "    - This is sub item\n",
    "    - This is second sub item\n",
    "2. This is second list item\n",
    "```"
   ]
  },
  {
   "cell_type": "markdown",
   "id": "e1fdfc8e",
   "metadata": {},
   "source": [
    "#### Demonstration of Mathematical Equations\n",
    "\n",
    "```markdown\n",
    "This an inline math \\(\\alpha_2\\)\n",
    "\n",
    "This is display equation \\[\\frac{-b \\pm \\sqrt{b^2 - 4ac}}{2a}\\]\n",
    "```"
   ]
  },
  {
   "cell_type": "markdown",
   "id": "000745b3",
   "metadata": {},
   "source": [
    "This is an inline math \\(\\alpha_2\\)\n",
    "\n",
    "This is display equation \\[\\frac{-b \\pm \\sqrt{b^2 - 4ac}}{2a}\\]"
   ]
  },
  {
   "cell_type": "code",
   "execution_count": null,
   "id": "98ad5a8b",
   "metadata": {},
   "outputs": [],
   "source": []
  }
 ],
 "metadata": {
  "kernelspec": {
   "display_name": "Python 3 (ipykernel)",
   "language": "python",
   "name": "python3"
  },
  "language_info": {
   "codemirror_mode": {
    "name": "ipython",
    "version": 3
   },
   "file_extension": ".py",
   "mimetype": "text/x-python",
   "name": "python",
   "nbconvert_exporter": "python",
   "pygments_lexer": "ipython3",
   "version": "3.9.13"
  },
  "latex_envs": {
   "LaTeX_envs_menu_present": true,
   "autoclose": false,
   "autocomplete": true,
   "bibliofile": "biblio.bib",
   "cite_by": "apalike",
   "current_citInitial": 1,
   "eqLabelWithNumbers": true,
   "eqNumInitial": 1,
   "hotkeys": {
    "equation": "Ctrl-E",
    "itemize": "Ctrl-I"
   },
   "labels_anchors": false,
   "latex_user_defs": false,
   "report_style_numbering": false,
   "user_envs_cfg": false
  }
 },
 "nbformat": 4,
 "nbformat_minor": 5
}
