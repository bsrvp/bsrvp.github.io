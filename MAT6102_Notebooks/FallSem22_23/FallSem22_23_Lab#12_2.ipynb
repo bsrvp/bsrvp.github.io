{
 "cells": [
  {
   "cell_type": "code",
   "execution_count": 12,
   "id": "3a00c5f1",
   "metadata": {},
   "outputs": [
    {
     "name": "stdout",
     "output_type": "stream",
     "text": [
      "Enter String: sdfjdsk#$%$#sdafjkd\n",
      "The character s is repeated 3 times\n",
      "The character d is repeated 4 times\n",
      "The character f is repeated 2 times\n",
      "The character j is repeated 2 times\n",
      "The character k is repeated 2 times\n",
      "The character a is repeated 1 times\n"
     ]
    }
   ],
   "source": [
    "n = input('Enter String: ')\n",
    "L = []\n",
    "for x in n:\n",
    "    if x not in L and x.isalnum():\n",
    "        L.append(x)\n",
    "        print('The character',x,'is repeated',n.count(x),'times')"
   ]
  },
  {
   "cell_type": "code",
   "execution_count": 6,
   "id": "dea4101f",
   "metadata": {},
   "outputs": [
    {
     "name": "stdout",
     "output_type": "stream",
     "text": [
      "Enter number: 435324\n",
      "The digit 0 is repeated 0 times\n",
      "The digit 1 is repeated 0 times\n",
      "The digit 2 is repeated 1 times\n",
      "The digit 3 is repeated 2 times\n",
      "The digit 4 is repeated 2 times\n",
      "The digit 5 is repeated 1 times\n",
      "The digit 6 is repeated 0 times\n",
      "The digit 7 is repeated 0 times\n",
      "The digit 8 is repeated 0 times\n",
      "The digit 9 is repeated 0 times\n"
     ]
    }
   ],
   "source": [
    "n = input('Enter number: ')\n",
    "num_dict = {'0':0,'1':0,'2':0,'3':0,'4':0,'5':0,'6':0,'7':0,'8':0,'9':0}\n",
    "for x in n:\n",
    "    num_dict[x] += 1\n",
    "\n",
    "for key,value in num_dict.items():\n",
    "    print('The digit',key,'is repeated',value,'times')"
   ]
  },
  {
   "cell_type": "code",
   "execution_count": 11,
   "id": "3b59512a",
   "metadata": {},
   "outputs": [
    {
     "name": "stdout",
     "output_type": "stream",
     "text": [
      "Enter String: sdfsd3453234#$%$#\n",
      "The character s is repeated 2 times\n",
      "The character d is repeated 2 times\n",
      "The character f is repeated 1 times\n",
      "The character 3 is repeated 3 times\n",
      "The character 4 is repeated 2 times\n",
      "The character 5 is repeated 1 times\n",
      "The character 2 is repeated 1 times\n"
     ]
    }
   ],
   "source": [
    "string = input('Enter String: ')\n",
    "str_dict = {}\n",
    "for x in string:\n",
    "    if x.isalnum():\n",
    "        if x not in str_dict:\n",
    "            str_dict[x] = 1\n",
    "        else:\n",
    "            str_dict[x] += 1\n",
    "\n",
    "for key,value in str_dict.items():\n",
    "    print('The character',key,'is repeated',value,'times')"
   ]
  },
  {
   "cell_type": "code",
   "execution_count": 35,
   "id": "ec62bff2",
   "metadata": {},
   "outputs": [
    {
     "name": "stdout",
     "output_type": "stream",
     "text": [
      "Enter String: how are you? hope you, are, fine.\n",
      "The character how is repeated 1 times\n",
      "The character are is repeated 2 times\n",
      "The character you is repeated 2 times\n",
      "The character hope is repeated 1 times\n",
      "The character fine is repeated 1 times\n"
     ]
    }
   ],
   "source": [
    "string = input('Enter String: ')\n",
    "str_dict = {}\n",
    "string = string.lower().split(\" \")\n",
    "for x in string:\n",
    "    if not x[-1].isalpha():\n",
    "        x = x.split(x[-1])\n",
    "        x = x[0]\n",
    "    if x not in str_dict:\n",
    "        str_dict[x] = 1\n",
    "    else:\n",
    "        str_dict[x] += 1\n",
    "\n",
    "for key,value in str_dict.items():\n",
    "    print('The character',key,'is repeated',value,'times')"
   ]
  },
  {
   "cell_type": "code",
   "execution_count": 30,
   "id": "acea1f7e",
   "metadata": {},
   "outputs": [],
   "source": [
    "x = 'you, fine'"
   ]
  },
  {
   "cell_type": "code",
   "execution_count": 31,
   "id": "0c00d7dc",
   "metadata": {},
   "outputs": [
    {
     "data": {
      "text/plain": [
       "'you fine'"
      ]
     },
     "execution_count": 31,
     "metadata": {},
     "output_type": "execute_result"
    }
   ],
   "source": [
    "x.replace(\",\",\"\")"
   ]
  },
  {
   "cell_type": "code",
   "execution_count": 33,
   "id": "2dcbe22d",
   "metadata": {},
   "outputs": [
    {
     "data": {
      "text/plain": [
       "'you,'"
      ]
     },
     "execution_count": 33,
     "metadata": {},
     "output_type": "execute_result"
    }
   ],
   "source": [
    "x = 'you,'\n",
    "x.replace(',',\" \")\n",
    "x"
   ]
  },
  {
   "cell_type": "code",
   "execution_count": null,
   "id": "6730b4f2",
   "metadata": {},
   "outputs": [],
   "source": []
  }
 ],
 "metadata": {
  "kernelspec": {
   "display_name": "Python 3 (ipykernel)",
   "language": "python",
   "name": "python3"
  },
  "language_info": {
   "codemirror_mode": {
    "name": "ipython",
    "version": 3
   },
   "file_extension": ".py",
   "mimetype": "text/x-python",
   "name": "python",
   "nbconvert_exporter": "python",
   "pygments_lexer": "ipython3",
   "version": "3.9.13"
  },
  "latex_envs": {
   "LaTeX_envs_menu_present": true,
   "autoclose": false,
   "autocomplete": true,
   "bibliofile": "biblio.bib",
   "cite_by": "apalike",
   "current_citInitial": 1,
   "eqLabelWithNumbers": true,
   "eqNumInitial": 1,
   "hotkeys": {
    "equation": "Ctrl-E",
    "itemize": "Ctrl-I"
   },
   "labels_anchors": false,
   "latex_user_defs": false,
   "report_style_numbering": false,
   "user_envs_cfg": false
  }
 },
 "nbformat": 4,
 "nbformat_minor": 5
}
