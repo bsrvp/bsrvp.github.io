{
 "cells": [
  {
   "cell_type": "markdown",
   "id": "822a3478",
   "metadata": {},
   "source": [
    "## List Comprehension in Python\n",
    "\n",
    "List comprehension offers a shorter syntax when you want to create a new list based on the values of an existing list.\n",
    "\n",
    "Syntax:\n",
    "```python\n",
    "listcomp = [expression for item in iterable]\n",
    "```\n",
    "\n",
    "The above code produces the output similar to\n",
    "```python\n",
    "listcomp=[]\n",
    "for item in iterable:\n",
    "    listcomp.append(expression)\n",
    "```\n",
    "\n",
    "List comprehension with an if condition:\n",
    "```python\n",
    "listcomp = [expression for item in iterable if condition == True]\n",
    "```\n",
    "\n",
    "The above code produces the output similar to\n",
    "```python\n",
    "listcomp =[]\n",
    "for item in iterable:\n",
    "    if condition == True:\n",
    "        listcomp.append(expression)\n",
    "```\n",
    "\n",
    "To produce a list comprehension similiar to\n",
    "```python\n",
    "listcomp =[]\n",
    "for item in iterable:\n",
    "    if condition == True:\n",
    "        listcomp.append(expression1)\n",
    "    else:\n",
    "        listcomp.append(expression2)\n",
    "```\n",
    "one need to use the following list comprehension syntax:\n",
    "List comprehension with an if condition:\n",
    "```python\n",
    "listcomp = [expression1 if condition == True else expression2 for item in iterable]\n",
    "```"
   ]
  },
  {
   "cell_type": "markdown",
   "id": "391f0707",
   "metadata": {},
   "source": [
    "## List Comprehension Examples\n",
    "\n",
    "### Generating the lists $$S = \\{0,1,4,9,16,25,36,49,64,81\\} = \\{n^2 : n \\in [0,9]\\}$$ $$V = \\{1,2,4,8,16,32,64,128,256,512,1024,2048,4096\\} = \\{2^n : n \\in [0,12]\\}$$ $$M = \\{0,4,16,36,64\\} = \\{x \\in S: x\\%2 = 0 \\}$$ $$M_1 = \\{0, 0.5, 4, 4.5, 16, 12.5, 36, 24.5, 64, 40.5\\} = \\{x \\in S ~{\\rm if }~ x\\%2 = 0 or x/2~ {\\rm if }~ x\\%2 \\neq 0\\}$$\n"
   ]
  },
  {
   "cell_type": "code",
   "execution_count": 1,
   "id": "49918886",
   "metadata": {},
   "outputs": [
    {
     "name": "stdout",
     "output_type": "stream",
     "text": [
      "[0, 1, 4, 9, 16, 25, 36, 49, 64, 81]\n"
     ]
    }
   ],
   "source": [
    "S = []\n",
    "for x in range(10):\n",
    "    S.append(x**2)\n",
    "print(S)"
   ]
  },
  {
   "cell_type": "code",
   "execution_count": 2,
   "id": "265d1b7b",
   "metadata": {},
   "outputs": [
    {
     "name": "stdout",
     "output_type": "stream",
     "text": [
      "[1, 2, 4, 8, 16, 32, 64, 128, 256, 512, 1024, 2048, 4096]\n"
     ]
    }
   ],
   "source": [
    "V = []\n",
    "for x in range(13):\n",
    "    V.append(2**x)\n",
    "print(V)"
   ]
  },
  {
   "cell_type": "code",
   "execution_count": 3,
   "id": "01ffebe4",
   "metadata": {},
   "outputs": [
    {
     "name": "stdout",
     "output_type": "stream",
     "text": [
      "[0, 4, 16, 36, 64]\n"
     ]
    }
   ],
   "source": [
    "M = []\n",
    "for x in S:\n",
    "    if x%2 == 0:\n",
    "        M.append(x)\n",
    "print(M)"
   ]
  },
  {
   "cell_type": "code",
   "execution_count": 4,
   "id": "8d7778d2",
   "metadata": {},
   "outputs": [
    {
     "name": "stdout",
     "output_type": "stream",
     "text": [
      "[0, 4, 16, 36, 64, 0, 0.5, 4, 4.5, 16, 12.5, 36, 24.5, 64, 40.5]\n"
     ]
    }
   ],
   "source": [
    "M1 = []\n",
    "for x in S:\n",
    "    if x%2 == 0:\n",
    "        M.append(x)\n",
    "    else:\n",
    "        M.append(x/2)\n",
    "print(M)"
   ]
  },
  {
   "cell_type": "markdown",
   "id": "ef3c0d3f",
   "metadata": {},
   "source": [
    "### List Comprehsion way"
   ]
  },
  {
   "cell_type": "code",
   "execution_count": 5,
   "id": "88f259a0",
   "metadata": {},
   "outputs": [
    {
     "name": "stdout",
     "output_type": "stream",
     "text": [
      "[0, 1, 4, 9, 16, 25, 36, 49, 64, 81]\n"
     ]
    }
   ],
   "source": [
    "S = [x**2 for x in range(10)]\n",
    "print(S)"
   ]
  },
  {
   "cell_type": "code",
   "execution_count": 6,
   "id": "19604198",
   "metadata": {},
   "outputs": [
    {
     "name": "stdout",
     "output_type": "stream",
     "text": [
      "[1, 2, 4, 8, 16, 32, 64, 128, 256, 512, 1024, 2048, 4096]\n"
     ]
    }
   ],
   "source": [
    "V = [2**x for x in range(13)]\n",
    "print(V)"
   ]
  },
  {
   "cell_type": "code",
   "execution_count": 7,
   "id": "6d44b3b3",
   "metadata": {},
   "outputs": [
    {
     "name": "stdout",
     "output_type": "stream",
     "text": [
      "[0, 4, 16, 36, 64]\n"
     ]
    }
   ],
   "source": [
    "M = [x for x in S if x%2 == 0]\n",
    "print(M)"
   ]
  },
  {
   "cell_type": "code",
   "execution_count": 8,
   "id": "3ae57078",
   "metadata": {},
   "outputs": [
    {
     "name": "stdout",
     "output_type": "stream",
     "text": [
      "[0, 0.5, 4, 4.5, 16, 12.5, 36, 24.5, 64, 40.5]\n"
     ]
    }
   ],
   "source": [
    "M1 = [x if x%2 == 0 else x/2 for x in S]\n",
    "print(M1)"
   ]
  },
  {
   "cell_type": "markdown",
   "id": "8c5bc18d",
   "metadata": {},
   "source": [
    "## Dictionary Comprenshion"
   ]
  },
  {
   "cell_type": "code",
   "execution_count": 9,
   "id": "8c874f4c",
   "metadata": {},
   "outputs": [
    {
     "name": "stdout",
     "output_type": "stream",
     "text": [
      "{0: 0, 1: 1, 2: 4, 3: 9, 4: 16, 5: 25, 6: 36, 7: 49, 8: 64, 9: 81}\n"
     ]
    }
   ],
   "source": [
    "S = {x:x**2 for x in range(10)}\n",
    "print(S)"
   ]
  },
  {
   "cell_type": "markdown",
   "id": "225f3e7b",
   "metadata": {},
   "source": [
    "## List Comprehension to generate a list of lists\n",
    "\n",
    "### Let us consider the example of generating the matrix $$ M = \\begin{bmatrix} 1 & 2 & 3 & 4\\\\5 & 6 & 7 & 8\\\\9 & 10 & 11 & 12\\\\13 & 14 & 15 & 16\\end{bmatrix} $$\n",
    "\n",
    "Hint: Observe that $(m_{i_j}) = (4i+j)$ where $i \\in [0,1,2,3]$ and $j \\in [1,2,3,4]$"
   ]
  },
  {
   "cell_type": "code",
   "execution_count": 10,
   "id": "069b74a3",
   "metadata": {},
   "outputs": [
    {
     "name": "stdout",
     "output_type": "stream",
     "text": [
      "[[1, 2, 3, 4], [5, 6, 7, 8], [9, 10, 11, 12], [13, 14, 15, 16]]\n"
     ]
    }
   ],
   "source": [
    "M = []\n",
    "for i in range(4):\n",
    "    M.append([])\n",
    "    for j in range(1,5):\n",
    "        M[i].append(4*i+j)\n",
    "print(M)"
   ]
  },
  {
   "cell_type": "markdown",
   "id": "e4c05ae6",
   "metadata": {},
   "source": [
    "#### List Comprehension Way"
   ]
  },
  {
   "cell_type": "code",
   "execution_count": 11,
   "id": "4f2c331f",
   "metadata": {},
   "outputs": [
    {
     "name": "stdout",
     "output_type": "stream",
     "text": [
      "[[1, 2, 3, 4], [5, 6, 7, 8], [9, 10, 11, 12], [13, 14, 15, 16]]\n"
     ]
    }
   ],
   "source": [
    "ML = [[4*i+j for j in range(1,5)] for i in range(4)]\n",
    "print(ML)"
   ]
  },
  {
   "cell_type": "markdown",
   "id": "87e766b8",
   "metadata": {},
   "source": [
    "### Let us consider the example of generating the matrix $$ M = \\begin{bmatrix} 2 & 4\\\\6 & 8\\\\10 & 12\\\\14 & 16\\end{bmatrix} $$\n",
    "\n",
    "Hint: Use the logic that $(m_{i_j}) = (4i+j)~{\\rm where}~i \\in [0,1,2,3]~{\\rm and}~ j \\in [1,2,3,4]~{\\rm with}~ j\\%2 == 0$"
   ]
  },
  {
   "cell_type": "code",
   "execution_count": 12,
   "id": "0d87406e",
   "metadata": {},
   "outputs": [
    {
     "name": "stdout",
     "output_type": "stream",
     "text": [
      "[[2, 4], [6, 8], [10, 12], [14, 16]]\n"
     ]
    }
   ],
   "source": [
    "M = []\n",
    "for i in range(4):\n",
    "    M.append([]) \n",
    "    for j in range(1,5):\n",
    "        if j%2 == 0:\n",
    "            M[i].append(4*i+j)\n",
    "print(M)"
   ]
  },
  {
   "cell_type": "markdown",
   "id": "6553eb53",
   "metadata": {},
   "source": [
    "### Let us consider the example of generating the matrix $$ M = \\begin{bmatrix} -1 & 2 & -1 & 4\\\\-1 & 6 & -1 & 8\\\\-1 & 10 & -1 & 12\\\\-1 & 14 & -1 & 16\\end{bmatrix} $$\n",
    "\n",
    "Hint: Observe that $(m_{i_j}) = \\begin{cases} (4i+j)~{\\rm where}~i \\in [0,1,2,3]~{\\rm and}~ j \\in [2,4] \\\\ -1~{\\rm where}~i \\in[0,1,2,3]~{\\rm and}~j \\in [1,3]\\end{cases}$."
   ]
  },
  {
   "cell_type": "code",
   "execution_count": 13,
   "id": "7c8b9870",
   "metadata": {},
   "outputs": [
    {
     "name": "stdout",
     "output_type": "stream",
     "text": [
      "[[-1, 2, -1, 4], [-1, 6, -1, 8], [-1, 10, -1, 12], [-1, 14, -1, 16]]\n"
     ]
    }
   ],
   "source": [
    "M = []\n",
    "for i in range(4):\n",
    "    M.append([])\n",
    "    for j in range(1,5):\n",
    "        if j%2 == 0:\n",
    "            M[i].append(4*i+j)\n",
    "        else:\n",
    "            M[i].append(-1)\n",
    "print(M)"
   ]
  },
  {
   "cell_type": "code",
   "execution_count": 14,
   "id": "3031fee3",
   "metadata": {},
   "outputs": [
    {
     "name": "stdout",
     "output_type": "stream",
     "text": [
      "[[-1, 2, -1, 4], [-1, 6, -1, 8], [-1, 10, -1, 12], [-1, 14, -1, 16]]\n"
     ]
    }
   ],
   "source": [
    "M = [[4*i+j if j%2 == 0 else -1 for j in range(1,5)] for i in range(4)]\n",
    "print(M)"
   ]
  },
  {
   "cell_type": "markdown",
   "id": "dd544e9e",
   "metadata": {},
   "source": [
    "### Verifying a whether a given number is an Armstrong number or not using List Comprehension"
   ]
  },
  {
   "cell_type": "code",
   "execution_count": 15,
   "id": "8617184a",
   "metadata": {},
   "outputs": [
    {
     "name": "stdout",
     "output_type": "stream",
     "text": [
      "Enter the number: 153\n",
      "The given number is Armstrong\n"
     ]
    }
   ],
   "source": [
    "N = input('Enter the number: ')\n",
    "digitsum = sum([int(d)**3 for d in N])\n",
    "if int(N)==digitsum:\n",
    "    print('The given number is Armstrong')\n",
    "else:\n",
    "    print('The given number is not Armstrong')"
   ]
  },
  {
   "cell_type": "markdown",
   "id": "860bf2ba",
   "metadata": {},
   "source": [
    "### Verifying a whether a given number is a Disarium number or not using List Comprehension"
   ]
  },
  {
   "cell_type": "code",
   "execution_count": 16,
   "id": "c147eb7d",
   "metadata": {},
   "outputs": [
    {
     "name": "stdout",
     "output_type": "stream",
     "text": [
      "Enter the number: 135\n",
      "The given number is Disarium\n"
     ]
    }
   ],
   "source": [
    "N = int(input('Enter the number: '))\n",
    "disariumsum = sum([int(str(N)[i])**(i+1) for i in range(len(str(N)))])\n",
    "if N==disariumsum:\n",
    "    print('The given number is Disarium')\n",
    "else:\n",
    "    print('The given number is not Disarium')"
   ]
  },
  {
   "cell_type": "markdown",
   "id": "c0ad8b5e",
   "metadata": {},
   "source": [
    "### Verifying a whether a given number is Abundant number or not using List Comprehension"
   ]
  },
  {
   "cell_type": "code",
   "execution_count": 17,
   "id": "626ea51b",
   "metadata": {},
   "outputs": [
    {
     "name": "stdout",
     "output_type": "stream",
     "text": [
      "Enter the number24\n",
      "Proper Divisors are:  [2, 3, 4, 6, 8, 12]\n",
      "The given number is Abundant\n"
     ]
    }
   ],
   "source": [
    "N = int(input('Enter the number'))\n",
    "properdivisors = [d for d in range(2,N//2+1) if N%d == 0]\n",
    "print('Proper Divisors are: ',properdivisors)\n",
    "if sum(properdivisors) > N:\n",
    "    print('The given number is Abundant')\n",
    "else:\n",
    "    print('The given number is not Abundant')"
   ]
  }
 ],
 "metadata": {
  "kernelspec": {
   "display_name": "Python 3 (ipykernel)",
   "language": "python",
   "name": "python3"
  },
  "language_info": {
   "codemirror_mode": {
    "name": "ipython",
    "version": 3
   },
   "file_extension": ".py",
   "mimetype": "text/x-python",
   "name": "python",
   "nbconvert_exporter": "python",
   "pygments_lexer": "ipython3",
   "version": "3.9.13"
  },
  "latex_envs": {
   "LaTeX_envs_menu_present": true,
   "autoclose": false,
   "autocomplete": true,
   "bibliofile": "biblio.bib",
   "cite_by": "apalike",
   "current_citInitial": 1,
   "eqLabelWithNumbers": true,
   "eqNumInitial": 1,
   "hotkeys": {
    "equation": "Ctrl-E",
    "itemize": "Ctrl-I"
   },
   "labels_anchors": false,
   "latex_user_defs": false,
   "report_style_numbering": false,
   "user_envs_cfg": false
  }
 },
 "nbformat": 4,
 "nbformat_minor": 5
}
