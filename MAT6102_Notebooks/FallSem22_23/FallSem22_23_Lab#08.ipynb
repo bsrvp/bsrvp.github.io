{
 "cells": [
  {
   "cell_type": "markdown",
   "id": "995172ad",
   "metadata": {},
   "source": [
    "### Python Data Collection"
   ]
  },
  {
   "cell_type": "markdown",
   "id": "5e15da91",
   "metadata": {},
   "source": [
    "#### Mutability of Lists"
   ]
  },
  {
   "cell_type": "code",
   "execution_count": 1,
   "id": "24a83ae2",
   "metadata": {},
   "outputs": [
    {
     "name": "stdout",
     "output_type": "stream",
     "text": [
      "True\n"
     ]
    }
   ],
   "source": [
    "m = [1,2,3]\n",
    "n = m\n",
    "print(id(n) == id(m))"
   ]
  },
  {
   "cell_type": "code",
   "execution_count": 2,
   "id": "b1706e62",
   "metadata": {},
   "outputs": [
    {
     "data": {
      "text/plain": [
       "[1, 2, 3]"
      ]
     },
     "execution_count": 2,
     "metadata": {},
     "output_type": "execute_result"
    }
   ],
   "source": [
    "n"
   ]
  },
  {
   "cell_type": "code",
   "execution_count": 3,
   "id": "7837a516",
   "metadata": {},
   "outputs": [
    {
     "data": {
      "text/plain": [
       "3"
      ]
     },
     "execution_count": 3,
     "metadata": {},
     "output_type": "execute_result"
    }
   ],
   "source": [
    "n.pop()"
   ]
  },
  {
   "cell_type": "code",
   "execution_count": 4,
   "id": "d884e96f",
   "metadata": {},
   "outputs": [
    {
     "data": {
      "text/plain": [
       "[1, 2]"
      ]
     },
     "execution_count": 4,
     "metadata": {},
     "output_type": "execute_result"
    }
   ],
   "source": [
    "n"
   ]
  },
  {
   "cell_type": "code",
   "execution_count": 5,
   "id": "dce67eca",
   "metadata": {},
   "outputs": [
    {
     "data": {
      "text/plain": [
       "[1, 2]"
      ]
     },
     "execution_count": 5,
     "metadata": {},
     "output_type": "execute_result"
    }
   ],
   "source": [
    "m"
   ]
  },
  {
   "cell_type": "code",
   "execution_count": 6,
   "id": "3b052caa",
   "metadata": {},
   "outputs": [
    {
     "data": {
      "text/plain": [
       "True"
      ]
     },
     "execution_count": 6,
     "metadata": {},
     "output_type": "execute_result"
    }
   ],
   "source": [
    "id(m) == id(n)"
   ]
  },
  {
   "cell_type": "code",
   "execution_count": 7,
   "id": "7c4820a5",
   "metadata": {},
   "outputs": [],
   "source": [
    "m.append(6)"
   ]
  },
  {
   "cell_type": "code",
   "execution_count": 8,
   "id": "3c9d62f9",
   "metadata": {},
   "outputs": [
    {
     "data": {
      "text/plain": [
       "[1, 2, 6]"
      ]
     },
     "execution_count": 8,
     "metadata": {},
     "output_type": "execute_result"
    }
   ],
   "source": [
    "m"
   ]
  },
  {
   "cell_type": "code",
   "execution_count": 9,
   "id": "677a97f5",
   "metadata": {},
   "outputs": [
    {
     "data": {
      "text/plain": [
       "[1, 2, 6]"
      ]
     },
     "execution_count": 9,
     "metadata": {},
     "output_type": "execute_result"
    }
   ],
   "source": [
    "n"
   ]
  },
  {
   "cell_type": "code",
   "execution_count": 10,
   "id": "f5121acb",
   "metadata": {},
   "outputs": [
    {
     "data": {
      "text/plain": [
       "True"
      ]
     },
     "execution_count": 10,
     "metadata": {},
     "output_type": "execute_result"
    }
   ],
   "source": [
    "id(m) == id(n)"
   ]
  },
  {
   "cell_type": "code",
   "execution_count": 11,
   "id": "449176ad",
   "metadata": {},
   "outputs": [
    {
     "data": {
      "text/plain": [
       "1973927373392"
      ]
     },
     "execution_count": 11,
     "metadata": {},
     "output_type": "execute_result"
    }
   ],
   "source": [
    "x = 10\n",
    "id(x)"
   ]
  },
  {
   "cell_type": "code",
   "execution_count": 12,
   "id": "bf708db9",
   "metadata": {},
   "outputs": [],
   "source": [
    "x = x+1"
   ]
  },
  {
   "cell_type": "code",
   "execution_count": 13,
   "id": "13d0c8ae",
   "metadata": {},
   "outputs": [
    {
     "data": {
      "text/plain": [
       "1973927373424"
      ]
     },
     "execution_count": 13,
     "metadata": {},
     "output_type": "execute_result"
    }
   ],
   "source": [
    "id(x)"
   ]
  },
  {
   "cell_type": "code",
   "execution_count": 14,
   "id": "6e481fb9",
   "metadata": {},
   "outputs": [
    {
     "data": {
      "text/plain": [
       "1973927373392"
      ]
     },
     "execution_count": 14,
     "metadata": {},
     "output_type": "execute_result"
    }
   ],
   "source": [
    "id(10)"
   ]
  },
  {
   "cell_type": "code",
   "execution_count": 15,
   "id": "7be3721a",
   "metadata": {},
   "outputs": [
    {
     "data": {
      "text/plain": [
       "[1, 2, 6]"
      ]
     },
     "execution_count": 15,
     "metadata": {},
     "output_type": "execute_result"
    }
   ],
   "source": [
    "m"
   ]
  },
  {
   "cell_type": "code",
   "execution_count": 16,
   "id": "5b660353",
   "metadata": {},
   "outputs": [],
   "source": [
    "m[1] = 10"
   ]
  },
  {
   "cell_type": "code",
   "execution_count": 17,
   "id": "36b6030c",
   "metadata": {},
   "outputs": [
    {
     "data": {
      "text/plain": [
       "[1, 10, 6]"
      ]
     },
     "execution_count": 17,
     "metadata": {},
     "output_type": "execute_result"
    }
   ],
   "source": [
    "m"
   ]
  },
  {
   "cell_type": "code",
   "execution_count": 18,
   "id": "57233c11",
   "metadata": {},
   "outputs": [
    {
     "data": {
      "text/plain": [
       "1973988644736"
      ]
     },
     "execution_count": 18,
     "metadata": {},
     "output_type": "execute_result"
    }
   ],
   "source": [
    "id(m)"
   ]
  },
  {
   "cell_type": "code",
   "execution_count": 19,
   "id": "1e2ae6bd",
   "metadata": {},
   "outputs": [],
   "source": [
    "m[1] = 20"
   ]
  },
  {
   "cell_type": "code",
   "execution_count": 20,
   "id": "c284072a",
   "metadata": {},
   "outputs": [
    {
     "data": {
      "text/plain": [
       "1973988644736"
      ]
     },
     "execution_count": 20,
     "metadata": {},
     "output_type": "execute_result"
    }
   ],
   "source": [
    "id(m)"
   ]
  },
  {
   "cell_type": "code",
   "execution_count": 21,
   "id": "ebac9891",
   "metadata": {},
   "outputs": [
    {
     "data": {
      "text/plain": [
       "[1, 20, 6]"
      ]
     },
     "execution_count": 21,
     "metadata": {},
     "output_type": "execute_result"
    }
   ],
   "source": [
    "m"
   ]
  },
  {
   "cell_type": "code",
   "execution_count": 22,
   "id": "d4eed485",
   "metadata": {},
   "outputs": [],
   "source": [
    "m.append(7)"
   ]
  },
  {
   "cell_type": "code",
   "execution_count": 23,
   "id": "0eba15a7",
   "metadata": {},
   "outputs": [
    {
     "data": {
      "text/plain": [
       "[1, 20, 6, 7]"
      ]
     },
     "execution_count": 23,
     "metadata": {},
     "output_type": "execute_result"
    }
   ],
   "source": [
    "m"
   ]
  },
  {
   "cell_type": "code",
   "execution_count": 24,
   "id": "7c01641c",
   "metadata": {},
   "outputs": [],
   "source": [
    "m.extend([8,9,10])"
   ]
  },
  {
   "cell_type": "code",
   "execution_count": 25,
   "id": "40e887d1",
   "metadata": {},
   "outputs": [
    {
     "data": {
      "text/plain": [
       "[1, 20, 6, 7, 8, 9, 10]"
      ]
     },
     "execution_count": 25,
     "metadata": {},
     "output_type": "execute_result"
    }
   ],
   "source": [
    "m"
   ]
  },
  {
   "cell_type": "code",
   "execution_count": 26,
   "id": "fc598512",
   "metadata": {},
   "outputs": [],
   "source": [
    "m.append([12,13,15])"
   ]
  },
  {
   "cell_type": "code",
   "execution_count": 27,
   "id": "dfd439bd",
   "metadata": {},
   "outputs": [
    {
     "data": {
      "text/plain": [
       "[1, 20, 6, 7, 8, 9, 10, [12, 13, 15]]"
      ]
     },
     "execution_count": 27,
     "metadata": {},
     "output_type": "execute_result"
    }
   ],
   "source": [
    "m"
   ]
  },
  {
   "cell_type": "code",
   "execution_count": 28,
   "id": "429b9e92",
   "metadata": {},
   "outputs": [
    {
     "data": {
      "text/plain": [
       "[12, 13, 15]"
      ]
     },
     "execution_count": 28,
     "metadata": {},
     "output_type": "execute_result"
    }
   ],
   "source": [
    "m[7]"
   ]
  },
  {
   "cell_type": "code",
   "execution_count": 29,
   "id": "105cb178",
   "metadata": {},
   "outputs": [
    {
     "data": {
      "text/plain": [
       "12"
      ]
     },
     "execution_count": 29,
     "metadata": {},
     "output_type": "execute_result"
    }
   ],
   "source": [
    "m[7][0]"
   ]
  },
  {
   "cell_type": "code",
   "execution_count": 30,
   "id": "42d0f76a",
   "metadata": {},
   "outputs": [],
   "source": [
    "m.append('Hello')"
   ]
  },
  {
   "cell_type": "code",
   "execution_count": 31,
   "id": "f6c3ad80",
   "metadata": {},
   "outputs": [
    {
     "data": {
      "text/plain": [
       "[1, 20, 6, 7, 8, 9, 10, [12, 13, 15], 'Hello']"
      ]
     },
     "execution_count": 31,
     "metadata": {},
     "output_type": "execute_result"
    }
   ],
   "source": [
    "m"
   ]
  },
  {
   "cell_type": "code",
   "execution_count": 32,
   "id": "d66b2490",
   "metadata": {},
   "outputs": [
    {
     "data": {
      "text/plain": [
       "'e'"
      ]
     },
     "execution_count": 32,
     "metadata": {},
     "output_type": "execute_result"
    }
   ],
   "source": [
    "m[8][1]"
   ]
  },
  {
   "cell_type": "code",
   "execution_count": 33,
   "id": "29496c33",
   "metadata": {},
   "outputs": [
    {
     "data": {
      "text/plain": [
       "[1, 20, 6, 7, 8, 9, 10, [12, 13, 15], 'Hello']"
      ]
     },
     "execution_count": 33,
     "metadata": {},
     "output_type": "execute_result"
    }
   ],
   "source": [
    "m"
   ]
  },
  {
   "cell_type": "code",
   "execution_count": 34,
   "id": "9b3927f1",
   "metadata": {},
   "outputs": [
    {
     "data": {
      "text/plain": [
       "True"
      ]
     },
     "execution_count": 34,
     "metadata": {},
     "output_type": "execute_result"
    }
   ],
   "source": [
    "20 in m"
   ]
  },
  {
   "cell_type": "code",
   "execution_count": 35,
   "id": "22a2a02e",
   "metadata": {},
   "outputs": [
    {
     "data": {
      "text/plain": [
       "False"
      ]
     },
     "execution_count": 35,
     "metadata": {},
     "output_type": "execute_result"
    }
   ],
   "source": [
    "30 in m"
   ]
  },
  {
   "cell_type": "code",
   "execution_count": 36,
   "id": "7d67ca08",
   "metadata": {},
   "outputs": [
    {
     "data": {
      "text/plain": [
       "False"
      ]
     },
     "execution_count": 36,
     "metadata": {},
     "output_type": "execute_result"
    }
   ],
   "source": [
    "'e' in m"
   ]
  },
  {
   "cell_type": "code",
   "execution_count": 37,
   "id": "e428c2cb",
   "metadata": {},
   "outputs": [
    {
     "data": {
      "text/plain": [
       "True"
      ]
     },
     "execution_count": 37,
     "metadata": {},
     "output_type": "execute_result"
    }
   ],
   "source": [
    "'e' in m[8]"
   ]
  },
  {
   "cell_type": "code",
   "execution_count": 38,
   "id": "fd9ca6e6",
   "metadata": {},
   "outputs": [],
   "source": [
    "m1 = m.copy()"
   ]
  },
  {
   "cell_type": "code",
   "execution_count": 39,
   "id": "351872cc",
   "metadata": {},
   "outputs": [],
   "source": [
    "m1.clear()"
   ]
  },
  {
   "cell_type": "code",
   "execution_count": 40,
   "id": "f220ef54",
   "metadata": {},
   "outputs": [
    {
     "data": {
      "text/plain": [
       "[]"
      ]
     },
     "execution_count": 40,
     "metadata": {},
     "output_type": "execute_result"
    }
   ],
   "source": [
    "m1"
   ]
  },
  {
   "cell_type": "code",
   "execution_count": 41,
   "id": "846eee0f",
   "metadata": {},
   "outputs": [
    {
     "data": {
      "text/plain": [
       "[1, 20, 6, 7, 8, 9, 10, [12, 13, 15], 'Hello']"
      ]
     },
     "execution_count": 41,
     "metadata": {},
     "output_type": "execute_result"
    }
   ],
   "source": [
    "m"
   ]
  },
  {
   "cell_type": "code",
   "execution_count": 42,
   "id": "7dc485f4",
   "metadata": {},
   "outputs": [
    {
     "data": {
      "text/plain": [
       "[1, 20, 6, 7, 8, 9, 10, [12, 13, 15], 'Hello']"
      ]
     },
     "execution_count": 42,
     "metadata": {},
     "output_type": "execute_result"
    }
   ],
   "source": [
    "n"
   ]
  },
  {
   "cell_type": "code",
   "execution_count": 43,
   "id": "ce02786a",
   "metadata": {},
   "outputs": [
    {
     "data": {
      "text/plain": [
       "1"
      ]
     },
     "execution_count": 43,
     "metadata": {},
     "output_type": "execute_result"
    }
   ],
   "source": [
    "n.count(1)"
   ]
  },
  {
   "cell_type": "code",
   "execution_count": 44,
   "id": "a9440c23",
   "metadata": {},
   "outputs": [],
   "source": [
    "n.append(1)"
   ]
  },
  {
   "cell_type": "code",
   "execution_count": 45,
   "id": "1b2648c0",
   "metadata": {},
   "outputs": [
    {
     "data": {
      "text/plain": [
       "2"
      ]
     },
     "execution_count": 45,
     "metadata": {},
     "output_type": "execute_result"
    }
   ],
   "source": [
    "n.count(1)"
   ]
  },
  {
   "cell_type": "code",
   "execution_count": 46,
   "id": "37a697ba",
   "metadata": {},
   "outputs": [
    {
     "data": {
      "text/plain": [
       "0"
      ]
     },
     "execution_count": 46,
     "metadata": {},
     "output_type": "execute_result"
    }
   ],
   "source": [
    "n.index(1)"
   ]
  },
  {
   "cell_type": "code",
   "execution_count": 47,
   "id": "d836e775",
   "metadata": {},
   "outputs": [
    {
     "data": {
      "text/plain": [
       "[1, 20, 6, 7, 8, 9, 10, [12, 13, 15], 'Hello', 1]"
      ]
     },
     "execution_count": 47,
     "metadata": {},
     "output_type": "execute_result"
    }
   ],
   "source": [
    "n"
   ]
  },
  {
   "cell_type": "code",
   "execution_count": 48,
   "id": "9c0c45b9",
   "metadata": {},
   "outputs": [],
   "source": [
    "n.insert(2,3)"
   ]
  },
  {
   "cell_type": "code",
   "execution_count": 49,
   "id": "5f0002ed",
   "metadata": {},
   "outputs": [
    {
     "data": {
      "text/plain": [
       "[1, 20, 3, 6, 7, 8, 9, 10, [12, 13, 15], 'Hello', 1]"
      ]
     },
     "execution_count": 49,
     "metadata": {},
     "output_type": "execute_result"
    }
   ],
   "source": [
    "n"
   ]
  },
  {
   "cell_type": "code",
   "execution_count": 50,
   "id": "9e701a3d",
   "metadata": {},
   "outputs": [],
   "source": [
    "n.insert(3,'Hi')"
   ]
  },
  {
   "cell_type": "code",
   "execution_count": 51,
   "id": "6713c231",
   "metadata": {},
   "outputs": [
    {
     "data": {
      "text/plain": [
       "[1, 20, 3, 'Hi', 6, 7, 8, 9, 10, [12, 13, 15], 'Hello', 1]"
      ]
     },
     "execution_count": 51,
     "metadata": {},
     "output_type": "execute_result"
    }
   ],
   "source": [
    "n"
   ]
  },
  {
   "cell_type": "code",
   "execution_count": 52,
   "id": "3cbd48c1",
   "metadata": {},
   "outputs": [
    {
     "data": {
      "text/plain": [
       "1"
      ]
     },
     "execution_count": 52,
     "metadata": {},
     "output_type": "execute_result"
    }
   ],
   "source": [
    "m.pop()"
   ]
  },
  {
   "cell_type": "code",
   "execution_count": 53,
   "id": "1e285ce3",
   "metadata": {},
   "outputs": [
    {
     "data": {
      "text/plain": [
       "[1, 20, 3, 'Hi', 6, 7, 8, 9, 10, [12, 13, 15], 'Hello']"
      ]
     },
     "execution_count": 53,
     "metadata": {},
     "output_type": "execute_result"
    }
   ],
   "source": [
    "m"
   ]
  },
  {
   "cell_type": "code",
   "execution_count": 54,
   "id": "608cd149",
   "metadata": {},
   "outputs": [
    {
     "data": {
      "text/plain": [
       "'Hello'"
      ]
     },
     "execution_count": 54,
     "metadata": {},
     "output_type": "execute_result"
    }
   ],
   "source": [
    "m.pop()"
   ]
  },
  {
   "cell_type": "code",
   "execution_count": 55,
   "id": "fc8615e9",
   "metadata": {},
   "outputs": [
    {
     "data": {
      "text/plain": [
       "3"
      ]
     },
     "execution_count": 55,
     "metadata": {},
     "output_type": "execute_result"
    }
   ],
   "source": [
    "m.pop(2)"
   ]
  },
  {
   "cell_type": "code",
   "execution_count": 56,
   "id": "22e894c4",
   "metadata": {},
   "outputs": [
    {
     "data": {
      "text/plain": [
       "[1, 20, 'Hi', 6, 7, 8, 9, 10, [12, 13, 15]]"
      ]
     },
     "execution_count": 56,
     "metadata": {},
     "output_type": "execute_result"
    }
   ],
   "source": [
    "m"
   ]
  },
  {
   "cell_type": "code",
   "execution_count": 57,
   "id": "6ea00ae0",
   "metadata": {},
   "outputs": [],
   "source": [
    "m.remove('Hi')"
   ]
  },
  {
   "cell_type": "code",
   "execution_count": 58,
   "id": "cc65aa2c",
   "metadata": {},
   "outputs": [
    {
     "data": {
      "text/plain": [
       "[1, 20, 6, 7, 8, 9, 10, [12, 13, 15]]"
      ]
     },
     "execution_count": 58,
     "metadata": {},
     "output_type": "execute_result"
    }
   ],
   "source": [
    "m"
   ]
  },
  {
   "cell_type": "code",
   "execution_count": 59,
   "id": "d6a7f9b2",
   "metadata": {},
   "outputs": [],
   "source": [
    "m.insert(2,'Hi')"
   ]
  },
  {
   "cell_type": "code",
   "execution_count": 60,
   "id": "cf459626",
   "metadata": {},
   "outputs": [],
   "source": [
    "m.insert(5,'Hi')"
   ]
  },
  {
   "cell_type": "code",
   "execution_count": 61,
   "id": "bba74e7d",
   "metadata": {},
   "outputs": [
    {
     "data": {
      "text/plain": [
       "[1, 20, 'Hi', 6, 7, 'Hi', 8, 9, 10, [12, 13, 15]]"
      ]
     },
     "execution_count": 61,
     "metadata": {},
     "output_type": "execute_result"
    }
   ],
   "source": [
    "m"
   ]
  },
  {
   "cell_type": "code",
   "execution_count": 62,
   "id": "5150a5b6",
   "metadata": {},
   "outputs": [],
   "source": [
    "m.remove('Hi')"
   ]
  },
  {
   "cell_type": "code",
   "execution_count": 63,
   "id": "4a2584e7",
   "metadata": {},
   "outputs": [
    {
     "data": {
      "text/plain": [
       "[1, 20, 6, 7, 'Hi', 8, 9, 10, [12, 13, 15]]"
      ]
     },
     "execution_count": 63,
     "metadata": {},
     "output_type": "execute_result"
    }
   ],
   "source": [
    "m"
   ]
  },
  {
   "cell_type": "code",
   "execution_count": 64,
   "id": "50b7148f",
   "metadata": {},
   "outputs": [],
   "source": [
    "m.reverse()"
   ]
  },
  {
   "cell_type": "code",
   "execution_count": 65,
   "id": "f74bba21",
   "metadata": {},
   "outputs": [
    {
     "data": {
      "text/plain": [
       "[[12, 13, 15], 10, 9, 8, 'Hi', 7, 6, 20, 1]"
      ]
     },
     "execution_count": 65,
     "metadata": {},
     "output_type": "execute_result"
    }
   ],
   "source": [
    "m"
   ]
  },
  {
   "cell_type": "code",
   "execution_count": 66,
   "id": "58609f1e",
   "metadata": {},
   "outputs": [],
   "source": [
    "T = (1,2,3)"
   ]
  },
  {
   "cell_type": "code",
   "execution_count": 67,
   "id": "7511cc19",
   "metadata": {},
   "outputs": [
    {
     "data": {
      "text/plain": [
       "1"
      ]
     },
     "execution_count": 67,
     "metadata": {},
     "output_type": "execute_result"
    }
   ],
   "source": [
    "T[0]"
   ]
  },
  {
   "cell_type": "code",
   "execution_count": 68,
   "id": "b3832d52",
   "metadata": {},
   "outputs": [
    {
     "data": {
      "text/plain": [
       "3"
      ]
     },
     "execution_count": 68,
     "metadata": {},
     "output_type": "execute_result"
    }
   ],
   "source": [
    "T[2]"
   ]
  },
  {
   "cell_type": "code",
   "execution_count": 69,
   "id": "9228c6dc",
   "metadata": {},
   "outputs": [
    {
     "data": {
      "text/plain": [
       "(1, 2, 3)"
      ]
     },
     "execution_count": 69,
     "metadata": {},
     "output_type": "execute_result"
    }
   ],
   "source": [
    "T"
   ]
  },
  {
   "cell_type": "code",
   "execution_count": 70,
   "id": "00200e27",
   "metadata": {},
   "outputs": [
    {
     "ename": "AttributeError",
     "evalue": "'tuple' object has no attribute 'append'",
     "output_type": "error",
     "traceback": [
      "\u001b[1;31m---------------------------------------------------------------------------\u001b[0m",
      "\u001b[1;31mAttributeError\u001b[0m                            Traceback (most recent call last)",
      "\u001b[1;32mC:\\Users\\BSRVPR~1\\AppData\\Local\\Temp/ipykernel_10432/2059392955.py\u001b[0m in \u001b[0;36m<module>\u001b[1;34m\u001b[0m\n\u001b[1;32m----> 1\u001b[1;33m \u001b[0mT\u001b[0m\u001b[1;33m.\u001b[0m\u001b[0mappend\u001b[0m\u001b[1;33m(\u001b[0m\u001b[1;36m4\u001b[0m\u001b[1;33m)\u001b[0m\u001b[1;33m\u001b[0m\u001b[1;33m\u001b[0m\u001b[0m\n\u001b[0m",
      "\u001b[1;31mAttributeError\u001b[0m: 'tuple' object has no attribute 'append'"
     ]
    }
   ],
   "source": [
    "T.append(4)"
   ]
  },
  {
   "cell_type": "code",
   "execution_count": 71,
   "id": "e076da8e",
   "metadata": {},
   "outputs": [
    {
     "ename": "TypeError",
     "evalue": "'tuple' object does not support item assignment",
     "output_type": "error",
     "traceback": [
      "\u001b[1;31m---------------------------------------------------------------------------\u001b[0m",
      "\u001b[1;31mTypeError\u001b[0m                                 Traceback (most recent call last)",
      "\u001b[1;32mC:\\Users\\BSRVPR~1\\AppData\\Local\\Temp/ipykernel_10432/3475123225.py\u001b[0m in \u001b[0;36m<module>\u001b[1;34m\u001b[0m\n\u001b[1;32m----> 1\u001b[1;33m \u001b[0mT\u001b[0m\u001b[1;33m[\u001b[0m\u001b[1;36m0\u001b[0m\u001b[1;33m]\u001b[0m \u001b[1;33m=\u001b[0m \u001b[1;36m2\u001b[0m\u001b[1;33m\u001b[0m\u001b[1;33m\u001b[0m\u001b[0m\n\u001b[0m",
      "\u001b[1;31mTypeError\u001b[0m: 'tuple' object does not support item assignment"
     ]
    }
   ],
   "source": [
    "T[0] = 2"
   ]
  },
  {
   "cell_type": "code",
   "execution_count": 72,
   "id": "486dd3ee",
   "metadata": {},
   "outputs": [
    {
     "name": "stdout",
     "output_type": "stream",
     "text": [
      "1974006295296\n",
      "1974006283904\n"
     ]
    }
   ],
   "source": [
    "T = list(T)\n",
    "print(id(T))\n",
    "T[0] = 10\n",
    "T = tuple(T)\n",
    "T\n",
    "print(id(T))"
   ]
  },
  {
   "cell_type": "code",
   "execution_count": 73,
   "id": "b160c65a",
   "metadata": {},
   "outputs": [],
   "source": [
    "del(T)"
   ]
  },
  {
   "cell_type": "code",
   "execution_count": 74,
   "id": "6673e51a",
   "metadata": {},
   "outputs": [
    {
     "ename": "NameError",
     "evalue": "name 'T' is not defined",
     "output_type": "error",
     "traceback": [
      "\u001b[1;31m---------------------------------------------------------------------------\u001b[0m",
      "\u001b[1;31mNameError\u001b[0m                                 Traceback (most recent call last)",
      "\u001b[1;32mC:\\Users\\BSRVPR~1\\AppData\\Local\\Temp/ipykernel_10432/2203278621.py\u001b[0m in \u001b[0;36m<module>\u001b[1;34m\u001b[0m\n\u001b[1;32m----> 1\u001b[1;33m \u001b[0mT\u001b[0m\u001b[1;33m\u001b[0m\u001b[1;33m\u001b[0m\u001b[0m\n\u001b[0m",
      "\u001b[1;31mNameError\u001b[0m: name 'T' is not defined"
     ]
    }
   ],
   "source": [
    "T"
   ]
  },
  {
   "cell_type": "code",
   "execution_count": 75,
   "id": "a9f70c71",
   "metadata": {},
   "outputs": [
    {
     "name": "stdout",
     "output_type": "stream",
     "text": [
      "(1, 2, 3, 4, 5, 6)\n"
     ]
    }
   ],
   "source": [
    "T = (1,2,3)\n",
    "S = (4,5,6)\n",
    "U = T+S\n",
    "print(U)"
   ]
  },
  {
   "cell_type": "code",
   "execution_count": 76,
   "id": "b13e6eef",
   "metadata": {},
   "outputs": [
    {
     "data": {
      "text/plain": [
       "(4, 5, 6, 4, 5, 6, 4, 5, 6, 4, 5, 6)"
      ]
     },
     "execution_count": 76,
     "metadata": {},
     "output_type": "execute_result"
    }
   ],
   "source": [
    "S*4"
   ]
  },
  {
   "cell_type": "code",
   "execution_count": 77,
   "id": "60517126",
   "metadata": {},
   "outputs": [],
   "source": [
    "T = ([1,2,3],\"Hello\")"
   ]
  },
  {
   "cell_type": "code",
   "execution_count": 78,
   "id": "d9df4bd1",
   "metadata": {},
   "outputs": [
    {
     "data": {
      "text/plain": [
       "([1, 2, 3], 'Hello')"
      ]
     },
     "execution_count": 78,
     "metadata": {},
     "output_type": "execute_result"
    }
   ],
   "source": [
    "T"
   ]
  },
  {
   "cell_type": "code",
   "execution_count": 79,
   "id": "460afba9",
   "metadata": {},
   "outputs": [
    {
     "data": {
      "text/plain": [
       "1973987652800"
      ]
     },
     "execution_count": 79,
     "metadata": {},
     "output_type": "execute_result"
    }
   ],
   "source": [
    "id(T)"
   ]
  },
  {
   "cell_type": "code",
   "execution_count": 80,
   "id": "c6682fbd",
   "metadata": {},
   "outputs": [
    {
     "data": {
      "text/plain": [
       "[1, 2, 3]"
      ]
     },
     "execution_count": 80,
     "metadata": {},
     "output_type": "execute_result"
    }
   ],
   "source": [
    "T[0]"
   ]
  },
  {
   "cell_type": "code",
   "execution_count": 81,
   "id": "8fac9398",
   "metadata": {},
   "outputs": [],
   "source": [
    "T[0].append([4,5,6])"
   ]
  },
  {
   "cell_type": "code",
   "execution_count": 82,
   "id": "c4f00ce7",
   "metadata": {},
   "outputs": [
    {
     "data": {
      "text/plain": [
       "([1, 2, 3, [4, 5, 6]], 'Hello')"
      ]
     },
     "execution_count": 82,
     "metadata": {},
     "output_type": "execute_result"
    }
   ],
   "source": [
    "T"
   ]
  },
  {
   "cell_type": "code",
   "execution_count": 83,
   "id": "69060bbb",
   "metadata": {},
   "outputs": [
    {
     "data": {
      "text/plain": [
       "1973987652800"
      ]
     },
     "execution_count": 83,
     "metadata": {},
     "output_type": "execute_result"
    }
   ],
   "source": [
    "id(T)"
   ]
  },
  {
   "cell_type": "code",
   "execution_count": 84,
   "id": "e4d7d048",
   "metadata": {},
   "outputs": [
    {
     "data": {
      "text/plain": [
       "3"
      ]
     },
     "execution_count": 84,
     "metadata": {},
     "output_type": "execute_result"
    }
   ],
   "source": [
    "T[0][2]"
   ]
  },
  {
   "cell_type": "code",
   "execution_count": 85,
   "id": "4ddf1166",
   "metadata": {},
   "outputs": [
    {
     "data": {
      "text/plain": [
       "([1, 2, 3, [4, 5, 6]], 'Hello')"
      ]
     },
     "execution_count": 85,
     "metadata": {},
     "output_type": "execute_result"
    }
   ],
   "source": [
    "T"
   ]
  },
  {
   "cell_type": "code",
   "execution_count": 86,
   "id": "df687e8d",
   "metadata": {},
   "outputs": [
    {
     "data": {
      "text/plain": [
       "True"
      ]
     },
     "execution_count": 86,
     "metadata": {},
     "output_type": "execute_result"
    }
   ],
   "source": [
    "\"Hello\" in T"
   ]
  },
  {
   "cell_type": "code",
   "execution_count": 87,
   "id": "b32e9091",
   "metadata": {},
   "outputs": [],
   "source": [
    "S = {1,2,3,4,5}"
   ]
  },
  {
   "cell_type": "code",
   "execution_count": 88,
   "id": "ea09fe64",
   "metadata": {},
   "outputs": [
    {
     "data": {
      "text/plain": [
       "set"
      ]
     },
     "execution_count": 88,
     "metadata": {},
     "output_type": "execute_result"
    }
   ],
   "source": [
    "type(S)"
   ]
  },
  {
   "cell_type": "code",
   "execution_count": 89,
   "id": "317a49d6",
   "metadata": {},
   "outputs": [
    {
     "ename": "TypeError",
     "evalue": "'set' object is not subscriptable",
     "output_type": "error",
     "traceback": [
      "\u001b[1;31m---------------------------------------------------------------------------\u001b[0m",
      "\u001b[1;31mTypeError\u001b[0m                                 Traceback (most recent call last)",
      "\u001b[1;32mC:\\Users\\BSRVPR~1\\AppData\\Local\\Temp/ipykernel_10432/2981122203.py\u001b[0m in \u001b[0;36m<module>\u001b[1;34m\u001b[0m\n\u001b[1;32m----> 1\u001b[1;33m \u001b[0mS\u001b[0m\u001b[1;33m[\u001b[0m\u001b[1;36m0\u001b[0m\u001b[1;33m]\u001b[0m\u001b[1;33m\u001b[0m\u001b[1;33m\u001b[0m\u001b[0m\n\u001b[0m",
      "\u001b[1;31mTypeError\u001b[0m: 'set' object is not subscriptable"
     ]
    }
   ],
   "source": [
    "S[0]"
   ]
  },
  {
   "cell_type": "code",
   "execution_count": 90,
   "id": "ba0b6767",
   "metadata": {},
   "outputs": [
    {
     "name": "stdout",
     "output_type": "stream",
     "text": [
      "1\n",
      "2\n",
      "3\n",
      "4\n",
      "5\n"
     ]
    }
   ],
   "source": [
    "for x in S:\n",
    "    print(x)"
   ]
  },
  {
   "cell_type": "code",
   "execution_count": 91,
   "id": "dabff6da",
   "metadata": {},
   "outputs": [],
   "source": [
    "S.add(7)"
   ]
  },
  {
   "cell_type": "code",
   "execution_count": 92,
   "id": "49ed186c",
   "metadata": {},
   "outputs": [
    {
     "data": {
      "text/plain": [
       "{1, 2, 3, 4, 5, 7}"
      ]
     },
     "execution_count": 92,
     "metadata": {},
     "output_type": "execute_result"
    }
   ],
   "source": [
    "S"
   ]
  },
  {
   "cell_type": "code",
   "execution_count": 93,
   "id": "87b8bd89",
   "metadata": {},
   "outputs": [],
   "source": [
    "S.update([8,9,10])"
   ]
  },
  {
   "cell_type": "code",
   "execution_count": 94,
   "id": "1db9589f",
   "metadata": {},
   "outputs": [
    {
     "data": {
      "text/plain": [
       "{1, 2, 3, 4, 5, 7, 8, 9, 10}"
      ]
     },
     "execution_count": 94,
     "metadata": {},
     "output_type": "execute_result"
    }
   ],
   "source": [
    "S"
   ]
  },
  {
   "cell_type": "code",
   "execution_count": 95,
   "id": "d4e70677",
   "metadata": {},
   "outputs": [],
   "source": [
    "S.add(1)"
   ]
  },
  {
   "cell_type": "code",
   "execution_count": 96,
   "id": "f77b6781",
   "metadata": {},
   "outputs": [
    {
     "data": {
      "text/plain": [
       "{1, 2, 3, 4, 5, 7, 8, 9, 10}"
      ]
     },
     "execution_count": 96,
     "metadata": {},
     "output_type": "execute_result"
    }
   ],
   "source": [
    "S"
   ]
  },
  {
   "cell_type": "code",
   "execution_count": 97,
   "id": "36bb6b85",
   "metadata": {},
   "outputs": [],
   "source": [
    "S.remove(1)"
   ]
  },
  {
   "cell_type": "code",
   "execution_count": 98,
   "id": "8ffcd98e",
   "metadata": {},
   "outputs": [
    {
     "data": {
      "text/plain": [
       "{2, 3, 4, 5, 7, 8, 9, 10}"
      ]
     },
     "execution_count": 98,
     "metadata": {},
     "output_type": "execute_result"
    }
   ],
   "source": [
    "S"
   ]
  },
  {
   "cell_type": "code",
   "execution_count": 99,
   "id": "b10de5cc",
   "metadata": {},
   "outputs": [],
   "source": [
    "S.discard(2)"
   ]
  },
  {
   "cell_type": "code",
   "execution_count": 100,
   "id": "0d729668",
   "metadata": {},
   "outputs": [
    {
     "data": {
      "text/plain": [
       "{3, 4, 5, 7, 8, 9, 10}"
      ]
     },
     "execution_count": 100,
     "metadata": {},
     "output_type": "execute_result"
    }
   ],
   "source": [
    "S"
   ]
  },
  {
   "cell_type": "code",
   "execution_count": 101,
   "id": "406fe80a",
   "metadata": {},
   "outputs": [],
   "source": [
    "S.discard(2)"
   ]
  },
  {
   "cell_type": "code",
   "execution_count": 102,
   "id": "368c84d5",
   "metadata": {},
   "outputs": [
    {
     "data": {
      "text/plain": [
       "{3, 4, 5, 7, 8, 9, 10}"
      ]
     },
     "execution_count": 102,
     "metadata": {},
     "output_type": "execute_result"
    }
   ],
   "source": [
    "S"
   ]
  },
  {
   "cell_type": "code",
   "execution_count": 103,
   "id": "ac2ec106",
   "metadata": {},
   "outputs": [
    {
     "ename": "KeyError",
     "evalue": "2",
     "output_type": "error",
     "traceback": [
      "\u001b[1;31m---------------------------------------------------------------------------\u001b[0m",
      "\u001b[1;31mKeyError\u001b[0m                                  Traceback (most recent call last)",
      "\u001b[1;32mC:\\Users\\BSRVPR~1\\AppData\\Local\\Temp/ipykernel_10432/4217601895.py\u001b[0m in \u001b[0;36m<module>\u001b[1;34m\u001b[0m\n\u001b[1;32m----> 1\u001b[1;33m \u001b[0mS\u001b[0m\u001b[1;33m.\u001b[0m\u001b[0mremove\u001b[0m\u001b[1;33m(\u001b[0m\u001b[1;36m2\u001b[0m\u001b[1;33m)\u001b[0m\u001b[1;33m\u001b[0m\u001b[1;33m\u001b[0m\u001b[0m\n\u001b[0m",
      "\u001b[1;31mKeyError\u001b[0m: 2"
     ]
    }
   ],
   "source": [
    "S.remove(2)"
   ]
  },
  {
   "cell_type": "code",
   "execution_count": 104,
   "id": "5df8eab1",
   "metadata": {},
   "outputs": [
    {
     "data": {
      "text/plain": [
       "{3, 4, 5, 7, 8, 9, 10}"
      ]
     },
     "execution_count": 104,
     "metadata": {},
     "output_type": "execute_result"
    }
   ],
   "source": [
    "S"
   ]
  },
  {
   "cell_type": "code",
   "execution_count": 105,
   "id": "9f0ee890",
   "metadata": {},
   "outputs": [],
   "source": [
    "T = {4,10,12,14}"
   ]
  },
  {
   "cell_type": "code",
   "execution_count": 106,
   "id": "920abbfe",
   "metadata": {},
   "outputs": [
    {
     "data": {
      "text/plain": [
       "{12, 14}"
      ]
     },
     "execution_count": 106,
     "metadata": {},
     "output_type": "execute_result"
    }
   ],
   "source": [
    "T.difference(S)"
   ]
  },
  {
   "cell_type": "code",
   "execution_count": 107,
   "id": "dd2c884b",
   "metadata": {},
   "outputs": [
    {
     "data": {
      "text/plain": [
       "{4, 10}"
      ]
     },
     "execution_count": 107,
     "metadata": {},
     "output_type": "execute_result"
    }
   ],
   "source": [
    "S.intersection(T)"
   ]
  },
  {
   "cell_type": "code",
   "execution_count": 108,
   "id": "f48affe0",
   "metadata": {},
   "outputs": [
    {
     "data": {
      "text/plain": [
       "False"
      ]
     },
     "execution_count": 108,
     "metadata": {},
     "output_type": "execute_result"
    }
   ],
   "source": [
    "S.isdisjoint(T)"
   ]
  },
  {
   "cell_type": "code",
   "execution_count": 109,
   "id": "2512f3ba",
   "metadata": {},
   "outputs": [
    {
     "data": {
      "text/plain": [
       "3"
      ]
     },
     "execution_count": 109,
     "metadata": {},
     "output_type": "execute_result"
    }
   ],
   "source": [
    "S.pop()"
   ]
  },
  {
   "cell_type": "code",
   "execution_count": 110,
   "id": "3084e9f3",
   "metadata": {},
   "outputs": [
    {
     "data": {
      "text/plain": [
       "{4, 5, 7, 8, 9, 10}"
      ]
     },
     "execution_count": 110,
     "metadata": {},
     "output_type": "execute_result"
    }
   ],
   "source": [
    "S"
   ]
  },
  {
   "cell_type": "code",
   "execution_count": 111,
   "id": "66ebbe74",
   "metadata": {},
   "outputs": [
    {
     "data": {
      "text/plain": [
       "{4, 5, 7, 8, 9, 10}"
      ]
     },
     "execution_count": 111,
     "metadata": {},
     "output_type": "execute_result"
    }
   ],
   "source": [
    "S"
   ]
  },
  {
   "cell_type": "code",
   "execution_count": 112,
   "id": "653a6e68",
   "metadata": {},
   "outputs": [
    {
     "data": {
      "text/plain": [
       "{4, 10}"
      ]
     },
     "execution_count": 112,
     "metadata": {},
     "output_type": "execute_result"
    }
   ],
   "source": [
    "S.intersection(T)"
   ]
  },
  {
   "cell_type": "code",
   "execution_count": 113,
   "id": "0fa94c4b",
   "metadata": {},
   "outputs": [
    {
     "data": {
      "text/plain": [
       "{4, 5, 7, 8, 9, 10}"
      ]
     },
     "execution_count": 113,
     "metadata": {},
     "output_type": "execute_result"
    }
   ],
   "source": [
    "S"
   ]
  },
  {
   "cell_type": "code",
   "execution_count": 114,
   "id": "b99fb2a8",
   "metadata": {},
   "outputs": [],
   "source": [
    "S1 = S"
   ]
  },
  {
   "cell_type": "code",
   "execution_count": 115,
   "id": "893ab239",
   "metadata": {},
   "outputs": [],
   "source": [
    "S1.intersection_update(T)"
   ]
  },
  {
   "cell_type": "code",
   "execution_count": 116,
   "id": "98ff6c09",
   "metadata": {},
   "outputs": [
    {
     "data": {
      "text/plain": [
       "{4, 10}"
      ]
     },
     "execution_count": 116,
     "metadata": {},
     "output_type": "execute_result"
    }
   ],
   "source": [
    "S1"
   ]
  }
 ],
 "metadata": {
  "kernelspec": {
   "display_name": "Python 3 (ipykernel)",
   "language": "python",
   "name": "python3"
  },
  "language_info": {
   "codemirror_mode": {
    "name": "ipython",
    "version": 3
   },
   "file_extension": ".py",
   "mimetype": "text/x-python",
   "name": "python",
   "nbconvert_exporter": "python",
   "pygments_lexer": "ipython3",
   "version": "3.9.13"
  },
  "latex_envs": {
   "LaTeX_envs_menu_present": true,
   "autoclose": false,
   "autocomplete": true,
   "bibliofile": "biblio.bib",
   "cite_by": "apalike",
   "current_citInitial": 1,
   "eqLabelWithNumbers": true,
   "eqNumInitial": 1,
   "hotkeys": {
    "equation": "Ctrl-E",
    "itemize": "Ctrl-I"
   },
   "labels_anchors": false,
   "latex_user_defs": false,
   "report_style_numbering": false,
   "user_envs_cfg": false
  }
 },
 "nbformat": 4,
 "nbformat_minor": 5
}
