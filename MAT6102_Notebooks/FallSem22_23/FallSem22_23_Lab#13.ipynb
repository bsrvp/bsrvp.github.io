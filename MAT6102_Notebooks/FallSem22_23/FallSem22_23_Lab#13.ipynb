{
 "cells": [
  {
   "cell_type": "markdown",
   "id": "e73c9615",
   "metadata": {},
   "source": [
    "## User-defined functions in Python - I"
   ]
  },
  {
   "cell_type": "markdown",
   "id": "161972dc",
   "metadata": {},
   "source": [
    "**Question-1.** We define a float number to be even or odd if the (non-zero) decimal/fractional part is even or odd. If the decimal/fractional is zero, then we consider the float number as an integer and accordingly determine whether it is even or odd.\n",
    "\n",
    "For example, consider the number 123.235. The decimal/fractional part of this number is 235, which is odd, and hence we determine 123.235 is an odd float number.\n",
    "\n",
    "If we consider the number 123.234, then it is an even float number, as the decimal/fractional part 234 is even.\n",
    "\n",
    "The number 123.0 has a zero decimal/fractional part, and its integer part is 123, which is odd. So, 123.0 is also odd.\n",
    "\n",
    "Write a python function `floatEvenOdd(num)` which accepts a given float number and determines whether it is even or odd according to the above definition."
   ]
  },
  {
   "cell_type": "code",
   "execution_count": 1,
   "id": "3f8ff27e",
   "metadata": {},
   "outputs": [],
   "source": [
    "def floatEvenOdd(num):\n",
    "    numlist = str(num).split(\".\")\n",
    "    if int(numlist[1]) == 0:\n",
    "        if int(numlist[0])%2 == 0:\n",
    "            print('The float number is even')\n",
    "        else:\n",
    "            print('The float number is odd')\n",
    "    else:\n",
    "        if int(numlist[1])%2 == 0:\n",
    "            print('The float number is even')\n",
    "        else:\n",
    "            print('The float number is odd')"
   ]
  },
  {
   "cell_type": "code",
   "execution_count": 2,
   "id": "b00d8138",
   "metadata": {},
   "outputs": [
    {
     "name": "stdout",
     "output_type": "stream",
     "text": [
      "Enter the number: 123.25\n",
      "The float number is odd\n"
     ]
    }
   ],
   "source": [
    "num = float(input('Enter the number: '))\n",
    "floatEvenOdd(num)"
   ]
  },
  {
   "cell_type": "code",
   "execution_count": 3,
   "id": "e89a0e69",
   "metadata": {},
   "outputs": [
    {
     "name": "stdout",
     "output_type": "stream",
     "text": [
      "Enter the number: 123.48\n",
      "The float number is even\n"
     ]
    }
   ],
   "source": [
    "num = float(input('Enter the number: '))\n",
    "floatEvenOdd(num)"
   ]
  },
  {
   "cell_type": "code",
   "execution_count": 4,
   "id": "5315bcad",
   "metadata": {},
   "outputs": [
    {
     "name": "stdout",
     "output_type": "stream",
     "text": [
      "Enter the number: 123.0\n",
      "The float number is odd\n"
     ]
    }
   ],
   "source": [
    "num = float(input('Enter the number: '))\n",
    "floatEvenOdd(num)"
   ]
  },
  {
   "cell_type": "markdown",
   "id": "eb111c5c",
   "metadata": {},
   "source": [
    "**Question-2.** An Adam number is a number when reversed, the square of the number and the square of the reversed number should be numbers which are reverse of each other.\n",
    "\n",
    "For example, $12$ is an Adam number. As $12^2 = 144$. Now, the reverse of $12 = 21$ square is $21^2 = 441$. Since the reverse of $144$ is equal to $441$, we have $12$ is an Adam number. \n",
    "\n",
    "a. Write a Python function `isAdam(num)` which checks whether a given number `num` is Adam number or not.\n",
    "\n",
    "b. Write a Python function `adamNosInRange(num1,num2)` which prints the list of Adam numbers in the given range $[num1, num2].$"
   ]
  },
  {
   "cell_type": "markdown",
   "id": "4c67b4f7",
   "metadata": {},
   "source": [
    "#### Version - 1: By defining a function(s) to reverse the given number."
   ]
  },
  {
   "cell_type": "code",
   "execution_count": 5,
   "id": "c6efae15",
   "metadata": {},
   "outputs": [],
   "source": [
    "def reverse(num):\n",
    "    revnum = 0\n",
    "    while num > 0:\n",
    "        revnum = revnum * 10 + num%10\n",
    "        num = num//10\n",
    "    return revnum\n",
    "    \n",
    "def reverseS(num):\n",
    "    return int(str(num)[::-1])\n",
    "    \n",
    "def isAdam(num):\n",
    "    sqn = num**2\n",
    "    revn = reverse(num)\n",
    "    sqrevn = revn**2\n",
    "    if sqn == reverseS(sqrevn):\n",
    "        print(f'The {num} is an Adam Number')\n",
    "    else:\n",
    "        print(f'The {num} is not an Adam Number')"
   ]
  },
  {
   "cell_type": "code",
   "execution_count": 6,
   "id": "e0befa0e",
   "metadata": {},
   "outputs": [
    {
     "name": "stdout",
     "output_type": "stream",
     "text": [
      "Enter the number: 12\n",
      "The 12 is an Adam Number\n"
     ]
    }
   ],
   "source": [
    "num = int(input('Enter the number: '))\n",
    "isAdam(num)"
   ]
  },
  {
   "cell_type": "markdown",
   "id": "3520c0ad",
   "metadata": {},
   "source": [
    "#### Version - 2: By reversing the number by converting it to a string and using the string operations to reverse it."
   ]
  },
  {
   "cell_type": "code",
   "execution_count": 7,
   "id": "9701ec4f",
   "metadata": {},
   "outputs": [],
   "source": [
    "def isAdamS(num):\n",
    "    sqn = num**2\n",
    "    revn = int(str(num)[::-1])\n",
    "    sqrevn = revn**2\n",
    "    if sqn == int(str(sqrevn)[::-1]):\n",
    "        print(f'The {num} is an Adam Number')\n",
    "    else:\n",
    "        print(f'The {num} is not an Adam Number')"
   ]
  },
  {
   "cell_type": "code",
   "execution_count": 8,
   "id": "45b446af",
   "metadata": {},
   "outputs": [
    {
     "name": "stdout",
     "output_type": "stream",
     "text": [
      "Enter the number: 45\n",
      "The 45 is not an Adam Number\n"
     ]
    }
   ],
   "source": [
    "num = int(input('Enter the number: '))\n",
    "isAdamS(num)"
   ]
  },
  {
   "cell_type": "markdown",
   "id": "32c66ae3",
   "metadata": {},
   "source": [
    "**Question-3.** The digital root of a number $n$ is obtained as follows: Add up the digits $n$ to get a new number, then add up the digits of the new number just obtained to get another new number. Repeat this until you are left with a number with only one digit, which is the digital root of the given number $n$.\n",
    "\n",
    "For example, if $n =  54123$, at first, we get $ =5+4+1+2+3 =  15$. Adding the digits of $15$, we obtain $1+5 = 6$.  Since $6$ has only one digit, $6$ is our digital root for $n = 54123$."
   ]
  },
  {
   "cell_type": "markdown",
   "id": "6204f8c9",
   "metadata": {},
   "source": [
    "#### Version - 1: By extracting each and every digit using two while loops and summing them and repeating the process until we left with the single digit, which is the digital root."
   ]
  },
  {
   "cell_type": "code",
   "execution_count": 9,
   "id": "e00faf9b",
   "metadata": {},
   "outputs": [],
   "source": [
    "def sumdigits(num):\n",
    "    sumdigits = 10\n",
    "    while sumdigits > 9:\n",
    "        sumdigits = 0\n",
    "        while num > 0:\n",
    "            sumdigits = sumdigits + num%10\n",
    "            num = num//10\n",
    "        num = sumdigits\n",
    "    return sumdigits\n",
    "\n",
    "def digitRoot_v1(num):\n",
    "    print(f'The digitroot of the {num} is: {sumdigits(num)}')"
   ]
  },
  {
   "cell_type": "code",
   "execution_count": 10,
   "id": "e02f4df5",
   "metadata": {},
   "outputs": [
    {
     "name": "stdout",
     "output_type": "stream",
     "text": [
      "The digitroot of the 12342 is: 3\n"
     ]
    }
   ],
   "source": [
    "digitRoot_v1(12342)"
   ]
  },
  {
   "cell_type": "markdown",
   "id": "0a3d76f2",
   "metadata": {},
   "source": [
    "#### Version - 2: Using recurssion to carry out the process of summing all digits until we left with a single digit, which is the digital root."
   ]
  },
  {
   "cell_type": "code",
   "execution_count": 11,
   "id": "a039301b",
   "metadata": {},
   "outputs": [],
   "source": [
    "def sumDigits(num):\n",
    "    sumdigits = 0\n",
    "    while num > 0:\n",
    "        sumdigits = sumdigits + num%10\n",
    "        num = num//10\n",
    "    if sumdigits <= 9:\n",
    "        return sumdigits\n",
    "    else:\n",
    "        num = sumdigits\n",
    "        return sumDigits(num)\n",
    "    \n",
    "def digitRoot_v2(num):\n",
    "    print(f'The digitroot of the {num} is: {sumDigits(num)}')"
   ]
  },
  {
   "cell_type": "code",
   "execution_count": 12,
   "id": "d5787feb",
   "metadata": {},
   "outputs": [
    {
     "name": "stdout",
     "output_type": "stream",
     "text": [
      "The digitroot of the 123253 is: 7\n"
     ]
    }
   ],
   "source": [
    "digitRoot_v2(123253)"
   ]
  },
  {
   "cell_type": "code",
   "execution_count": 13,
   "id": "8df855d2",
   "metadata": {},
   "outputs": [
    {
     "name": "stdout",
     "output_type": "stream",
     "text": [
      "The digitroot of the 1233 is: 9\n"
     ]
    }
   ],
   "source": [
    "digitRoot_v2(1233)"
   ]
  },
  {
   "cell_type": "markdown",
   "id": "708fcf84",
   "metadata": {},
   "source": [
    "#### Version - 3: Using the fact that, when the number is not a multiple of $9$, then the digit root is nothing but the reminder of the number when it is divided by $9$ and in the case, the number is a multiple of $9$, then the digit root is $9$."
   ]
  },
  {
   "cell_type": "code",
   "execution_count": 14,
   "id": "cbb57173",
   "metadata": {},
   "outputs": [],
   "source": [
    "def digitRoot_v3(num):\n",
    "    if num%9 == 0 and num >0:\n",
    "        return 9\n",
    "    else:\n",
    "        return num%9"
   ]
  },
  {
   "cell_type": "code",
   "execution_count": 15,
   "id": "e5446dd0",
   "metadata": {},
   "outputs": [
    {
     "name": "stdout",
     "output_type": "stream",
     "text": [
      "Enter the number: 12345\n",
      "The digitroot of the 12345 is: 6\n"
     ]
    }
   ],
   "source": [
    "num = int(input('Enter the number: '))\n",
    "print(f'The digitroot of the {num} is: {digitRoot_v3(num)}')"
   ]
  },
  {
   "cell_type": "code",
   "execution_count": 16,
   "id": "47b5807e",
   "metadata": {},
   "outputs": [
    {
     "name": "stdout",
     "output_type": "stream",
     "text": [
      "Enter the number: 1233\n",
      "The digitroot of the 1233 is: 9\n"
     ]
    }
   ],
   "source": [
    "num = int(input('Enter the number: '))\n",
    "print(f'The digitroot of the {num} is: {digitRoot_v3(num)}')"
   ]
  },
  {
   "cell_type": "code",
   "execution_count": 17,
   "id": "0ab5f88c",
   "metadata": {},
   "outputs": [
    {
     "name": "stdout",
     "output_type": "stream",
     "text": [
      "Enter the number: 12367\n",
      "The digit root of the number 12367 is 1\n"
     ]
    }
   ],
   "source": [
    "num = int(input('Enter the number: '))\n",
    "print(f'The digit root of the number {num} is {digitRoot_v3(num)}')"
   ]
  },
  {
   "cell_type": "markdown",
   "id": "3d073305",
   "metadata": {},
   "source": [
    "**Question-4.** Recall that if `s` is a string, then `s.find('a')` will find the location of the first occurrence of character `a` in `s` and will not find all the occurrences of character `a`.\n",
    "\n",
    "Write a function called `findAll(string,ch)` that returns all the occurrences/positions of the given character `ch` in the given string`s` as a list and returns an empty list if there are no occurrences of the character in the given string."
   ]
  },
  {
   "cell_type": "code",
   "execution_count": 18,
   "id": "0735cd33",
   "metadata": {},
   "outputs": [
    {
     "data": {
      "text/plain": [
       "[10, 13, 17]"
      ]
     },
     "execution_count": 18,
     "metadata": {},
     "output_type": "execute_result"
    }
   ],
   "source": [
    "def findAll(string,ch):\n",
    "    pos = []\n",
    "    for i in range(0,len(string)):\n",
    "        if ch == string[i]:\n",
    "            pos.append(i+1)\n",
    "    return pos\n",
    "    \n",
    "findAll('Hello this is a string','s')"
   ]
  }
 ],
 "metadata": {
  "kernelspec": {
   "display_name": "Python 3 (ipykernel)",
   "language": "python",
   "name": "python3"
  },
  "language_info": {
   "codemirror_mode": {
    "name": "ipython",
    "version": 3
   },
   "file_extension": ".py",
   "mimetype": "text/x-python",
   "name": "python",
   "nbconvert_exporter": "python",
   "pygments_lexer": "ipython3",
   "version": "3.10.13"
  },
  "latex_envs": {
   "LaTeX_envs_menu_present": true,
   "autoclose": false,
   "autocomplete": true,
   "bibliofile": "biblio.bib",
   "cite_by": "apalike",
   "current_citInitial": 1,
   "eqLabelWithNumbers": true,
   "eqNumInitial": 1,
   "hotkeys": {
    "equation": "Ctrl-E",
    "itemize": "Ctrl-I"
   },
   "labels_anchors": false,
   "latex_user_defs": false,
   "report_style_numbering": false,
   "user_envs_cfg": false
  }
 },
 "nbformat": 4,
 "nbformat_minor": 5
}
