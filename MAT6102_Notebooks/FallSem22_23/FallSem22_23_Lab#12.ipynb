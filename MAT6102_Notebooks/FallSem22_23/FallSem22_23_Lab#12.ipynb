{
 "cells": [
  {
   "cell_type": "markdown",
   "id": "927858a2",
   "metadata": {},
   "source": [
    "## Write a Python program which accepts a number and counts how many times each digit is repeated in that number and displays the message “The digit < < digit > > repeated < < no > > of times”"
   ]
  },
  {
   "cell_type": "markdown",
   "id": "65ded2af",
   "metadata": {},
   "source": [
    "### Version #01 - Crude way"
   ]
  },
  {
   "cell_type": "code",
   "execution_count": 1,
   "id": "5242ddcd",
   "metadata": {},
   "outputs": [
    {
     "name": "stdout",
     "output_type": "stream",
     "text": [
      "Enter the number 2343212\n",
      "2 repeated  3  times\n",
      "3 repeated  2  times\n",
      "4 repeated  1  times\n",
      "3 repeated  2  times\n",
      "2 repeated  3  times\n",
      "1 repeated  1  times\n",
      "2 repeated  3  times\n"
     ]
    }
   ],
   "source": [
    "num = input('Enter the number ')\n",
    "for i in num:\n",
    "    print(i,'repeated ',num.count(i),' times')"
   ]
  },
  {
   "cell_type": "markdown",
   "id": "cbc7e442",
   "metadata": {},
   "source": [
    "## Version #02 - Modified version of Version #01 code by storing the counted digit in list and avoiding the repition message"
   ]
  },
  {
   "cell_type": "code",
   "execution_count": 2,
   "id": "15423490",
   "metadata": {},
   "outputs": [
    {
     "name": "stdout",
     "output_type": "stream",
     "text": [
      "Enter the number: 24523432\n",
      "The number 2 is repeated 3 times\n",
      "The number 4 is repeated 2 times\n",
      "The number 5 is repeated 1 times\n",
      "The number 3 is repeated 2 times\n"
     ]
    }
   ],
   "source": [
    "n = input('Enter the number: ')\n",
    "L = []\n",
    "for x in n:\n",
    "    if x not in L:\n",
    "        L.append(x)\n",
    "        print('The number',x,'is repeated',n.count(x),'times')"
   ]
  },
  {
   "cell_type": "markdown",
   "id": "b4e78ca0",
   "metadata": {},
   "source": [
    "## Version #03 - Using a Dictionary"
   ]
  },
  {
   "cell_type": "code",
   "execution_count": 3,
   "id": "5d6f8885",
   "metadata": {},
   "outputs": [
    {
     "name": "stdout",
     "output_type": "stream",
     "text": [
      "Enter the number: 24234324\n",
      "The digit 2 is repeated 3 times\n",
      "The digit 4 is repeated 3 times\n",
      "The digit 3 is repeated 2 times\n"
     ]
    }
   ],
   "source": [
    "num = input('Enter the number: ')\n",
    "num_dict = {}\n",
    "for i in num:\n",
    "    if i in num_dict:\n",
    "        num_dict[i] += 1\n",
    "    else:\n",
    "        num_dict[i] = 1\n",
    "        \n",
    "for key,value in num_dict.items():\n",
    "    print('The digit',key,'is repeated',value,'times')"
   ]
  },
  {
   "cell_type": "markdown",
   "id": "ba156454",
   "metadata": {},
   "source": [
    "## Version #04 - Modifing the code in Version #03 to display the count of all the digits from $0$ to $9$ irrespective of whether the digit is present in the number or not? If digit is present we display the message with no. of times it is repeated otherwise we display the message that it is repeated 0 times."
   ]
  },
  {
   "cell_type": "code",
   "execution_count": 4,
   "id": "ea6ac023",
   "metadata": {},
   "outputs": [
    {
     "name": "stdout",
     "output_type": "stream",
     "text": [
      "Enter number: 452342389\n",
      "The digit 0 is repeated 0 times\n",
      "The digit 1 is repeated 0 times\n",
      "The digit 2 is repeated 2 times\n",
      "The digit 3 is repeated 2 times\n",
      "The digit 4 is repeated 2 times\n",
      "The digit 5 is repeated 1 times\n",
      "The digit 6 is repeated 0 times\n",
      "The digit 7 is repeated 0 times\n",
      "The digit 8 is repeated 1 times\n",
      "The digit 9 is repeated 1 times\n"
     ]
    }
   ],
   "source": [
    "n = input('Enter number: ')\n",
    "num_dict = {'0':0,'1':0,'2':0,'3':0,'4':0,'5':0,'6':0,'7':0,'8':0,'9':0}\n",
    "for x in n:\n",
    "    num_dict[x] += 1\n",
    "\n",
    "for key,value in num_dict.items():\n",
    "    print('The digit',key,'is repeated',value,'times')"
   ]
  },
  {
   "cell_type": "markdown",
   "id": "fa40e63d",
   "metadata": {},
   "source": [
    "## *Exercise Problem*: The above code(s) for the counting the digit does not distinguish between characters and numbers in the input (as we are considering the input as a string only) and so display the count of each and every character. Modify the above code so that whatever string is entered (containing both characters and numbers), it counts only the numbers in that string and displays the count of numbers to the user."
   ]
  },
  {
   "cell_type": "markdown",
   "id": "fc6bc461",
   "metadata": {},
   "source": [
    "## Write a Python program which accepts a string and counts how many times a character (excluding the special characters and including the digits) appears in that string and displays the count for each of the characters to the user."
   ]
  },
  {
   "cell_type": "markdown",
   "id": "d23ce0a9",
   "metadata": {},
   "source": [
    "## Version #01 - Using a List"
   ]
  },
  {
   "cell_type": "code",
   "execution_count": 5,
   "id": "0c870e89",
   "metadata": {},
   "outputs": [
    {
     "name": "stdout",
     "output_type": "stream",
     "text": [
      "Enter the string: fkjsdf@#$123423\n",
      "The character f is repeated 2 times\n",
      "The character k is repeated 1 times\n",
      "The character j is repeated 1 times\n",
      "The character s is repeated 1 times\n",
      "The character d is repeated 1 times\n",
      "The character 1 is repeated 1 times\n",
      "The character 2 is repeated 2 times\n",
      "The character 3 is repeated 2 times\n",
      "The character 4 is repeated 1 times\n"
     ]
    }
   ],
   "source": [
    "n = input('Enter the string: ')\n",
    "L = []\n",
    "for x in n:\n",
    "    if x not in L and x.isalnum():\n",
    "        L.append(x)\n",
    "        print('The character',x,'is repeated',n.count(x),'times')"
   ]
  },
  {
   "cell_type": "markdown",
   "id": "ca42297d",
   "metadata": {},
   "source": [
    "## Version #02 - Using a Dictionary"
   ]
  },
  {
   "cell_type": "code",
   "execution_count": 6,
   "id": "b862969d",
   "metadata": {},
   "outputs": [
    {
     "name": "stdout",
     "output_type": "stream",
     "text": [
      "Enter the string: sfkjsd@$@#$sdf234\n",
      "The character s is repeated 3 times\n",
      "The character f is repeated 2 times\n",
      "The character k is repeated 1 times\n",
      "The character j is repeated 1 times\n",
      "The character d is repeated 2 times\n",
      "The character 2 is repeated 1 times\n",
      "The character 3 is repeated 1 times\n",
      "The character 4 is repeated 1 times\n"
     ]
    }
   ],
   "source": [
    "string = input('Enter the string: ')\n",
    "str_dict = {}\n",
    "for x in string:\n",
    "    if x.isalnum():\n",
    "        if x not in str_dict:\n",
    "            str_dict[x] = 1\n",
    "        else:\n",
    "            str_dict[x] += 1\n",
    "\n",
    "for key,value in str_dict.items():\n",
    "    print('The character',key,'is repeated',value,'times')"
   ]
  },
  {
   "cell_type": "markdown",
   "id": "6dfe209e",
   "metadata": {},
   "source": [
    "## Write a Python program which accepts a string and counts how many times each word in that string is repeated and displays that to the user."
   ]
  },
  {
   "cell_type": "markdown",
   "id": "3786d98d",
   "metadata": {},
   "source": [
    "## Version #01 - Using a List"
   ]
  },
  {
   "cell_type": "code",
   "execution_count": 7,
   "id": "f29eb41c",
   "metadata": {},
   "outputs": [
    {
     "name": "stdout",
     "output_type": "stream",
     "text": [
      "Enter the string: This is sample string. This is repeated string, with word sample, and word.\n",
      "The word this is repeated 2 times\n",
      "The word is is repeated 2 times\n",
      "The word sample is repeated 1 times\n",
      "The word string. is repeated 1 times\n",
      "The word repeated is repeated 1 times\n",
      "The word string, is repeated 1 times\n",
      "The word with is repeated 1 times\n",
      "The word word is repeated 1 times\n",
      "The word sample, is repeated 1 times\n",
      "The word and is repeated 1 times\n",
      "The word word. is repeated 1 times\n"
     ]
    }
   ],
   "source": [
    "string = input('Enter the string: ')\n",
    "string = string.lower().split(\" \")\n",
    "L = []\n",
    "for w in string:\n",
    "    if w not in L:\n",
    "        L.append(w)\n",
    "        print('The word',w,'is repeated',string.count(w),'times')"
   ]
  },
  {
   "cell_type": "markdown",
   "id": "c2211963",
   "metadata": {},
   "source": [
    "## Version #02 - Using a Dictionary"
   ]
  },
  {
   "cell_type": "code",
   "execution_count": 8,
   "id": "62ac68bf",
   "metadata": {},
   "outputs": [
    {
     "name": "stdout",
     "output_type": "stream",
     "text": [
      "Enter the string: This is sample string. This is repeated string, with word sample, and word.\n",
      "The word this is repeated 2 times\n",
      "The word is is repeated 2 times\n",
      "The word sample is repeated 1 times\n",
      "The word string. is repeated 1 times\n",
      "The word repeated is repeated 1 times\n",
      "The word string, is repeated 1 times\n",
      "The word with is repeated 1 times\n",
      "The word word is repeated 1 times\n",
      "The word sample, is repeated 1 times\n",
      "The word and is repeated 1 times\n",
      "The word word. is repeated 1 times\n"
     ]
    }
   ],
   "source": [
    "string = input('Enter the string: ')\n",
    "string = string.lower().split(\" \")\n",
    "str_dict = {}\n",
    "for i in string:\n",
    "        if i in str_dict:\n",
    "            str_dict[i] += 1\n",
    "        else:\n",
    "            str_dict[i] = 1\n",
    "        \n",
    "for key,value in str_dict.items():\n",
    "    print('The word',key,'is repeated',value,'times')"
   ]
  },
  {
   "cell_type": "markdown",
   "id": "85edfa9b",
   "metadata": {},
   "source": [
    "### The above two codes does not take into account of punctuation marks at the end of a word and treats the words such as \"not\" and \"not,\" as two separate words.  But we need to count these two as a separate words. Below codes rectifies this error present in above two codes."
   ]
  },
  {
   "cell_type": "code",
   "execution_count": 9,
   "id": "f465e8eb",
   "metadata": {},
   "outputs": [
    {
     "name": "stdout",
     "output_type": "stream",
     "text": [
      "Enter the string: This is sample string. This is repeated string, with word sample, and word.\n",
      "The word < this > is repeated 2 times\n",
      "The word < is > is repeated 2 times\n",
      "The word < sample > is repeated 1 times\n",
      "The word < string > is repeated 1 times\n",
      "The word < repeated > is repeated 1 times\n",
      "The word < with > is repeated 1 times\n",
      "The word < word > is repeated 1 times\n",
      "The word < and > is repeated 1 times\n"
     ]
    }
   ],
   "source": [
    "# Code using a list\n",
    "string = input('Enter the string: ')\n",
    "string = string.lower().split(\" \")\n",
    "L = []\n",
    "for i in range(len(string)):\n",
    "    if not string[i][-1].isalpha():\n",
    "        string[i] = string[i].replace(string[i][-1],\"\")\n",
    "    if string[i] not in L:\n",
    "        L.append(string[i])\n",
    "        print('The word <',string[i],'> is repeated',string.count(string[i]),'times')"
   ]
  },
  {
   "cell_type": "code",
   "execution_count": 10,
   "id": "4473ab3f",
   "metadata": {},
   "outputs": [
    {
     "name": "stdout",
     "output_type": "stream",
     "text": [
      "Enter String: This is sample string. This is repeated string, with word sample, and word.\n",
      "The character < this > is repeated 2 times\n",
      "The character < is > is repeated 2 times\n",
      "The character < sample > is repeated 2 times\n",
      "The character < string > is repeated 2 times\n",
      "The character < repeated > is repeated 1 times\n",
      "The character < with > is repeated 1 times\n",
      "The character < word > is repeated 2 times\n",
      "The character < and > is repeated 1 times\n"
     ]
    }
   ],
   "source": [
    "# Code using a dictionary\n",
    "string = input('Enter String: ')\n",
    "str_dict = {}\n",
    "string = string.lower().split(\" \")\n",
    "for x in string:\n",
    "    if not x[-1].isalpha():\n",
    "        x = x.split(x[-1]) #I am using split instead of replace to demonstrate the various techniques\n",
    "        x = x[0]\n",
    "    if x not in str_dict:\n",
    "        str_dict[x] = 1\n",
    "    else:\n",
    "        str_dict[x] += 1\n",
    "\n",
    "for key,value in str_dict.items():\n",
    "    print('The character <',key,'> is repeated',value,'times')"
   ]
  },
  {
   "cell_type": "markdown",
   "id": "ec34ce14",
   "metadata": {},
   "source": [
    "## Write a Python program which accepts two numbers and verifies whether they are Amicable numbers or not.\n",
    "\n",
    "#### A number pair $(n,m)$ is said to be Amicable number pair if the sum of the proper divisors of one number is equal to another number. For example, $(220, 284)$ is an Amicable pair, as the proper divisors of $220$ are $1,2,4,5,10,11,20,22,44,55,110$ and whose sum is $284$. Similarly, the proper divisors of $284$ are $1,2,4,71,142$ and whose sum is $220$."
   ]
  },
  {
   "cell_type": "markdown",
   "id": "9cffbdd3",
   "metadata": {},
   "source": [
    "## Non-Pythonic Version"
   ]
  },
  {
   "cell_type": "code",
   "execution_count": 11,
   "id": "b114f97f",
   "metadata": {},
   "outputs": [
    {
     "name": "stdout",
     "output_type": "stream",
     "text": [
      "Enter the number1: 220\n",
      "Enter the number2: 284\n",
      "The number pair (220,284) is Amicable pair\n"
     ]
    }
   ],
   "source": [
    "n = int(input('Enter the number1: '))\n",
    "m = int(input('Enter the number2: '))\n",
    "sum_of_divisors_of_n = 0\n",
    "sum_of_divisors_of_m = 0\n",
    "for d in range(1,n//2+1):\n",
    "    if n%d == 0:\n",
    "        sum_of_divisors_of_n += d\n",
    "for d in range(1,m//2+1):\n",
    "    if m%d == 0:\n",
    "        sum_of_divisors_of_m += d\n",
    "        \n",
    "if sum_of_divisors_of_m == n and sum_of_divisors_of_n == m:\n",
    "    print(f'The number pair ({n},{m}) is Amicable pair')\n",
    "else:\n",
    "    print(f'The number pair ({n},{m}) is not Amicable pair')"
   ]
  },
  {
   "cell_type": "markdown",
   "id": "fb09a47c",
   "metadata": {},
   "source": [
    "## Pythonic Version with List Comprehension"
   ]
  },
  {
   "cell_type": "code",
   "execution_count": 12,
   "id": "19202169",
   "metadata": {},
   "outputs": [
    {
     "name": "stdout",
     "output_type": "stream",
     "text": [
      "Enter the number1: 220\n",
      "Enter the number2: 284\n",
      "The number pair (220,284) is Amicable pair\n"
     ]
    }
   ],
   "source": [
    "n = int(input('Enter the number1: '))\n",
    "m = int(input('Enter the number2: '))\n",
    "divisors_of_n = [d for d in range(1,n//2+1) if n%d == 0]\n",
    "divisors_of_m = [d for d in range(1,m//2+1) if m%d == 0]\n",
    "\n",
    "if sum(divisors_of_m) == n and sum(divisors_of_n) == m:\n",
    "    print(f'The number pair ({n},{m}) is Amicable pair')\n",
    "else:\n",
    "    print(f'The number pair ({n},{m}) is not Amicable pair')"
   ]
  },
  {
   "cell_type": "markdown",
   "id": "c2f8edd7",
   "metadata": {},
   "source": [
    "## Write a Python program to verify whether a given number is a Harshad number or not.\n",
    "\n",
    "#### A number $N$ is said to be a Harshad number if $N$ is divisible by the sum of its own digits. For example, $1729$ is a Harshad number as $1+7+2+9 = 19$ divides the number $1729$."
   ]
  },
  {
   "cell_type": "markdown",
   "id": "b31b97c5",
   "metadata": {},
   "source": [
    "## Non-Pythonic Version"
   ]
  },
  {
   "cell_type": "code",
   "execution_count": 13,
   "id": "f070e005",
   "metadata": {},
   "outputs": [
    {
     "name": "stdout",
     "output_type": "stream",
     "text": [
      "Enter the number: 1729\n",
      "The number 1729 is a Harshad number\n"
     ]
    }
   ],
   "source": [
    "n = int(input('Enter the number: '))\n",
    "sum_of_digits = 0\n",
    "n1 = n\n",
    "while n1 > 0:\n",
    "    digit = n1%10\n",
    "    sum_of_digits += digit\n",
    "    n1 = n1//10\n",
    "if n%sum_of_digits == 0:\n",
    "    print(f'The number {n} is a Harshad number')\n",
    "else:\n",
    "    print(f'The number {n} is not a Harshad number')"
   ]
  },
  {
   "cell_type": "markdown",
   "id": "fc08e3c4",
   "metadata": {},
   "source": [
    "## Pythonic Version with out List Comprehension"
   ]
  },
  {
   "cell_type": "code",
   "execution_count": 14,
   "id": "5bfc813a",
   "metadata": {},
   "outputs": [
    {
     "name": "stdout",
     "output_type": "stream",
     "text": [
      "Enter the number: 1729\n",
      "The number 1729 is a Harshad number\n"
     ]
    }
   ],
   "source": [
    "n = input('Enter the number: ')\n",
    "sum_of_digits = 0\n",
    "for digit in n:\n",
    "    sum_of_digits = sum_of_digits+int(digit)\n",
    "if int(n)%sum_of_digits == 0:\n",
    "    print(f'The number {n} is a Harshad number')\n",
    "else:\n",
    "    print(f'The number {n} is not a Harshad number')"
   ]
  },
  {
   "cell_type": "markdown",
   "id": "25f0b418",
   "metadata": {},
   "source": [
    "## Pythonic Version with List Comprehension"
   ]
  },
  {
   "cell_type": "code",
   "execution_count": 15,
   "id": "6ecf8b71",
   "metadata": {},
   "outputs": [
    {
     "name": "stdout",
     "output_type": "stream",
     "text": [
      "Enter the number: 1729\n",
      "The number 1729 is a Harshad number\n"
     ]
    }
   ],
   "source": [
    "n = input('Enter the number: ')\n",
    "sum_of_digits = sum([int(digit) for digit in n])\n",
    "if int(n)%sum_of_digits == 0:\n",
    "    print(f'The number {n} is a Harshad number')\n",
    "else:\n",
    "    print(f'The number {n} is not a Harshad number')"
   ]
  }
 ],
 "metadata": {
  "kernelspec": {
   "display_name": "Python 3 (ipykernel)",
   "language": "python",
   "name": "python3"
  },
  "language_info": {
   "codemirror_mode": {
    "name": "ipython",
    "version": 3
   },
   "file_extension": ".py",
   "mimetype": "text/x-python",
   "name": "python",
   "nbconvert_exporter": "python",
   "pygments_lexer": "ipython3",
   "version": "3.10.13"
  },
  "latex_envs": {
   "LaTeX_envs_menu_present": true,
   "autoclose": false,
   "autocomplete": true,
   "bibliofile": "biblio.bib",
   "cite_by": "apalike",
   "current_citInitial": 1,
   "eqLabelWithNumbers": true,
   "eqNumInitial": 1,
   "hotkeys": {
    "equation": "Ctrl-E",
    "itemize": "Ctrl-I"
   },
   "labels_anchors": false,
   "latex_user_defs": false,
   "report_style_numbering": false,
   "user_envs_cfg": false
  }
 },
 "nbformat": 4,
 "nbformat_minor": 5
}
