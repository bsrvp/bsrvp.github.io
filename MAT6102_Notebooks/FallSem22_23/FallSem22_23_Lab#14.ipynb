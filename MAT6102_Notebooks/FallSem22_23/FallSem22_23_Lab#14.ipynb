{
 "cells": [
  {
   "cell_type": "markdown",
   "id": "29ab0c0a",
   "metadata": {},
   "source": [
    "## User-defined functions in Python - II"
   ]
  },
  {
   "cell_type": "markdown",
   "id": "080fdb64",
   "metadata": {},
   "source": [
    "**Question-1.** Write a function `factorial(n)` to find the factorial of a given positive integer $n$. Using this function write a function `binom(n,k)` to find the binomial coefficient $\\binom{n}{k} = \\frac{n!}{k!(n-k)!}.$ "
   ]
  },
  {
   "cell_type": "markdown",
   "id": "1d264204",
   "metadata": {},
   "source": [
    "#### Version - 1: Finding the factorial without using recurrsion"
   ]
  },
  {
   "cell_type": "code",
   "execution_count": 1,
   "id": "0cfd002a",
   "metadata": {},
   "outputs": [],
   "source": [
    "def factorial(n):\n",
    "    fact = 1\n",
    "    if n < 0:\n",
    "        print('Number should be positive')\n",
    "        return\n",
    "    for i in range(1,n+1):\n",
    "        fact = fact*i\n",
    "    return fact"
   ]
  },
  {
   "cell_type": "code",
   "execution_count": 2,
   "id": "27b6e931",
   "metadata": {},
   "outputs": [
    {
     "data": {
      "text/plain": [
       "720"
      ]
     },
     "execution_count": 2,
     "metadata": {},
     "output_type": "execute_result"
    }
   ],
   "source": [
    "factorial(6)"
   ]
  },
  {
   "cell_type": "markdown",
   "id": "180c525b",
   "metadata": {},
   "source": [
    "#### Version - 2: Finding the factorial using recurrision"
   ]
  },
  {
   "cell_type": "code",
   "execution_count": 3,
   "id": "4ffdcff2",
   "metadata": {},
   "outputs": [],
   "source": [
    "def factrer(n):\n",
    "    if n<0:\n",
    "        print('Number should be positive')\n",
    "        return\n",
    "    if n == 1:\n",
    "        return 1\n",
    "    else:\n",
    "        return n*factrer(n-1)"
   ]
  },
  {
   "cell_type": "code",
   "execution_count": 4,
   "id": "ff73b36a",
   "metadata": {},
   "outputs": [
    {
     "data": {
      "text/plain": [
       "3628800"
      ]
     },
     "execution_count": 4,
     "metadata": {},
     "output_type": "execute_result"
    }
   ],
   "source": [
    "factrer(10)"
   ]
  },
  {
   "cell_type": "code",
   "execution_count": 5,
   "id": "1cb33649",
   "metadata": {},
   "outputs": [],
   "source": [
    "def binom_norecur(n,k):\n",
    "    if n < k:\n",
    "        print(f'{n} should be greter than or equal to {k}')\n",
    "        return\n",
    "    else:\n",
    "        return int(factorial(n)/(factorial(k)*factorial(n-k)))"
   ]
  },
  {
   "cell_type": "code",
   "execution_count": 6,
   "id": "50206fd2",
   "metadata": {},
   "outputs": [
    {
     "data": {
      "text/plain": [
       "6"
      ]
     },
     "execution_count": 6,
     "metadata": {},
     "output_type": "execute_result"
    }
   ],
   "source": [
    "binom_norecur(6,5)"
   ]
  },
  {
   "cell_type": "code",
   "execution_count": 7,
   "id": "225ec000",
   "metadata": {},
   "outputs": [],
   "source": [
    "def binom_recur(n,k):\n",
    "    if n < k:\n",
    "        print(f'{n} should be greter than or equal to {k}')\n",
    "        return\n",
    "    else:\n",
    "        return int(factrer(n)/(factrer(k)*factrer(n-k)))"
   ]
  },
  {
   "cell_type": "code",
   "execution_count": 8,
   "id": "8c9433bc",
   "metadata": {},
   "outputs": [
    {
     "data": {
      "text/plain": [
       "6"
      ]
     },
     "execution_count": 8,
     "metadata": {},
     "output_type": "execute_result"
    }
   ],
   "source": [
    "binom_recur(6,5)"
   ]
  },
  {
   "cell_type": "markdown",
   "id": "5f8ef516",
   "metadata": {},
   "source": [
    "**Question-2.** In previous sections, we have constructed a function `findAll(string,ch)` that returns all the occurrences/positions of the given character `ch` in the given string`s` as a list and returns an empty list if there are no occurrences of the character in the given string. Rewrite this function using the List comprehension technique."
   ]
  },
  {
   "cell_type": "code",
   "execution_count": 9,
   "id": "00b9ffd5",
   "metadata": {},
   "outputs": [],
   "source": [
    "def findAll(string,ch):\n",
    "    pos = [i+1 for i in range(0,len(string)) if ch==string[i]]\n",
    "    return pos"
   ]
  },
  {
   "cell_type": "code",
   "execution_count": 10,
   "id": "64da11d0",
   "metadata": {},
   "outputs": [
    {
     "data": {
      "text/plain": [
       "[2, 19, 27, 32]"
      ]
     },
     "execution_count": 10,
     "metadata": {},
     "output_type": "execute_result"
    }
   ],
   "source": [
    "findAll('Helloooo this is testing message','e')"
   ]
  },
  {
   "cell_type": "markdown",
   "id": "c753e45b",
   "metadata": {},
   "source": [
    "**Question-3.** Write a Python function named `strDecompose(string)` which accepts a string with characters, numbers and special characters and outputs a string of characters, a string of numbers and a string of special characters separately, along with their count.\n",
    "\n",
    "For example, consider the string \"abcd@1234#ef&56!\" then the output should be \"abcdef\", \"123456\" and \"@#&!\" along with the message that \"There are 6 characters, 6 numbers and 4 special characters\""
   ]
  },
  {
   "cell_type": "markdown",
   "id": "be114e61",
   "metadata": {},
   "source": [
    "#### Version - 1: StringDecompose function using the string join."
   ]
  },
  {
   "cell_type": "code",
   "execution_count": 11,
   "id": "906c0090",
   "metadata": {},
   "outputs": [],
   "source": [
    "def stringDecompose(string):\n",
    "    chstring = \"\"\n",
    "    numstring = \"\"\n",
    "    spstring = \"\"\n",
    "    for ch in string:\n",
    "        if ch.isdigit():\n",
    "            numstring = numstring + ch\n",
    "        elif ch.isalpha():\n",
    "            chstring = chstring + ch\n",
    "        else:\n",
    "            spstring = spstring + ch\n",
    "    print('The character string is: ',chstring,'having',\\\n",
    "          len(chstring),'characters')\n",
    "    print('The number string is: ',numstring,'having',\\\n",
    "          len(numstring),'characters')\n",
    "    print('The special character string is: ',spstring,'having',\\\n",
    "          len(spstring),'characters')    "
   ]
  },
  {
   "cell_type": "code",
   "execution_count": 12,
   "id": "7bd9386e",
   "metadata": {},
   "outputs": [
    {
     "name": "stdout",
     "output_type": "stream",
     "text": [
      "The character string is:  abcdefdfsd having 10 characters\n",
      "The number string is:  1343342 having 7 characters\n",
      "The special character string is:  @$ having 2 characters\n"
     ]
    }
   ],
   "source": [
    "stringDecompose('abcd1343ef@$342dfsd')"
   ]
  },
  {
   "cell_type": "markdown",
   "id": "5641ae3d",
   "metadata": {},
   "source": [
    "#### Version - 2: StringDecompose function using Lists and then using the `join(List)` to convert the list of characters into a String."
   ]
  },
  {
   "cell_type": "code",
   "execution_count": 13,
   "id": "8570c4b2",
   "metadata": {},
   "outputs": [
    {
     "data": {
      "text/plain": [
       "'abc'"
      ]
     },
     "execution_count": 13,
     "metadata": {},
     "output_type": "execute_result"
    }
   ],
   "source": [
    "\"\".join(['a','b','c'])"
   ]
  },
  {
   "cell_type": "code",
   "execution_count": 14,
   "id": "60f3b089",
   "metadata": {},
   "outputs": [],
   "source": [
    "def stringDecomposeLV(string):\n",
    "    chstring = []\n",
    "    numstring = []\n",
    "    spstring = []\n",
    "    for ch in string:\n",
    "        if ch.isdigit():\n",
    "            numstring.append(ch)\n",
    "        elif ch.isalpha():\n",
    "            chstring.append(ch)\n",
    "        else:\n",
    "            spstring.append(ch)\n",
    "    print('The character string is: ',\"\".join(chstring),'having',\\\n",
    "          len(chstring),'characters')\n",
    "    print('The number string is: ',\"\".join(numstring),'having',\\\n",
    "          len(numstring),'characters')\n",
    "    print('The special character string is: ',\"\".join(spstring),'having',\\\n",
    "          len(spstring),'characters')  "
   ]
  },
  {
   "cell_type": "code",
   "execution_count": 15,
   "id": "56636c8b",
   "metadata": {},
   "outputs": [
    {
     "name": "stdout",
     "output_type": "stream",
     "text": [
      "The character string is:  abcdefdfsd having 10 characters\n",
      "The number string is:  1343342 having 7 characters\n",
      "The special character string is:  @$ having 2 characters\n"
     ]
    }
   ],
   "source": [
    "stringDecomposeLV('abcd1343ef@$342dfsd')"
   ]
  },
  {
   "cell_type": "markdown",
   "id": "fe4960af",
   "metadata": {},
   "source": [
    "**Question-4.** Write a function script that accepts a variable number of arguments and returns the sum and multiplication of all these numbers. While doing so, the function should first check whether all the inputs are either integers or floats. If not, then the function should display an error message and stop execution.\n",
    "\n",
    "**_Hint:_** One can use the `type` function to determine the data type of the variable."
   ]
  },
  {
   "cell_type": "code",
   "execution_count": 16,
   "id": "1da1567e",
   "metadata": {},
   "outputs": [
    {
     "data": {
      "text/plain": [
       "True"
      ]
     },
     "execution_count": 16,
     "metadata": {},
     "output_type": "execute_result"
    }
   ],
   "source": [
    "ch = 1\n",
    "type(ch) == int"
   ]
  },
  {
   "cell_type": "markdown",
   "id": "b0d4ae63",
   "metadata": {},
   "source": [
    "#### Main Function"
   ]
  },
  {
   "cell_type": "code",
   "execution_count": 17,
   "id": "3f6255ea",
   "metadata": {},
   "outputs": [],
   "source": [
    "def addMultNums(*args):\n",
    "    sumn = 0\n",
    "    prodn = 1\n",
    "    for i in args:\n",
    "        if type(i) == int or type(i) == float:\n",
    "            sumn = sumn+i\n",
    "            prodn = prodn*i\n",
    "        else:\n",
    "            print(f'Error! the input \"{i}\" is not int or float')\n",
    "            return (0,0)\n",
    "    return (sumn, prodn)"
   ]
  },
  {
   "cell_type": "code",
   "execution_count": 18,
   "id": "c45baeb9",
   "metadata": {},
   "outputs": [
    {
     "name": "stdout",
     "output_type": "stream",
     "text": [
      "The sum of the given numbers is 9.5 and the product is 17.5\n"
     ]
    }
   ],
   "source": [
    "sumnos, prodnos = addMultNums(1,3.5,5)\n",
    "print(f'The sum of the given numbers is {sumnos} and the product is {prodnos}')"
   ]
  },
  {
   "cell_type": "markdown",
   "id": "c9868b8d",
   "metadata": {},
   "source": [
    "**Question-5.** Find three functions scripts named `equalFirstText(str1, str2, n)`,`equalLastText(str1,str2,n)` and `equalFirstLastText(stt1,str2,n)`which checks whether in two given strings \n",
    "\n",
    "1. are the first `n` characters are same or not, \n",
    "2. are the last `n` characters are same or not and \n",
    "3. are the first `n` and last `n` characters are same or not."
   ]
  },
  {
   "cell_type": "code",
   "execution_count": 19,
   "id": "2813c42e",
   "metadata": {},
   "outputs": [],
   "source": [
    "def equalFirstText(str1,str2,n):\n",
    "    if n > len(str1) or n > len(str2):\n",
    "        print('The third parameter must be less than the minimum of lengths of the two strings')\n",
    "        return\n",
    "    if str1[:n].lower() == str2[:n].lower():\n",
    "        print('Equal')\n",
    "    else:\n",
    "        print('Not Equal')\n",
    "        \n",
    "def equalLastText(str1,str2,n):\n",
    "    if n > len(str1) or n > len(str2):\n",
    "        print('The third parameter must be less than the minimum of lengths of the two strings')\n",
    "        return\n",
    "    if str1[-n:].lower() == str2[-n:].lower():\n",
    "        print('Equal')\n",
    "    else:\n",
    "        print('Not Equal')\n",
    "\n",
    "def equalFirstLastText(str1,str2,n):\n",
    "    if n > len(str1) or n > len(str2):\n",
    "        print('The third parameter must be less than the minimum of lengths of the two strings')\n",
    "        return    \n",
    "    if str1[:n].lower() == str2[-n:].lower():\n",
    "        print('Equal')\n",
    "    else:\n",
    "        print('Not Equal')"
   ]
  },
  {
   "cell_type": "code",
   "execution_count": 20,
   "id": "4147490e",
   "metadata": {},
   "outputs": [
    {
     "name": "stdout",
     "output_type": "stream",
     "text": [
      "Equal\n"
     ]
    }
   ],
   "source": [
    "equalFirstText('abcd','abcde',3)"
   ]
  },
  {
   "cell_type": "code",
   "execution_count": 21,
   "id": "9411e3d3",
   "metadata": {},
   "outputs": [
    {
     "name": "stdout",
     "output_type": "stream",
     "text": [
      "The third parameter must be less than the minimum of lengths of the two strings\n"
     ]
    }
   ],
   "source": [
    "equalFirstText('abcd','abcde',7)"
   ]
  },
  {
   "cell_type": "code",
   "execution_count": 22,
   "id": "83e79c54",
   "metadata": {},
   "outputs": [
    {
     "name": "stdout",
     "output_type": "stream",
     "text": [
      "Equal\n"
     ]
    }
   ],
   "source": [
    "equalLastText('abcd','aebcd',3)"
   ]
  },
  {
   "cell_type": "code",
   "execution_count": 23,
   "id": "56cb043e",
   "metadata": {},
   "outputs": [
    {
     "name": "stdout",
     "output_type": "stream",
     "text": [
      "Not Equal\n"
     ]
    }
   ],
   "source": [
    "equalFirstLastText('cabcd','abcaba',5)"
   ]
  }
 ],
 "metadata": {
  "kernelspec": {
   "display_name": "Python 3 (ipykernel)",
   "language": "python",
   "name": "python3"
  },
  "language_info": {
   "codemirror_mode": {
    "name": "ipython",
    "version": 3
   },
   "file_extension": ".py",
   "mimetype": "text/x-python",
   "name": "python",
   "nbconvert_exporter": "python",
   "pygments_lexer": "ipython3",
   "version": "3.10.13"
  },
  "latex_envs": {
   "LaTeX_envs_menu_present": true,
   "autoclose": false,
   "autocomplete": true,
   "bibliofile": "biblio.bib",
   "cite_by": "apalike",
   "current_citInitial": 1,
   "eqLabelWithNumbers": true,
   "eqNumInitial": 1,
   "hotkeys": {
    "equation": "Ctrl-E",
    "itemize": "Ctrl-I"
   },
   "labels_anchors": false,
   "latex_user_defs": false,
   "report_style_numbering": false,
   "user_envs_cfg": false
  }
 },
 "nbformat": 4,
 "nbformat_minor": 5
}
