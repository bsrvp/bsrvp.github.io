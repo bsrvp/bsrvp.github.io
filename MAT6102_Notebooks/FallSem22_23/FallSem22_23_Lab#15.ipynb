{
 "cells": [
  {
   "cell_type": "markdown",
   "id": "b7ec66cd",
   "metadata": {},
   "source": [
    "#### Write a closure function which takes an argument $n$ and returns a function which performs the operation of raising a given number to the power $n$"
   ]
  },
  {
   "cell_type": "code",
   "execution_count": 1,
   "id": "c5b5498d",
   "metadata": {},
   "outputs": [],
   "source": [
    "def power_n(n):\n",
    "    def power(x):\n",
    "        return x**n\n",
    "    return power"
   ]
  },
  {
   "cell_type": "code",
   "execution_count": 2,
   "id": "c2610143",
   "metadata": {},
   "outputs": [],
   "source": [
    "power_2 = power_n(2)\n",
    "power_3 = power_n(3)"
   ]
  },
  {
   "cell_type": "code",
   "execution_count": 3,
   "id": "5581f9ab",
   "metadata": {},
   "outputs": [
    {
     "data": {
      "text/plain": [
       "8"
      ]
     },
     "execution_count": 3,
     "metadata": {},
     "output_type": "execute_result"
    }
   ],
   "source": [
    "power_3(2)"
   ]
  },
  {
   "cell_type": "markdown",
   "id": "31f02e60",
   "metadata": {},
   "source": [
    "#### Suppose you need to calculate the mean of a dataset. The data come in a stream of successive measurements of the parameter under analysis, and you need your function to retain the previous measurements between calls. Write a closure function named `mean()` in which the inner function stores the successing measurements and returns the mean of these values "
   ]
  },
  {
   "cell_type": "code",
   "execution_count": 4,
   "id": "b6600982",
   "metadata": {},
   "outputs": [],
   "source": [
    "def mean():\n",
    "    sample = []\n",
    "    def sample_mean(*n):\n",
    "        sample.extend(n)\n",
    "        print(sum(sample)/len(sample))\n",
    "    return sample_mean"
   ]
  },
  {
   "cell_type": "code",
   "execution_count": 5,
   "id": "b0651c34",
   "metadata": {},
   "outputs": [],
   "source": [
    "smean = mean()"
   ]
  },
  {
   "cell_type": "code",
   "execution_count": 6,
   "id": "123a0308",
   "metadata": {},
   "outputs": [
    {
     "name": "stdout",
     "output_type": "stream",
     "text": [
      "5.0\n"
     ]
    }
   ],
   "source": [
    "smean(5)"
   ]
  },
  {
   "cell_type": "code",
   "execution_count": 7,
   "id": "9dd369e4",
   "metadata": {
    "scrolled": true
   },
   "outputs": [
    {
     "name": "stdout",
     "output_type": "stream",
     "text": [
      "7.5\n"
     ]
    }
   ],
   "source": [
    "smean(10)"
   ]
  },
  {
   "cell_type": "code",
   "execution_count": 8,
   "id": "11e55bba",
   "metadata": {},
   "outputs": [
    {
     "name": "stdout",
     "output_type": "stream",
     "text": [
      "8.5\n"
     ]
    }
   ],
   "source": [
    "smean(7,8,9,12)"
   ]
  }
 ],
 "metadata": {
  "kernelspec": {
   "display_name": "Python 3 (ipykernel)",
   "language": "python",
   "name": "python3"
  },
  "language_info": {
   "codemirror_mode": {
    "name": "ipython",
    "version": 3
   },
   "file_extension": ".py",
   "mimetype": "text/x-python",
   "name": "python",
   "nbconvert_exporter": "python",
   "pygments_lexer": "ipython3",
   "version": "3.10.13"
  },
  "latex_envs": {
   "LaTeX_envs_menu_present": true,
   "autoclose": false,
   "autocomplete": true,
   "bibliofile": "biblio.bib",
   "cite_by": "apalike",
   "current_citInitial": 1,
   "eqLabelWithNumbers": true,
   "eqNumInitial": 1,
   "hotkeys": {
    "equation": "Ctrl-E",
    "itemize": "Ctrl-I"
   },
   "labels_anchors": false,
   "latex_user_defs": false,
   "report_style_numbering": false,
   "user_envs_cfg": false
  }
 },
 "nbformat": 4,
 "nbformat_minor": 5
}
