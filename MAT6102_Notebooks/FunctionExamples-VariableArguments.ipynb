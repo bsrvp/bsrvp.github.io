{
 "cells": [
  {
   "cell_type": "code",
   "execution_count": 21,
   "id": "0f03e972",
   "metadata": {},
   "outputs": [
    {
     "name": "stdout",
     "output_type": "stream",
     "text": [
      "Hello a= 0 b= 0 a+b= 0\n",
      "Hello a= 0 b= 2 a+b= 2\n",
      "Hello a= 4 b= 2 a+b= 6\n"
     ]
    }
   ],
   "source": [
    "def myFunc(c,a=0,b=0):\n",
    "    print(\"Hello\",\"a=\",a,\"b=\",b,\"a+b=\",a+b)\n",
    "\n",
    "myFunc(2)\n",
    "myFunc(4,b=2)\n",
    "myFunc(1,b=2,a=4)"
   ]
  },
  {
   "cell_type": "code",
   "execution_count": 37,
   "id": "65f1ae16",
   "metadata": {},
   "outputs": [],
   "source": [
    "def myFuncSumList(*args):\n",
    "    print(args)\n",
    "    Lsum = 0\n",
    "    for i in args:\n",
    "        Lsum += i\n",
    "    return Lsum"
   ]
  },
  {
   "cell_type": "code",
   "execution_count": 38,
   "id": "01c67c93",
   "metadata": {},
   "outputs": [
    {
     "name": "stdout",
     "output_type": "stream",
     "text": [
      "(1,)\n",
      "1\n",
      "(1, 344)\n",
      "345\n",
      "(1, 23, 42, 23, 344)\n",
      "433\n"
     ]
    }
   ],
   "source": [
    "print(myFuncSumList(1))\n",
    "print(myFuncSumList(1,344))\n",
    "print(myFuncSumList(1,23,42,23,344))"
   ]
  },
  {
   "cell_type": "code",
   "execution_count": 44,
   "id": "1090bab5",
   "metadata": {},
   "outputs": [],
   "source": [
    "def myFunc1(**kwargs):\n",
    "    print(kwargs)\n",
    "    Lsum = 0\n",
    "    for key,value in kwargs.items():\n",
    "        print(\"Key = \",key,\"Value = \",value)\n",
    "        Lsum = Lsum + value\n",
    "    print(\"Sum is: \",Lsum)"
   ]
  },
  {
   "cell_type": "code",
   "execution_count": 45,
   "id": "3326dad9",
   "metadata": {},
   "outputs": [
    {
     "name": "stdout",
     "output_type": "stream",
     "text": [
      "{'First': 20, 'Second': 20}\n",
      "Key =  First Value =  20\n",
      "Key =  Second Value =  20\n",
      "Sum is:  40\n"
     ]
    }
   ],
   "source": [
    "myFunc1(First=20,Second=20)"
   ]
  },
  {
   "cell_type": "code",
   "execution_count": 47,
   "id": "390a7987",
   "metadata": {},
   "outputs": [
    {
     "name": "stdout",
     "output_type": "stream",
     "text": [
      "{'A': 20, 'B': 20}\n",
      "Key =  A Value =  20\n",
      "Key =  B Value =  20\n",
      "Sum is:  40\n"
     ]
    }
   ],
   "source": [
    "myFunc1(A=20,B=20)"
   ]
  },
  {
   "cell_type": "code",
   "execution_count": 54,
   "id": "888ba808",
   "metadata": {},
   "outputs": [],
   "source": [
    "init = 10\n",
    "def myfunc(a,b):\n",
    "    init = 20\n",
    "    print(init)\n",
    "    init = init+20\n",
    "    print(\"Sum is: \",a+b+init)"
   ]
  },
  {
   "cell_type": "code",
   "execution_count": 55,
   "id": "26285ee9",
   "metadata": {},
   "outputs": [
    {
     "name": "stdout",
     "output_type": "stream",
     "text": [
      "20\n",
      "Sum is:  340\n",
      "10\n"
     ]
    }
   ],
   "source": [
    "myfunc(100,200)\n",
    "print(init)"
   ]
  },
  {
   "cell_type": "code",
   "execution_count": 56,
   "id": "738672a4",
   "metadata": {},
   "outputs": [],
   "source": [
    "init = 10\n",
    "def myfunc(a,b):\n",
    "    global init\n",
    "    print(init)\n",
    "    init = init+20\n",
    "    print(\"Sum is: \",a+b+init)"
   ]
  },
  {
   "cell_type": "code",
   "execution_count": 90,
   "id": "8dbdee9a",
   "metadata": {},
   "outputs": [
    {
     "name": "stdout",
     "output_type": "stream",
     "text": [
      "[2, 4, 6, 8]\n"
     ]
    }
   ],
   "source": [
    "#S = input('Enter numnbers separared by comma:')\n",
    "L = list(map(lambda x:x+x,[1,2,3,4]))\n",
    "print(L)"
   ]
  },
  {
   "cell_type": "code",
   "execution_count": 86,
   "id": "0586d8c1",
   "metadata": {},
   "outputs": [
    {
     "name": "stdout",
     "output_type": "stream",
     "text": [
      "[1, 4, 9, 16, 25]\n"
     ]
    }
   ],
   "source": [
    "print(L)"
   ]
  },
  {
   "cell_type": "code",
   "execution_count": 84,
   "id": "fe625925",
   "metadata": {},
   "outputs": [
    {
     "data": {
      "text/plain": [
       "<map at 0x21cc18cf010>"
      ]
     },
     "execution_count": 84,
     "metadata": {},
     "output_type": "execute_result"
    }
   ],
   "source": [
    "map(int,S.split(\",\"))"
   ]
  },
  {
   "cell_type": "code",
   "execution_count": 76,
   "id": "16dce447",
   "metadata": {},
   "outputs": [
    {
     "name": "stdout",
     "output_type": "stream",
     "text": [
      "[1, 2, 3, 4, 5]\n"
     ]
    }
   ],
   "source": [
    "print(L)"
   ]
  },
  {
   "cell_type": "code",
   "execution_count": 93,
   "id": "e27d0b27",
   "metadata": {},
   "outputs": [
    {
     "name": "stdout",
     "output_type": "stream",
     "text": [
      "[18, 24, 32]\n"
     ]
    }
   ],
   "source": [
    "ages = [5, 12, 17, 18, 24, 32]\n",
    "\n",
    "def myFunc(x):\n",
    "  if x < 18:\n",
    "    return False\n",
    "  else:\n",
    "    return True\n",
    "\n",
    "adults = list(filter(myFunc, ages))\n",
    "print(adults)"
   ]
  },
  {
   "cell_type": "code",
   "execution_count": 97,
   "id": "05423412",
   "metadata": {},
   "outputs": [],
   "source": [
    "evennos = list(filter(lambda x:\\\n",
    "                      True if x%2!=0 else False,ages))"
   ]
  },
  {
   "cell_type": "code",
   "execution_count": 98,
   "id": "1c68493b",
   "metadata": {},
   "outputs": [
    {
     "data": {
      "text/plain": [
       "[5, 17]"
      ]
     },
     "execution_count": 98,
     "metadata": {},
     "output_type": "execute_result"
    }
   ],
   "source": [
    "evennos"
   ]
  },
  {
   "cell_type": "code",
   "execution_count": 99,
   "id": "63da7573",
   "metadata": {},
   "outputs": [
    {
     "name": "stdout",
     "output_type": "stream",
     "text": [
      "[6, 7, 8, 9, 10]\n"
     ]
    }
   ],
   "source": [
    "my_list = [1,2,3,4,5,6,7,8,9,10]\n",
    "\n",
    "# Use lambda function with `filter()`\n",
    "filtered_list = list(filter(lambda x: (x*2 > 10), my_list))\n",
    "\n",
    "print(filtered_list)"
   ]
  },
  {
   "cell_type": "code",
   "execution_count": 106,
   "id": "461c6bed",
   "metadata": {},
   "outputs": [
    {
     "name": "stdout",
     "output_type": "stream",
     "text": [
      "Hello from frist function\n",
      "Hello from frist function\n"
     ]
    }
   ],
   "source": [
    "def first(msg):\n",
    "    print(msg+\" from frist function\")\n",
    "\n",
    "first(\"Hello\")\n",
    "\n",
    "second = first\n",
    "second(\"Hello\")"
   ]
  },
  {
   "cell_type": "code",
   "execution_count": 107,
   "id": "c2f07f1b",
   "metadata": {},
   "outputs": [],
   "source": [
    "del first"
   ]
  },
  {
   "cell_type": "code",
   "execution_count": 102,
   "id": "0bf86e29",
   "metadata": {},
   "outputs": [
    {
     "ename": "NameError",
     "evalue": "name 'first' is not defined",
     "output_type": "error",
     "traceback": [
      "\u001b[1;31m---------------------------------------------------------------------------\u001b[0m",
      "\u001b[1;31mNameError\u001b[0m                                 Traceback (most recent call last)",
      "Cell \u001b[1;32mIn[102], line 1\u001b[0m\n\u001b[1;32m----> 1\u001b[0m \u001b[43mfirst\u001b[49m(\u001b[38;5;124m\"\u001b[39m\u001b[38;5;124mHello\u001b[39m\u001b[38;5;124m\"\u001b[39m)\n",
      "\u001b[1;31mNameError\u001b[0m: name 'first' is not defined"
     ]
    }
   ],
   "source": [
    "first(\"Hello\")"
   ]
  },
  {
   "cell_type": "code",
   "execution_count": 108,
   "id": "a11ba2fe",
   "metadata": {},
   "outputs": [
    {
     "name": "stdout",
     "output_type": "stream",
     "text": [
      "Hellow from frist function\n"
     ]
    }
   ],
   "source": [
    "second(\"Hellow\")"
   ]
  },
  {
   "cell_type": "code",
   "execution_count": 121,
   "id": "0204d7fe",
   "metadata": {},
   "outputs": [],
   "source": [
    "def dash_decorator(name):\n",
    "    return '-'.join(list(name))\n",
    "\n",
    "def no_decorator(name):\n",
    "    return name\n",
    "\n",
    "def shout(name, decorator=no_decorator):\n",
    "    decorated_name = decorator(name)\n",
    "    return f'Hey! My name is {decorated_name}'"
   ]
  },
  {
   "cell_type": "code",
   "execution_count": 122,
   "id": "a73f461e",
   "metadata": {},
   "outputs": [
    {
     "data": {
      "text/plain": [
       "'H-e-l-l-o'"
      ]
     },
     "execution_count": 122,
     "metadata": {},
     "output_type": "execute_result"
    }
   ],
   "source": [
    "dash_decorator('Hello')"
   ]
  },
  {
   "cell_type": "code",
   "execution_count": null,
   "id": "9b21e80c",
   "metadata": {},
   "outputs": [],
   "source": []
  }
 ],
 "metadata": {
  "kernelspec": {
   "display_name": "Python 3 (ipykernel)",
   "language": "python",
   "name": "python3"
  },
  "language_info": {
   "codemirror_mode": {
    "name": "ipython",
    "version": 3
   },
   "file_extension": ".py",
   "mimetype": "text/x-python",
   "name": "python",
   "nbconvert_exporter": "python",
   "pygments_lexer": "ipython3",
   "version": "3.10.13"
  }
 },
 "nbformat": 4,
 "nbformat_minor": 5
}
