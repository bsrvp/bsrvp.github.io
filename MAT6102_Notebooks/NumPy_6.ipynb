{
 "cells": [
  {
   "cell_type": "code",
   "execution_count": 17,
   "id": "49f8860a",
   "metadata": {},
   "outputs": [],
   "source": [
    "import numpy as np\n",
    "a1 = np.arange(0,6)\n",
    "A = np.vstack([a1,a1+10,a1+20,a1+30,a1+40,a1+50])"
   ]
  },
  {
   "cell_type": "code",
   "execution_count": 18,
   "id": "edcfa3c4",
   "metadata": {},
   "outputs": [
    {
     "data": {
      "text/plain": [
       "array([[ 0,  1,  2,  3,  4,  5],\n",
       "       [10, 11, 12, 13, 14, 15],\n",
       "       [20, 21, 22, 23, 24, 25],\n",
       "       [30, 31, 32, 33, 34, 35],\n",
       "       [40, 41, 42, 43, 44, 45],\n",
       "       [50, 51, 52, 53, 54, 55]])"
      ]
     },
     "execution_count": 18,
     "metadata": {},
     "output_type": "execute_result"
    }
   ],
   "source": [
    "A"
   ]
  },
  {
   "cell_type": "code",
   "execution_count": 19,
   "id": "695653c7",
   "metadata": {},
   "outputs": [
    {
     "data": {
      "text/plain": [
       "array([ 2, 12, 52])"
      ]
     },
     "execution_count": 19,
     "metadata": {},
     "output_type": "execute_result"
    }
   ],
   "source": [
    "A[(0,1,5),2]"
   ]
  },
  {
   "cell_type": "code",
   "execution_count": 118,
   "id": "144f8af5",
   "metadata": {},
   "outputs": [],
   "source": [
    "x = np.linspace(1,10,100)"
   ]
  },
  {
   "cell_type": "code",
   "execution_count": 119,
   "id": "1456e82c",
   "metadata": {},
   "outputs": [],
   "source": [
    "f = np.sqrt((np.exp(x)+x/3))/(np.cos(x))\n",
    "g = (x)/(1+np.sin(np.pi*x))"
   ]
  },
  {
   "cell_type": "code",
   "execution_count": 27,
   "id": "98bcada4",
   "metadata": {},
   "outputs": [],
   "source": [
    "import matplotlib.pyplot as plt"
   ]
  },
  {
   "cell_type": "code",
   "execution_count": 120,
   "id": "d15140c6",
   "metadata": {},
   "outputs": [
    {
     "data": {
      "text/plain": [
       "[<matplotlib.lines.Line2D at 0x2a570d57ca0>]"
      ]
     },
     "execution_count": 120,
     "metadata": {},
     "output_type": "execute_result"
    },
    {
     "data": {
      "image/png": "[encoded data removed]",
      "text/plain": [
       "<Figure size 432x288 with 1 Axes>"
      ]
     },
     "metadata": {
      "needs_background": "light"
     },
     "output_type": "display_data"
    }
   ],
   "source": [
    "plt.plot(x,f,'-r')\n",
    "plt.plot(x,g,'--b')"
   ]
  },
  {
   "cell_type": "code",
   "execution_count": null,
   "id": "74338ad5",
   "metadata": {},
   "outputs": [],
   "source": []
  }
 ],
 "metadata": {
  "kernelspec": {
   "display_name": "Python 3 (ipykernel)",
   "language": "python",
   "name": "python3"
  },
  "language_info": {
   "codemirror_mode": {
    "name": "ipython",
    "version": 3
   },
   "file_extension": ".py",
   "mimetype": "text/x-python",
   "name": "python",
   "nbconvert_exporter": "python",
   "pygments_lexer": "ipython3",
   "version": "3.10.13"
  },
  "latex_envs": {
   "LaTeX_envs_menu_present": true,
   "autoclose": true,
   "autocomplete": true,
   "bibliofile": "biblio.bib",
   "cite_by": "apalike",
   "current_citInitial": 1,
   "eqLabelWithNumbers": true,
   "eqNumInitial": 1,
   "hotkeys": {
    "equation": "Ctrl-E",
    "itemize": "Ctrl-I"
   },
   "labels_anchors": false,
   "latex_user_defs": false,
   "report_style_numbering": false,
   "user_envs_cfg": false
  }
 },
 "nbformat": 4,
 "nbformat_minor": 5
}
