{
 "cells": [
  {
   "cell_type": "code",
   "execution_count": 1,
   "id": "d8f4b430",
   "metadata": {},
   "outputs": [],
   "source": [
    "myList = [1,2,3,\"First\",\"Second\",\"Third\"]"
   ]
  },
  {
   "cell_type": "code",
   "execution_count": 2,
   "id": "ccea5bd2",
   "metadata": {},
   "outputs": [],
   "source": [
    "myList.append(23.42)"
   ]
  },
  {
   "cell_type": "code",
   "execution_count": 3,
   "id": "5da64dcf",
   "metadata": {},
   "outputs": [
    {
     "name": "stdout",
     "output_type": "stream",
     "text": [
      "[1, 2, 3, 'First', 'Second', 'Third', 23.42]\n"
     ]
    }
   ],
   "source": [
    "print(myList)"
   ]
  },
  {
   "cell_type": "code",
   "execution_count": 4,
   "id": "1eac3b95",
   "metadata": {},
   "outputs": [
    {
     "data": {
      "text/plain": [
       "True"
      ]
     },
     "execution_count": 4,
     "metadata": {},
     "output_type": "execute_result"
    }
   ],
   "source": [
    "23.42 in myList"
   ]
  },
  {
   "cell_type": "code",
   "execution_count": 5,
   "id": "0e4b2bb4",
   "metadata": {},
   "outputs": [],
   "source": [
    "myList.insert(1,True)"
   ]
  },
  {
   "cell_type": "code",
   "execution_count": 6,
   "id": "03333d5c",
   "metadata": {},
   "outputs": [
    {
     "name": "stdout",
     "output_type": "stream",
     "text": [
      "[1, True, 2, 3, 'First', 'Second', 'Third', 23.42]\n"
     ]
    }
   ],
   "source": [
    "print(myList)"
   ]
  },
  {
   "cell_type": "code",
   "execution_count": 7,
   "id": "50d125f4",
   "metadata": {},
   "outputs": [],
   "source": [
    "myList.remove(1)"
   ]
  },
  {
   "cell_type": "code",
   "execution_count": 8,
   "id": "c714f6e7",
   "metadata": {},
   "outputs": [
    {
     "data": {
      "text/plain": [
       "[True, 2, 3, 'First', 'Second', 'Third', 23.42]"
      ]
     },
     "execution_count": 8,
     "metadata": {},
     "output_type": "execute_result"
    }
   ],
   "source": [
    "myList"
   ]
  },
  {
   "cell_type": "code",
   "execution_count": 9,
   "id": "6fa0b145",
   "metadata": {},
   "outputs": [
    {
     "data": {
      "text/plain": [
       "'First'"
      ]
     },
     "execution_count": 9,
     "metadata": {},
     "output_type": "execute_result"
    }
   ],
   "source": [
    "myList.pop(3)"
   ]
  },
  {
   "cell_type": "code",
   "execution_count": 10,
   "id": "929f7d6b",
   "metadata": {},
   "outputs": [
    {
     "data": {
      "text/plain": [
       "[True, 2, 3, 'Second', 'Third', 23.42]"
      ]
     },
     "execution_count": 10,
     "metadata": {},
     "output_type": "execute_result"
    }
   ],
   "source": [
    "myList"
   ]
  },
  {
   "cell_type": "code",
   "execution_count": 11,
   "id": "c7603cca",
   "metadata": {},
   "outputs": [],
   "source": [
    "del myList[0]"
   ]
  },
  {
   "cell_type": "code",
   "execution_count": 12,
   "id": "16d7d80b",
   "metadata": {},
   "outputs": [
    {
     "data": {
      "text/plain": [
       "[2, 3, 'Second', 'Third', 23.42]"
      ]
     },
     "execution_count": 12,
     "metadata": {},
     "output_type": "execute_result"
    }
   ],
   "source": [
    "myList"
   ]
  },
  {
   "cell_type": "code",
   "execution_count": 13,
   "id": "60bf4bab",
   "metadata": {},
   "outputs": [],
   "source": [
    "myList.clear()"
   ]
  },
  {
   "cell_type": "code",
   "execution_count": 14,
   "id": "7fd6eee8",
   "metadata": {},
   "outputs": [
    {
     "name": "stdout",
     "output_type": "stream",
     "text": [
      "[]\n"
     ]
    }
   ],
   "source": [
    "print(myList)"
   ]
  },
  {
   "cell_type": "code",
   "execution_count": 15,
   "id": "79b28e72",
   "metadata": {},
   "outputs": [],
   "source": [
    "myList = [1,2,3,\"First\",\"Second\",\"Third\"]"
   ]
  },
  {
   "cell_type": "code",
   "execution_count": 16,
   "id": "7c3cc248",
   "metadata": {},
   "outputs": [],
   "source": [
    "myList1 = ['Organge','banana','Grapes']"
   ]
  },
  {
   "cell_type": "code",
   "execution_count": 17,
   "id": "42819e4f",
   "metadata": {},
   "outputs": [],
   "source": [
    "myList1.sort()"
   ]
  },
  {
   "cell_type": "code",
   "execution_count": 18,
   "id": "098de894",
   "metadata": {},
   "outputs": [
    {
     "name": "stdout",
     "output_type": "stream",
     "text": [
      "['Grapes', 'Organge', 'banana']\n"
     ]
    }
   ],
   "source": [
    "print(myList1)"
   ]
  },
  {
   "cell_type": "code",
   "execution_count": 19,
   "id": "2ec21afc",
   "metadata": {},
   "outputs": [],
   "source": [
    "myList1.sort(key = str.lower)"
   ]
  },
  {
   "cell_type": "code",
   "execution_count": 20,
   "id": "46f4671d",
   "metadata": {},
   "outputs": [
    {
     "data": {
      "text/plain": [
       "['banana', 'Grapes', 'Organge']"
      ]
     },
     "execution_count": 20,
     "metadata": {},
     "output_type": "execute_result"
    }
   ],
   "source": [
    "myList1"
   ]
  },
  {
   "cell_type": "code",
   "execution_count": 21,
   "id": "61f4fc95",
   "metadata": {},
   "outputs": [],
   "source": [
    "myList1.reverse()"
   ]
  },
  {
   "cell_type": "code",
   "execution_count": 22,
   "id": "1eddcf6c",
   "metadata": {},
   "outputs": [
    {
     "data": {
      "text/plain": [
       "['Organge', 'Grapes', 'banana']"
      ]
     },
     "execution_count": 22,
     "metadata": {},
     "output_type": "execute_result"
    }
   ],
   "source": [
    "myList1"
   ]
  },
  {
   "cell_type": "code",
   "execution_count": 23,
   "id": "57d24173",
   "metadata": {},
   "outputs": [],
   "source": [
    "myList.reverse()"
   ]
  },
  {
   "cell_type": "code",
   "execution_count": 24,
   "id": "d756b9a9",
   "metadata": {},
   "outputs": [
    {
     "data": {
      "text/plain": [
       "['Third', 'Second', 'First', 3, 2, 1]"
      ]
     },
     "execution_count": 24,
     "metadata": {},
     "output_type": "execute_result"
    }
   ],
   "source": [
    "myList"
   ]
  },
  {
   "cell_type": "code",
   "execution_count": 25,
   "id": "4f37665a",
   "metadata": {},
   "outputs": [],
   "source": [
    "myList1.sort(reverse=True, key=str.lower)"
   ]
  },
  {
   "cell_type": "code",
   "execution_count": 26,
   "id": "e67f5496",
   "metadata": {},
   "outputs": [
    {
     "data": {
      "text/plain": [
       "['Organge', 'Grapes', 'banana']"
      ]
     },
     "execution_count": 26,
     "metadata": {},
     "output_type": "execute_result"
    }
   ],
   "source": [
    "myList1"
   ]
  },
  {
   "cell_type": "code",
   "execution_count": 27,
   "id": "b583f760",
   "metadata": {},
   "outputs": [
    {
     "data": {
      "text/plain": [
       "['Organge', 'Grapes', 'banana']"
      ]
     },
     "execution_count": 27,
     "metadata": {},
     "output_type": "execute_result"
    }
   ],
   "source": [
    "myList1"
   ]
  },
  {
   "cell_type": "code",
   "execution_count": 28,
   "id": "cd2b4827",
   "metadata": {},
   "outputs": [
    {
     "data": {
      "text/plain": [
       "'banana'"
      ]
     },
     "execution_count": 28,
     "metadata": {},
     "output_type": "execute_result"
    }
   ],
   "source": [
    "myList1.pop()"
   ]
  },
  {
   "cell_type": "code",
   "execution_count": 29,
   "id": "c803c8d9",
   "metadata": {},
   "outputs": [],
   "source": [
    "myList1.extend(myList)"
   ]
  },
  {
   "cell_type": "code",
   "execution_count": 30,
   "id": "d627c09c",
   "metadata": {},
   "outputs": [
    {
     "data": {
      "text/plain": [
       "['Organge', 'Grapes', 'Third', 'Second', 'First', 3, 2, 1]"
      ]
     },
     "execution_count": 30,
     "metadata": {},
     "output_type": "execute_result"
    }
   ],
   "source": [
    "myList1"
   ]
  },
  {
   "cell_type": "code",
   "execution_count": 31,
   "id": "0f298a43",
   "metadata": {},
   "outputs": [
    {
     "data": {
      "text/plain": [
       "8"
      ]
     },
     "execution_count": 31,
     "metadata": {},
     "output_type": "execute_result"
    }
   ],
   "source": [
    "len(myList1)"
   ]
  },
  {
   "cell_type": "code",
   "execution_count": 32,
   "id": "6faac8f3",
   "metadata": {},
   "outputs": [],
   "source": [
    "myList2 = [2]"
   ]
  },
  {
   "cell_type": "code",
   "execution_count": 33,
   "id": "a6200026",
   "metadata": {},
   "outputs": [
    {
     "data": {
      "text/plain": [
       "list"
      ]
     },
     "execution_count": 33,
     "metadata": {},
     "output_type": "execute_result"
    }
   ],
   "source": [
    "type(myList2)"
   ]
  },
  {
   "cell_type": "code",
   "execution_count": 34,
   "id": "e7fe734d",
   "metadata": {},
   "outputs": [],
   "source": [
    "myTuple1 = (1,)"
   ]
  },
  {
   "cell_type": "code",
   "execution_count": 35,
   "id": "d34d91ad",
   "metadata": {},
   "outputs": [
    {
     "data": {
      "text/plain": [
       "tuple"
      ]
     },
     "execution_count": 35,
     "metadata": {},
     "output_type": "execute_result"
    }
   ],
   "source": [
    "type(myTuple1)"
   ]
  },
  {
   "cell_type": "code",
   "execution_count": 36,
   "id": "3e724bc8",
   "metadata": {},
   "outputs": [
    {
     "data": {
      "text/plain": [
       "(1,)"
      ]
     },
     "execution_count": 36,
     "metadata": {},
     "output_type": "execute_result"
    }
   ],
   "source": [
    "myTuple1"
   ]
  },
  {
   "cell_type": "code",
   "execution_count": 37,
   "id": "cb651d69",
   "metadata": {},
   "outputs": [],
   "source": [
    "myTuple2 = tuple()"
   ]
  },
  {
   "cell_type": "code",
   "execution_count": 38,
   "id": "725e5456",
   "metadata": {},
   "outputs": [
    {
     "data": {
      "text/plain": [
       "tuple"
      ]
     },
     "execution_count": 38,
     "metadata": {},
     "output_type": "execute_result"
    }
   ],
   "source": [
    "type(myTuple2)"
   ]
  },
  {
   "cell_type": "code",
   "execution_count": 39,
   "id": "2319b257",
   "metadata": {},
   "outputs": [],
   "source": [
    "one = myTuple1"
   ]
  },
  {
   "cell_type": "code",
   "execution_count": 40,
   "id": "e976695b",
   "metadata": {},
   "outputs": [
    {
     "data": {
      "text/plain": [
       "tuple"
      ]
     },
     "execution_count": 40,
     "metadata": {},
     "output_type": "execute_result"
    }
   ],
   "source": [
    "type(one)"
   ]
  },
  {
   "cell_type": "code",
   "execution_count": 41,
   "id": "bcbc2598",
   "metadata": {},
   "outputs": [
    {
     "name": "stdout",
     "output_type": "stream",
     "text": [
      "(1,)\n"
     ]
    }
   ],
   "source": [
    "print(one)"
   ]
  },
  {
   "cell_type": "code",
   "execution_count": 42,
   "id": "ff7a64c4",
   "metadata": {},
   "outputs": [],
   "source": [
    "(one,) = myTuple1"
   ]
  },
  {
   "cell_type": "code",
   "execution_count": 43,
   "id": "134013aa",
   "metadata": {},
   "outputs": [
    {
     "name": "stdout",
     "output_type": "stream",
     "text": [
      "1\n"
     ]
    }
   ],
   "source": [
    "print(one)"
   ]
  },
  {
   "cell_type": "code",
   "execution_count": 44,
   "id": "6ab05b2d",
   "metadata": {},
   "outputs": [
    {
     "data": {
      "text/plain": [
       "int"
      ]
     },
     "execution_count": 44,
     "metadata": {},
     "output_type": "execute_result"
    }
   ],
   "source": [
    "type(one)"
   ]
  },
  {
   "cell_type": "code",
   "execution_count": 45,
   "id": "56269fe5",
   "metadata": {},
   "outputs": [],
   "source": [
    "[one,two] = list([1,2])"
   ]
  },
  {
   "cell_type": "code",
   "execution_count": 46,
   "id": "ef500661",
   "metadata": {},
   "outputs": [
    {
     "name": "stdout",
     "output_type": "stream",
     "text": [
      "1\n"
     ]
    }
   ],
   "source": [
    "print(one)"
   ]
  },
  {
   "cell_type": "code",
   "execution_count": 47,
   "id": "6e5ca2b9",
   "metadata": {},
   "outputs": [
    {
     "name": "stdout",
     "output_type": "stream",
     "text": [
      "2\n"
     ]
    }
   ],
   "source": [
    "print(two)"
   ]
  },
  {
   "cell_type": "code",
   "execution_count": 48,
   "id": "7ff5b86a",
   "metadata": {},
   "outputs": [
    {
     "data": {
      "text/plain": [
       "1"
      ]
     },
     "execution_count": 48,
     "metadata": {},
     "output_type": "execute_result"
    }
   ],
   "source": [
    "one"
   ]
  },
  {
   "cell_type": "code",
   "execution_count": 49,
   "id": "0c2ef8f3",
   "metadata": {},
   "outputs": [
    {
     "data": {
      "text/plain": [
       "2"
      ]
     },
     "execution_count": 49,
     "metadata": {},
     "output_type": "execute_result"
    }
   ],
   "source": [
    "two"
   ]
  },
  {
   "cell_type": "code",
   "execution_count": 98,
   "id": "53d0982e",
   "metadata": {},
   "outputs": [],
   "source": [
    "myTuple2 = (2,3)"
   ]
  },
  {
   "cell_type": "code",
   "execution_count": 99,
   "id": "294751b8",
   "metadata": {},
   "outputs": [
    {
     "data": {
      "text/plain": [
       "(2, 3, 2, 3)"
      ]
     },
     "execution_count": 99,
     "metadata": {},
     "output_type": "execute_result"
    }
   ],
   "source": [
    "myTuple2 * 2"
   ]
  },
  {
   "cell_type": "code",
   "execution_count": 100,
   "id": "2b5b96f7",
   "metadata": {},
   "outputs": [],
   "source": [
    "myTupleList = list(myTuple2)"
   ]
  },
  {
   "cell_type": "code",
   "execution_count": 101,
   "id": "3f3b281a",
   "metadata": {},
   "outputs": [
    {
     "data": {
      "text/plain": [
       "1919137578240"
      ]
     },
     "execution_count": 101,
     "metadata": {},
     "output_type": "execute_result"
    }
   ],
   "source": [
    "id(myTuple2)"
   ]
  },
  {
   "cell_type": "code",
   "execution_count": 102,
   "id": "6e970b7a",
   "metadata": {},
   "outputs": [],
   "source": [
    "myTupleList.append(5)"
   ]
  },
  {
   "cell_type": "code",
   "execution_count": 103,
   "id": "49f29514",
   "metadata": {},
   "outputs": [],
   "source": [
    "myTuple2 = tuple(myTupleList)"
   ]
  },
  {
   "cell_type": "code",
   "execution_count": 104,
   "id": "2c6e1122",
   "metadata": {},
   "outputs": [
    {
     "data": {
      "text/plain": [
       "(2, 3, 5)"
      ]
     },
     "execution_count": 104,
     "metadata": {},
     "output_type": "execute_result"
    }
   ],
   "source": [
    "myTuple2"
   ]
  },
  {
   "cell_type": "code",
   "execution_count": 105,
   "id": "ab520725",
   "metadata": {},
   "outputs": [
    {
     "data": {
      "text/plain": [
       "1919138515904"
      ]
     },
     "execution_count": 105,
     "metadata": {},
     "output_type": "execute_result"
    }
   ],
   "source": [
    "id(myTuple2)"
   ]
  },
  {
   "cell_type": "code",
   "execution_count": 52,
   "id": "c8562bb0",
   "metadata": {},
   "outputs": [],
   "source": [
    "myTuple3 = myTuple1 + myTuple2 * 2"
   ]
  },
  {
   "cell_type": "code",
   "execution_count": 53,
   "id": "cce35fe2",
   "metadata": {},
   "outputs": [
    {
     "data": {
      "text/plain": [
       "(1, 2, 3, 2, 3)"
      ]
     },
     "execution_count": 53,
     "metadata": {},
     "output_type": "execute_result"
    }
   ],
   "source": [
    "myTuple3"
   ]
  },
  {
   "cell_type": "code",
   "execution_count": 54,
   "id": "15725508",
   "metadata": {},
   "outputs": [],
   "source": [
    "set1 = {2,4,True}"
   ]
  },
  {
   "cell_type": "code",
   "execution_count": 55,
   "id": "eb676c81",
   "metadata": {},
   "outputs": [],
   "source": [
    "set1.add('False')"
   ]
  },
  {
   "cell_type": "code",
   "execution_count": 56,
   "id": "286d3558",
   "metadata": {},
   "outputs": [
    {
     "data": {
      "text/plain": [
       "{2, 4, 'False', True}"
      ]
     },
     "execution_count": 56,
     "metadata": {},
     "output_type": "execute_result"
    }
   ],
   "source": [
    "set1"
   ]
  },
  {
   "cell_type": "code",
   "execution_count": 57,
   "id": "a5a0e235",
   "metadata": {},
   "outputs": [],
   "source": [
    "set1.remove(2)"
   ]
  },
  {
   "cell_type": "code",
   "execution_count": 58,
   "id": "bf989cd0",
   "metadata": {},
   "outputs": [
    {
     "data": {
      "text/plain": [
       "{4, 'False', True}"
      ]
     },
     "execution_count": 58,
     "metadata": {},
     "output_type": "execute_result"
    }
   ],
   "source": [
    "set1"
   ]
  },
  {
   "cell_type": "code",
   "execution_count": 59,
   "id": "35db68da",
   "metadata": {},
   "outputs": [
    {
     "data": {
      "text/plain": [
       "True"
      ]
     },
     "execution_count": 59,
     "metadata": {},
     "output_type": "execute_result"
    }
   ],
   "source": [
    "set1.pop()"
   ]
  },
  {
   "cell_type": "code",
   "execution_count": 60,
   "id": "29c46633",
   "metadata": {},
   "outputs": [],
   "source": [
    "set1.discard(True)"
   ]
  },
  {
   "cell_type": "code",
   "execution_count": 61,
   "id": "68dc6a84",
   "metadata": {},
   "outputs": [
    {
     "data": {
      "text/plain": [
       "{4, 'False'}"
      ]
     },
     "execution_count": 61,
     "metadata": {},
     "output_type": "execute_result"
    }
   ],
   "source": [
    "set1"
   ]
  },
  {
   "cell_type": "code",
   "execution_count": 62,
   "id": "acb5099a",
   "metadata": {},
   "outputs": [],
   "source": [
    "set2 = {3,5,1,4}"
   ]
  },
  {
   "cell_type": "code",
   "execution_count": 63,
   "id": "a7a6daa9",
   "metadata": {},
   "outputs": [],
   "source": [
    "set3 = set1.union(set2)"
   ]
  },
  {
   "cell_type": "code",
   "execution_count": 64,
   "id": "f5cbd34e",
   "metadata": {},
   "outputs": [
    {
     "data": {
      "text/plain": [
       "{1, 3, 4, 5, 'False'}"
      ]
     },
     "execution_count": 64,
     "metadata": {},
     "output_type": "execute_result"
    }
   ],
   "source": [
    "set3"
   ]
  },
  {
   "cell_type": "code",
   "execution_count": 65,
   "id": "da66d4a9",
   "metadata": {},
   "outputs": [],
   "source": [
    "set4 = set1.intersection(set2)"
   ]
  },
  {
   "cell_type": "code",
   "execution_count": 66,
   "id": "5b91c7e1",
   "metadata": {},
   "outputs": [
    {
     "data": {
      "text/plain": [
       "{4}"
      ]
     },
     "execution_count": 66,
     "metadata": {},
     "output_type": "execute_result"
    }
   ],
   "source": [
    "set4"
   ]
  },
  {
   "cell_type": "code",
   "execution_count": 67,
   "id": "f9e17b3b",
   "metadata": {},
   "outputs": [],
   "source": [
    "set2.intersection_update(set1)"
   ]
  },
  {
   "cell_type": "code",
   "execution_count": 68,
   "id": "018c1a06",
   "metadata": {},
   "outputs": [
    {
     "data": {
      "text/plain": [
       "{4}"
      ]
     },
     "execution_count": 68,
     "metadata": {},
     "output_type": "execute_result"
    }
   ],
   "source": [
    "set2"
   ]
  },
  {
   "cell_type": "code",
   "execution_count": 69,
   "id": "2d3a5c81",
   "metadata": {},
   "outputs": [
    {
     "data": {
      "text/plain": [
       "{4, 'False'}"
      ]
     },
     "execution_count": 69,
     "metadata": {},
     "output_type": "execute_result"
    }
   ],
   "source": [
    "set1"
   ]
  },
  {
   "cell_type": "code",
   "execution_count": 70,
   "id": "e7b4c68d",
   "metadata": {},
   "outputs": [],
   "source": [
    "set2 = {3,5,1,4}"
   ]
  },
  {
   "cell_type": "code",
   "execution_count": 71,
   "id": "559e5782",
   "metadata": {},
   "outputs": [
    {
     "data": {
      "text/plain": [
       "{1, 3, 5, 'False'}"
      ]
     },
     "execution_count": 71,
     "metadata": {},
     "output_type": "execute_result"
    }
   ],
   "source": [
    "set2.symmetric_difference(set1)"
   ]
  },
  {
   "cell_type": "code",
   "execution_count": 72,
   "id": "2661ac46",
   "metadata": {},
   "outputs": [
    {
     "data": {
      "text/plain": [
       "{4, 'False'}"
      ]
     },
     "execution_count": 72,
     "metadata": {},
     "output_type": "execute_result"
    }
   ],
   "source": [
    "set1"
   ]
  },
  {
   "cell_type": "code",
   "execution_count": 73,
   "id": "8bffc5c9",
   "metadata": {},
   "outputs": [
    {
     "data": {
      "text/plain": [
       "{1, 3, 4, 5}"
      ]
     },
     "execution_count": 73,
     "metadata": {},
     "output_type": "execute_result"
    }
   ],
   "source": [
    "set2"
   ]
  },
  {
   "cell_type": "code",
   "execution_count": 74,
   "id": "1ab54b54",
   "metadata": {},
   "outputs": [
    {
     "data": {
      "text/plain": [
       "False"
      ]
     },
     "execution_count": 74,
     "metadata": {},
     "output_type": "execute_result"
    }
   ],
   "source": [
    "set2.issubset(set1)"
   ]
  },
  {
   "cell_type": "code",
   "execution_count": 75,
   "id": "2de59118",
   "metadata": {},
   "outputs": [
    {
     "data": {
      "text/plain": [
       "False"
      ]
     },
     "execution_count": 75,
     "metadata": {},
     "output_type": "execute_result"
    }
   ],
   "source": [
    "set2.issuperset(set1)"
   ]
  },
  {
   "cell_type": "code",
   "execution_count": 76,
   "id": "1b085543",
   "metadata": {},
   "outputs": [
    {
     "data": {
      "text/plain": [
       "{'False'}"
      ]
     },
     "execution_count": 76,
     "metadata": {},
     "output_type": "execute_result"
    }
   ],
   "source": [
    "set1.difference(set2)"
   ]
  },
  {
   "cell_type": "code",
   "execution_count": 77,
   "id": "9608c97f",
   "metadata": {},
   "outputs": [],
   "source": [
    "myDict1 = {1:\"One\",2:\"Two\",3:\"Three\"}"
   ]
  },
  {
   "cell_type": "code",
   "execution_count": 78,
   "id": "c027be78",
   "metadata": {},
   "outputs": [
    {
     "data": {
      "text/plain": [
       "dict"
      ]
     },
     "execution_count": 78,
     "metadata": {},
     "output_type": "execute_result"
    }
   ],
   "source": [
    "type(myDict1)"
   ]
  },
  {
   "cell_type": "code",
   "execution_count": 79,
   "id": "0f84daba",
   "metadata": {},
   "outputs": [
    {
     "data": {
      "text/plain": [
       "{1: 'One', 2: 'Two', 3: 'Three'}"
      ]
     },
     "execution_count": 79,
     "metadata": {},
     "output_type": "execute_result"
    }
   ],
   "source": [
    "myDict1"
   ]
  },
  {
   "cell_type": "code",
   "execution_count": 80,
   "id": "d6c08039",
   "metadata": {},
   "outputs": [
    {
     "data": {
      "text/plain": [
       "'One'"
      ]
     },
     "execution_count": 80,
     "metadata": {},
     "output_type": "execute_result"
    }
   ],
   "source": [
    "myDict1[1]"
   ]
  },
  {
   "cell_type": "code",
   "execution_count": 81,
   "id": "26251513",
   "metadata": {},
   "outputs": [
    {
     "data": {
      "text/plain": [
       "dict_keys([1, 2, 3])"
      ]
     },
     "execution_count": 81,
     "metadata": {},
     "output_type": "execute_result"
    }
   ],
   "source": [
    "myDict1.keys()"
   ]
  },
  {
   "cell_type": "code",
   "execution_count": 82,
   "id": "81ac8b32",
   "metadata": {},
   "outputs": [
    {
     "data": {
      "text/plain": [
       "dict_values(['One', 'Two', 'Three'])"
      ]
     },
     "execution_count": 82,
     "metadata": {},
     "output_type": "execute_result"
    }
   ],
   "source": [
    "myDict1.values()"
   ]
  },
  {
   "cell_type": "code",
   "execution_count": 83,
   "id": "4ca83121",
   "metadata": {},
   "outputs": [
    {
     "data": {
      "text/plain": [
       "dict_items([(1, 'One'), (2, 'Two'), (3, 'Three')])"
      ]
     },
     "execution_count": 83,
     "metadata": {},
     "output_type": "execute_result"
    }
   ],
   "source": [
    "myDict1.items()"
   ]
  },
  {
   "cell_type": "code",
   "execution_count": 84,
   "id": "997ce1dc",
   "metadata": {},
   "outputs": [],
   "source": [
    "myDict1_items = myDict1.items()"
   ]
  },
  {
   "cell_type": "code",
   "execution_count": 85,
   "id": "4cd80e8f",
   "metadata": {},
   "outputs": [
    {
     "data": {
      "text/plain": [
       "dict_items([(1, 'One'), (2, 'Two'), (3, 'Three')])"
      ]
     },
     "execution_count": 85,
     "metadata": {},
     "output_type": "execute_result"
    }
   ],
   "source": [
    "myDict1_items"
   ]
  },
  {
   "cell_type": "code",
   "execution_count": 86,
   "id": "751d0d12",
   "metadata": {},
   "outputs": [],
   "source": [
    "myDict1[1] = 'OneOne'"
   ]
  },
  {
   "cell_type": "code",
   "execution_count": 87,
   "id": "4e2222e7",
   "metadata": {},
   "outputs": [
    {
     "data": {
      "text/plain": [
       "dict_items([(1, 'OneOne'), (2, 'Two'), (3, 'Three')])"
      ]
     },
     "execution_count": 87,
     "metadata": {},
     "output_type": "execute_result"
    }
   ],
   "source": [
    "myDict1_items"
   ]
  },
  {
   "cell_type": "code",
   "execution_count": 88,
   "id": "403361e3",
   "metadata": {},
   "outputs": [
    {
     "data": {
      "text/plain": [
       "{1: 'OneOne', 2: 'Two', 3: 'Three'}"
      ]
     },
     "execution_count": 88,
     "metadata": {},
     "output_type": "execute_result"
    }
   ],
   "source": [
    "myDict1"
   ]
  },
  {
   "cell_type": "code",
   "execution_count": 89,
   "id": "58f2372c",
   "metadata": {},
   "outputs": [
    {
     "data": {
      "text/plain": [
       "True"
      ]
     },
     "execution_count": 89,
     "metadata": {},
     "output_type": "execute_result"
    }
   ],
   "source": [
    "1 in myDict1"
   ]
  },
  {
   "cell_type": "code",
   "execution_count": 90,
   "id": "f7a68c62",
   "metadata": {},
   "outputs": [
    {
     "data": {
      "text/plain": [
       "False"
      ]
     },
     "execution_count": 90,
     "metadata": {},
     "output_type": "execute_result"
    }
   ],
   "source": [
    "4 in myDict1"
   ]
  },
  {
   "cell_type": "code",
   "execution_count": 91,
   "id": "86500451",
   "metadata": {},
   "outputs": [],
   "source": [
    "myDict1.update({4:\"Four\"})"
   ]
  },
  {
   "cell_type": "code",
   "execution_count": 92,
   "id": "4e5504d1",
   "metadata": {},
   "outputs": [
    {
     "data": {
      "text/plain": [
       "{1: 'OneOne', 2: 'Two', 3: 'Three', 4: 'Four'}"
      ]
     },
     "execution_count": 92,
     "metadata": {},
     "output_type": "execute_result"
    }
   ],
   "source": [
    "myDict1"
   ]
  },
  {
   "cell_type": "code",
   "execution_count": 93,
   "id": "b293aeca",
   "metadata": {},
   "outputs": [],
   "source": [
    "myDict1[5] = \"Five\""
   ]
  },
  {
   "cell_type": "code",
   "execution_count": 94,
   "id": "d3ed94bc",
   "metadata": {},
   "outputs": [
    {
     "data": {
      "text/plain": [
       "{1: 'OneOne', 2: 'Two', 3: 'Three', 4: 'Four', 5: 'Five'}"
      ]
     },
     "execution_count": 94,
     "metadata": {},
     "output_type": "execute_result"
    }
   ],
   "source": [
    "myDict1"
   ]
  },
  {
   "cell_type": "code",
   "execution_count": 95,
   "id": "7cf8cdc3",
   "metadata": {},
   "outputs": [
    {
     "data": {
      "text/plain": [
       "(5, 'Five')"
      ]
     },
     "execution_count": 95,
     "metadata": {},
     "output_type": "execute_result"
    }
   ],
   "source": [
    "myDict1.popitem()"
   ]
  },
  {
   "cell_type": "code",
   "execution_count": 96,
   "id": "17b6498b",
   "metadata": {},
   "outputs": [
    {
     "data": {
      "text/plain": [
       "'Two'"
      ]
     },
     "execution_count": 96,
     "metadata": {},
     "output_type": "execute_result"
    }
   ],
   "source": [
    "myDict1.pop(2)"
   ]
  },
  {
   "cell_type": "code",
   "execution_count": 97,
   "id": "01d0f3e5",
   "metadata": {},
   "outputs": [],
   "source": [
    "del myDict1[4]"
   ]
  },
  {
   "cell_type": "code",
   "execution_count": 108,
   "id": "9fac8c18",
   "metadata": {},
   "outputs": [],
   "source": [
    "myDict2 = {\"brand\": \"HP\", \"product\":\"Laptop\", \"year\":\"2019\"}"
   ]
  },
  {
   "cell_type": "code",
   "execution_count": 109,
   "id": "6cacd08b",
   "metadata": {},
   "outputs": [],
   "source": [
    "dictionary_unique = {\"a\": \"Alpha\", \"b\": \"Beta\", \"g\": \"Gamma\", \"g\": \"Omega\"}"
   ]
  },
  {
   "cell_type": "code",
   "execution_count": 110,
   "id": "5ba3817e",
   "metadata": {},
   "outputs": [
    {
     "data": {
      "text/plain": [
       "{'a': 'Alpha', 'b': 'Beta', 'g': 'Omega'}"
      ]
     },
     "execution_count": 110,
     "metadata": {},
     "output_type": "execute_result"
    }
   ],
   "source": [
    "dictionary_unique"
   ]
  },
  {
   "cell_type": "code",
   "execution_count": 111,
   "id": "96976612",
   "metadata": {},
   "outputs": [
    {
     "data": {
      "text/plain": [
       "'Beta'"
      ]
     },
     "execution_count": 111,
     "metadata": {},
     "output_type": "execute_result"
    }
   ],
   "source": [
    "dictionary_unique.get('b')"
   ]
  },
  {
   "cell_type": "code",
   "execution_count": 112,
   "id": "aba6d085",
   "metadata": {},
   "outputs": [
    {
     "name": "stdout",
     "output_type": "stream",
     "text": [
      "b > a\n"
     ]
    }
   ],
   "source": [
    "a = 20\n",
    "b = 330\n",
    "print(\"a > b\") if a > b else print(\"b > a\")"
   ]
  },
  {
   "cell_type": "code",
   "execution_count": 116,
   "id": "a574164a",
   "metadata": {},
   "outputs": [
    {
     "name": "stdout",
     "output_type": "stream",
     "text": [
      "a = b\n"
     ]
    }
   ],
   "source": [
    "a = 350\n",
    "b = 350\n",
    "print(\"a > b\") if a > b else print(\"a = b\") if a == b else print(\"b > a\")"
   ]
  },
  {
   "cell_type": "code",
   "execution_count": 1,
   "id": "d7925c3d",
   "metadata": {},
   "outputs": [],
   "source": [
    "dictionary_unique = {\"a\": \"Alpha\", \"b\": \"Beta\", \"g\": \"Gamma\", \"g\": \"Omega\"}"
   ]
  },
  {
   "cell_type": "code",
   "execution_count": 3,
   "id": "edb0df2b",
   "metadata": {},
   "outputs": [
    {
     "data": {
      "text/plain": [
       "[('a', 'Alpha'), ('b', 'Beta'), ('g', 'Omega')]"
      ]
     },
     "execution_count": 3,
     "metadata": {},
     "output_type": "execute_result"
    }
   ],
   "source": [
    "sorted(dictionary_unique.items())"
   ]
  },
  {
   "cell_type": "code",
   "execution_count": 8,
   "id": "41a4792b",
   "metadata": {},
   "outputs": [],
   "source": [
    "dictionary_unique = {\"A\": \"Alpha\", \"1\": \"Beta\", \"g\": \"Gamma\", \"G\": \"Omega\"}"
   ]
  },
  {
   "cell_type": "code",
   "execution_count": 9,
   "id": "0f608dce",
   "metadata": {},
   "outputs": [
    {
     "data": {
      "text/plain": [
       "{'A': 'Alpha', '1': 'Beta', 'g': 'Gamma', 'G': 'Omega'}"
      ]
     },
     "execution_count": 9,
     "metadata": {},
     "output_type": "execute_result"
    }
   ],
   "source": [
    "dictionary_unique"
   ]
  },
  {
   "cell_type": "code",
   "execution_count": 15,
   "id": "687c518d",
   "metadata": {},
   "outputs": [
    {
     "data": {
      "text/plain": [
       "{'A': 'Alpha', '1': 'Beta', 'g': 'Gamma', 'G': 'Omega'}"
      ]
     },
     "execution_count": 15,
     "metadata": {},
     "output_type": "execute_result"
    }
   ],
   "source": [
    "dict(sorted(dictionary_unique.items(), key = lambda x:x[1]))"
   ]
  },
  {
   "cell_type": "code",
   "execution_count": 18,
   "id": "5d3fef09",
   "metadata": {},
   "outputs": [],
   "source": [
    "dictionary_unique1 = {\"A\": \"Not Alpha\", \"1\": \"One\", \"g\": \"Small g\", \"G\": \"Big G\"}"
   ]
  },
  {
   "cell_type": "code",
   "execution_count": 30,
   "id": "07aca81d",
   "metadata": {},
   "outputs": [
    {
     "data": {
      "text/plain": [
       "{'G': 'Big G', 'A': 'Not Alpha', '1': 'One', 'g': 'Small g'}"
      ]
     },
     "execution_count": 30,
     "metadata": {},
     "output_type": "execute_result"
    }
   ],
   "source": [
    "dict(sorted(dictionary_unique1.items(), key = lambda x:x[1].lower()))"
   ]
  },
  {
   "cell_type": "code",
   "execution_count": 32,
   "id": "a6c7ba32",
   "metadata": {},
   "outputs": [
    {
     "data": {
      "text/plain": [
       "{'G': 'Big G', 'A': 'Not Alpha', '1': 'One', 'g': 'Small g'}"
      ]
     },
     "execution_count": 32,
     "metadata": {},
     "output_type": "execute_result"
    }
   ],
   "source": [
    "dict(sorted(dictionary_unique1.items(), key = lambda x:x[1]))"
   ]
  },
  {
   "cell_type": "code",
   "execution_count": null,
   "id": "a8982c78",
   "metadata": {},
   "outputs": [],
   "source": []
  }
 ],
 "metadata": {
  "kernelspec": {
   "display_name": "Python 3 (ipykernel)",
   "language": "python",
   "name": "python3"
  },
  "language_info": {
   "codemirror_mode": {
    "name": "ipython",
    "version": 3
   },
   "file_extension": ".py",
   "mimetype": "text/x-python",
   "name": "python",
   "nbconvert_exporter": "python",
   "pygments_lexer": "ipython3",
   "version": "3.8.11"
  },
  "latex_envs": {
   "LaTeX_envs_menu_present": true,
   "autoclose": true,
   "autocomplete": true,
   "bibliofile": "biblio.bib",
   "cite_by": "apalike",
   "current_citInitial": 1,
   "eqLabelWithNumbers": true,
   "eqNumInitial": 1,
   "hotkeys": {
    "equation": "Ctrl-E",
    "itemize": "Ctrl-I"
   },
   "labels_anchors": false,
   "latex_user_defs": false,
   "report_style_numbering": false,
   "user_envs_cfg": false
  }
 },
 "nbformat": 4,
 "nbformat_minor": 5
}
