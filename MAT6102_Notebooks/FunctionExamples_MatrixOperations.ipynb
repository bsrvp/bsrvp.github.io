{
 "cells": [
  {
   "cell_type": "markdown",
   "id": "29b72101",
   "metadata": {},
   "source": [
    "Write a Python Program which accepts row and column dimensions from users and then accepts two lists of numbers (of the same size) that can fit into these rows and columns and then convert these lists of numbers to arrays and then add, subtract, multiply element-wise."
   ]
  },
  {
   "cell_type": "code",
   "execution_count": 90,
   "id": "fe39894c",
   "metadata": {},
   "outputs": [
    {
     "name": "stdout",
     "output_type": "stream",
     "text": [
      "Enter the rows and columns separated by comma: 2,3\n",
      "Array dimension is: (2, 3) and require 6 elements\n",
      "Enter the elements of array separated by comma (row-wise):1,2,3,4,5,6\n",
      "Enter the elements of array separated by comma (row-wise):1,2,3,4,5,6\n",
      "Matrix Sum is: [[2, 4, 6], [8, 10, 12]]\n",
      "Matrix Difference is: [[0, 0, 0], [0, 0, 0]]\n",
      "Matrix Element-wise Product is: [[1, 4, 9], [16, 25, 36]]\n"
     ]
    }
   ],
   "source": [
    "rc = input(\"Enter the rows and columns \\\n",
    "separated by comma: \")\n",
    "r,c = rc.split(\",\")\n",
    "r = int(r)\n",
    "c = int(c)\n",
    "print(\"Array dimension is:\",(r,c),\\\n",
    "      \"and require\",r*c,\"elements\")\n",
    "AA1 = input(\"Enter the elements of \\\n",
    "array separated by comma (row-wise):\")\n",
    "AA2 = input(\"Enter the elements of \\\n",
    "array separated by comma (row-wise):\")\n",
    "AA1 = AA1.split(\",\")\n",
    "AA2 = AA2.split(\",\")\n",
    "if len(AA1) != r*c or len(AA2) != r*c:\n",
    "    print(\"Error!!! Dimensions are not agreeing\")\n",
    "else:\n",
    "    A1 = [[int(AA1[(c*i)+j]) for j in range(0,c)]\\\n",
    "          for i in range(0,r)]\n",
    "    A2 = [[int(AA2[(c*i)+j]) for j in range(0,c)]\\\n",
    "          for i in range(0,r)]\n",
    "    #A1 = [list(map(int,x.split(\",\"))) \\\n",
    "    # for x in A1.split(\";\")]\n",
    "    #A2 = [list(map(int,x.split(\",\"))) \\\n",
    "    # for x in A2.split(\";\")]\n",
    "    ASum = [[A1[i][j]+A2[i][j] for j in range(0,c)] \\\n",
    "            for i in range(0,r)]\n",
    "    ADiff = [[A1[i][j]-A2[i][j] for j in range(0,c)] \\\n",
    "             for i in range(0,r)]\n",
    "    AProd = [[A1[i][j]*A2[i][j] for j in range(0,c)] \\\n",
    "             for i in range(0,r)]\n",
    "    print(\"Matrix Sum is:\",ASum)\n",
    "    print(\"Matrix Difference is:\",ADiff)\n",
    "    print(\"Matrix Element-wise Product is:\",AProd)"
   ]
  },
  {
   "cell_type": "code",
   "execution_count": null,
   "id": "a1d58a8d",
   "metadata": {},
   "outputs": [],
   "source": [
    "InterMatrix(r,c)\n",
    "DisplayMatrix(A)\n",
    "MatrixOperations(A,B,\"+\")"
   ]
  },
  {
   "cell_type": "code",
   "execution_count": 94,
   "id": "cb095428",
   "metadata": {},
   "outputs": [],
   "source": [
    "def InputMatrix(r,c):\n",
    "    ele = input('Enter the elements separated by comma:')\n",
    "    ele = ele.split(\",\")\n",
    "    if len(ele) != r*c:\n",
    "        print('Error! Entered elements not matching with dimension')\n",
    "        return\n",
    "    else:\n",
    "        M = [[int(AA1[(c*i)+j]) for j in range(0,c)]\\\n",
    "          for i in range(0,r)]\n",
    "        return M"
   ]
  },
  {
   "cell_type": "code",
   "execution_count": 95,
   "id": "a79d93fd",
   "metadata": {},
   "outputs": [
    {
     "name": "stdout",
     "output_type": "stream",
     "text": [
      "Enter the elements separated by comma:1,2,3,4,5,6\n"
     ]
    }
   ],
   "source": [
    "M = InputMatrix(2,3)"
   ]
  },
  {
   "cell_type": "code",
   "execution_count": 96,
   "id": "fca3f7a7",
   "metadata": {},
   "outputs": [
    {
     "data": {
      "text/plain": [
       "[[1, 2, 3], [4, 5, 6]]"
      ]
     },
     "execution_count": 96,
     "metadata": {},
     "output_type": "execute_result"
    }
   ],
   "source": [
    "M"
   ]
  },
  {
   "cell_type": "code",
   "execution_count": 97,
   "id": "7279da33",
   "metadata": {},
   "outputs": [],
   "source": [
    "def add(a,b):\n",
    "    return a+b"
   ]
  },
  {
   "cell_type": "code",
   "execution_count": 98,
   "id": "adcc04fc",
   "metadata": {},
   "outputs": [
    {
     "data": {
      "text/plain": [
       "5"
      ]
     },
     "execution_count": 98,
     "metadata": {},
     "output_type": "execute_result"
    }
   ],
   "source": [
    "add(2,3)"
   ]
  },
  {
   "cell_type": "code",
   "execution_count": 99,
   "id": "dbd4cc8a",
   "metadata": {},
   "outputs": [],
   "source": [
    "subtract = add"
   ]
  },
  {
   "cell_type": "code",
   "execution_count": 100,
   "id": "57ee0121",
   "metadata": {},
   "outputs": [
    {
     "data": {
      "text/plain": [
       "5"
      ]
     },
     "execution_count": 100,
     "metadata": {},
     "output_type": "execute_result"
    }
   ],
   "source": [
    "subtract(2,3)"
   ]
  },
  {
   "cell_type": "code",
   "execution_count": 101,
   "id": "25a1ce8e",
   "metadata": {},
   "outputs": [],
   "source": [
    "del add"
   ]
  },
  {
   "cell_type": "code",
   "execution_count": 103,
   "id": "49fd0416",
   "metadata": {},
   "outputs": [
    {
     "data": {
      "text/plain": [
       "9"
      ]
     },
     "execution_count": 103,
     "metadata": {},
     "output_type": "execute_result"
    }
   ],
   "source": [
    "subtract(4,5)"
   ]
  },
  {
   "cell_type": "code",
   "execution_count": 104,
   "id": "09f0383a",
   "metadata": {},
   "outputs": [
    {
     "ename": "NameError",
     "evalue": "name 'add' is not defined",
     "output_type": "error",
     "traceback": [
      "\u001b[1;31m---------------------------------------------------------------------------\u001b[0m",
      "\u001b[1;31mNameError\u001b[0m                                 Traceback (most recent call last)",
      "Cell \u001b[1;32mIn[104], line 1\u001b[0m\n\u001b[1;32m----> 1\u001b[0m \u001b[43madd\u001b[49m(\u001b[38;5;241m4\u001b[39m,\u001b[38;5;241m5\u001b[39m)\n",
      "\u001b[1;31mNameError\u001b[0m: name 'add' is not defined"
     ]
    }
   ],
   "source": [
    "add(4,5)"
   ]
  },
  {
   "cell_type": "code",
   "execution_count": 118,
   "id": "db5c14f1",
   "metadata": {},
   "outputs": [],
   "source": [
    "def fun_called(msg):\n",
    "    def fun_returned(x):\n",
    "        print(\"Hello!.. from inner function with value\",x)\n",
    "        print(\"Hello!... out function argument,\",msg)\n",
    "    return fun_returned"
   ]
  },
  {
   "cell_type": "code",
   "execution_count": 119,
   "id": "b2705608",
   "metadata": {},
   "outputs": [],
   "source": [
    "newfn = fun_called(\"Data Science\")"
   ]
  },
  {
   "cell_type": "code",
   "execution_count": 120,
   "id": "06ed9ef3",
   "metadata": {},
   "outputs": [
    {
     "name": "stdout",
     "output_type": "stream",
     "text": [
      "Hello!.. from inner function with value 10\n",
      "Hello!... out function argument, Data Science\n"
     ]
    }
   ],
   "source": [
    "newfn(10)"
   ]
  },
  {
   "cell_type": "code",
   "execution_count": 121,
   "id": "8dece096",
   "metadata": {},
   "outputs": [],
   "source": [
    "del fun_called"
   ]
  },
  {
   "cell_type": "code",
   "execution_count": 123,
   "id": "27a38820",
   "metadata": {},
   "outputs": [
    {
     "name": "stdout",
     "output_type": "stream",
     "text": [
      "Hello!.. from inner function with value 10\n",
      "Hello!... out function argument, Data Science\n"
     ]
    }
   ],
   "source": [
    "newfn(10)"
   ]
  },
  {
   "cell_type": "code",
   "execution_count": 124,
   "id": "e93a1004",
   "metadata": {},
   "outputs": [],
   "source": [
    "    def multiplier_of(n):\n",
    "        def multiplier(x):\n",
    "            return x * n\n",
    "        return multiplier"
   ]
  },
  {
   "cell_type": "code",
   "execution_count": 125,
   "id": "b562a432",
   "metadata": {},
   "outputs": [],
   "source": [
    "times3 = multiplier_of(3)"
   ]
  },
  {
   "cell_type": "code",
   "execution_count": 126,
   "id": "733361e7",
   "metadata": {},
   "outputs": [],
   "source": [
    "times5 = multiplier_of(5)"
   ]
  },
  {
   "cell_type": "code",
   "execution_count": 131,
   "id": "383a7339",
   "metadata": {},
   "outputs": [
    {
     "name": "stdout",
     "output_type": "stream",
     "text": [
      "75 x 1 = 75\n",
      "75 x 2 = 150\n",
      "75 x 3 = 225\n",
      "75 x 4 = 300\n",
      "75 x 5 = 375\n",
      "75 x 6 = 450\n",
      "75 x 7 = 525\n",
      "75 x 8 = 600\n",
      "75 x 9 = 675\n",
      "75 x 10 = 750\n"
     ]
    }
   ],
   "source": [
    "for i in range(1,11):\n",
    "    print(\"75 x\",i,'=',times5(times5(times3(i))))"
   ]
  },
  {
   "cell_type": "code",
   "execution_count": 136,
   "id": "76f97837",
   "metadata": {},
   "outputs": [],
   "source": [
    "def make_pretty(func):\n",
    "    def inner(x):\n",
    "        print(\"I got decorated with\",x)\n",
    "        func()\n",
    "    return inner\n",
    "\n",
    "def ordinary():\n",
    "    print(\"I am ordinary\")"
   ]
  },
  {
   "cell_type": "code",
   "execution_count": 137,
   "id": "42c8686a",
   "metadata": {},
   "outputs": [
    {
     "name": "stdout",
     "output_type": "stream",
     "text": [
      "I am ordinary\n"
     ]
    }
   ],
   "source": [
    "ordinary()"
   ]
  },
  {
   "cell_type": "code",
   "execution_count": 138,
   "id": "9e968858",
   "metadata": {},
   "outputs": [],
   "source": [
    "pretty = make_pretty(ordinary)"
   ]
  },
  {
   "cell_type": "code",
   "execution_count": 139,
   "id": "853e1d5c",
   "metadata": {},
   "outputs": [
    {
     "name": "stdout",
     "output_type": "stream",
     "text": [
      "I got decorated with Hello\n",
      "I am ordinary\n"
     ]
    }
   ],
   "source": [
    "pretty(\"Hello\")"
   ]
  },
  {
   "cell_type": "code",
   "execution_count": 140,
   "id": "66ca26b1",
   "metadata": {},
   "outputs": [],
   "source": [
    "def smart_divide(func):\n",
    "    def inner(a, b):\n",
    "        print(\"I am dividing\", a, \"by\", b)\n",
    "        if b == 0:\n",
    "            print(\"Whoops! Denominator is Zero. Cannot divide\")\n",
    "            return\n",
    "\n",
    "        return func(a, b)\n",
    "    return inner\n",
    "\n",
    "@smart_divide\n",
    "def divide(a, b):\n",
    "    print(a/b)\n",
    "#divide = smart_divide(divide)"
   ]
  },
  {
   "cell_type": "code",
   "execution_count": 141,
   "id": "6d7dca76",
   "metadata": {},
   "outputs": [
    {
     "name": "stdout",
     "output_type": "stream",
     "text": [
      "0.6666666666666666\n"
     ]
    }
   ],
   "source": [
    "divide(2,3)"
   ]
  },
  {
   "cell_type": "code",
   "execution_count": 142,
   "id": "bf4fdac9",
   "metadata": {},
   "outputs": [
    {
     "ename": "ZeroDivisionError",
     "evalue": "division by zero",
     "output_type": "error",
     "traceback": [
      "\u001b[1;31m---------------------------------------------------------------------------\u001b[0m",
      "\u001b[1;31mZeroDivisionError\u001b[0m                         Traceback (most recent call last)",
      "Cell \u001b[1;32mIn[142], line 1\u001b[0m\n\u001b[1;32m----> 1\u001b[0m \u001b[43mdivide\u001b[49m\u001b[43m(\u001b[49m\u001b[38;5;241;43m2\u001b[39;49m\u001b[43m,\u001b[49m\u001b[38;5;241;43m0\u001b[39;49m\u001b[43m)\u001b[49m\n",
      "Cell \u001b[1;32mIn[140], line 13\u001b[0m, in \u001b[0;36mdivide\u001b[1;34m(a, b)\u001b[0m\n\u001b[0;32m     12\u001b[0m \u001b[38;5;28;01mdef\u001b[39;00m \u001b[38;5;21mdivide\u001b[39m(a, b):\n\u001b[1;32m---> 13\u001b[0m     \u001b[38;5;28mprint\u001b[39m(\u001b[43ma\u001b[49m\u001b[38;5;241;43m/\u001b[39;49m\u001b[43mb\u001b[49m)\n",
      "\u001b[1;31mZeroDivisionError\u001b[0m: division by zero"
     ]
    }
   ],
   "source": [
    "divide(2,0)"
   ]
  },
  {
   "cell_type": "code",
   "execution_count": 147,
   "id": "708d99e7",
   "metadata": {},
   "outputs": [],
   "source": []
  },
  {
   "cell_type": "code",
   "execution_count": 149,
   "id": "e56c31ba",
   "metadata": {},
   "outputs": [
    {
     "name": "stdout",
     "output_type": "stream",
     "text": [
      "I am dividing 2 by 4\n",
      "0.5\n"
     ]
    }
   ],
   "source": [
    "divide(2,4)"
   ]
  },
  {
   "cell_type": "code",
   "execution_count": null,
   "id": "68a9e572",
   "metadata": {},
   "outputs": [],
   "source": []
  }
 ],
 "metadata": {
  "kernelspec": {
   "display_name": "Python 3 (ipykernel)",
   "language": "python",
   "name": "python3"
  },
  "language_info": {
   "codemirror_mode": {
    "name": "ipython",
    "version": 3
   },
   "file_extension": ".py",
   "mimetype": "text/x-python",
   "name": "python",
   "nbconvert_exporter": "python",
   "pygments_lexer": "ipython3",
   "version": "3.10.13"
  }
 },
 "nbformat": 4,
 "nbformat_minor": 5
}
