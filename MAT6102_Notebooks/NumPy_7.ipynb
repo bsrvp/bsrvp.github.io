{
 "cells": [
  {
   "cell_type": "code",
   "execution_count": 4,
   "id": "1b375682",
   "metadata": {},
   "outputs": [
    {
     "name": "stdout",
     "output_type": "stream",
     "text": [
      "[1 1 2 1 2]\n"
     ]
    }
   ],
   "source": [
    "import numpy as np\n",
    "  \n",
    "arr = [[0, 1, 2, 3, 4], [5, 0, 6, 0, 7]]\n",
    "  \n",
    "noe = np.count_nonzero(arr, axis = 0)\n",
    "  \n",
    "print (noe) "
   ]
  },
  {
   "cell_type": "code",
   "execution_count": 5,
   "id": "1d767cf7",
   "metadata": {},
   "outputs": [],
   "source": [
    "R = np.random.rand(5,3)"
   ]
  },
  {
   "cell_type": "code",
   "execution_count": 6,
   "id": "517e9c52",
   "metadata": {},
   "outputs": [
    {
     "data": {
      "text/plain": [
       "array([[0.56130685, 0.04015327, 0.63323115],\n",
       "       [0.9640448 , 0.7694077 , 0.76659548],\n",
       "       [0.38559474, 0.14997487, 0.05066759],\n",
       "       [0.79996594, 0.45831672, 0.07884329],\n",
       "       [0.90926282, 0.62987724, 0.22390443]])"
      ]
     },
     "execution_count": 6,
     "metadata": {},
     "output_type": "execute_result"
    }
   ],
   "source": [
    "R"
   ]
  },
  {
   "cell_type": "code",
   "execution_count": 7,
   "id": "51eb6581",
   "metadata": {},
   "outputs": [],
   "source": [
    "ind = np.where(R < 0.5)"
   ]
  },
  {
   "cell_type": "code",
   "execution_count": 8,
   "id": "c5868d19",
   "metadata": {},
   "outputs": [
    {
     "data": {
      "text/plain": [
       "(array([0, 2, 2, 2, 3, 3, 4], dtype=int64),\n",
       " array([1, 0, 1, 2, 1, 2, 2], dtype=int64))"
      ]
     },
     "execution_count": 8,
     "metadata": {},
     "output_type": "execute_result"
    }
   ],
   "source": [
    "ind"
   ]
  },
  {
   "cell_type": "code",
   "execution_count": 9,
   "id": "7d33a1e3",
   "metadata": {},
   "outputs": [],
   "source": [
    "R[ind] = 0"
   ]
  },
  {
   "cell_type": "code",
   "execution_count": 10,
   "id": "a319450a",
   "metadata": {},
   "outputs": [
    {
     "data": {
      "text/plain": [
       "array([[0.56130685, 0.        , 0.63323115],\n",
       "       [0.9640448 , 0.7694077 , 0.76659548],\n",
       "       [0.        , 0.        , 0.        ],\n",
       "       [0.79996594, 0.        , 0.        ],\n",
       "       [0.90926282, 0.62987724, 0.        ]])"
      ]
     },
     "execution_count": 10,
     "metadata": {},
     "output_type": "execute_result"
    }
   ],
   "source": [
    "R"
   ]
  },
  {
   "cell_type": "code",
   "execution_count": 12,
   "id": "42ead465",
   "metadata": {},
   "outputs": [
    {
     "data": {
      "text/plain": [
       "array([[0.90926282, 0.62987724, 0.        ],\n",
       "       [0.79996594, 0.        , 0.        ],\n",
       "       [0.        , 0.        , 0.        ],\n",
       "       [0.9640448 , 0.7694077 , 0.76659548],\n",
       "       [0.56130685, 0.        , 0.63323115]])"
      ]
     },
     "execution_count": 12,
     "metadata": {},
     "output_type": "execute_result"
    }
   ],
   "source": [
    "np.flipud(R)"
   ]
  },
  {
   "cell_type": "code",
   "execution_count": 28,
   "id": "b729b7e5",
   "metadata": {},
   "outputs": [],
   "source": [
    "R1 = np.random.randint(1,50,(3,7))"
   ]
  },
  {
   "cell_type": "code",
   "execution_count": 22,
   "id": "767eb146",
   "metadata": {},
   "outputs": [],
   "source": [
    "R2 = np.asarray(R1,dtype='float64')"
   ]
  },
  {
   "cell_type": "code",
   "execution_count": 29,
   "id": "300a2278",
   "metadata": {},
   "outputs": [],
   "source": [
    "R1 = R1.astype('float')"
   ]
  },
  {
   "cell_type": "code",
   "execution_count": 30,
   "id": "eb57e6fd",
   "metadata": {},
   "outputs": [
    {
     "data": {
      "text/plain": [
       "array([[34., 21., 22., 30., 47.,  1., 44.],\n",
       "       [ 2., 10.,  3., 41., 39., 30., 32.],\n",
       "       [38., 22., 36., 46.,  9., 46., 40.]])"
      ]
     },
     "execution_count": 30,
     "metadata": {},
     "output_type": "execute_result"
    }
   ],
   "source": [
    "R1"
   ]
  },
  {
   "cell_type": "code",
   "execution_count": 24,
   "id": "9db3c723",
   "metadata": {},
   "outputs": [],
   "source": [
    "R2[np.where(R2 < 15)] = np.nan"
   ]
  },
  {
   "cell_type": "code",
   "execution_count": 25,
   "id": "c0db33d8",
   "metadata": {},
   "outputs": [
    {
     "data": {
      "text/plain": [
       "array([[15., nan, 46., 30., nan, 19., 33.],\n",
       "       [nan, 26., 49., 38., 35., 20., 45.],\n",
       "       [18., nan, nan, 19., 25., 38., 19.]])"
      ]
     },
     "execution_count": 25,
     "metadata": {},
     "output_type": "execute_result"
    }
   ],
   "source": [
    "R2"
   ]
  },
  {
   "cell_type": "code",
   "execution_count": 34,
   "id": "c7b04507",
   "metadata": {},
   "outputs": [],
   "source": [
    "inds = np.where(np.isnan(R2))"
   ]
  },
  {
   "cell_type": "code",
   "execution_count": 35,
   "id": "159c96d1",
   "metadata": {},
   "outputs": [
    {
     "ename": "NameError",
     "evalue": "name 'col_mean' is not defined",
     "output_type": "error",
     "traceback": [
      "\u001b[1;31m---------------------------------------------------------------------------\u001b[0m",
      "\u001b[1;31mNameError\u001b[0m                                 Traceback (most recent call last)",
      "\u001b[1;32mC:\\Users\\BSRVPR~1\\AppData\\Local\\Temp/ipykernel_4152/2479255810.py\u001b[0m in \u001b[0;36m<module>\u001b[1;34m\u001b[0m\n\u001b[1;32m----> 1\u001b[1;33m \u001b[0ma\u001b[0m\u001b[1;33m[\u001b[0m\u001b[0minds\u001b[0m\u001b[1;33m]\u001b[0m \u001b[1;33m=\u001b[0m \u001b[0mnp\u001b[0m\u001b[1;33m.\u001b[0m\u001b[0mtake\u001b[0m\u001b[1;33m(\u001b[0m\u001b[0mcol_mean\u001b[0m\u001b[1;33m,\u001b[0m \u001b[0minds\u001b[0m\u001b[1;33m[\u001b[0m\u001b[1;36m1\u001b[0m\u001b[1;33m]\u001b[0m\u001b[1;33m)\u001b[0m\u001b[1;33m\u001b[0m\u001b[1;33m\u001b[0m\u001b[0m\n\u001b[0m",
      "\u001b[1;31mNameError\u001b[0m: name 'col_mean' is not defined"
     ]
    }
   ],
   "source": [
    "a[inds] = np.take(col_mean, inds[1])"
   ]
  },
  {
   "cell_type": "code",
   "execution_count": 36,
   "id": "39ebf568",
   "metadata": {},
   "outputs": [
    {
     "ename": "SyntaxError",
     "evalue": "invalid syntax (Temp/ipykernel_4152/3409065961.py, line 1)",
     "output_type": "error",
     "traceback": [
      "\u001b[1;36m  File \u001b[1;32m\"C:\\Users\\BSRVPR~1\\AppData\\Local\\Temp/ipykernel_4152/3409065961.py\"\u001b[1;36m, line \u001b[1;32m1\u001b[0m\n\u001b[1;33m    2934  0.48615268  0.06196785         nan]\u001b[0m\n\u001b[1;37m          ^\u001b[0m\n\u001b[1;31mSyntaxError\u001b[0m\u001b[1;31m:\u001b[0m invalid syntax\n"
     ]
    }
   ],
   "source": [
    "2934  0.48615268  0.06196785         nan]\n",
    " [ 0.64940216  0.74414127         nan         nan]]\n",
    ")\n",
    "# Obtain mean of columns as you need, nanmean is convenient.\n",
    "col_mean = np.nanmean(a, axis=0)\n",
    "print(col_mean)\n",
    "[ 0.86726219  0.7030395   0.44528687  0.66640474]\n",
    "\n",
    "#Find indices that you need to replace\n",
    "inds = np.where(np.isnan(a))\n",
    "\n",
    "#Place column means in the indices. Align the arrays using take\n",
    "a[inds] = np.take(col_mean, inds[1])\n",
    "\n",
    "print(a)\n",
    "[[ 0.93230948  0.7030395   0.47773439  0.76998063]\n",
    " [ 0.94460779  0.87882456  0.79615838  0.56282885]\n",
    " [ 0.94272934  0.48615268  0.06196785  0.66640474]\n",
    " [ 0.64940216  0.74414127  0.44528687  0.66640474]]"
   ]
  },
  {
   "cell_type": "code",
   "execution_count": 38,
   "id": "91b20623",
   "metadata": {},
   "outputs": [],
   "source": [
    "a = np.array([[ 0.93230948, np.nan,  0.47773439,  0.76998063], \n",
    "              [ 0.94460779,  0.87882456,  0.79615838,  0.56282885], \n",
    "              [ 0.94272934,  0.48615268,  0.06196785, np.nan],\n",
    "              [ 0.64940216,  0.74414127,         np.nan,    np.nan]]\n",
    ")"
   ]
  },
  {
   "cell_type": "code",
   "execution_count": 41,
   "id": "d563ee14",
   "metadata": {},
   "outputs": [
    {
     "name": "stdout",
     "output_type": "stream",
     "text": [
      "[0.86726219 0.7030395  0.44528687 0.66640474]\n",
      "[[0.93230948 0.7030395  0.47773439 0.76998063]\n",
      " [0.94460779 0.87882456 0.79615838 0.56282885]\n",
      " [0.94272934 0.48615268 0.06196785 0.66640474]\n",
      " [0.64940216 0.74414127 0.44528687 0.66640474]]\n"
     ]
    }
   ],
   "source": [
    "col_mean = np.nanmean(a, axis=0)\n",
    "print(col_mean)\n",
    "\n",
    "#Find indices that you need to replace\n",
    "inds = np.where(np.isnan(a))\n",
    "\n",
    "#Place column means in the indices. Align the arrays using take\n",
    "a[inds] = np.take(col_mean, inds[1])\n",
    "\n",
    "print(a)"
   ]
  },
  {
   "cell_type": "code",
   "execution_count": 51,
   "id": "24eb1d89",
   "metadata": {},
   "outputs": [
    {
     "data": {
      "text/plain": [
       "(0.8820813907624215, 9.793070696178202e-15)"
      ]
     },
     "execution_count": 51,
     "metadata": {},
     "output_type": "execute_result"
    }
   ],
   "source": [
    "import numpy as np\n",
    "import scipy\n",
    "scipy.integrate.quad(lambda x: np.exp(-x**2),0,2)"
   ]
  },
  {
   "cell_type": "code",
   "execution_count": 53,
   "id": "df729929",
   "metadata": {},
   "outputs": [],
   "source": [
    "A = np.arange(1,11).reshape(5,2)"
   ]
  },
  {
   "cell_type": "code",
   "execution_count": 54,
   "id": "432854e6",
   "metadata": {},
   "outputs": [
    {
     "data": {
      "text/plain": [
       "array([5, 6])"
      ]
     },
     "execution_count": 54,
     "metadata": {},
     "output_type": "execute_result"
    }
   ],
   "source": [
    "A[2,]"
   ]
  },
  {
   "cell_type": "code",
   "execution_count": 55,
   "id": "682571fc",
   "metadata": {},
   "outputs": [
    {
     "data": {
      "text/plain": [
       "array([[ 1,  2],\n",
       "       [ 3,  4],\n",
       "       [ 5,  6],\n",
       "       [ 7,  8],\n",
       "       [ 9, 10]])"
      ]
     },
     "execution_count": 55,
     "metadata": {},
     "output_type": "execute_result"
    }
   ],
   "source": [
    "A"
   ]
  },
  {
   "cell_type": "code",
   "execution_count": 56,
   "id": "379d9c64",
   "metadata": {},
   "outputs": [
    {
     "ename": "SyntaxError",
     "evalue": "invalid syntax (Temp/ipykernel_4152/2683338347.py, line 1)",
     "output_type": "error",
     "traceback": [
      "\u001b[1;36m  File \u001b[1;32m\"C:\\Users\\BSRVPR~1\\AppData\\Local\\Temp/ipykernel_4152/2683338347.py\"\u001b[1;36m, line \u001b[1;32m1\u001b[0m\n\u001b[1;33m    A[,3]\u001b[0m\n\u001b[1;37m      ^\u001b[0m\n\u001b[1;31mSyntaxError\u001b[0m\u001b[1;31m:\u001b[0m invalid syntax\n"
     ]
    }
   ],
   "source": [
    "A[,3]"
   ]
  },
  {
   "cell_type": "code",
   "execution_count": null,
   "id": "57cde609",
   "metadata": {},
   "outputs": [],
   "source": []
  }
 ],
 "metadata": {
  "kernelspec": {
   "display_name": "Python 3 (ipykernel)",
   "language": "python",
   "name": "python3"
  },
  "language_info": {
   "codemirror_mode": {
    "name": "ipython",
    "version": 3
   },
   "file_extension": ".py",
   "mimetype": "text/x-python",
   "name": "python",
   "nbconvert_exporter": "python",
   "pygments_lexer": "ipython3",
   "version": "3.10.13"
  }
 },
 "nbformat": 4,
 "nbformat_minor": 5
}
